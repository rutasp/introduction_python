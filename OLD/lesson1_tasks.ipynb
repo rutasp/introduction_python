{
 "cells": [
  {
   "cell_type": "code",
   "execution_count": 4,
   "metadata": {},
   "outputs": [
    {
     "name": "stdout",
     "output_type": "stream",
     "text": [
      "Ruta Spaicyte\n"
     ]
    }
   ],
   "source": [
    "my_name='Ruta'\n",
    "my_surname=\"Spaicyte\"\n",
    "print ( f'{my_name} {my_surname}')"
   ]
  },
  {
   "cell_type": "code",
   "execution_count": 12,
   "metadata": {},
   "outputs": [
    {
     "name": "stdout",
     "output_type": "stream",
     "text": [
      "PYTHON MAKES ME REALLY REALLY HAPPY! THIS\n",
      "PyThOn makes me really really happy! This\n",
      "PyThOn makes me really really happy! this\n"
     ]
    }
   ],
   "source": [
    "my_string='Python makes me really really happy! this'\n",
    "print(my_string.upper())\n",
    "#print(my_string.replace('PyThOn makes me really really happy'))\n",
    "print(my_string.replace('t','T').replace('o', 'O')) #not good way as it will replace ALL t and o\n",
    "print(my_string.replace('Python', 'PyThOn'))"
   ]
  },
  {
   "cell_type": "code",
   "execution_count": 27,
   "metadata": {},
   "outputs": [
    {
     "name": "stdout",
     "output_type": "stream",
     "text": [
      "27\n",
      "\n",
      "learn\n",
      "40\n"
     ]
    }
   ],
   "source": [
    "my_sentence='Hello World, I am happy to learn python!'\n",
    "word_to_find='learn'\n",
    "print(my_sentence.index(word_to_find))\n",
    "\n",
    "print(my_sentence[my_sentence.index(word_to_find): 23] )\n",
    "#print(my_sentence[my_sentence.index(word_to_find): len(word_to_find)] )\n",
    "print(my_sentence[my_sentence.index(word_to_find):my_sentence.index(word_to_find) + len(word_to_find)] )\n",
    "print( len(my_sentence))"
   ]
  },
  {
   "cell_type": "code",
   "execution_count": null,
   "metadata": {},
   "outputs": [],
   "source": []
  }
 ],
 "metadata": {
  "interpreter": {
   "hash": "aee8b7b246df8f9039afb4144a1f6fd8d2ca17a180786b69acc140d282b71a49"
  },
  "kernelspec": {
   "display_name": "Python 3.9.7 64-bit",
   "language": "python",
   "name": "python3"
  },
  "language_info": {
   "codemirror_mode": {
    "name": "ipython",
    "version": 3
   },
   "file_extension": ".py",
   "mimetype": "text/x-python",
   "name": "python",
   "nbconvert_exporter": "python",
   "pygments_lexer": "ipython3",
   "version": "3.9.7"
  },
  "orig_nbformat": 4
 },
 "nbformat": 4,
 "nbformat_minor": 2
}
