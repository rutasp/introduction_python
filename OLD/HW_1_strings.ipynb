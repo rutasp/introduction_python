{
 "cells": [
  {
   "cell_type": "code",
   "execution_count": 14,
   "metadata": {},
   "outputs": [
    {
     "name": "stdout",
     "output_type": "stream",
     "text": [
      "ex&rcis&\n"
     ]
    }
   ],
   "source": [
    "# 1. For a given string, change all occurrences of its first character to '&', except the first character itself. \n",
    "# Example string: 'exercise'\n",
    "# Expected output: 'ex&rcis&'\n",
    "my_string='exercise'\n",
    "result = my_string[0] + my_string[1:].replace(my_string[0], '&')\n",
    "print (result)"
   ]
  },
  {
   "cell_type": "code",
   "execution_count": 16,
   "metadata": {},
   "outputs": [
    {
     "name": "stdout",
     "output_type": "stream",
     "text": [
      "we few, we happy few, we band of brothers\n",
      "we\n"
     ]
    },
    {
     "data": {
      "text/plain": [
       "3"
      ]
     },
     "execution_count": 16,
     "metadata": {},
     "output_type": "execute_result"
    }
   ],
   "source": [
    "# 2. Find all occurrences of a substring in a given text by ignoring the letter case.\n",
    "text = 'We few, we happy few, we band of brothers'\n",
    "substring = 'We'\n",
    "# Expected output: 3\n",
    "print(text.lower())\n",
    "print(substring.lower())\n",
    "text.lower().count(substring.lower())"
   ]
  },
  {
   "cell_type": "code",
   "execution_count": 17,
   "metadata": {},
   "outputs": [
    {
     "data": {
      "text/plain": [
       "109"
      ]
     },
     "execution_count": 17,
     "metadata": {},
     "output_type": "execute_result"
    }
   ],
   "source": [
    "# 3. Find the last position (index) of a given substring.\n",
    "text = 'I felt happy because I saw the others were happy and because I knew I should feel happy, but I wasn’t really happy.'\n",
    "substring = 'happy'\n",
    "# Expected output: 109\n",
    "text.rfind(substring)\n",
    "text.find"
   ]
  }
 ],
 "metadata": {
  "interpreter": {
   "hash": "aee8b7b246df8f9039afb4144a1f6fd8d2ca17a180786b69acc140d282b71a49"
  },
  "kernelspec": {
   "display_name": "Python 3.9.7 64-bit",
   "language": "python",
   "name": "python3"
  },
  "language_info": {
   "codemirror_mode": {
    "name": "ipython",
    "version": 3
   },
   "file_extension": ".py",
   "mimetype": "text/x-python",
   "name": "python",
   "nbconvert_exporter": "python",
   "pygments_lexer": "ipython3",
   "version": "3.9.7"
  },
  "orig_nbformat": 4
 },
 "nbformat": 4,
 "nbformat_minor": 2
}
