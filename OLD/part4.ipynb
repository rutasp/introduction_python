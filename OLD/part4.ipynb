{
 "cells": [
  {
   "cell_type": "markdown",
   "metadata": {},
   "source": [
    "## Function"
   ]
  },
  {
   "cell_type": "code",
   "execution_count": 1,
   "metadata": {},
   "outputs": [],
   "source": [
    "def hello():\n",
    "    print ('this function says hello')\n",
    "    print ('Hello world!')"
   ]
  },
  {
   "cell_type": "code",
   "execution_count": 3,
   "metadata": {},
   "outputs": [
    {
     "name": "stdout",
     "output_type": "stream",
     "text": [
      "this function says hello\n",
      "Hello world!\n",
      "this function says hello\n",
      "Hello world!\n",
      "this function says hello\n",
      "Hello world!\n"
     ]
    }
   ],
   "source": [
    "hello() #executing this function\n",
    "hello()\n",
    "hello()"
   ]
  },
  {
   "cell_type": "code",
   "execution_count": 4,
   "metadata": {},
   "outputs": [],
   "source": [
    "def hello_2(name): #can give any naming.\n",
    "    print(f'Hello {name}')\n"
   ]
  },
  {
   "cell_type": "code",
   "execution_count": 6,
   "metadata": {},
   "outputs": [
    {
     "name": "stdout",
     "output_type": "stream",
     "text": [
      "Hello Ruta\n",
      "Hello Darius\n",
      "Hello Gabriele\n"
     ]
    }
   ],
   "source": [
    "hello_2('Ruta')\n",
    "hello_2('Darius')\n",
    "hello_2('Gabriele')"
   ]
  },
  {
   "cell_type": "code",
   "execution_count": 7,
   "metadata": {},
   "outputs": [],
   "source": [
    "def hello_3(name, city='Vilnius'):\n",
    "    print(f'Hello {name} from {city}')"
   ]
  },
  {
   "cell_type": "code",
   "execution_count": 10,
   "metadata": {},
   "outputs": [
    {
     "name": "stdout",
     "output_type": "stream",
     "text": [
      "Hello Ruta from Vilnius\n",
      "Hello Kaunas from Tomas\n",
      "Hello Tomas from Kaunas\n",
      "Hello Tomas from Kaunas\n",
      "Hello Tomas from Kaunas\n"
     ]
    }
   ],
   "source": [
    "hello_3('Ruta')\n",
    "hello_3('Kaunas', 'Tomas') #incorrect\n",
    "hello_3('Tomas', 'Kaunas')\n",
    "hello_3(name='Tomas', city='Kaunas') #same as ^^\n",
    "hello_3(city='Kaunas',name='Tomas') #same as ^^"
   ]
  },
  {
   "cell_type": "code",
   "execution_count": 11,
   "metadata": {},
   "outputs": [],
   "source": [
    "def hello_4(name, name_2, location='Vilnius', location_2='Palanga'):\n",
    "    print (f'Hello {name} from {location}, I am {name_2} from {location_2}')"
   ]
  },
  {
   "cell_type": "code",
   "execution_count": 12,
   "metadata": {},
   "outputs": [
    {
     "name": "stdout",
     "output_type": "stream",
     "text": [
      "Hello Tomas from Vilnius, I am Darius from Palanga\n",
      "Hello Tomas from Vilnius, I am Darius from Kaunas\n"
     ]
    }
   ],
   "source": [
    "hello_4('Tomas', 'Darius')\n",
    "hello_4('Tomas', 'Darius', location_2='Kaunas')"
   ]
  },
  {
   "cell_type": "code",
   "execution_count": 15,
   "metadata": {},
   "outputs": [],
   "source": [
    "def add_2(x, y): #doesnt give back anything\n",
    "    x + y\n",
    "    print (x + y)"
   ]
  },
  {
   "cell_type": "code",
   "execution_count": 16,
   "metadata": {},
   "outputs": [
    {
     "name": "stdout",
     "output_type": "stream",
     "text": [
      "9\n",
      "None\n"
     ]
    }
   ],
   "source": [
    "result = add_2(5,4)\n",
    "print(result)"
   ]
  },
  {
   "cell_type": "code",
   "execution_count": 19,
   "metadata": {},
   "outputs": [],
   "source": [
    "def add_2(x, y):\n",
    "    x + y\n",
    "    print (x + y)\n",
    "    return x + y\n",
    "    print ('This will not be printed') #visual studio code that it wont be executed "
   ]
  },
  {
   "cell_type": "code",
   "execution_count": 20,
   "metadata": {},
   "outputs": [
    {
     "name": "stdout",
     "output_type": "stream",
     "text": [
      "9\n",
      "9\n"
     ]
    }
   ],
   "source": [
    "result = add_2(5,4)\n",
    "print(result)"
   ]
  },
  {
   "cell_type": "markdown",
   "metadata": {},
   "source": [
    "## Functions tasks\n",
    "Declare a function that accepts two\n",
    "numbers, if the sum of the numbers is\n",
    "even, return their product, if not,\n",
    "divide the numbers by each other"
   ]
  },
  {
   "cell_type": "code",
   "execution_count": 31,
   "metadata": {},
   "outputs": [],
   "source": [
    "def myFunction(x,y):\n",
    "    if (x + y) % 2 == 0: #to check if even\n",
    "        return x * y\n",
    "    else:\n",
    "        return x / y"
   ]
  },
  {
   "cell_type": "code",
   "execution_count": 33,
   "metadata": {},
   "outputs": [
    {
     "name": "stdout",
     "output_type": "stream",
     "text": [
      "12\n",
      "2.0\n",
      "0.9090909090909091\n"
     ]
    }
   ],
   "source": [
    "print (myFunction(2,6))\n",
    "print (myFunction(10,5))\n",
    "# print (myFunction(10,11))"
   ]
  },
  {
   "cell_type": "markdown",
   "metadata": {},
   "source": [
    "Declare a function that accepts a single\n",
    "variable of string type, assign the\n",
    "function to a new variable, and call it\n",
    "through the new variable"
   ]
  },
  {
   "cell_type": "code",
   "execution_count": 34,
   "metadata": {},
   "outputs": [],
   "source": [
    "def my_print(string_1):\n",
    "    print (string_1)"
   ]
  },
  {
   "cell_type": "code",
   "execution_count": 37,
   "metadata": {},
   "outputs": [
    {
     "name": "stdout",
     "output_type": "stream",
     "text": [
      "original function\n",
      "Printing through new function variable\n"
     ]
    }
   ],
   "source": [
    "my_print('original function')\n",
    "function_variable = my_print\n",
    "function_variable('Printing through new function variable')"
   ]
  },
  {
   "cell_type": "markdown",
   "metadata": {},
   "source": [
    "## Lost a lot of stuff because infinitive loop"
   ]
  },
  {
   "cell_type": "code",
   "execution_count": null,
   "metadata": {},
   "outputs": [],
   "source": []
  }
 ],
 "metadata": {
  "interpreter": {
   "hash": "aee8b7b246df8f9039afb4144a1f6fd8d2ca17a180786b69acc140d282b71a49"
  },
  "kernelspec": {
   "display_name": "Python 3.9.7 64-bit",
   "language": "python",
   "name": "python3"
  },
  "language_info": {
   "codemirror_mode": {
    "name": "ipython",
    "version": 3
   },
   "file_extension": ".py",
   "mimetype": "text/x-python",
   "name": "python",
   "nbconvert_exporter": "python",
   "pygments_lexer": "ipython3",
   "version": "3.9.7"
  },
  "orig_nbformat": 4
 },
 "nbformat": 4,
 "nbformat_minor": 2
}
