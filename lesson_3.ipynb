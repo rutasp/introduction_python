{
 "cells": [
  {
   "cell_type": "code",
   "execution_count": 4,
   "metadata": {},
   "outputs": [],
   "source": [
    "my_int=6\n",
    "my_float=6."
   ]
  },
  {
   "cell_type": "code",
   "execution_count": 5,
   "metadata": {},
   "outputs": [
    {
     "name": "stdout",
     "output_type": "stream",
     "text": [
      "<class 'int'>\n",
      "<class 'float'>\n"
     ]
    }
   ],
   "source": [
    "print (type(my_int))\n",
    "print (type(my_float))"
   ]
  },
  {
   "cell_type": "code",
   "execution_count": 6,
   "metadata": {},
   "outputs": [
    {
     "data": {
      "text/plain": [
       "12"
      ]
     },
     "execution_count": 6,
     "metadata": {},
     "output_type": "execute_result"
    }
   ],
   "source": [
    "3 + 9"
   ]
  },
  {
   "cell_type": "markdown",
   "metadata": {},
   "source": [
    "## Operators"
   ]
  },
  {
   "cell_type": "code",
   "execution_count": 11,
   "metadata": {},
   "outputs": [
    {
     "name": "stdout",
     "output_type": "stream",
     "text": [
      "6.0\n",
      "27\n",
      "0.3333333333333333\n",
      "1.0\n",
      "19683\n",
      "9\n",
      "4.5\n",
      "4\n",
      "2\n"
     ]
    }
   ],
   "source": [
    "print (3 + 3.)\n",
    "print (3 * 9)\n",
    "print (3 / 9)\n",
    "print (3 / 3)\n",
    "##power of something ^ \n",
    "print (3 ** 9) \n",
    "print (3 ** 2)\n",
    "#division\n",
    "print (9 / 2)\n",
    "print (9 // 2) #full numbers will be given\n",
    "#remainder\n",
    "print (11 % 3) #useful when you want to check if number is even\n",
    "\n"
   ]
  },
  {
   "cell_type": "code",
   "execution_count": 12,
   "metadata": {},
   "outputs": [
    {
     "data": {
      "text/plain": [
       "4"
      ]
     },
     "execution_count": 12,
     "metadata": {},
     "output_type": "execute_result"
    }
   ],
   "source": [
    "4%5"
   ]
  },
  {
   "cell_type": "code",
   "execution_count": 13,
   "metadata": {},
   "outputs": [
    {
     "data": {
      "text/plain": [
       "1"
      ]
     },
     "execution_count": 13,
     "metadata": {},
     "output_type": "execute_result"
    }
   ],
   "source": [
    "6%5"
   ]
  },
  {
   "cell_type": "code",
   "execution_count": 14,
   "metadata": {},
   "outputs": [
    {
     "name": "stdout",
     "output_type": "stream",
     "text": [
      "even 0\n",
      "uneven 1\n"
     ]
    }
   ],
   "source": [
    "print ('even',145676 % 2)\n",
    "print ('uneven',145677 % 2)"
   ]
  },
  {
   "cell_type": "code",
   "execution_count": 15,
   "metadata": {},
   "outputs": [
    {
     "data": {
      "text/plain": [
       "1.5"
      ]
     },
     "execution_count": 15,
     "metadata": {},
     "output_type": "execute_result"
    }
   ],
   "source": [
    "5.5 % 2"
   ]
  },
  {
   "cell_type": "markdown",
   "metadata": {},
   "source": [
    "Declare two int variables of type\n",
    "\n",
    "Calculate the sum of two int, the difference, the product, the remainder, divide one number by another"
   ]
  },
  {
   "cell_type": "code",
   "execution_count": 36,
   "metadata": {},
   "outputs": [
    {
     "name": "stdout",
     "output_type": "stream",
     "text": [
      "sum: 16\n",
      "subtract: 10\n",
      "multiply: 39\n",
      "power of: 2197\n",
      "Divide: 4.333333333333333\n",
      "Modulus: 1\n"
     ]
    }
   ],
   "source": [
    "my_int_1 = 13\n",
    "my_int_2 = 3\n",
    "print (f'sum: {my_int_1 + my_int_2}')\n",
    "print (f'subtract: {my_int_1 - my_int_2}')\n",
    "print (f'multiply: {my_int_1 * my_int_2}')\n",
    "print (f'power of: {my_int_1 ** my_int_2}')\n",
    "print (f'Divide: {my_int_1 / my_int_2}')\n",
    "print (f'Modulus: {my_int_1 % my_int_2}')"
   ]
  },
  {
   "cell_type": "markdown",
   "metadata": {},
   "source": [
    "Declare two float-type variables"
   ]
  },
  {
   "cell_type": "code",
   "execution_count": 37,
   "metadata": {},
   "outputs": [
    {
     "name": "stdout",
     "output_type": "stream",
     "text": [
      "sum: 16.5598498\n",
      "subtract: 10.2798498\n",
      "multiply: 42.138328372000004\n",
      "power of: 3476.3831555637157\n",
      "Divide: 4.273837515923566\n",
      "Modulus: 0.8598497999999992\n"
     ]
    }
   ],
   "source": [
    "my_float_1 = 13.4198498\n",
    "my_float_2 = 3.14\n",
    "print (f'sum: {my_float_1 + my_float_2}')\n",
    "print (f'subtract: {my_float_1 - my_float_2}')\n",
    "print (f'multiply: {my_float_1 * my_float_2}')\n",
    "print (f'power of: {my_float_1 ** my_float_2}')\n",
    "print (f'Divide: {my_float_1 / my_float_2}')\n",
    "print (f'Modulus: {my_float_1 % my_float_2}')"
   ]
  },
  {
   "cell_type": "markdown",
   "metadata": {},
   "source": [
    "The distance to the Moon is about\n",
    "384,000 km, and to the Sun\n",
    "150,000,000, how many times the\n",
    "distance to the Sun is greater than\n",
    "to the Moon?\n",
    "\n"
   ]
  },
  {
   "cell_type": "code",
   "execution_count": 41,
   "metadata": {},
   "outputs": [
    {
     "name": "stdout",
     "output_type": "stream",
     "text": [
      "390.625\n"
     ]
    }
   ],
   "source": [
    "dist_moon = 384000\n",
    "dist_sun = 150000000\n",
    "print (dist_sun/ dist_moon)"
   ]
  },
  {
   "cell_type": "markdown",
   "metadata": {},
   "source": [
    "2. If we want to drive to the moon in a\n",
    "car with a speed of 150km / h, how\n",
    "many hours, years, months, days,\n",
    "seconds would it take?"
   ]
  },
  {
   "cell_type": "code",
   "execution_count": 42,
   "metadata": {},
   "outputs": [
    {
     "name": "stdout",
     "output_type": "stream",
     "text": [
      "seconds to the moon 9216000.0\n",
      "hours to the moon 2560.0\n",
      "days to the moon 106.66666666666667\n",
      "months to the moon 3.555555555555556\n",
      "years to the moon 0.29629629629629634\n"
     ]
    }
   ],
   "source": [
    "speed = 150\n",
    "print (f'seconds to the moon {dist_moon/speed*3600}')\n",
    "print (f'hours to the moon {dist_moon/speed}')\n",
    "print (f'days to the moon {dist_moon/speed/24}')\n",
    "print (f'months to the moon {dist_moon/speed/24/30}')\n",
    "print (f'years to the moon {dist_moon/speed/24/30/12}')"
   ]
  },
  {
   "cell_type": "markdown",
   "metadata": {},
   "source": [
    "3. How many days have passed since your birthday?"
   ]
  },
  {
   "cell_type": "code",
   "execution_count": 33,
   "metadata": {},
   "outputs": [
    {
     "name": "stdout",
     "output_type": "stream",
     "text": [
      "2021-11-16 11:00:51.136937\n"
     ]
    },
    {
     "data": {
      "text/plain": [
       "datetime.timedelta(days=9640)"
      ]
     },
     "execution_count": 33,
     "metadata": {},
     "output_type": "execute_result"
    }
   ],
   "source": [
    "import datetime #name of the library\n",
    "\n",
    "print (datetime.datetime.now()) #datetime date and time included \n",
    "my_birthday=datetime.date(1995,6,26) \n",
    "datetime.datetime.now().date() - my_birthday #timedelta is difference"
   ]
  },
  {
   "cell_type": "code",
   "execution_count": 34,
   "metadata": {},
   "outputs": [
    {
     "name": "stdout",
     "output_type": "stream",
     "text": [
      "We would reach the moon on 2022-03-03 03:00:54.032354\n"
     ]
    }
   ],
   "source": [
    "delta = datetime.timedelta(seconds=dist_moon/speed*3600)\n",
    "print (f'We would reach the moon on {datetime.datetime.now() + delta}')"
   ]
  },
  {
   "cell_type": "code",
   "execution_count": 32,
   "metadata": {},
   "outputs": [],
   "source": [
    "from datetime import datetime\n",
    "from datetime import timedelta\n",
    "from datetime import date"
   ]
  },
  {
   "cell_type": "markdown",
   "metadata": {},
   "source": [
    "## Boolean"
   ]
  },
  {
   "cell_type": "code",
   "execution_count": 45,
   "metadata": {},
   "outputs": [
    {
     "name": "stdout",
     "output_type": "stream",
     "text": [
      "False\n",
      "<class 'bool'>\n"
     ]
    }
   ],
   "source": [
    "my_bool = 1 > 2\n",
    "print (my_bool)\n",
    "print (type(my_bool))"
   ]
  },
  {
   "cell_type": "code",
   "execution_count": 47,
   "metadata": {},
   "outputs": [
    {
     "name": "stdout",
     "output_type": "stream",
     "text": [
      "6\n",
      "my_int is even True\n"
     ]
    }
   ],
   "source": [
    "my_bool_2 = True #capital letter important!!\n",
    "my_bool_3 = False\n",
    "is_even = my_int % 2 == 0\n",
    "print (my_int)\n",
    "print (f'my_int is even {is_even}')"
   ]
  },
  {
   "cell_type": "markdown",
   "metadata": {},
   "source": [
    "## Comparison operators"
   ]
  },
  {
   "cell_type": "code",
   "execution_count": 48,
   "metadata": {},
   "outputs": [
    {
     "name": "stdout",
     "output_type": "stream",
     "text": [
      "equal to operator ==: True \n",
      "equal to operator ==: False \n",
      "not equal to operator !=: False \n",
      "not equal to operator !=: True \n",
      "more to operator >: True \n",
      "more to operator >=: True \n",
      "more to operator <: True \n",
      "more to operator <=: True \n"
     ]
    }
   ],
   "source": [
    "print (f'equal to operator ==: { 1 == 1} ')\n",
    "print (f'equal to operator ==: { 1 == 10} ')\n",
    "print (f'not equal to operator !=: { 1 != 1} ')\n",
    "print (f'not equal to operator !=: { 1 != 10} ')\n",
    "print (f'more to operator >: { 15 > 10} ')\n",
    "print (f'more to operator >=: { 10 >= 10} ')\n",
    "print (f'more to operator <: { 1 < 10} ')\n",
    "print (f'more to operator <=: { 10 <= 10} ')"
   ]
  },
  {
   "cell_type": "code",
   "execution_count": 50,
   "metadata": {},
   "outputs": [
    {
     "data": {
      "text/plain": [
       "True"
      ]
     },
     "execution_count": 50,
     "metadata": {},
     "output_type": "execute_result"
    }
   ],
   "source": [
    "# True and true\n",
    "10 > 2 and 2 < 5"
   ]
  },
  {
   "cell_type": "code",
   "execution_count": 52,
   "metadata": {},
   "outputs": [
    {
     "data": {
      "text/plain": [
       "False"
      ]
     },
     "execution_count": 52,
     "metadata": {},
     "output_type": "execute_result"
    }
   ],
   "source": [
    "# True and false\n",
    "10 > 2 and 10 < 5"
   ]
  },
  {
   "cell_type": "code",
   "execution_count": 53,
   "metadata": {},
   "outputs": [
    {
     "data": {
      "text/plain": [
       "True"
      ]
     },
     "execution_count": 53,
     "metadata": {},
     "output_type": "execute_result"
    }
   ],
   "source": [
    "# True or true (if either is true)\n",
    "10 > 2 or 10 < 5"
   ]
  },
  {
   "cell_type": "code",
   "execution_count": 55,
   "metadata": {},
   "outputs": [
    {
     "data": {
      "text/plain": [
       "False"
      ]
     },
     "execution_count": 55,
     "metadata": {},
     "output_type": "execute_result"
    }
   ],
   "source": [
    "# False or false\n",
    "10 > 20 or 10 < 5"
   ]
  },
  {
   "cell_type": "code",
   "execution_count": 56,
   "metadata": {},
   "outputs": [
    {
     "data": {
      "text/plain": [
       "True"
      ]
     },
     "execution_count": 56,
     "metadata": {},
     "output_type": "execute_result"
    }
   ],
   "source": [
    "True and 10 > 5 and 10 % 2 == 0 or False\n",
    "#<----True----> and <--True---> or\n",
    "#<-- True ------------ True---> or\n",
    "# go from left to right. and - on both sides "
   ]
  },
  {
   "cell_type": "code",
   "execution_count": 57,
   "metadata": {},
   "outputs": [
    {
     "data": {
      "text/plain": [
       "False"
      ]
     },
     "execution_count": 57,
     "metadata": {},
     "output_type": "execute_result"
    }
   ],
   "source": [
    "True and 10 > 5 and 11 % 2 == 0 or False\n",
    "#<----True----> and <--False--> or\n",
    "#<-------- False--------------> or False"
   ]
  },
  {
   "cell_type": "code",
   "execution_count": 58,
   "metadata": {},
   "outputs": [
    {
     "data": {
      "text/plain": [
       "False"
      ]
     },
     "execution_count": 58,
     "metadata": {},
     "output_type": "execute_result"
    }
   ],
   "source": [
    "True and 10 > 5 and 11 % 2 == 0 or 1 > 2 #False\n",
    "#<----True----> and <--False--> or\n",
    "#<-------- False--------------> or False"
   ]
  },
  {
   "cell_type": "code",
   "execution_count": 62,
   "metadata": {},
   "outputs": [
    {
     "name": "stdout",
     "output_type": "stream",
     "text": [
      "True\n",
      "False\n",
      "True\n"
     ]
    }
   ],
   "source": [
    "#change type to boolean\n",
    "print (bool('Some text' ) )\n",
    "print (bool('') )\n",
    "print (bool(' ') )\n",
    "# if there is any value it will be true - otherwise false"
   ]
  },
  {
   "cell_type": "code",
   "execution_count": 64,
   "metadata": {},
   "outputs": [
    {
     "name": "stdout",
     "output_type": "stream",
     "text": [
      "True\n",
      "False\n",
      "True\n",
      "True\n",
      "True\n"
     ]
    }
   ],
   "source": [
    "print (bool(5) )\n",
    "print (bool(0) )\n",
    "print (bool(1) )\n",
    "print (bool(-1) )\n",
    "print (bool(-38746358) )"
   ]
  },
  {
   "cell_type": "code",
   "execution_count": 67,
   "metadata": {},
   "outputs": [
    {
     "name": "stdout",
     "output_type": "stream",
     "text": [
      "True\n",
      "False\n",
      "True\n",
      "True\n"
     ]
    }
   ],
   "source": [
    "print (bool(5.0) )\n",
    "print (bool(0.0) )\n",
    "print (bool(0.5) )\n",
    "print (bool(0.00000000005) )"
   ]
  },
  {
   "cell_type": "code",
   "execution_count": 70,
   "metadata": {},
   "outputs": [
    {
     "name": "stdout",
     "output_type": "stream",
     "text": [
      "True\n",
      "False\n"
     ]
    }
   ],
   "source": [
    "print (5 > 2)\n",
    "print (not 5 > 2)"
   ]
  },
  {
   "cell_type": "code",
   "execution_count": 73,
   "metadata": {},
   "outputs": [
    {
     "name": "stdout",
     "output_type": "stream",
     "text": [
      "False\n",
      "False\n"
     ]
    }
   ],
   "source": [
    "not_even = not 10 % 2 ==0\n",
    "print (not_even)\n",
    "not_even_2 = 10 % 2 !=0\n",
    "print (not_even_2)"
   ]
  },
  {
   "cell_type": "code",
   "execution_count": 75,
   "metadata": {},
   "outputs": [
    {
     "name": "stdout",
     "output_type": "stream",
     "text": [
      "12\n",
      "12\n"
     ]
    }
   ],
   "source": [
    "sum = 0\n",
    "sum = sum + 5 #5\n",
    "sum = sum + 10 #15\n",
    "sum = sum - 3 #12\n",
    "print (sum)\n",
    "\n",
    "#same as \n",
    "sum = 0\n",
    "sum += 5\n",
    "sum += 10\n",
    "sum -= 3\n",
    "print (sum)"
   ]
  },
  {
   "cell_type": "code",
   "execution_count": 76,
   "metadata": {},
   "outputs": [
    {
     "name": "stdout",
     "output_type": "stream",
     "text": [
      "1000\n"
     ]
    }
   ],
   "source": [
    "multiply = 1\n",
    "multiply *= 10\n",
    "multiply *= 10\n",
    "multiply *= 10\n",
    "print (multiply)"
   ]
  },
  {
   "cell_type": "markdown",
   "metadata": {},
   "source": [
    "## Membership operator"
   ]
  },
  {
   "cell_type": "code",
   "execution_count": 81,
   "metadata": {},
   "outputs": [
    {
     "name": "stdout",
     "output_type": "stream",
     "text": [
      "True\n",
      "False\n",
      "False\n",
      "True\n"
     ]
    }
   ],
   "source": [
    "text = 'Hello world'\n",
    "'world' in text #if world exist in my text\n",
    "print ('world' in text) #case sensitive, space sensitive\n",
    "print ('World' in text)\n",
    "print ('world ' in text)\n",
    "print ('Ruta' not in text)"
   ]
  },
  {
   "cell_type": "markdown",
   "metadata": {},
   "source": [
    "## Bolean tasks HOMEWORK"
   ]
  },
  {
   "cell_type": "code",
   "execution_count": 82,
   "metadata": {},
   "outputs": [],
   "source": [
    "#############################"
   ]
  },
  {
   "cell_type": "markdown",
   "metadata": {},
   "source": [
    "## LISTS"
   ]
  },
  {
   "cell_type": "code",
   "execution_count": 83,
   "metadata": {},
   "outputs": [],
   "source": [
    "my_list = [1, 5, 10, 15]"
   ]
  },
  {
   "cell_type": "code",
   "execution_count": 90,
   "metadata": {},
   "outputs": [
    {
     "name": "stdout",
     "output_type": "stream",
     "text": [
      "lenght:  4\n",
      "1st:  1\n",
      "slice:  [10, 15]\n"
     ]
    }
   ],
   "source": [
    "print ('lenght: ',len(my_list))\n",
    "print ('1st: ',my_list[0])\n",
    "print ('slice: ',my_list[2:])"
   ]
  },
  {
   "cell_type": "code",
   "execution_count": 91,
   "metadata": {},
   "outputs": [
    {
     "name": "stdout",
     "output_type": "stream",
     "text": [
      "[1, 1, 2, 2, 'Ruta', 'Vilnius', True, False]\n"
     ]
    }
   ],
   "source": [
    "my_list_2 = [1, 1, 2, 2, 'Ruta', 'Vilnius', True, 1>10]\n",
    "print (my_list_2)"
   ]
  },
  {
   "cell_type": "code",
   "execution_count": 100,
   "metadata": {},
   "outputs": [
    {
     "name": "stdout",
     "output_type": "stream",
     "text": [
      "[1, 5, 1, 14984, 10, 15, 54]\n",
      "[1, 1, 5, 10, 15, 54, 14984]\n",
      "[14984, 54, 15, 10, 5, 1, 1]\n",
      "[1, 1, 5, 10, 15, 54, 14984]\n",
      "[14984, 54, 15, 10, 5, 1, 1]\n"
     ]
    }
   ],
   "source": [
    "my_list_3 = [1, 5, 1, 14984, 10, 15, 54]\n",
    "print (my_list_3)\n",
    "my_list_3.sort() #asc order\n",
    "#print (my_list_3.sort()) # doesnt work. don't print it\n",
    "print (my_list_3)\n",
    "print (my_list_3[::-1])\n",
    "print (my_list_3)\n",
    "my_list_3.sort(reverse=True)\n",
    "print (my_list_3)\n"
   ]
  },
  {
   "cell_type": "code",
   "execution_count": 1,
   "metadata": {},
   "outputs": [
    {
     "name": "stdout",
     "output_type": "stream",
     "text": [
      "[1, 5, 1, ['New list inside', 'Vilnius'], 10, 15, 54]\n",
      "['New list inside', 'Vilnius']\n"
     ]
    }
   ],
   "source": [
    "my_list_4 = [ 1, 5, 1, ['New list inside', \"Vilnius\"], 10, 15, 54 ]\n",
    "print (my_list_4)\n",
    "print (my_list_4[3])"
   ]
  },
  {
   "cell_type": "code",
   "execution_count": null,
   "metadata": {},
   "outputs": [],
   "source": [
    "## lesson 2021-11-18"
   ]
  },
  {
   "cell_type": "code",
   "execution_count": 2,
   "metadata": {},
   "outputs": [
    {
     "name": "stdout",
     "output_type": "stream",
     "text": [
      "[1, 5, 1, ['New list inside', 'Vilnius'], 10, 15, 54]\n",
      "[1, 100, 1, ['New list inside', 'Vilnius'], 10, 15, 54]\n"
     ]
    }
   ],
   "source": [
    "print (my_list_4)\n",
    "my_list_4[1] = 100\n",
    "print (my_list_4)"
   ]
  },
  {
   "cell_type": "code",
   "execution_count": 5,
   "metadata": {},
   "outputs": [
    {
     "name": "stdout",
     "output_type": "stream",
     "text": [
      "[1, 100, 1, ['HAHA', 'Vilnius'], 10, 15, 54]\n"
     ]
    }
   ],
   "source": [
    "##how to change value inside the list\n",
    "my_list_4[3][0] = 'HAHA'\n",
    "print(my_list_4)"
   ]
  },
  {
   "cell_type": "code",
   "execution_count": 10,
   "metadata": {},
   "outputs": [
    {
     "data": {
      "text/plain": [
       "[1,\n",
       " 2,\n",
       " 3,\n",
       " 'a',\n",
       " 'b',\n",
       " 'c',\n",
       " 1,\n",
       " 2,\n",
       " 3,\n",
       " 'a',\n",
       " 'b',\n",
       " 'c',\n",
       " 1,\n",
       " 2,\n",
       " 3,\n",
       " 'a',\n",
       " 'b',\n",
       " 'c',\n",
       " 1,\n",
       " 2,\n",
       " 3,\n",
       " 'a',\n",
       " 'b',\n",
       " 'c']"
      ]
     },
     "execution_count": 10,
     "metadata": {},
     "output_type": "execute_result"
    }
   ],
   "source": [
    "# can multiply but cant substract or divide\n",
    "([1,2,3] + ['a', 'b', 'c']) * 4"
   ]
  },
  {
   "cell_type": "code",
   "execution_count": 18,
   "metadata": {},
   "outputs": [
    {
     "name": "stdout",
     "output_type": "stream",
     "text": [
      "[1, 2, 3, 5, 'abs', [10, 100, 1000]]\n"
     ]
    }
   ],
   "source": [
    "my_list=[1,2,3]\n",
    "# what value you want to add\n",
    "my_list.append(5)\n",
    "my_list.append('abs')\n",
    "my_list.append([10, 100, 1000])\n",
    "print(my_list)"
   ]
  },
  {
   "cell_type": "code",
   "execution_count": 19,
   "metadata": {},
   "outputs": [
    {
     "name": "stdout",
     "output_type": "stream",
     "text": [
      "[1, 2, 3, 5, 'abs', [10, 100, 1000], 'a', 'b', 's', 156]\n"
     ]
    }
   ],
   "source": [
    "#add every new value as an item\n",
    "my_list.extend('abs')\n",
    "my_list.extend([156])\n",
    "print(my_list)"
   ]
  },
  {
   "cell_type": "code",
   "execution_count": 17,
   "metadata": {},
   "outputs": [
    {
     "name": "stdout",
     "output_type": "stream",
     "text": [
      "156\n",
      "[1, 2, 3, 5, 'a', [10, 100, 1000], 'a', 'b', 's', 'a', 'b', 's']\n"
     ]
    }
   ],
   "source": [
    "#pop. it deletes one value from list and gives it back to you. 156 is missing\n",
    "poped_value= my_list.pop() #can add value in brackets, if no value it will remove the last one\n",
    "print (poped_value)\n",
    "print (my_list)"
   ]
  },
  {
   "cell_type": "code",
   "execution_count": 22,
   "metadata": {},
   "outputs": [
    {
     "name": "stdout",
     "output_type": "stream",
     "text": [
      "[1, 2, 'new_text', 3, 5, 'abs', [10, 100, 1000], 'a', 'b', 's', 156]\n",
      "[1, 2, 'new_text', 'new_text', 3, 5, 'abs', [10, 100, 1000], 'a', 'b', 's', 156]\n"
     ]
    }
   ],
   "source": [
    "#insert specify where you want to add something. adds every time you run\n",
    "print (my_list)\n",
    "my_list.insert(3, 'new_text')\n",
    "print (my_list)"
   ]
  },
  {
   "cell_type": "code",
   "execution_count": 23,
   "metadata": {},
   "outputs": [
    {
     "name": "stdout",
     "output_type": "stream",
     "text": [
      "[1, 2, 'new_text', 'new_text', 3, 5, 'abs', [10, 100, 1000], 'a', 'b', 's', 156]\n",
      "[1, 2, 'new_text', 'new_text', 3, 5, 'abs', [10, 100, 1000], 'b', 's', 156]\n"
     ]
    }
   ],
   "source": [
    "#removes first occurence of value. if i try to run again will get error as i dont have any more a letters\n",
    "print (my_list)\n",
    "my_list.remove('a')\n",
    "print (my_list)"
   ]
  },
  {
   "cell_type": "code",
   "execution_count": 26,
   "metadata": {},
   "outputs": [
    {
     "name": "stdout",
     "output_type": "stream",
     "text": [
      "[1, 2, 'new_text', 'new_text', 3, 5, 'abs', [10, 100, 1000], 'b', 's', 156]\n",
      "1\n",
      "2\n"
     ]
    }
   ],
   "source": [
    "# index gives index or value. if you have list which you dont know if you have some value in it\n",
    "print (my_list)\n",
    "index_10 = my_list.index(2) \n",
    "print (index_10 )\n",
    "print (my_list[index_10] )\n"
   ]
  },
  {
   "cell_type": "code",
   "execution_count": 29,
   "metadata": {},
   "outputs": [
    {
     "name": "stdout",
     "output_type": "stream",
     "text": [
      "[5, 5, 5, 5]\n",
      "[5, 5, 5, 5, 1, 2, 'new_text', 'new_text', 3, 5, 'abs', [10, 100, 1000], 'b', 's', 156]\n"
     ]
    }
   ],
   "source": [
    "#clear - cleans everything from list\n",
    "my_list.clear()\n",
    "#count how many values we have within a list. only works for numbers-integers.\n",
    "my_list.extend([5, 5, 5, 5])\n",
    "print (my_list)\n",
    "my_list.count(5)\n",
    "my_list.extend([1, 2, 'new_text', 'new_text', 3, 5, 'abs', [10, 100, 1000], 'b', 's', 156])\n",
    "print (my_list)\n"
   ]
  },
  {
   "cell_type": "code",
   "execution_count": 31,
   "metadata": {},
   "outputs": [
    {
     "data": {
      "text/plain": [
       "[156,\n",
       " 's',\n",
       " 'b',\n",
       " [10, 100, 1000],\n",
       " 'abs',\n",
       " 5,\n",
       " 3,\n",
       " 'new_text',\n",
       " 'new_text',\n",
       " 2,\n",
       " 1,\n",
       " 5,\n",
       " 5,\n",
       " 5,\n",
       " 5]"
      ]
     },
     "execution_count": 31,
     "metadata": {},
     "output_type": "execute_result"
    }
   ],
   "source": [
    "my_list.reverse()\n",
    "my_list"
   ]
  },
  {
   "cell_type": "markdown",
   "metadata": {},
   "source": [
    "## Mutable vs immutable"
   ]
  },
  {
   "cell_type": "code",
   "execution_count": 32,
   "metadata": {},
   "outputs": [
    {
     "name": "stdout",
     "output_type": "stream",
     "text": [
      "1\n",
      "2\n",
      "4539107632\n",
      "4539107664\n"
     ]
    }
   ],
   "source": [
    "#immutable. if one changes another wont change\n",
    "a=1\n",
    "b=1\n",
    "b+=1\n",
    "print(a)\n",
    "print(b)\n",
    "print( id(a) )\n",
    "print( id(b) )"
   ]
  },
  {
   "cell_type": "code",
   "execution_count": 34,
   "metadata": {},
   "outputs": [
    {
     "name": "stdout",
     "output_type": "stream",
     "text": [
      "[1, 2, 3, 100]\n",
      "[1, 2, 3, 100]\n",
      "4600807040\n",
      "4600807040\n"
     ]
    }
   ],
   "source": [
    "#mutable\n",
    "list_1 = [1,2,3]\n",
    "list_2 = list_1\n",
    "list_2.append(100)\n",
    "print(list_1)\n",
    "print(list_2)\n",
    "print( id(list_1) )\n",
    "print( id(list_2) )"
   ]
  },
  {
   "cell_type": "code",
   "execution_count": 36,
   "metadata": {},
   "outputs": [
    {
     "name": "stdout",
     "output_type": "stream",
     "text": [
      "[1, 2, [1, 0, 100, 100]]\n",
      "[1, 2, [1, 0, 100, 100]]\n",
      "4600804224\n",
      "4601462464\n"
     ]
    }
   ],
   "source": [
    "#fixing mutability 10.44\n",
    "# list_1 = [1,2,3]\n",
    "list_1 = [1,2,[1,0,100] ]\n",
    "list_2 = list_1.copy()\n",
    "# list_2.append(100)\n",
    "list_2[2].append(100)\n",
    "print(list_1)\n",
    "print(list_2)\n",
    "print( id(list_1) )\n",
    "print( id(list_2) )"
   ]
  },
  {
   "cell_type": "code",
   "execution_count": 37,
   "metadata": {},
   "outputs": [
    {
     "name": "stdout",
     "output_type": "stream",
     "text": [
      "[1, 2, [1, 0, 100, 100]]\n",
      "[1, 2, [1, 0, 100, 100]]\n",
      "4600790592\n",
      "4601353152\n"
     ]
    }
   ],
   "source": [
    "# list_1 = [1,2,3]\n",
    "list_1 = [1,2,[1,0,100] ]\n",
    "list_2 = list_1.copy()\n",
    "# list_2.append(100)\n",
    "list_2[2].append(100)\n",
    "print(list_1)\n",
    "print(list_2)\n",
    "print( id(list_1) )\n",
    "print( id(list_2) )"
   ]
  },
  {
   "cell_type": "code",
   "execution_count": 39,
   "metadata": {},
   "outputs": [
    {
     "name": "stdout",
     "output_type": "stream",
     "text": [
      "[156, 's', 'b', [10, 100, 1000], 'abs', 5, 3, 'new_text', 'new_text', 2, 1, 5, 5, 5, 5]\n",
      "True\n",
      "False\n"
     ]
    }
   ],
   "source": [
    "#to check if i have this value\n",
    "print (my_list)\n",
    "print('b' in my_list)\n",
    "print('f' in my_list)\n"
   ]
  },
  {
   "cell_type": "code",
   "execution_count": 42,
   "metadata": {},
   "outputs": [
    {
     "name": "stdout",
     "output_type": "stream",
     "text": [
      "(1, 1, 'a')\n",
      "ab\n",
      "lenght of the tuple: 5\n",
      "count of 1 in tuple: 2\n",
      "count of 'c' in tuple: 0\n",
      "check if 'b' is in tuple: True\n",
      "check 'b' index in tuple: 3\n"
     ]
    }
   ],
   "source": [
    "#useful to use tuples when there is data which you cant change. user ids, etc\n",
    "my_tuple = (1, 1, 'a', 'b', 'ab' )\n",
    "print (my_tuple[:3] )\n",
    "print (my_tuple[4])\n",
    "print (f'lenght of the tuple: {len (my_tuple)}' )\n",
    "print (f'count of 1 in tuple: {my_tuple.count(1)}' )\n",
    "print (f\"count of 'c' in tuple: {my_tuple.count('c')}\" )\n",
    "print (f\"check if 'b' is in tuple: { 'b' in my_tuple}\" )\n",
    "print (f\"check 'b' index in tuple: { my_tuple.index('b')}\" )\n",
    "\n",
    "# my_tuple[2] = 'c' # Error, can't do that"
   ]
  },
  {
   "cell_type": "code",
   "execution_count": 43,
   "metadata": {},
   "outputs": [
    {
     "name": "stdout",
     "output_type": "stream",
     "text": [
      "(1, 2, 3, 4, 5, 3)\n"
     ]
    }
   ],
   "source": [
    "#can create a new tuple by adding them\n",
    "tuple_1 = (1,2,3)\n",
    "tuple_2 = (4,5,3)\n",
    "tuple_3 = tuple_1 + tuple_2\n",
    "print (tuple_3)"
   ]
  },
  {
   "cell_type": "code",
   "execution_count": 44,
   "metadata": {},
   "outputs": [
    {
     "name": "stdout",
     "output_type": "stream",
     "text": [
      "[1, 2, 3, 4, 5, 3]\n",
      "(1, 2, 3, 10, 5, 3)\n"
     ]
    }
   ],
   "source": [
    "#there is a way  to change values inside tuples\n",
    "#tuple_3[3]=10 wont work\n",
    "tuple_1 = (1,2,3)\n",
    "tuple_2 = (4,5,3)\n",
    "tuple_3 = tuple_1 + tuple_2\n",
    "tmp_list = list(tuple_3)\n",
    "print (tmp_list)\n",
    "tmp_list[3] = 10\n",
    "tuple_3 = tuple(tmp_list)\n",
    "print (tuple_3)"
   ]
  },
  {
   "cell_type": "markdown",
   "metadata": {},
   "source": [
    "## Tuple tasks"
   ]
  },
  {
   "cell_type": "markdown",
   "metadata": {},
   "source": [
    "Get value  \n",
    "\n",
    "my_tuple = (1, 2, ['3', 4, 5], [6, [7, (8)]]) \n",
    "\n",
    "Display ‘8’ on the screen"
   ]
  },
  {
   "cell_type": "code",
   "execution_count": 50,
   "metadata": {},
   "outputs": [
    {
     "name": "stdout",
     "output_type": "stream",
     "text": [
      "8\n",
      "8\n"
     ]
    }
   ],
   "source": [
    "my_tuple_2 = (1, 2, ['3', 4, 5], [6, [7, (8)]]) #there are 3 layers\n",
    "print (my_tuple_2[3][1][1])  \n",
    "#other way\n",
    "print (my_tuple_2[-1][-1][-1])  "
   ]
  },
  {
   "cell_type": "markdown",
   "metadata": {},
   "source": [
    "Change the value\n",
    "\n",
    "tuple1 = (11, [222, 33], 44, 55)\n",
    "\n",
    "tuple1 = (11, [222, 22], 44, 55)"
   ]
  },
  {
   "cell_type": "code",
   "execution_count": 53,
   "metadata": {},
   "outputs": [
    {
     "name": "stdout",
     "output_type": "stream",
     "text": [
      "(11, [222, 33], 44, 55)\n",
      "[222, 33]\n",
      "(11, [222, 22], 44, 55)\n",
      "(11, [222, 33], 44, 55)\n",
      "(11, [222, 22], 44, 55)\n"
     ]
    }
   ],
   "source": [
    "tuple1 = (11, [222, 33], 44, 55)\n",
    "print (tuple1)\n",
    "tmp_list = list(tuple1)\n",
    "print (tmp_list[1])\n",
    "tmp_list[1][1] = 22\n",
    "tuple1 = tuple(tuple1)\n",
    "print (tuple1)\n",
    "######### other way\n",
    "tuple1 = (11, [222, 33], 44, 55)\n",
    "print(tuple1)\n",
    "tuple1[1][1] = 22\n",
    "print (tuple1)"
   ]
  },
  {
   "cell_type": "markdown",
   "metadata": {},
   "source": [
    "## Range"
   ]
  },
  {
   "cell_type": "code",
   "execution_count": 59,
   "metadata": {},
   "outputs": [
    {
     "name": "stdout",
     "output_type": "stream",
     "text": [
      "[0, 1, 2, 3, 4, 5, 6, 7, 8, 9]\n",
      "[5, 6, 7, 8, 9]\n",
      "[5, 7, 9, 11, 13, 15, 17, 19, 21, 23]\n",
      "[50, 45, 40, 35, 30]\n"
     ]
    }
   ],
   "source": [
    "#it is used to make multiple actions. if i want to repeat something for 10 times for eg\n",
    "print (list(range(10)))\n",
    "print (list(range(5, 10)))\n",
    "print (list(range(5, 25, 2)))\n",
    "print (list(range(50, 25, -5))) #decreasing order\n"
   ]
  },
  {
   "cell_type": "code",
   "execution_count": 63,
   "metadata": {},
   "outputs": [
    {
     "name": "stdout",
     "output_type": "stream",
     "text": [
      "<class 'range'>\n",
      "<class 'list'>\n",
      "<class 'tuple'>\n"
     ]
    }
   ],
   "source": [
    "#to find out what type variable it is\n",
    "print (type (range(10)))\n",
    "print (type ( [1, 5, 3]))\n",
    "print (type ((1, 5, 3)))"
   ]
  },
  {
   "cell_type": "markdown",
   "metadata": {},
   "source": [
    "## For Loops"
   ]
  },
  {
   "cell_type": "code",
   "execution_count": 69,
   "metadata": {},
   "outputs": [
    {
     "name": "stdout",
     "output_type": "stream",
     "text": [
      "City is called Vilnius\n",
      "City is called Kaunas\n",
      "City is called London\n",
      "City is called Berlin\n",
      "City is called Porto\n",
      "went through all cities\n"
     ]
    }
   ],
   "source": [
    "cities = ['Vilnius', 'Kaunas', 'London', 'Berlin', 'Porto']\n",
    "for city in cities:      #important sequance. in python for is separated with spaces (4 spaces)\n",
    "    print (f'City is called {city}') #only this is in loop\n",
    "print (\"went through all cities\")"
   ]
  },
  {
   "cell_type": "code",
   "execution_count": 72,
   "metadata": {},
   "outputs": [
    {
     "name": "stdout",
     "output_type": "stream",
     "text": [
      "index is 5\n",
      "index is 10\n",
      "index is 15\n",
      "index is 20\n",
      "index is 25\n",
      "index is 30\n",
      "index is 35\n",
      "index is 40\n",
      "index is 45\n"
     ]
    }
   ],
   "source": [
    "for i in range(5,50,5): #letter i stands for index\n",
    "    print (f'index is {i}')"
   ]
  },
  {
   "cell_type": "markdown",
   "metadata": {},
   "source": [
    "## For loop tasks"
   ]
  },
  {
   "cell_type": "markdown",
   "metadata": {},
   "source": [
    "Get all possible\n",
    "combinations from these\n",
    "lists, add them to a\n",
    "single list\n",
    "\n",
    "1. days = (‘Monday’, ‘Tuesday’, ‘Wednesday’, ‘Thursday’, ‘Friday’, ‘Saturday’ , ‘Sunday’)\n",
    "hours = [10, 11, 12, 13, 14, 15, 16, 17, 18, 19]"
   ]
  },
  {
   "cell_type": "code",
   "execution_count": 82,
   "metadata": {},
   "outputs": [
    {
     "name": "stdout",
     "output_type": "stream",
     "text": [
      "Monday\n",
      "10\n",
      "11\n",
      "12\n",
      "13\n",
      "14\n",
      "15\n",
      "16\n",
      "17\n",
      "18\n",
      "19\n",
      "Checking next day\n",
      "Tuesday\n",
      "10\n",
      "11\n",
      "12\n",
      "13\n",
      "14\n",
      "15\n",
      "16\n",
      "17\n",
      "18\n",
      "19\n",
      "Checking next day\n",
      "Wednesday\n",
      "10\n",
      "11\n",
      "12\n",
      "13\n",
      "14\n",
      "15\n",
      "16\n",
      "17\n",
      "18\n",
      "19\n",
      "Checking next day\n",
      "Thursday\n",
      "10\n",
      "11\n",
      "12\n",
      "13\n",
      "14\n",
      "15\n",
      "16\n",
      "17\n",
      "18\n",
      "19\n",
      "Checking next day\n",
      "Friday\n",
      "10\n",
      "11\n",
      "12\n",
      "13\n",
      "14\n",
      "15\n",
      "16\n",
      "17\n",
      "18\n",
      "19\n",
      "Checking next day\n",
      "Saturday\n",
      "10\n",
      "11\n",
      "12\n",
      "13\n",
      "14\n",
      "15\n",
      "16\n",
      "17\n",
      "18\n",
      "19\n",
      "Checking next day\n",
      "Sunday\n",
      "10\n",
      "11\n",
      "12\n",
      "13\n",
      "14\n",
      "15\n",
      "16\n",
      "17\n",
      "18\n",
      "19\n",
      "Checking next day\n",
      "[('Monday', 10), ('Monday', 11), ('Monday', 12), ('Monday', 13), ('Monday', 14), ('Monday', 15), ('Monday', 16), ('Monday', 17), ('Monday', 18), ('Monday', 19), ('Tuesday', 10), ('Tuesday', 11), ('Tuesday', 12), ('Tuesday', 13), ('Tuesday', 14), ('Tuesday', 15), ('Tuesday', 16), ('Tuesday', 17), ('Tuesday', 18), ('Tuesday', 19), ('Wednesday', 10), ('Wednesday', 11), ('Wednesday', 12), ('Wednesday', 13), ('Wednesday', 14), ('Wednesday', 15), ('Wednesday', 16), ('Wednesday', 17), ('Wednesday', 18), ('Wednesday', 19), ('Thursday', 10), ('Thursday', 11), ('Thursday', 12), ('Thursday', 13), ('Thursday', 14), ('Thursday', 15), ('Thursday', 16), ('Thursday', 17), ('Thursday', 18), ('Thursday', 19), ('Friday', 10), ('Friday', 11), ('Friday', 12), ('Friday', 13), ('Friday', 14), ('Friday', 15), ('Friday', 16), ('Friday', 17), ('Friday', 18), ('Friday', 19), ('Saturday', 10), ('Saturday', 11), ('Saturday', 12), ('Saturday', 13), ('Saturday', 14), ('Saturday', 15), ('Saturday', 16), ('Saturday', 17), ('Saturday', 18), ('Saturday', 19), ('Sunday', 10), ('Sunday', 11), ('Sunday', 12), ('Sunday', 13), ('Sunday', 14), ('Sunday', 15), ('Sunday', 16), ('Sunday', 17), ('Sunday', 18), ('Sunday', 19)]\n"
     ]
    }
   ],
   "source": [
    "days = ('Monday', 'Tuesday', 'Wednesday', 'Thursday', 'Friday', 'Saturday' , 'Sunday')\n",
    "hours = [10, 11, 12, 13, 14, 15, 16, 17, 18, 19]\n",
    "\n",
    "combinations = []\n",
    "for day in days:\n",
    "    print(day)\n",
    "    for hour in hours:\n",
    "        print (hour)\n",
    "        combinations.append( (day, hour) ) #it accepts only single objects\n",
    "    print ('Checking next day')\n",
    "print (combinations)"
   ]
  },
  {
   "cell_type": "code",
   "execution_count": 1,
   "metadata": {},
   "outputs": [],
   "source": [
    "## Lesson5 2021-11-23 "
   ]
  },
  {
   "cell_type": "code",
   "execution_count": 2,
   "metadata": {},
   "outputs": [
    {
     "name": "stdout",
     "output_type": "stream",
     "text": [
      "3\n",
      "[1, 3, 5, 9]\n"
     ]
    }
   ],
   "source": [
    "# List tasks from pdf. page3\n",
    "my_list= [1, 3, 5]\n",
    "print (len(my_list))\n",
    "my_list.append(9)\n",
    "print(my_list)"
   ]
  },
  {
   "cell_type": "code",
   "execution_count": 3,
   "metadata": {},
   "outputs": [
    {
     "data": {
      "text/plain": [
       "False"
      ]
     },
     "execution_count": 3,
     "metadata": {},
     "output_type": "execute_result"
    }
   ],
   "source": [
    "8 in my_list"
   ]
  },
  {
   "cell_type": "code",
   "execution_count": 4,
   "metadata": {},
   "outputs": [
    {
     "data": {
      "text/plain": [
       "False"
      ]
     },
     "execution_count": 4,
     "metadata": {},
     "output_type": "execute_result"
    }
   ],
   "source": [
    "'3' in my_list"
   ]
  },
  {
   "cell_type": "code",
   "execution_count": 7,
   "metadata": {},
   "outputs": [
    {
     "name": "stdout",
     "output_type": "stream",
     "text": [
      "[1, 2, 3, 7, 6, 5]\n",
      "[1, 2, 3, 7, 6]\n",
      "[7, 6, 3, 2, 1]\n",
      "number 7 repeats 1 times\n",
      "number 6 repeats 1 times\n",
      "number 3 repeats 1 times\n",
      "number 2 repeats 1 times\n",
      "number 1 repeats 1 times\n"
     ]
    }
   ],
   "source": [
    "#new_list = [1, 2, 3] + ['1', '2', '3' ]\n",
    "new_list = [1, 2, 3] + [7, 6, 5]\n",
    "print(new_list)\n",
    "new_list.pop()\n",
    "print(new_list)\n",
    "new_list.sort(reverse=True)\n",
    "print(new_list)\n",
    "for number in new_list:\n",
    "    print(f'number {number} repeats {new_list.count(number)} times')"
   ]
  },
  {
   "cell_type": "code",
   "execution_count": 8,
   "metadata": {},
   "outputs": [
    {
     "name": "stdout",
     "output_type": "stream",
     "text": [
      "(1, 2, 3, 11, 5, 6, 8)\n",
      "[1, 2, 3]\n",
      "[1, 2]\n",
      "number 1 repeats 1 times\n",
      "number 2 repeats 1 times\n",
      "number 3 repeats 1 times\n",
      "number 11 repeats 1 times\n",
      "number 5 repeats 1 times\n",
      "number 6 repeats 1 times\n",
      "number 8 repeats 1 times\n",
      "max value in tuple 11\n",
      "[11, 8, 6, 5, 3, 2, 1]\n",
      "max value in tuple 11\n"
     ]
    }
   ],
   "source": [
    "#Tuple tasks\n",
    "tuple1 = (1,2,3)\n",
    "tuple2 = (11,5,6,8)\n",
    "new_tuple = tuple1 + tuple2\n",
    "print (new_tuple)\n",
    "list_1 = list(tuple1)\n",
    "print (list_1)\n",
    "list_1.pop()\n",
    "print (list_1)\n",
    "for number in new_tuple:\n",
    "    print(f'number {number} repeats {new_tuple.count(number)} times')\n",
    "print (f'max value in tuple {max(new_tuple) }')\n",
    "tmp_list = list (new_tuple)\n",
    "tmp_list.sort(reverse=True)\n",
    "print (tmp_list)\n",
    "print (f'max value in tuple {tmp_list[0] }')\n"
   ]
  },
  {
   "cell_type": "code",
   "execution_count": 9,
   "metadata": {},
   "outputs": [
    {
     "name": "stdout",
     "output_type": "stream",
     "text": [
      "1\n",
      "2\n",
      "3\n",
      "4\n",
      "5\n",
      "6\n",
      "7\n",
      "8\n",
      "9\n",
      "10\n"
     ]
    }
   ],
   "source": [
    "#for loop tasks\n",
    "for number in range (1,11):\n",
    "    print(number)"
   ]
  },
  {
   "cell_type": "code",
   "execution_count": 10,
   "metadata": {},
   "outputs": [
    {
     "name": "stdout",
     "output_type": "stream",
     "text": [
      "1\n",
      "3\n",
      "6\n",
      "10\n",
      "15\n",
      "21\n",
      "28\n",
      "36\n",
      "45\n",
      "55\n",
      "66\n",
      "78\n",
      "91\n",
      "105\n",
      "120\n",
      "136\n",
      "153\n",
      "171\n",
      "190\n",
      "210\n",
      "231\n",
      "253\n",
      "276\n",
      "300\n",
      "325\n",
      "351\n",
      "378\n",
      "406\n",
      "435\n",
      "465\n",
      "496\n",
      "528\n",
      "561\n",
      "595\n",
      "630\n",
      "666\n",
      "703\n",
      "741\n",
      "780\n",
      "820\n",
      "861\n",
      "903\n",
      "946\n",
      "990\n",
      "1035\n",
      "1081\n",
      "1128\n",
      "1176\n",
      "1225\n",
      "1275\n",
      "1275\n"
     ]
    }
   ],
   "source": [
    "my_sum = 0\n",
    "for number in range (1,51):\n",
    "    my_sum += number\n",
    "    print (my_sum)\n",
    "print (my_sum)"
   ]
  },
  {
   "cell_type": "code",
   "execution_count": 13,
   "metadata": {},
   "outputs": [
    {
     "name": "stdout",
     "output_type": "stream",
     "text": [
      "number 22 multiplied by 1 is equal to 22\n",
      "number 22 multiplied by 2 is equal to 44\n",
      "number 22 multiplied by 3 is equal to 66\n",
      "number 22 multiplied by 4 is equal to 88\n",
      "number 22 multiplied by 5 is equal to 110\n",
      "number 22 multiplied by 6 is equal to 132\n",
      "number 22 multiplied by 7 is equal to 154\n",
      "number 22 multiplied by 8 is equal to 176\n",
      "number 22 multiplied by 9 is equal to 198\n"
     ]
    }
   ],
   "source": [
    "user_input = input('Enter a number:')\n",
    "user_number = int(user_input)\n",
    "for i in range(1,10):\n",
    "    print(f'number {user_number} multiplied by {i} is equal to {user_number * i}')\n",
    "    #need to enter number"
   ]
  },
  {
   "cell_type": "markdown",
   "metadata": {},
   "source": [
    "## If statement"
   ]
  },
  {
   "cell_type": "code",
   "execution_count": 15,
   "metadata": {},
   "outputs": [
    {
     "name": "stdout",
     "output_type": "stream",
     "text": [
      "That is true\n",
      "end of script\n"
     ]
    }
   ],
   "source": [
    "if 5 > 1:\n",
    "    print ('That is true')\n",
    "print ('end of script')"
   ]
  },
  {
   "cell_type": "code",
   "execution_count": 20,
   "metadata": {},
   "outputs": [
    {
     "name": "stdout",
     "output_type": "stream",
     "text": [
      "number is less than ten\n",
      "end of script\n"
     ]
    }
   ],
   "source": [
    "number = 9\n",
    "if number > 10:\n",
    "    print (f'number is more than ten')\n",
    "if number <10:\n",
    "    print (f'number is less than ten')\n",
    "else:\n",
    "    print (f'number is ten')\n",
    "print ('end of script')"
   ]
  },
  {
   "cell_type": "code",
   "execution_count": 21,
   "metadata": {},
   "outputs": [
    {
     "name": "stdout",
     "output_type": "stream",
     "text": [
      "Hi Darius\n",
      "end of script\n"
     ]
    }
   ],
   "source": [
    "name = 'Darius'\n",
    "year = 2005\n",
    "\n",
    "if name == 'Linas':\n",
    "    print ('Hi Linas')\n",
    "elif name == 'Darius' and year > 2000: \n",
    "    print ('Hi Darius')\n",
    "else:\n",
    "    print('Hi unknown person')\n",
    "print ('end of script')"
   ]
  },
  {
   "cell_type": "code",
   "execution_count": 29,
   "metadata": {},
   "outputs": [
    {
     "name": "stdout",
     "output_type": "stream",
     "text": [
      "Hi unknown person\n",
      "end of script\n"
     ]
    }
   ],
   "source": [
    "name = 'Tomas'\n",
    "year = 200\n",
    "\n",
    "if name == 'Linas':\n",
    "    print ('Hi Linas')\n",
    "elif year > 2000:\n",
    "    print ('Year is greater than 2000')\n",
    "elif name == 'Darius' and year > 2000: \n",
    "    print ('Hi Darius') #this will never be excecuted if first elif is correct. important elif statemnets order\n",
    "else:\n",
    "    print('Hi unknown person')\n",
    "print ('end of script')\n",
    "#only single statement will be excecuted"
   ]
  },
  {
   "cell_type": "code",
   "execution_count": 25,
   "metadata": {},
   "outputs": [
    {
     "name": "stdout",
     "output_type": "stream",
     "text": [
      "Year is greater than 2000\n",
      "Hi Darius\n",
      "Hi unknown person\n",
      "end of script\n"
     ]
    }
   ],
   "source": [
    "name = 'Darius'\n",
    "year = 2005\n",
    "\n",
    "if name == 'Darius':\n",
    "    print ('Hi Linas')\n",
    "elif year > 2000:\n",
    "    print ('Year is greater than 2000')\n",
    "    if name == 'Darius' and year > 2000: \n",
    "        print ('Hi Darius') #this will  be excecuted if name is Darius\n",
    "    print('Hi unknown person')\n",
    "print ('end of script')"
   ]
  },
  {
   "cell_type": "code",
   "execution_count": 26,
   "metadata": {},
   "outputs": [
    {
     "name": "stdout",
     "output_type": "stream",
     "text": [
      "Year is greater than 2000\n",
      "Hi Darius\n",
      "end of script\n"
     ]
    }
   ],
   "source": [
    "name = 'Darius'\n",
    "year = 2005\n",
    "\n",
    "if name == 'Linas':\n",
    "    print ('Hi Linas')\n",
    "if year > 2000:\n",
    "    print ('Year is greater than 2000')\n",
    "if name == 'Darius' and year > 2000: \n",
    "    print ('Hi Darius') #this will never be excecuted if first elif is correct. important elif statemnets order\n",
    "# else:\n",
    "    # print('Hi unknown person')\n",
    "print ('end of script')"
   ]
  },
  {
   "cell_type": "code",
   "execution_count": 32,
   "metadata": {},
   "outputs": [
    {
     "name": "stdout",
     "output_type": "stream",
     "text": [
      "0\n",
      "7\n",
      "14\n",
      "21\n",
      "28\n"
     ]
    }
   ],
   "source": [
    "# real life example\n",
    "\n",
    "for number in range(0,31):\n",
    "    if number % 7 == 0: #% divided by 3 with any left values\n",
    "        print (number)"
   ]
  },
  {
   "cell_type": "code",
   "execution_count": 35,
   "metadata": {},
   "outputs": [
    {
     "name": "stdout",
     "output_type": "stream",
     "text": [
      "[110, 114, 118, 122, 126, 130, 134, 138, 142, 146, 150, 154, 158, 162, 166, 170, 174, 178, 182, 186, 190, 194, 198, 202, 206, 210]\n",
      "110\n",
      "138\n",
      "166\n",
      "194\n"
     ]
    }
   ],
   "source": [
    "my_list = list(range(110, 213, 4))\n",
    "print (my_list)\n",
    "\n",
    "for idx in range(0,len(my_list)):\n",
    "    if idx % 7 == 0:\n",
    "        print (my_list[idx])"
   ]
  },
  {
   "cell_type": "code",
   "execution_count": 36,
   "metadata": {},
   "outputs": [
    {
     "name": "stdout",
     "output_type": "stream",
     "text": [
      "2\n",
      "6\n",
      "12\n",
      "20\n",
      "30\n",
      "42\n",
      "56\n",
      "72\n",
      "90\n",
      "110\n",
      "132\n",
      "156\n",
      "182\n",
      "210\n",
      "240\n",
      "272\n",
      "306\n",
      "342\n",
      "380\n",
      "420\n",
      "462\n",
      "506\n",
      "552\n",
      "600\n",
      "650\n"
     ]
    }
   ],
   "source": [
    "# if tasks\n",
    "my_sum = 0\n",
    "\n",
    "for number in range(1,51):\n",
    "    if (my_sum + number) % 2 == 0:\n",
    "        my_sum += number\n",
    "        print (my_sum)"
   ]
  },
  {
   "cell_type": "code",
   "execution_count": 43,
   "metadata": {},
   "outputs": [
    {
     "name": "stdout",
     "output_type": "stream",
     "text": [
      "Monday\n",
      "12\n",
      "13\n",
      "14\n",
      "15\n",
      "16\n",
      "17\n",
      "Checking next day\n",
      "Wednesday\n",
      "12\n",
      "13\n",
      "14\n",
      "15\n",
      "16\n",
      "17\n",
      "Checking next day\n",
      "[('Monday', 12), ('Monday', 13), ('Monday', 14), ('Monday', 15), ('Monday', 16), ('Monday', 17), ('Wednesday', 12), ('Wednesday', 13), ('Wednesday', 14), ('Wednesday', 15), ('Wednesday', 16), ('Wednesday', 17)]\n"
     ]
    }
   ],
   "source": [
    "days = ('Monday', 'Tuesday', 'Wednesday', 'Thursday', 'Friday', 'Saturday' , 'Sunday')\n",
    "hours = [10, 11, 12, 13, 14, 15, 16, 17, 18, 19]\n",
    "available_days = ['Monday', 'Wednesday']\n",
    "available_hours = [12, 13, 14, 15, 16, 17]\n",
    "\n",
    "\n",
    "combinations = []\n",
    "for day in days:\n",
    "    if day in available_days:\n",
    "        print(day)\n",
    "        for hour in hours:\n",
    "            if hour in available_hours:\n",
    "                print (hour)\n",
    "                combination = (day, hour)\n",
    "                combinations.append( combination ) #adds 1 value to list\n",
    "        print ('Checking next day')\n",
    "print (combinations)"
   ]
  },
  {
   "cell_type": "code",
   "execution_count": 39,
   "metadata": {},
   "outputs": [
    {
     "name": "stdout",
     "output_type": "stream",
     "text": [
      "['some text']\n"
     ]
    }
   ],
   "source": [
    "my_list = []\n",
    "my_list.append('some text')\n",
    "print (my_list)"
   ]
  },
  {
   "cell_type": "markdown",
   "metadata": {},
   "source": [
    "## List comprehensions"
   ]
  },
  {
   "cell_type": "code",
   "execution_count": 44,
   "metadata": {},
   "outputs": [
    {
     "name": "stdout",
     "output_type": "stream",
     "text": [
      "[10, 8, 156, 16]\n"
     ]
    }
   ],
   "source": [
    "my_list = [5,4,78,8]\n",
    "\n",
    "mult_2= [number*2 for number in my_list]\n",
    "print(mult_2)"
   ]
  },
  {
   "cell_type": "code",
   "execution_count": 45,
   "metadata": {},
   "outputs": [
    {
     "name": "stdout",
     "output_type": "stream",
     "text": [
      "[8, 156]\n"
     ]
    }
   ],
   "source": [
    "my_list = [5,4,78,7]\n",
    "# [RESULT for STH in ITERABLE ]\n",
    "mult_2= [number*2 for number in my_list if number % 2 == 0 ]\n",
    "print(mult_2)"
   ]
  },
  {
   "cell_type": "code",
   "execution_count": 47,
   "metadata": {},
   "outputs": [
    {
     "name": "stdout",
     "output_type": "stream",
     "text": [
      "[('Monday', 12), ('Monday', 13), ('Monday', 14), ('Monday', 15), ('Monday', 16), ('Monday', 17), ('Wednesday', 12), ('Wednesday', 13), ('Wednesday', 14), ('Wednesday', 15), ('Wednesday', 16), ('Wednesday', 17)]\n"
     ]
    }
   ],
   "source": [
    "days = ('Monday', 'Tuesday', 'Wednesday', 'Thursday', 'Friday', 'Saturday' , 'Sunday')\n",
    "hours = [10, 11, 12, 13, 14, 15, 16, 17, 18, 19]\n",
    "\n",
    "available_days = ['Monday', 'Wednesday']\n",
    "available_hours = [12, 13, 14, 15, 16, 17]\n",
    "\n",
    "combinations = [ (day, hour) for day in days for hour in hours if day in available_days and hour in available_hours]\n",
    "print(combinations)"
   ]
  },
  {
   "cell_type": "code",
   "execution_count": 48,
   "metadata": {},
   "outputs": [
    {
     "name": "stdout",
     "output_type": "stream",
     "text": [
      "[15, 8, 148, 21]\n"
     ]
    }
   ],
   "source": [
    "my_list = [5,4,74,7]\n",
    "mult= [number*2 if number % 2 == 0 else number*3 for number in my_list ]\n",
    "print(mult)"
   ]
  },
  {
   "cell_type": "code",
   "execution_count": 49,
   "metadata": {},
   "outputs": [
    {
     "name": "stdout",
     "output_type": "stream",
     "text": [
      "[1, 1, 1, 1, 1]\n",
      "5\n"
     ]
    }
   ],
   "source": [
    "my_list = [5, 4, 74, 7, 4598, 4163, 4984, 784, 345, 46987]\n",
    "even = [1 for number in my_list if number % 2 == 0 ]\n",
    "print(even)\n",
    "count_even = sum(even)\n",
    "print(count_even)"
   ]
  },
  {
   "cell_type": "markdown",
   "metadata": {},
   "source": [
    "## Dictionary"
   ]
  },
  {
   "cell_type": "code",
   "execution_count": 50,
   "metadata": {},
   "outputs": [],
   "source": [
    "my_dictionary = {\n",
    "    'name': 'Ruta',\n",
    "    'year': 2008,\n",
    "    False: 'false',\n",
    "    5: 'five',\n",
    "    'hobbies': ['tennis', 'football', 'cooking']\n",
    "}"
   ]
  },
  {
   "cell_type": "code",
   "execution_count": 57,
   "metadata": {},
   "outputs": [
    {
     "name": "stdout",
     "output_type": "stream",
     "text": [
      "['tennis', 'football', 'cooking']\n",
      "five\n",
      "{'name': 'Ruta', 'year': 2008, False: 'false', 5: 'five', 'hobbies': ['tennis', 'football', 'cooking'], 'city': 'Vilnius'}\n",
      "{'name': 'Ruta', 'year': 2008, False: 'false', 5: 'five', 'hobbies': ['tennis', 'football', 'cooking'], 'city': 'Kaunas'}\n",
      "6\n"
     ]
    }
   ],
   "source": [
    "print(my_dictionary['hobbies'])\n",
    "print (my_dictionary[5])\n",
    "my_dictionary['city'] = 'Vilnius'\n",
    "print (my_dictionary)\n",
    "my_dictionary['city'] = 'Kaunas'\n",
    "print (my_dictionary)\n",
    "print(len(my_dictionary)) #how many pairs"
   ]
  },
  {
   "cell_type": "code",
   "execution_count": 65,
   "metadata": {},
   "outputs": [
    {
     "name": "stdout",
     "output_type": "stream",
     "text": [
      "{'name': 'Ruta', 'year': 2008, False: 'false', 5: 'five', 'hobbies': ['tennis', 'football', 'cooking'], 'city': 'Kaunas'}\n",
      "<class 'dict'>\n",
      "{'sum': 0, 'mult_sum': 0, 'div_sum': 0}\n"
     ]
    }
   ],
   "source": [
    "#my_dictionary.clear() deletes everything\n",
    "print (my_dictionary)\n",
    "print (type(my_dictionary))\n",
    "my_dictionary.copy() #mutable\n",
    "#my_dictionary.fromkeys #used to create new dict\n",
    "tmp_dict = dict.fromkeys(['sum', 'mult_sum', 'div_sum'], 0)\n",
    "print (tmp_dict)\n"
   ]
  },
  {
   "cell_type": "code",
   "execution_count": 66,
   "metadata": {},
   "outputs": [
    {
     "data": {
      "text/plain": [
       "'Kaunas'"
      ]
     },
     "execution_count": 66,
     "metadata": {},
     "output_type": "execute_result"
    }
   ],
   "source": [
    "my_dictionary.get('city') #returns a value which is in my dict"
   ]
  },
  {
   "cell_type": "code",
   "execution_count": 67,
   "metadata": {},
   "outputs": [
    {
     "data": {
      "text/plain": [
       "'Kaunas'"
      ]
     },
     "execution_count": 67,
     "metadata": {},
     "output_type": "execute_result"
    }
   ],
   "source": [
    "#same as before. not same but similar\n",
    "my_dictionary['city'] #will give an error if i dont have this value in dictionary\n",
    "#my_dictionary['address'] gives error"
   ]
  },
  {
   "cell_type": "code",
   "execution_count": 68,
   "metadata": {},
   "outputs": [
    {
     "name": "stdout",
     "output_type": "stream",
     "text": [
      "False\n",
      "Dictionary does not contain 'address' info\n"
     ]
    }
   ],
   "source": [
    "print (my_dictionary.get('address', False) )\n",
    "if my_dictionary.get('address', False) == False:\n",
    "    print (\"Dictionary does not contain 'address' info\")"
   ]
  },
  {
   "cell_type": "code",
   "execution_count": 70,
   "metadata": {},
   "outputs": [
    {
     "ename": "KeyError",
     "evalue": "False",
     "output_type": "error",
     "traceback": [
      "\u001b[0;31m---------------------------------------------------------------------------\u001b[0m",
      "\u001b[0;31mKeyError\u001b[0m                                  Traceback (most recent call last)",
      "\u001b[0;32m/var/folders/dl/4w6c195d6pq63chtkgldxpl00000gn/T/ipykernel_8981/103781894.py\u001b[0m in \u001b[0;36m<module>\u001b[0;34m\u001b[0m\n\u001b[0;32m----> 1\u001b[0;31m \u001b[0mprint\u001b[0m \u001b[0;34m(\u001b[0m\u001b[0mmy_dictionary\u001b[0m\u001b[0;34m.\u001b[0m\u001b[0mpop\u001b[0m\u001b[0;34m(\u001b[0m\u001b[0;32mFalse\u001b[0m\u001b[0;34m)\u001b[0m \u001b[0;34m)\u001b[0m\u001b[0;34m\u001b[0m\u001b[0;34m\u001b[0m\u001b[0m\n\u001b[0m",
      "\u001b[0;31mKeyError\u001b[0m: False"
     ]
    }
   ],
   "source": [
    "print (my_dictionary.pop(False) ) #gives error on second run"
   ]
  },
  {
   "cell_type": "code",
   "execution_count": 71,
   "metadata": {},
   "outputs": [
    {
     "data": {
      "text/plain": [
       "('city', 'Kaunas')"
      ]
     },
     "execution_count": 71,
     "metadata": {},
     "output_type": "execute_result"
    }
   ],
   "source": [
    "my_dictionary.popitem() #gives back pair tuple"
   ]
  },
  {
   "cell_type": "code",
   "execution_count": 74,
   "metadata": {},
   "outputs": [
    {
     "name": "stdout",
     "output_type": "stream",
     "text": [
      "Palanga\n",
      "Palanga\n",
      "{'name': 'Ruta', 'year': 2008, 5: 'five', 'hobbies': ['tennis', 'football', 'cooking'], 'city': 'Palanga', 'City': 'Palanga'}\n"
     ]
    }
   ],
   "source": [
    "print (my_dictionary.setdefault('city', 'Palanga') ) #creates new key\n",
    "print (my_dictionary.setdefault('City', 'Palanga') ) #capital letter\n",
    "print (my_dictionary)"
   ]
  },
  {
   "cell_type": "code",
   "execution_count": 75,
   "metadata": {},
   "outputs": [
    {
     "name": "stdout",
     "output_type": "stream",
     "text": [
      "{'name': 'Ruta', 'year': 2008, 5: 'five', 'hobbies': ['tennis', 'football', 'cooking'], 'city': 'Vilnius', 'City': 'Palanga', 'key': 'value of key', 'sum': 10}\n"
     ]
    }
   ],
   "source": [
    "new_dict = {\n",
    "    'key': 'value of key',\n",
    "    'sum': 10,\n",
    "    'city': 'Vilnius'\n",
    "}\n",
    "\n",
    "my_dictionary.update(new_dict) #allows to update with new disctionary\n",
    "print (my_dictionary)"
   ]
  },
  {
   "cell_type": "code",
   "execution_count": 76,
   "metadata": {},
   "outputs": [
    {
     "name": "stdout",
     "output_type": "stream",
     "text": [
      "key name has a value of Ruta\n",
      "key year has a value of 2008\n",
      "key 5 has a value of five\n",
      "key hobbies has a value of ['tennis', 'football', 'cooking']\n",
      "key city has a value of Vilnius\n",
      "key City has a value of Palanga\n",
      "key key has a value of value of key\n",
      "key sum has a value of 10\n"
     ]
    }
   ],
   "source": [
    "for key, value in my_dictionary.items(): #k , v. iterate- kartoti\n",
    "    print (f'key {key} has a value of {value}')"
   ]
  },
  {
   "cell_type": "markdown",
   "metadata": {},
   "source": [
    "## lesson 6. 2021-11-25"
   ]
  },
  {
   "cell_type": "code",
   "execution_count": 19,
   "metadata": {},
   "outputs": [
    {
     "name": "stdout",
     "output_type": "stream",
     "text": [
      "user_input has no value, enter it.\n",
      "User name is : None\n",
      "User name is : None\n",
      "User name is : None\n",
      "User name is : None\n"
     ]
    }
   ],
   "source": [
    "user_input = None\n",
    "\n",
    "for i in range(5):\n",
    "    if user_input is None:\n",
    "        print ('user_input has no value, enter it.')\n",
    "        user_input = input(\"Enter your name\")\n",
    "        if not user_input:\n",
    "            print (\"You haven't enterned anything\")\n",
    "            user_input = None\n",
    "    else:\n",
    "        print (f'User name is : {user_input}')"
   ]
  },
  {
   "cell_type": "markdown",
   "metadata": {},
   "source": [
    "## Dictionary"
   ]
  },
  {
   "cell_type": "code",
   "execution_count": 2,
   "metadata": {},
   "outputs": [],
   "source": [
    "my_dictionary = {\n",
    "    'name': 'Ruta',\n",
    "    'year': 2008,\n",
    "    False: 'false',\n",
    "    5: 'five',\n",
    "    'hobbies': ['tennis', 'football', 'cooking']\n",
    "}"
   ]
  },
  {
   "cell_type": "code",
   "execution_count": 4,
   "metadata": {},
   "outputs": [
    {
     "data": {
      "text/plain": [
       "'football'"
      ]
     },
     "execution_count": 4,
     "metadata": {},
     "output_type": "execute_result"
    }
   ],
   "source": [
    "my_dictionary['hobbies'][1] # can use index as it is a list now"
   ]
  },
  {
   "cell_type": "code",
   "execution_count": 5,
   "metadata": {},
   "outputs": [
    {
     "name": "stdout",
     "output_type": "stream",
     "text": [
      "Ruta hobby is tennis \n",
      "Ruta hobby is football \n",
      "Ruta hobby is cooking \n"
     ]
    }
   ],
   "source": [
    "for hobby in my_dictionary['hobbies']:\n",
    "    print (f'Ruta hobby is {hobby} ')"
   ]
  },
  {
   "cell_type": "code",
   "execution_count": 6,
   "metadata": {},
   "outputs": [],
   "source": [
    "car = {\n",
    "\"brand\": \"Ford\",\n",
    "\"model\": \"Mustang\",\n",
    "\"year\": 1964\n",
    "}"
   ]
  },
  {
   "cell_type": "markdown",
   "metadata": {},
   "source": [
    "get value ‘Ford’, get the\n",
    "length of the dictionary\n",
    "car, change the year to\n",
    "2020"
   ]
  },
  {
   "cell_type": "code",
   "execution_count": 13,
   "metadata": {},
   "outputs": [
    {
     "name": "stdout",
     "output_type": "stream",
     "text": [
      "Ford\n",
      "3\n",
      "2020\n",
      "{'brand': 'Ford', 'model': 'Mustang', 'year': 2020}\n"
     ]
    }
   ],
   "source": [
    "print(car['brand'])\n",
    "print(len(car))\n",
    "car['year'] = 2020\n",
    "print(car['year'])\n",
    "print(car)"
   ]
  },
  {
   "cell_type": "markdown",
   "metadata": {},
   "source": [
    "Add new values to the\n",
    "existing dictionary"
   ]
  },
  {
   "cell_type": "code",
   "execution_count": 16,
   "metadata": {},
   "outputs": [
    {
     "name": "stdout",
     "output_type": "stream",
     "text": [
      "{'brand': 'Ford', 'model': 'Mustang', 'year': 2020, 'color': 'red', 'used': True}\n"
     ]
    }
   ],
   "source": [
    "car.update({'color' : 'red', 'used' : True})\n",
    "print(car)"
   ]
  },
  {
   "cell_type": "code",
   "execution_count": 20,
   "metadata": {},
   "outputs": [],
   "source": [
    "## skipped a bit\n",
    "\n",
    "\n",
    "\n",
    "# car = {\n",
    "# \"brand\": \"Ford\",\n",
    "# \"year\": 1992,\n",
    "# 'color' = 'red'\n",
    "# 'used' = True\n",
    "# }"
   ]
  },
  {
   "cell_type": "markdown",
   "metadata": {},
   "source": [
    "## Sets"
   ]
  },
  {
   "cell_type": "code",
   "execution_count": 23,
   "metadata": {},
   "outputs": [
    {
     "name": "stdout",
     "output_type": "stream",
     "text": [
      "{1, 2, 3, 'apple', 'banana'}\n"
     ]
    }
   ],
   "source": [
    "fruits = { 'apple', 'banana', 'apple', 1,2,3,3,3,3,3 }\n",
    "print(fruits)"
   ]
  },
  {
   "cell_type": "code",
   "execution_count": 25,
   "metadata": {},
   "outputs": [
    {
     "name": "stdout",
     "output_type": "stream",
     "text": [
      "{'darius', 'benas', 'jonas', 'simas'}\n",
      "4\n"
     ]
    }
   ],
   "source": [
    "names = ['darius', 'benas', 'jonas', 'jonas', 'simas']\n",
    "print(set(names))\n",
    "print(len(set(names)))"
   ]
  },
  {
   "cell_type": "code",
   "execution_count": 27,
   "metadata": {},
   "outputs": [
    {
     "name": "stdout",
     "output_type": "stream",
     "text": [
      "{'orange', 'pineapple', 'apple', 'banana'}\n"
     ]
    }
   ],
   "source": [
    "# add a single value\n",
    "fruits = { 'apple', 'banana', 'orange'}\n",
    "fruits.add('pineapple')\n",
    "print(fruits)"
   ]
  },
  {
   "cell_type": "code",
   "execution_count": 29,
   "metadata": {},
   "outputs": [
    {
     "name": "stdout",
     "output_type": "stream",
     "text": [
      "{'pineapple', 'apple', 'bananas', 'orange', 'mandarine', 'banana', 'pear'}\n"
     ]
    }
   ],
   "source": [
    "# add multiple values\n",
    "fruits.update( ['bananas', 'pear', 'mandarine'])\n",
    "print(fruits)"
   ]
  },
  {
   "cell_type": "code",
   "execution_count": 31,
   "metadata": {},
   "outputs": [],
   "source": [
    "# fruits[0] #error"
   ]
  },
  {
   "cell_type": "code",
   "execution_count": null,
   "metadata": {},
   "outputs": [],
   "source": [
    "# fruits.pop()\n",
    "# fruits.copy"
   ]
  },
  {
   "cell_type": "code",
   "execution_count": 32,
   "metadata": {},
   "outputs": [
    {
     "ename": "KeyError",
     "evalue": "'bananas'",
     "output_type": "error",
     "traceback": [
      "\u001b[0;31m---------------------------------------------------------------------------\u001b[0m",
      "\u001b[0;31mKeyError\u001b[0m                                  Traceback (most recent call last)",
      "\u001b[0;32m/var/folders/dl/4w6c195d6pq63chtkgldxpl00000gn/T/ipykernel_14938/3204864119.py\u001b[0m in \u001b[0;36m<module>\u001b[0;34m\u001b[0m\n\u001b[1;32m      1\u001b[0m \u001b[0mfruits\u001b[0m\u001b[0;34m.\u001b[0m\u001b[0mremove\u001b[0m\u001b[0;34m(\u001b[0m\u001b[0;34m'bananas'\u001b[0m\u001b[0;34m)\u001b[0m\u001b[0;34m\u001b[0m\u001b[0;34m\u001b[0m\u001b[0m\n\u001b[0;32m----> 2\u001b[0;31m \u001b[0mfruits\u001b[0m\u001b[0;34m.\u001b[0m\u001b[0mremove\u001b[0m\u001b[0;34m(\u001b[0m\u001b[0;34m'bananas'\u001b[0m\u001b[0;34m)\u001b[0m\u001b[0;34m\u001b[0m\u001b[0;34m\u001b[0m\u001b[0m\n\u001b[0m",
      "\u001b[0;31mKeyError\u001b[0m: 'bananas'"
     ]
    }
   ],
   "source": [
    "#you cate if value was here and you removed it\n",
    "fruits.remove('bananas')\n",
    "fruits.remove('bananas')"
   ]
  },
  {
   "cell_type": "code",
   "execution_count": 34,
   "metadata": {},
   "outputs": [
    {
     "name": "stdout",
     "output_type": "stream",
     "text": [
      "{'orange', 'apple'}\n"
     ]
    }
   ],
   "source": [
    "#if you dont care if value was here, but you want to make it sure it is not here and delete it\n",
    "fruits = {'apple', 'bananas', 'orange'}\n",
    "fruits.discard('bananas')\n",
    "fruits.discard('bananas')\n",
    "fruits.discard('bananas')\n",
    "print(fruits)"
   ]
  },
  {
   "cell_type": "code",
   "execution_count": 39,
   "metadata": {},
   "outputs": [
    {
     "name": "stdout",
     "output_type": "stream",
     "text": [
      "{1, 2, 5, 7}\n",
      "{9, 3}\n",
      "{1, 2, 3, 5, 7, 9, 10, 11, 15, 250}\n"
     ]
    }
   ],
   "source": [
    "#sets useful when you want to compare something. what is the difference\n",
    "set_1 = {1, 2, 5, 3, 7, 9}\n",
    "set_2 = {10, 11, 15, 3, 250, 9}\n",
    "print(set_1.difference(set_2))\n",
    "#inetresction what is common\n",
    "print(set_1.intersection(set_2))\n",
    "#combine 2 sets\n",
    "print (set_1.union(set_2))"
   ]
  },
  {
   "cell_type": "code",
   "execution_count": 43,
   "metadata": {},
   "outputs": [
    {
     "name": "stdout",
     "output_type": "stream",
     "text": [
      "True\n",
      "True\n"
     ]
    }
   ],
   "source": [
    "set_1 = {1, 2, 3, 4}\n",
    "set_2 = {1,2,3,4,5}\n",
    "print(set_1.issubset(set_2))\n",
    "print(set_2.issuperset(set_1))"
   ]
  },
  {
   "cell_type": "code",
   "execution_count": 45,
   "metadata": {},
   "outputs": [
    {
     "name": "stdout",
     "output_type": "stream",
     "text": [
      "{'orange', 'apple'}\n",
      "False\n",
      "True\n"
     ]
    }
   ],
   "source": [
    "print(fruits)\n",
    "print('bananas' in fruits)\n",
    "print('apple' in fruits)"
   ]
  },
  {
   "cell_type": "markdown",
   "metadata": {},
   "source": [
    "## Set tasks"
   ]
  },
  {
   "cell_type": "code",
   "execution_count": 50,
   "metadata": {},
   "outputs": [
    {
     "name": "stdout",
     "output_type": "stream",
     "text": [
      "{'cherry', 'apple', 'banana'}\n",
      "{('new value', 5), 'cherry', 'apple', 'banana'}\n"
     ]
    }
   ],
   "source": [
    "fruits = {'apple', 'banana', 'cherry'}\n",
    "print(fruits)\n",
    "fruits.add(('new value', 5))\n",
    "print(fruits)"
   ]
  },
  {
   "cell_type": "code",
   "execution_count": 53,
   "metadata": {},
   "outputs": [
    {
     "name": "stdout",
     "output_type": "stream",
     "text": [
      "{('new value', 5), 'cherry', 'apple', 'banana'}\n",
      "[('new value', 5), 'cherry', 'apple', 'banana']\n",
      "['watermelon', 'cherry', 'apple', 'banana']\n",
      "{'banana', 'cherry', 'watermelon', 'apple'}\n"
     ]
    }
   ],
   "source": [
    "#solution 1\n",
    "print(fruits)\n",
    "tmp_list = list(fruits)\n",
    "print(tmp_list)\n",
    "tmp_list[0] = 'watermelon'\n",
    "print(tmp_list)\n",
    "fruits = set(tmp_list)\n",
    "print(fruits)"
   ]
  },
  {
   "cell_type": "code",
   "execution_count": 55,
   "metadata": {},
   "outputs": [
    {
     "name": "stdout",
     "output_type": "stream",
     "text": [
      "{'cherry', 'apple', 'banana'}\n",
      "{'cherry', 'banana'}\n",
      "{'watermelon', 'cherry', 'banana'}\n"
     ]
    }
   ],
   "source": [
    "fruits = {'apple', 'banana', 'cherry'}\n",
    "print(fruits)\n",
    "# solution 2\n",
    "fruits.discard('apple')\n",
    "print(fruits)\n",
    "fruits.add('watermelon')\n",
    "print(fruits)"
   ]
  },
  {
   "cell_type": "code",
   "execution_count": 61,
   "metadata": {},
   "outputs": [
    {
     "name": "stdout",
     "output_type": "stream",
     "text": [
      "{'watermelon', 'cherry', 'apple', 'banana'}\n",
      "{'cherry', 'tomato', 'apple', 'orange', 'banana', 'pineaple', 'watermelon', 'pear'}\n",
      "{'cherry', 'tomato', 'orange', 'banana', 'pineaple', 'watermelon', 'pear'}\n",
      "7\n",
      "{'cherry', 'tomato', 'orange', 'banana', 'pineaple', 'watermelon', 'pear'}\n",
      "7\n"
     ]
    }
   ],
   "source": [
    "fruits = {'apple', 'banana', 'cherry'}\n",
    "fruits.add('watermelon')\n",
    "print(fruits)\n",
    "fruits.update( ['tomato', 'pineaple', 'pear', 'orange', 'apple'])\n",
    "print(fruits)\n",
    "fruits.remove('apple')\n",
    "fruits.discard('apple') #doesnt change anything\n",
    "print(fruits)\n",
    "print(len(fruits))\n",
    "fruits.add('cherry')\n",
    "print(fruits)\n",
    "print(len(fruits))\n"
   ]
  },
  {
   "cell_type": "markdown",
   "metadata": {},
   "source": [
    "## For loops tasks"
   ]
  },
  {
   "cell_type": "code",
   "execution_count": null,
   "metadata": {},
   "outputs": [],
   "source": [
    "# Lyrics analysis\n",
    "# 1. Declare 2 string-type variables whose values\n",
    "# would be the lyrics of any song\n",
    "# 2. Get the lyrics of a song\n",
    "# 3. If you selected an English song, remove the\n",
    "# ‘the’\n",
    "# 4. Convert all words to lowercase\n",
    "# 5. Delete ‘ or “\n",
    "# 6. Which song has more unique lyrics?\n",
    "# 7. How many times does each word repeat in the\n",
    "# songs?\n",
    "# 8. Write the words of the song and how many\n",
    "# times it repeats in the new dictionary, the\n",
    "# result should look like this:\n",
    "# result = {\n",
    "# ‘baby’ : 5,\n",
    "# ‘toxic’ : 1,\n",
    "# ‘you’ : 7\n",
    "# }"
   ]
  },
  {
   "cell_type": "code",
   "execution_count": 63,
   "metadata": {},
   "outputs": [],
   "source": [
    "song_1 = \"\"\"\n",
    "Is this the real life?\n",
    "Is this just fantasy?\n",
    "Caught in a landside,\n",
    "No escape from reality\n",
    "Open your eyes,\n",
    "Look up to the skies and see,\n",
    "I'm just a poor boy, I need no sympathy,\n",
    "Because I'm easy come, easy go,\n",
    "Little high, little low,\n",
    "Any way the wind blows doesn't really matter to\n",
    "Me, to me\n",
    "Mamaaa,\n",
    "Just killed a man,\n",
    "Put a gun against his head, pulled my trigger,\n",
    "Now he's dead\n",
    "Mamaaa, life had just begun,\n",
    "But now I've gone and thrown it all away\n",
    "Mama, oooh,\n",
    "Didn't mean to make you cry,\n",
    "If I'm not back again this time tomorrow,\n",
    "Carry on, carry on as if nothing really matters\n",
    "Too late, my time has come,\n",
    "Sends shivers down my spine, body's aching all\n",
    "The time\n",
    "Goodbye, everybody, I've got to go,\n",
    "Gotta leave you all behind and face the truth\n",
    "Mama, oooh\n",
    "I don't want to die,\n",
    "I sometimes wish I'd never been born at all.\n",
    "I see a little silhouetto of a man,\n",
    "Scaramouch, Scaramouch, will you do the Fandango!\n",
    "Thunderbolts and lightning, very, very frightening me\n",
    "Galileo, Galileo\n",
    "Galileo, Galileo\n",
    "Galileo, Figaro - magnificoo\n",
    "I'm just a poor boy nobody loves me\n",
    "He's just a poor boy from a poor family,\n",
    "Spare him his life from this monstrosity\n",
    "Easy come, easy go, will you let me go\n",
    "Bismillah! No, we will not let you go\n",
    "(Let him go!) Bismillah! We will not let you go\n",
    "(Let him go!) Bismillah! We will not let you go\n",
    "(Let me go) Will not let you go\n",
    "(Let me go)(Never) Never let you go\n",
    "(Let me go) (Never) let you go (Let me go) Ah\n",
    "No, no, no, no, no, no, no\n",
    "Oh mama mia, mama mia, mama mia, let me go\n",
    "Beelzebub has a devil put aside for me, for me,\n",
    "For meee\n",
    "So you think you can stop me and spit in my eye\n",
    "So you think you can love me and leave me to die\n",
    "Oh, baby, can't do this to me, baby,\n",
    "Just gotta get out, just gotta get right outta here\n",
    "Nothing really matters, Anyone can see,\n",
    "Nothing really matters,\n",
    "Nothing really matters to me\n",
    "Any way the wind blows...\n",
    "\"\"\" "
   ]
  },
  {
   "cell_type": "code",
   "execution_count": 64,
   "metadata": {},
   "outputs": [
    {
     "name": "stdout",
     "output_type": "stream",
     "text": [
      "\n",
      "Is this the real life?\n",
      "Is this just fantasy?\n",
      "Caught in a landside,\n",
      "No escape from reality\n",
      "Open your eyes,\n",
      "Look up to the skies and see,\n",
      "I'm just a poor boy, I need no sympathy,\n",
      "Because I'm easy come, easy go,\n",
      "Little high, little low,\n",
      "Any way the wind blows doesn't really matter to\n",
      "Me, to me\n",
      "Mamaaa,\n",
      "Just killed a man,\n",
      "Put a gun against his head, pulled my trigger,\n",
      "Now he's dead\n",
      "Mamaaa, life had just begun,\n",
      "But now I've gone and thrown it all away\n",
      "Mama, oooh,\n",
      "Didn't mean to make you cry,\n",
      "If I'm not back again this time tomorrow,\n",
      "Carry on, carry on as if nothing really matters\n",
      "Too late, my time has come,\n",
      "Sends shivers down my spine, body's aching all\n",
      "The time\n",
      "Goodbye, everybody, I've got to go,\n",
      "Gotta leave you all behind and face the truth\n",
      "Mama, oooh\n",
      "I don't want to die,\n",
      "I sometimes wish I'd never been born at all.\n",
      "I see a little silhouetto of a man,\n",
      "Scaramouch, Scaramouch, will you do the Fandango!\n",
      "Thunderbolts and lightning, very, very frightening me\n",
      "Galileo, Galileo\n",
      "Galileo, Galileo\n",
      "Galileo, Figaro - magnificoo\n",
      "I'm just a poor boy nobody loves me\n",
      "He's just a poor boy from a poor family,\n",
      "Spare him his life from this monstrosity\n",
      "Easy come, easy go, will you let me go\n",
      "Bismillah! No, we will not let you go\n",
      "(Let him go!) Bismillah! We will not let you go\n",
      "(Let him go!) Bismillah! We will not let you go\n",
      "(Let me go) Will not let you go\n",
      "(Let me go)(Never) Never let you go\n",
      "(Let me go) (Never) let you go (Let me go) Ah\n",
      "No, no, no, no, no, no, no\n",
      "Oh mama mia, mama mia, mama mia, let me go\n",
      "Beelzebub has a devil put aside for me, for me,\n",
      "For meee\n",
      "So you think you can stop me and spit in my eye\n",
      "So you think you can love me and leave me to die\n",
      "Oh, baby, can't do this to me, baby,\n",
      "Just gotta get out, just gotta get right outta here\n",
      "Nothing really matters, Anyone can see,\n",
      "Nothing really matters,\n",
      "Nothing really matters to me\n",
      "Any way the wind blows...\n",
      "\n"
     ]
    }
   ],
   "source": [
    "print(song_1)"
   ]
  },
  {
   "cell_type": "code",
   "execution_count": 70,
   "metadata": {},
   "outputs": [
    {
     "name": "stdout",
     "output_type": "stream",
     "text": [
      "\n",
      "is this  real life\n",
      "is this just fantasy\n",
      "caught in a landside\n",
      "no escape from reality\n",
      "open your eyes\n",
      "look up to  skies and see\n",
      "i'm just a poor boy i need no sympathy\n",
      "because i'm easy come easy go\n",
      "little high little low\n",
      "any way  wind blows doesn't really matter to\n",
      "me to me\n",
      "mamaaa\n",
      "just killed a man\n",
      "put a gun against his head pulled my trigger\n",
      "now he's dead\n",
      "mamaaa life had just begun\n",
      "but now i've gone and thrown it all away\n",
      "mama oooh\n",
      "didn't mean to make you cry\n",
      "if i'm not back again this time tomorrow\n",
      "carry on carry on as if nothing really matters\n",
      "too late my time has come\n",
      "sends shivers down my spine body's aching all\n",
      " time\n",
      "goodbye everybody i've got to go\n",
      "gotta leave you all behind and face  truth\n",
      "mama oooh\n",
      "i don't want to die\n",
      "i sometimes wish i'd never been born at all.\n",
      "i see a little silhouetto of a man\n",
      "scaramouch scaramouch will you do  fandango\n",
      "thunderbolts and lightning very very frightening me\n",
      "galileo galileo\n",
      "galileo galileo\n",
      "galileo figaro  magnificoo\n",
      "i'm just a poor boy nobody loves me\n",
      "he's just a poor boy from a poor family\n",
      "spare him his life from this monstrosity\n",
      "easy come easy go will you let me go\n",
      "bismillah no we will not let you go\n",
      "(let him go) bismillah we will not let you go\n",
      "(let him go) bismillah we will not let you go\n",
      "(let me go) will not let you go\n",
      "(let me go)(never) never let you go\n",
      "(let me go) (never) let you go (let me go) ah\n",
      "no no no no no no no\n",
      "oh mama mia mama mia mama mia let me go\n",
      "beelzebub has a devil put aside for me for me\n",
      "for meee\n",
      "so you think you can stop me and spit in my eye\n",
      "so you think you can love me and leave me to die\n",
      "oh baby can't do this to me baby\n",
      "just gotta get out just gotta get right outta here\n",
      "nothing really matters anyone can see\n",
      "nothing really matters\n",
      "nothing really matters to me\n",
      "any way  wind blows...\n",
      "\n"
     ]
    }
   ],
   "source": [
    "#print (song_1)\n",
    "# print(song_1.lower().replace('the', '').replace('?', '').replace(',', '').replace('-', '').replace('!', '')) \n",
    "filtered_song_1 = song_1.lower().replace('the', '').replace('?', '').replace(',', '').replace('-', '').replace('!', '')) \n"
   ]
  },
  {
   "cell_type": "code",
   "execution_count": null,
   "metadata": {},
   "outputs": [],
   "source": []
  },
  {
   "cell_type": "code",
   "execution_count": null,
   "metadata": {},
   "outputs": [],
   "source": []
  },
  {
   "cell_type": "code",
   "execution_count": null,
   "metadata": {},
   "outputs": [],
   "source": []
  }
 ],
 "metadata": {
  "interpreter": {
   "hash": "aee8b7b246df8f9039afb4144a1f6fd8d2ca17a180786b69acc140d282b71a49"
  },
  "kernelspec": {
   "display_name": "Python 3.9.7 64-bit",
   "language": "python",
   "name": "python3"
  },
  "language_info": {
   "codemirror_mode": {
    "name": "ipython",
    "version": 3
   },
   "file_extension": ".py",
   "mimetype": "text/x-python",
   "name": "python",
   "nbconvert_exporter": "python",
   "pygments_lexer": "ipython3",
   "version": "3.9.7"
  },
  "orig_nbformat": 4
 },
 "nbformat": 4,
 "nbformat_minor": 2
}
