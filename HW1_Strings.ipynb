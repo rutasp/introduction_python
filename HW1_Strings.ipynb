{
 "cells": [
  {
   "cell_type": "markdown",
   "metadata": {},
   "source": [
    "1. For a given string, change all occurrences of its first character to '&', except the first character itself. \n",
    "Example string: 'exercise'\n",
    "Expected output: 'ex&rcis&'"
   ]
  },
  {
   "cell_type": "code",
   "execution_count": 37,
   "metadata": {},
   "outputs": [
    {
     "name": "stdout",
     "output_type": "stream",
     "text": [
      "exercise\n",
      "ex&rcis&\n"
     ]
    }
   ],
   "source": [
    "#1.my way\n",
    "my_string='exercise'\n",
    "print(my_string)\n",
    "my_string.replace('exercise','ex&rcis&')\n",
    "my_string=my_string.replace('exercise','ex&rcis&')\n",
    "print(my_string) \n"
   ]
  },
  {
   "cell_type": "code",
   "execution_count": 38,
   "metadata": {},
   "outputs": [
    {
     "name": "stdout",
     "output_type": "stream",
     "text": [
      "ex&rcis&\n"
     ]
    }
   ],
   "source": [
    "#other way\n",
    "result = my_string[0] + my_string[1:].replace(my_string[0], \"&\")\n",
    "#print(my_string[0])\n",
    "#print(my_string[1:])\n",
    "print(result) "
   ]
  },
  {
   "cell_type": "markdown",
   "metadata": {},
   "source": [
    "2. Find all occurrences of a substring in a given text by ignoring the letter case.\n",
    "text = 'We few, we happy few, we band of brothers  '\n",
    "substring = 'We'\n",
    "Expected output: 3"
   ]
  },
  {
   "cell_type": "code",
   "execution_count": 39,
   "metadata": {},
   "outputs": [
    {
     "name": "stdout",
     "output_type": "stream",
     "text": [
      "We few, we happy few, we band of brothers  \n",
      "We\n",
      "we few, we happy few, we band of brothers  \n",
      "we\n"
     ]
    },
    {
     "data": {
      "text/plain": [
       "3"
      ]
     },
     "execution_count": 39,
     "metadata": {},
     "output_type": "execute_result"
    }
   ],
   "source": [
    "#other way\n",
    "my_text = 'We few, we happy few, we band of brothers  '\n",
    "print(my_text)\n",
    "my_substring = 'We'\n",
    "print(my_substring)\n",
    "my_text.lower()\n",
    "my_text = my_text.lower()\n",
    "print(my_text)\n",
    "my_substring = my_substring.lower()\n",
    "print(my_substring)\n",
    "my_text.count(my_substring)"
   ]
  },
  {
   "cell_type": "code",
   "execution_count": 40,
   "metadata": {},
   "outputs": [
    {
     "name": "stdout",
     "output_type": "stream",
     "text": [
      "we few, we happy few, we band of brothers  \n",
      "we\n"
     ]
    },
    {
     "data": {
      "text/plain": [
       "3"
      ]
     },
     "execution_count": 40,
     "metadata": {},
     "output_type": "execute_result"
    }
   ],
   "source": [
    "#Faster way. \n",
    "print(my_text.lower())\n",
    "print(my_substring.lower())\n",
    "my_text.lower().count(my_substring.lower())\n"
   ]
  },
  {
   "cell_type": "markdown",
   "metadata": {},
   "source": [
    "3. \n",
    "Find the last position (index) of a given substring.\n",
    "example text: 'I felt happy because I saw the others were happy and because I knew I should feel happy, but I wasn’t really happy.'\n",
    "example substring: 'happy'\n",
    "Expected output: 109"
   ]
  },
  {
   "cell_type": "code",
   "execution_count": 42,
   "metadata": {},
   "outputs": [
    {
     "data": {
      "text/plain": [
       "113"
      ]
     },
     "execution_count": 42,
     "metadata": {},
     "output_type": "execute_result"
    }
   ],
   "source": [
    "text = 'I felt happy because I saw the others were happy and because I knew I should feel happy, but I wasn’t really happy.'\n",
    "substring = 'happy'\n",
    "text.rfind(substring)"
   ]
  },
  {
   "cell_type": "code",
   "execution_count": null,
   "metadata": {},
   "outputs": [],
   "source": []
  },
  {
   "cell_type": "code",
   "execution_count": null,
   "metadata": {},
   "outputs": [],
   "source": []
  },
  {
   "cell_type": "code",
   "execution_count": null,
   "metadata": {},
   "outputs": [],
   "source": []
  },
  {
   "cell_type": "code",
   "execution_count": null,
   "metadata": {},
   "outputs": [],
   "source": []
  }
 ],
 "metadata": {
  "interpreter": {
   "hash": "aee8b7b246df8f9039afb4144a1f6fd8d2ca17a180786b69acc140d282b71a49"
  },
  "kernelspec": {
   "display_name": "Python 3.9.7 64-bit",
   "language": "python",
   "name": "python3"
  },
  "language_info": {
   "codemirror_mode": {
    "name": "ipython",
    "version": 3
   },
   "file_extension": ".py",
   "mimetype": "text/x-python",
   "name": "python",
   "nbconvert_exporter": "python",
   "pygments_lexer": "ipython3",
   "version": "3.9.7"
  },
  "orig_nbformat": 4
 },
 "nbformat": 4,
 "nbformat_minor": 2
}
