{
 "cells": [
  {
   "cell_type": "markdown",
   "metadata": {},
   "source": [
    "1. \n",
    "\n",
    "Write a function that accepts two variables of list type, removes all values greater than 10 from the first filter, leaves only values with at least two digits in the second, sum the values of the first list, sum the values of the second, return the product of the two modified lists.\n",
    "\n",
    "\n",
    "functionExercise([10,9,6,16,15,55,2,7],[20,642,33,76,9,7,2])\n",
    "\n",
    "result: 74016 (wrong answer)\n",
    "\n",
    "1) two variables that will be lists\n",
    "2) remove values >10 from the first list\n",
    "3)  only values of at least two digits will remain in the second list\n",
    "4)  sum the members of both lists -> two numbers\n",
    "5)  return the product of the sums (the sum of the first list, the sum of the second list)"
   ]
  },
  {
   "cell_type": "code",
   "execution_count": 9,
   "metadata": {},
   "outputs": [],
   "source": [
    "def functionExercise (list1,list2):\n",
    "    list1 = [number for number in list1 if number < 10]\n",
    "    print(list1)\n",
    "    sum1=sum(list1)\n",
    "\n",
    "    list2 = [number for number in list2 if abs(number) >= 10] #abs makes everything positive?\n",
    "    print(list2)\n",
    "    sum2=sum(list2)\n",
    "\n",
    "    print(sum1)\n",
    "    print(sum2)\n",
    "\n",
    "    result= sum1 * sum2\n",
    "    print(f'The product of this super weird function is: {result}')\n",
    "    return result"
   ]
  },
  {
   "cell_type": "code",
   "execution_count": 15,
   "metadata": {},
   "outputs": [],
   "source": [
    "def functionExercise (list1,list2):\n",
    "    list1_tmp = []\n",
    "    for number in list1:\n",
    "        if number < 10:\n",
    "            list1_tmp.append(number)\n",
    "    print(list1_tmp)\n",
    "    sum1 = sum(list1_tmp)\n",
    "\n",
    "    list2_tmp = []\n",
    "    for number in list2:\n",
    "        if number >= 10:\n",
    "            list2_tmp.append(number)\n",
    "    print(list2_tmp)\n",
    "    sum2 = sum(list2_tmp)\n",
    "\n",
    "    result= sum1 * sum2\n",
    "    print(f'The product of this super weird function is: {result}')\n",
    "    return result"
   ]
  },
  {
   "cell_type": "code",
   "execution_count": 19,
   "metadata": {},
   "outputs": [],
   "source": [
    "def functionExercise (list1,list2):\n",
    "    for idx, number in enumerate(list1): #you give a list to it, it gives back index and value?\n",
    "        print (f'index {idx}, number {number}')\n",
    "        if number > 10:\n",
    "            list1.pop(idx)\n",
    "    print(list1)\n"
   ]
  },
  {
   "cell_type": "code",
   "execution_count": null,
   "metadata": {},
   "outputs": [],
   "source": [
    "#Dont run it, error, will crash. infinite loop.\n",
    "# dont edit list you are looping\n",
    "#thats why we need empty lists \n",
    "\n",
    "# list_1 = [1,2,3]\n",
    "# for number in list_1:\n",
    "#     print (list_1)\n",
    "#     if number > 0:\n",
    "#         list_1.append(5)\n",
    "        # break"
   ]
  },
  {
   "cell_type": "code",
   "execution_count": 20,
   "metadata": {},
   "outputs": [
    {
     "name": "stdout",
     "output_type": "stream",
     "text": [
      "index 0, number 10\n",
      "index 1, number 9\n",
      "index 2, number 6\n",
      "index 3, number 16\n",
      "index 4, number 55\n",
      "index 5, number 7\n",
      "[10, 9, 6, 15, 2, 7]\n"
     ]
    }
   ],
   "source": [
    "functionExercise([10,9,6,16,15,55,2,7],[20,642,33,76,9,7,2])"
   ]
  },
  {
   "cell_type": "markdown",
   "metadata": {},
   "source": [
    "2. Write a function that will accept 4 arguments, three int type, the fourth string, for example (4, 4, 5, 'square') we will get the perimeter, area and volume of the square, come up with calculations for another figure, if the provided shape does not exist, return text that you don’t know this shape\n",
    "\n",
    "\n",
    "Calculator (length = 4, width = 3, height = 5, shape = ‘cuboid’)\n",
    "Should print:\n",
    "'Perimeter is 48, Area is 12, Volume is 60'\n",
    "\n",
    "Perimeter = 4 * (4 + 3 + 5)\n",
    "Area = 2 * ( 4*3 + 4*5 + 3*5 )\n",
    "Volume = 4 * 3 * 5\n",
    "\n",
    "Calculator (4,3,5, ‘cone’)\n",
    "‘I don’t know shape - cone. Aborting’\n",
    "\n",
    "Calculator (4,3,5, ‘sphere’)\n",
    "Perimeter = 2 * 3.14 * 4\n",
    "Area = 3 * 3.14 * 4^2\n",
    "Volume = 4/3 * 3.14 * 4^3"
   ]
  },
  {
   "cell_type": "code",
   "execution_count": 28,
   "metadata": {},
   "outputs": [],
   "source": [
    "def Calculator(length, width, height, shape):\n",
    "    print (isinstance (length, (int, float)))\n",
    "    #isinstance-function to check if variable is one or another type\n",
    "    if (type(length) == int) and (type(width) == int) and (type(height) == int):\n",
    "        #checks if variables are integers\n",
    "        if shape == 'cuboid':\n",
    "            perimeter = 4 * (length * width * height)\n",
    "            area = 2 * (length * width + length * height + width * height)\n",
    "            volume = length * width * height\n",
    "            print(f\"Perimeters is {perimeter}, areas is {area}, volume is  {volume}\")\n",
    "        elif shape == \"sphere\":\n",
    "            perimeter = 2 * 3.14 * length\n",
    "            area = width * 3.14 * length ** 2\n",
    "            volume = length / width * 3.14 * length ** width \n",
    "            print(f\"Perimeters is {perimeter}, areas is {area}, volume is  {volume}\")\n",
    "        \n",
    "        else:\n",
    "            print(f\"I don't know shape {shape}. Aborting\")\n",
    "    else:\n",
    "        print(f\"Some of first 3 arguments are not numeric. \")"
   ]
  },
  {
   "cell_type": "code",
   "execution_count": 29,
   "metadata": {},
   "outputs": [
    {
     "name": "stdout",
     "output_type": "stream",
     "text": [
      "True\n",
      "Perimeters is 24, areas is 22, volume is  6\n"
     ]
    }
   ],
   "source": [
    "Calculator(1,2,3,'cuboid')"
   ]
  },
  {
   "cell_type": "code",
   "execution_count": 30,
   "metadata": {},
   "outputs": [],
   "source": [
    "#There are tools to check if correct types were provided for function\n",
    "\n",
    "#if you want to restrict to have just numbers for e.g.\n",
    "# if not isinstance( length, (int,float) ):\n",
    "    #     raise ValueError('length is wrong type')"
   ]
  },
  {
   "cell_type": "code",
   "execution_count": null,
   "metadata": {},
   "outputs": [],
   "source": [
    "# def Calculator (length=int(),width=int(),height=int(),shape = str('')):\n",
    "    # integer default value is 0, for string - empty\n"
   ]
  }
 ],
 "metadata": {
  "interpreter": {
   "hash": "aee8b7b246df8f9039afb4144a1f6fd8d2ca17a180786b69acc140d282b71a49"
  },
  "kernelspec": {
   "display_name": "Python 3.9.7 64-bit",
   "language": "python",
   "name": "python3"
  },
  "language_info": {
   "codemirror_mode": {
    "name": "ipython",
    "version": 3
   },
   "file_extension": ".py",
   "mimetype": "text/x-python",
   "name": "python",
   "nbconvert_exporter": "python",
   "pygments_lexer": "ipython3",
   "version": "3.9.7"
  },
  "orig_nbformat": 4
 },
 "nbformat": 4,
 "nbformat_minor": 2
}
