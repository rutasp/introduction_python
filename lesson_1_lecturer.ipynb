{
 "cells": [
  {
   "cell_type": "code",
   "execution_count": null,
   "metadata": {},
   "outputs": [],
   "source": []
  },
  {
   "cell_type": "code",
   "execution_count": 26,
   "metadata": {},
   "outputs": [
    {
     "name": "stdout",
     "output_type": "stream",
     "text": [
      "Ruta\n"
     ]
    }
   ],
   "source": [
    "my_name = 'Ruta'\n",
    "print ( my_name )"
   ]
  },
  {
   "cell_type": "code",
   "execution_count": 27,
   "metadata": {},
   "outputs": [
    {
     "ename": "SyntaxError",
     "evalue": "invalid syntax (<ipython-input-27-20c8c9ef66d6>, line 2)",
     "output_type": "error",
     "traceback": [
      "\u001b[0;36m  File \u001b[0;32m\"<ipython-input-27-20c8c9ef66d6>\"\u001b[0;36m, line \u001b[0;32m2\u001b[0m\n\u001b[0;31m    1name = \"Tomas\"\u001b[0m\n\u001b[0m        ^\u001b[0m\n\u001b[0;31mSyntaxError\u001b[0m\u001b[0;31m:\u001b[0m invalid syntax\n"
     ]
    }
   ],
   "source": [
    "# Won't work\n",
    "1name = \"Tomas\""
   ]
  },
  {
   "cell_type": "code",
   "execution_count": null,
   "metadata": {},
   "outputs": [],
   "source": [
    "# DON\"T OVERWRITE \n",
    "# id(my_name) # comment shortcut: Ctrl + /\n",
    "# id  = 1\n",
    "# id(my_name)"
   ]
  },
  {
   "cell_type": "code",
   "execution_count": null,
   "metadata": {},
   "outputs": [
    {
     "name": "stdout",
     "output_type": "stream",
     "text": [
      "Ruta\n"
     ]
    }
   ],
   "source": [
    "myname = \"Ruta\"\n",
    "print (myname)"
   ]
  },
  {
   "cell_type": "code",
   "execution_count": null,
   "metadata": {},
   "outputs": [],
   "source": [
    "x = 5\n",
    "y = 13"
   ]
  },
  {
   "cell_type": "code",
   "execution_count": null,
   "metadata": {},
   "outputs": [
    {
     "name": "stdout",
     "output_type": "stream",
     "text": [
      "18\n"
     ]
    }
   ],
   "source": [
    "print (x + y)"
   ]
  },
  {
   "cell_type": "code",
   "execution_count": null,
   "metadata": {},
   "outputs": [],
   "source": [
    "x = 10"
   ]
  },
  {
   "cell_type": "code",
   "execution_count": null,
   "metadata": {},
   "outputs": [
    {
     "name": "stdout",
     "output_type": "stream",
     "text": [
      "23\n"
     ]
    }
   ],
   "source": [
    "print (x + y)"
   ]
  },
  {
   "cell_type": "code",
   "execution_count": null,
   "metadata": {},
   "outputs": [
    {
     "data": {
      "text/plain": [
       "int"
      ]
     },
     "execution_count": 12,
     "metadata": {},
     "output_type": "execute_result"
    }
   ],
   "source": [
    "type(x)"
   ]
  },
  {
   "cell_type": "code",
   "execution_count": null,
   "metadata": {},
   "outputs": [],
   "source": [
    "############# lesson 2"
   ]
  },
  {
   "cell_type": "code",
   "execution_count": null,
   "metadata": {},
   "outputs": [
    {
     "data": {
      "text/plain": [
       "'r'"
      ]
     },
     "execution_count": 3,
     "metadata": {},
     "output_type": "execute_result"
    }
   ],
   "source": [
    "my_name[2]"
   ]
  },
  {
   "cell_type": "code",
   "execution_count": null,
   "metadata": {},
   "outputs": [
    {
     "data": {
      "text/plain": [
       "'s'"
      ]
     },
     "execution_count": 4,
     "metadata": {},
     "output_type": "execute_result"
    }
   ],
   "source": [
    "my_name[-1]"
   ]
  },
  {
   "cell_type": "code",
   "execution_count": null,
   "metadata": {},
   "outputs": [
    {
     "name": "stdout",
     "output_type": "stream",
     "text": [
      "Darius and more' text more text\n",
      "Darius and more' text 'more\" text\n",
      "Darius and more text' more\"text\n"
     ]
    }
   ],
   "source": [
    "#my_text='Darius and more text'more text' #error\n",
    "my_text=\"Darius and more' text more text\"\n",
    "# my_text=\"Darius and more' text more text\" text\" error\n",
    "print(my_text)\n",
    "my_text=\"Darius and more' text \\'more\\\" text\" #option2\n",
    "print(my_text)\n",
    "my_text=\"\"\"Darius and more text' more\"text\"\"\" #option3\n",
    "print(my_text)"
   ]
  },
  {
   "cell_type": "code",
   "execution_count": null,
   "metadata": {},
   "outputs": [
    {
     "name": "stdout",
     "output_type": "stream",
     "text": [
      "sometext    new line Text\n",
      " \n",
      "some Text\n",
      "new line Text\n",
      "more Text\n",
      "hello\n",
      "\n"
     ]
    }
   ],
   "source": [
    "some_text='sometext\\' \n",
    "    new line Text'\n",
    "print(some_text)\n",
    "some_text=\"\"\" \n",
    "some Text\n",
    "new line Text\n",
    "more Text\n",
    "hello\n",
    "\"\"\"\n",
    "print(some_text)\n"
   ]
  },
  {
   "cell_type": "code",
   "execution_count": null,
   "metadata": {},
   "outputs": [
    {
     "name": "stdout",
     "output_type": "stream",
     "text": [
      "The Zen of Python, by Tim Peters\n",
      "\n",
      "Beautiful is better than ugly.\n",
      "Explicit is better than implicit.\n",
      "Simple is better than complex.\n",
      "Complex is better than complicated.\n",
      "Flat is better than nested.\n",
      "Sparse is better than dense.\n",
      "Readability counts.\n",
      "Special cases aren't special enough to break the rules.\n",
      "Although practicality beats purity.\n",
      "Errors should never pass silently.\n",
      "Unless explicitly silenced.\n",
      "In the face of ambiguity, refuse the temptation to guess.\n",
      "There should be one-- and preferably only one --obvious way to do it.\n",
      "Although that way may not be obvious at first unless you're Dutch.\n",
      "Now is better than never.\n",
      "Although never is often better than *right* now.\n",
      "If the implementation is hard to explain, it's a bad idea.\n",
      "If the implementation is easy to explain, it may be a good idea.\n",
      "Namespaces are one honking great idea -- let's do more of those!\n"
     ]
    }
   ],
   "source": [
    "import this"
   ]
  },
  {
   "cell_type": "code",
   "execution_count": null,
   "metadata": {},
   "outputs": [],
   "source": [
    "my_surname=\"Spaicyte\""
   ]
  },
  {
   "cell_type": "code",
   "execution_count": null,
   "metadata": {},
   "outputs": [
    {
     "name": "stdout",
     "output_type": "stream",
     "text": [
      "Darius\n",
      "Spaicyte\n",
      "Darius Spaicyte\n",
      "DariusDariusDariusDariusDariusDariusDariusDariusDariusDarius\n"
     ]
    }
   ],
   "source": [
    "print(my_name)\n",
    "print(my_surname)\n",
    "my_name+my_surname #need space\n",
    "print(my_name+ ' '+my_surname)\n",
    "print(my_name*10)\n",
    "my_name - 'ar' #error\n",
    "my_name / 'a' #error\n"
   ]
  },
  {
   "cell_type": "code",
   "execution_count": 29,
   "metadata": {},
   "outputs": [
    {
     "name": "stdout",
     "output_type": "stream",
     "text": [
      "My name is Ruta Spaicyte\n",
      "My name is  Ruta Spaicyte\n",
      "My name is Ruta Spaicyte\n",
      "My name is Ruta Spaicyte\n"
     ]
    }
   ],
   "source": [
    "print('My name is ' +my_name + ' ' + my_surname)\n",
    "print('My name is ', my_name , my_surname) #, works with print only\n",
    "# f-string\n",
    "print(f'My name is {my_name} {my_surname}') #preferred way of formatting\n",
    "print('My name is {} {}'. format(my_name, my_surname))"
   ]
  },
  {
   "cell_type": "code",
   "execution_count": 42,
   "metadata": {},
   "outputs": [
    {
     "name": "stdout",
     "output_type": "stream",
     "text": [
      "My name is Ruta Spaicyte and I am 25 years old\n",
      "My name is Ruta Spaicyte and I am 25 years old\n"
     ]
    }
   ],
   "source": [
    "my_age=25\n",
    "print(f'My name is {my_name} {my_surname} and I am {my_age} years old') #preferred way of formatting\n",
    "print('My name is {} {} and I am {} years old'.format(my_name, my_surname, my_age))"
   ]
  },
  {
   "cell_type": "code",
   "execution_count": 46,
   "metadata": {},
   "outputs": [
    {
     "name": "stdout",
     "output_type": "stream",
     "text": [
      "am very happy to learn Python\n",
      "am ver\n",
      "y\n",
      "d  \n",
      "Hello\n",
      "Hl\n",
      "Hello world, I am very happy to learn Python\n",
      "nohtyP nrael ot yppah yrev ma I ,dlrow olleH\n"
     ]
    }
   ],
   "source": [
    "#slicing\n",
    "sentence='Hello world, I am very happy to learn Python'\n",
    "sentence[0]\n",
    "print(sentence[15:])\n",
    "print(sentence[15:21])\n",
    "print(sentence[21])\n",
    "print(sentence[10:15:2]) #start:end:step\n",
    "print(sentence[0:5])\n",
    "print(sentence[0:5:3])\n",
    "print(sentence[::])\n",
    "print(sentence[::-1]) #reverse text"
   ]
  },
  {
   "cell_type": "code",
   "execution_count": 51,
   "metadata": {},
   "outputs": [
    {
     "name": "stdout",
     "output_type": "stream",
     "text": [
      "11\n",
      ",\n",
      "Hello world\n"
     ]
    }
   ],
   "source": [
    "print(sentence.find(',') )\n",
    "print(sentence[sentence.find(',')])\n",
    "print(sentence[:sentence.find(',')])"
   ]
  },
  {
   "cell_type": "code",
   "execution_count": 58,
   "metadata": {},
   "outputs": [
    {
     "name": "stdout",
     "output_type": "stream",
     "text": [
      "['1', '15', '35', '4158', '354']\n"
     ]
    },
    {
     "data": {
      "text/plain": [
       "4158"
      ]
     },
     "execution_count": 58,
     "metadata": {},
     "output_type": "execute_result"
    }
   ],
   "source": [
    "text_with_numbers='1,15,35,4158,354' #its a text because its btw quotes\n",
    "print (text_with_numbers.split(',')) #by default its space by which you are separating\n",
    "text_with_numbers.split(',')[3]\n",
    "int( text_with_numbers.split(',')[3])\n"
   ]
  },
  {
   "cell_type": "code",
   "execution_count": 59,
   "metadata": {},
   "outputs": [
    {
     "data": {
      "text/plain": [
       "'Ruta Spaicyte'"
      ]
     },
     "execution_count": 59,
     "metadata": {},
     "output_type": "execute_result"
    }
   ],
   "source": [
    "name='ruta spaicyte'\n",
    "#name capitalize\n",
    "name.title()"
   ]
  },
  {
   "cell_type": "code",
   "execution_count": 66,
   "metadata": {},
   "outputs": [
    {
     "name": "stdout",
     "output_type": "stream",
     "text": [
      "Hello world, I am very verry happy to to learn Python\n",
      "Hello world, I am very happywekjbdfnkwdenlw to learn Python\n",
      "Hello world, I am very verry happy to to learn Python\n"
     ]
    }
   ],
   "source": [
    "sentence='Hello world, I am very happywekjbdfnkwdenlw to learn Python'\n",
    "print (sentence.replace('happywekjbdfnkwdenlw', 'verry happy to') ) #does not rewrites variable\n",
    "print (sentence)\n",
    "sentence = sentence.replace('happywekjbdfnkwdenlw', 'verry happy to')\n",
    "print (sentence)\n"
   ]
  },
  {
   "cell_type": "code",
   "execution_count": 72,
   "metadata": {},
   "outputs": [
    {
     "name": "stdout",
     "output_type": "stream",
     "text": [
      "53\n",
      "53\n",
      " Python\n",
      " Python\n"
     ]
    }
   ],
   "source": [
    "print (len(sentence))#lenght of sentence\n",
    "print (len('Hello world, I am very verry happy to to learn Python'))\n",
    "# print (type(sentence))\n",
    "print (sentence[len(sentence)-7:]) \n",
    "print(sentence [-7:]) #same as ^"
   ]
  },
  {
   "cell_type": "code",
   "execution_count": null,
   "metadata": {},
   "outputs": [],
   "source": []
  },
  {
   "cell_type": "code",
   "execution_count": null,
   "metadata": {},
   "outputs": [],
   "source": []
  },
  {
   "cell_type": "code",
   "execution_count": null,
   "metadata": {},
   "outputs": [],
   "source": []
  }
 ],
 "metadata": {
  "interpreter": {
   "hash": "8c46c6c26e2733b62f4307cda0d230a15e363bc8de6d84ecceb81eda1bb129bc"
  },
  "kernelspec": {
   "display_name": "Python 3.7.9 64-bit",
   "language": "python",
   "name": "python3"
  },
  "language_info": {
   "codemirror_mode": {
    "name": "ipython",
    "version": 3
   },
   "file_extension": ".py",
   "mimetype": "text/x-python",
   "name": "python",
   "nbconvert_exporter": "python",
   "pygments_lexer": "ipython3",
   "version": "3.7.6"
  },
  "orig_nbformat": 4
 },
 "nbformat": 4,
 "nbformat_minor": 2
}
