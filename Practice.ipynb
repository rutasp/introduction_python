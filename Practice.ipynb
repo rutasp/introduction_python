{
 "cells": [
  {
   "cell_type": "markdown",
   "metadata": {},
   "source": [
    "## Lecture 1"
   ]
  },
  {
   "cell_type": "code",
   "execution_count": 9,
   "metadata": {},
   "outputs": [],
   "source": [
    "## Declaring string"
   ]
  },
  {
   "cell_type": "code",
   "execution_count": 10,
   "metadata": {},
   "outputs": [
    {
     "name": "stdout",
     "output_type": "stream",
     "text": [
      "Ruta\n",
      "Spaicyte\n",
      "29\n",
      "14\n"
     ]
    }
   ],
   "source": [
    "my_name = 'Ruta'\n",
    "my_surname = 'Spaicyte'\n",
    "print(my_name)\n",
    "print(my_surname)\n",
    "my_text = 'very long and pretty sentence'\n",
    "print(len(my_text))\n",
    "print(my_text.find('pretty'))"
   ]
  },
  {
   "cell_type": "markdown",
   "metadata": {},
   "source": [
    "### String functions"
   ]
  },
  {
   "cell_type": "code",
   "execution_count": 11,
   "metadata": {},
   "outputs": [
    {
     "name": "stdout",
     "output_type": "stream",
     "text": [
      "very long and pretty sentence\n",
      "Very long and pretty sentence\n"
     ]
    }
   ],
   "source": [
    "print(my_text)\n",
    "print(my_text.capitalize())\n",
    "\n",
    "                                                        ##  Why this doesn't work? \n",
    "                                                        # my_text.capitalize()\n",
    "                                                        # print(my_text)"
   ]
  },
  {
   "cell_type": "code",
   "execution_count": 12,
   "metadata": {},
   "outputs": [
    {
     "name": "stdout",
     "output_type": "stream",
     "text": [
      "upper case sentence\n"
     ]
    }
   ],
   "source": [
    "my_upper = 'UPPER CASE SENTENCE'\n",
    "print(my_upper.lower())"
   ]
  },
  {
   "cell_type": "code",
   "execution_count": 13,
   "metadata": {},
   "outputs": [
    {
     "name": "stdout",
     "output_type": "stream",
     "text": [
      "very long and pretty sentence\n",
      "VERY LONG AND PRETTY SENTENCE\n"
     ]
    }
   ],
   "source": [
    "my_text = 'very long and pretty sentence'\n",
    "print(my_text)\n",
    "print(my_text.upper())"
   ]
  },
  {
   "cell_type": "code",
   "execution_count": 14,
   "metadata": {},
   "outputs": [
    {
     "name": "stdout",
     "output_type": "stream",
     "text": [
      "Very:long, pretty, good - sentence      \n",
      "Very:long, pretty, good - sentence\n"
     ]
    }
   ],
   "source": [
    "# rstrip Remove any white spaces at the end of the string\n",
    "my_text1='Very:long, pretty, good - sentence      ' #pay attention to spaces in the end\n",
    "print(my_text1)\n",
    "print(my_text1.rstrip())"
   ]
  },
  {
   "cell_type": "code",
   "execution_count": 15,
   "metadata": {},
   "outputs": [
    {
     "name": "stdout",
     "output_type": "stream",
     "text": [
      "{'a': '123', 'b': '456', 'c': '789'}\n",
      "abc\n",
      "{97: '123', 98: '456', 99: '789'}\n"
     ]
    }
   ],
   "source": [
    "# example dictionary\n",
    "                                                        # using unicode a=97, b=98... https://www.learncpp.com/cpp-tutorial/chars/\n",
    "                                                        # https://www.programiz.com/python-programming/methods/string/maketrans\n",
    "dict = {\"a\": \"123\", \"b\": \"456\", \"c\": \"789\"}\n",
    "string2 = \"abc\"\n",
    "print(dict)\n",
    "print(string2)\n",
    "print(string2.maketrans(dict))"
   ]
  },
  {
   "cell_type": "code",
   "execution_count": 16,
   "metadata": {},
   "outputs": [
    {
     "name": "stdout",
     "output_type": "stream",
     "text": [
      "{'r': '1', 'o': '2', 'c': '3'}\n",
      "aoc\n",
      "{114: '1', 111: '2', 99: '3'}\n"
     ]
    }
   ],
   "source": [
    "dict1 = {'r':'1',\n",
    "        'o':'2',\n",
    "        'c':'3'}\n",
    "print(dict1)\n",
    "string1= 'aoc'\n",
    "print(string1)\n",
    "print(string1.maketrans(dict1))"
   ]
  },
  {
   "cell_type": "code",
   "execution_count": 17,
   "metadata": {},
   "outputs": [
    {
     "name": "stdout",
     "output_type": "stream",
     "text": [
      "Original string: abcdef\n",
      "{97: None, 98: None, 99: 105}\n",
      "Translated string: idef\n"
     ]
    }
   ],
   "source": [
    "# first string\n",
    "firstString = \"abc\"\n",
    "secondString = \"ghi\"\n",
    "thirdString = \"ab\"\n",
    "\n",
    "string = \"abcdef\"\n",
    "print(\"Original string:\", string)\n",
    "\n",
    "translation = string.maketrans(firstString, secondString, thirdString)\n",
    "print(translation)\n",
    "# translate string\n",
    "print(\"Translated string:\", string.translate(translation))"
   ]
  },
  {
   "cell_type": "code",
   "execution_count": 18,
   "metadata": {},
   "outputs": [
    {
     "name": "stdout",
     "output_type": "stream",
     "text": [
      "For only 49 dollars!\n"
     ]
    }
   ],
   "source": [
    "txt2 = \"For only {price} dollars!\" #{price:.2f} would return 49.00\n",
    "print(txt2.format(price = 49))"
   ]
  },
  {
   "cell_type": "code",
   "execution_count": 19,
   "metadata": {},
   "outputs": [
    {
     "name": "stdout",
     "output_type": "stream",
     "text": [
      "My name is Ruta\n"
     ]
    }
   ],
   "source": [
    "txt3='My name is {name}'\n",
    "print(txt3.format(name = 'Ruta'))"
   ]
  },
  {
   "cell_type": "code",
   "execution_count": 20,
   "metadata": {},
   "outputs": [
    {
     "name": "stdout",
     "output_type": "stream",
     "text": [
      "True\n"
     ]
    }
   ],
   "source": [
    "txt4 = \"  \"\n",
    "x = txt4.isspace()\n",
    "print(x)"
   ]
  },
  {
   "cell_type": "code",
   "execution_count": 21,
   "metadata": {},
   "outputs": [
    {
     "name": "stdout",
     "output_type": "stream",
     "text": [
      "False\n"
     ]
    }
   ],
   "source": [
    "txt5 = \"Hello, welcome to my world\"\n",
    "x = txt5.endswith(\".\")\n",
    "print(x)"
   ]
  },
  {
   "cell_type": "code",
   "execution_count": 27,
   "metadata": {},
   "outputs": [
    {
     "name": "stdout",
     "output_type": "stream",
     "text": [
      "I like apples\n"
     ]
    }
   ],
   "source": [
    "txt6 = \"I like bananas\"\n",
    "x6 = txt6.replace(\"bananas\", \"apples\")\n",
    "print(x6)"
   ]
  },
  {
   "cell_type": "markdown",
   "metadata": {},
   "source": [
    "#### Need to come back"
   ]
  },
  {
   "cell_type": "code",
   "execution_count": 33,
   "metadata": {},
   "outputs": [
    {
     "name": "stdout",
     "output_type": "stream",
     "text": [
      "('a', 'b')\n"
     ]
    }
   ],
   "source": [
    "a = (\"a\", \"b\", \"c\", \"d\", \"e\", \"f\", \"g\", \"h\")\n",
    "x = slice(2)\n",
    "print(a[x])"
   ]
  },
  {
   "cell_type": "code",
   "execution_count": 70,
   "metadata": {},
   "outputs": [
    {
     "name": "stdout",
     "output_type": "stream",
     "text": [
      "R\n",
      "a\n"
     ]
    }
   ],
   "source": [
    "# indexing\n",
    "print(my_name[0])\n",
    "print(my_name[-1])"
   ]
  },
  {
   "cell_type": "code",
   "execution_count": 72,
   "metadata": {},
   "outputs": [
    {
     "name": "stdout",
     "output_type": "stream",
     "text": [
      " Darius and more text' more \" text \n",
      "Darius and more text' more \" text \n",
      "Darius and more text' more \" text \n"
     ]
    }
   ],
   "source": [
    "# my_text = 'Darius and more text' more text ' # Error\n",
    "my_text =  \"Darius and more text' more text \"\n",
    "# my_text =  \"\"Darius and more text' more \" text \"\" # Error\n",
    "print (my_text)\n",
    "my_text =  \"Darius and more text\\' more \\\" text \" # option 2\n",
    "print (my_text)\n",
    "my_text =  \"\"\"Darius and more text' more \" text \"\"\" # option 3\n",
    "print (my_text)"
   ]
  },
  {
   "cell_type": "code",
   "execution_count": 75,
   "metadata": {},
   "outputs": [
    {
     "name": "stdout",
     "output_type": "stream",
     "text": [
      "Some text \n",
      " new line Text\n",
      " \n",
      "Some text \n",
      "new line Text\n",
      "more text\n",
      "hello\n",
      "\n"
     ]
    }
   ],
   "source": [
    "some_text = 'Some text \\n new line Text' # \\n - new line\n",
    "print (some_text) # triple couotes preserves the structure\n",
    "some_text = \"\"\" \n",
    "Some text \n",
    "new line Text\n",
    "more text\n",
    "hello\n",
    "\"\"\" \n",
    "print (some_text)"
   ]
  },
  {
   "cell_type": "code",
   "execution_count": 41,
   "metadata": {},
   "outputs": [],
   "source": [
    "my_variable = \\\n",
    "    14"
   ]
  },
  {
   "cell_type": "code",
   "execution_count": 42,
   "metadata": {},
   "outputs": [
    {
     "name": "stdout",
     "output_type": "stream",
     "text": [
      "14\n"
     ]
    }
   ],
   "source": [
    "print(my_variable)"
   ]
  },
  {
   "cell_type": "code",
   "execution_count": 76,
   "metadata": {},
   "outputs": [
    {
     "name": "stdout",
     "output_type": "stream",
     "text": [
      "The Zen of Python, by Tim Peters\n",
      "\n",
      "Beautiful is better than ugly.\n",
      "Explicit is better than implicit.\n",
      "Simple is better than complex.\n",
      "Complex is better than complicated.\n",
      "Flat is better than nested.\n",
      "Sparse is better than dense.\n",
      "Readability counts.\n",
      "Special cases aren't special enough to break the rules.\n",
      "Although practicality beats purity.\n",
      "Errors should never pass silently.\n",
      "Unless explicitly silenced.\n",
      "In the face of ambiguity, refuse the temptation to guess.\n",
      "There should be one-- and preferably only one --obvious way to do it.\n",
      "Although that way may not be obvious at first unless you're Dutch.\n",
      "Now is better than never.\n",
      "Although never is often better than *right* now.\n",
      "If the implementation is hard to explain, it's a bad idea.\n",
      "If the implementation is easy to explain, it may be a good idea.\n",
      "Namespaces are one honking great idea -- let's do more of those!\n"
     ]
    }
   ],
   "source": [
    "import this"
   ]
  },
  {
   "cell_type": "code",
   "execution_count": 44,
   "metadata": {},
   "outputs": [
    {
     "name": "stdout",
     "output_type": "stream",
     "text": [
      "Ruta\n",
      "Spaicyte\n",
      "My name is Ruta Spaicyte\n",
      "RutaRutaRutaRutaRutaRutaRutaRutaRutaRuta\n"
     ]
    }
   ],
   "source": [
    "print (my_name)\n",
    "print (my_surname)\n",
    "print ( 'My name is ' + my_name + ' ' + my_surname )\n",
    "print (my_name * 10 )\n",
    "# my_name - 'ar' # error\n",
    "# my_name / 'a' # error"
   ]
  },
  {
   "cell_type": "code",
   "execution_count": 78,
   "metadata": {},
   "outputs": [
    {
     "name": "stdout",
     "output_type": "stream",
     "text": [
      "My name is Ruta Spaicyte\n",
      "My name is Ruta Spaicyte\n",
      "My name is Ruta Spaicyte\n",
      "My name is Ruta Spaicyte\n"
     ]
    }
   ],
   "source": [
    "print ( 'My name is ' + my_name + ' ' + my_surname )\n",
    "print ( 'My name is', my_name, my_surname )\n",
    "# f-string- formatted string\n",
    "print ( f'My name is {my_name} {my_surname}' ) # preferred way of formatting\n",
    "print ( 'My name is {} {}'.format(my_name, my_surname) ) #old way "
   ]
  },
  {
   "cell_type": "code",
   "execution_count": 47,
   "metadata": {},
   "outputs": [
    {
     "name": "stdout",
     "output_type": "stream",
     "text": [
      "My name is Ruta Spaicyte and I am 26 years old\n",
      "My name is Ruta Spaicyte and I am 26 years old\n"
     ]
    }
   ],
   "source": [
    "my_age = 26\n",
    "print ( f'My name is {my_name} {my_surname} and I am {my_age} years old' ) # preferred way of formatting\n",
    "print ( 'My name is {} {} and I am {} years old'.format(my_name, my_surname, my_age) )"
   ]
  },
  {
   "cell_type": "code",
   "execution_count": 83,
   "metadata": {},
   "outputs": [
    {
     "name": "stdout",
     "output_type": "stream",
     "text": [
      "Hello World I am ,veryaggryshghappydfharytto learn Python!\n",
      "H\n",
      "learn Python!\n",
      "learn \n",
      "P\n",
      "this\n",
      "dIa vragyhhpyfayt er \n",
      "here\n",
      "Hello\n",
      "Hlo\n",
      "Hello World I am ,veryaggryshghappydfharytto learn Python!\n",
      "!nohtyP nrael ottyrahfdyppahghsyrggayrev, ma I dlroW olleH\n"
     ]
    }
   ],
   "source": [
    "# slicing for cutting\n",
    "sentence = 'Hello World I am ,veryaggryshghappydfharytto learn Python!'\n",
    "print(sentence)\n",
    "print(sentence[0]) #index\n",
    "print (sentence[45:] ) #learn Python!  \n",
    "print (sentence[45:51] )\n",
    "print (sentence[51] )\n",
    "print (f\"this\")\n",
    "print (sentence[10:51:2]) #every 2nd letter\n",
    "# [start:end:step]  \n",
    "print (f\"here\")\n",
    "print (sentence[0:5])\n",
    "print (sentence[0:5:2])\n",
    "print (sentence[::])\n",
    "print (sentence[::-1]) #reverse text "
   ]
  },
  {
   "cell_type": "code",
   "execution_count": 66,
   "metadata": {},
   "outputs": [
    {
     "name": "stdout",
     "output_type": "stream",
     "text": [
      "Hello World I am ,veryaggryshghappydfharytto learn Python!\n",
      "17\n",
      ",\n",
      "Hello World I \n"
     ]
    }
   ],
   "source": [
    "print(sentence)\n",
    "print (sentence.find(',') )\n",
    "print (sentence[sentence.find(',') ] )\n",
    "print (sentence[:sentence.find('am') ] )"
   ]
  },
  {
   "cell_type": "code",
   "execution_count": 84,
   "metadata": {},
   "outputs": [
    {
     "name": "stdout",
     "output_type": "stream",
     "text": [
      "1,15,35,4158,354\n",
      "['1', '15', '35', '4158', '354']\n",
      "4158\n"
     ]
    },
    {
     "data": {
      "text/plain": [
       "4158"
      ]
     },
     "execution_count": 84,
     "metadata": {},
     "output_type": "execute_result"
    }
   ],
   "source": [
    "# you get numbers but its actually text\n",
    "text_with_numbers = '1,15,35,4158,354'\n",
    "print(text_with_numbers)\n",
    "print(text_with_numbers.split(','))\n",
    "print(text_with_numbers.split(',')[3]) #this is still a string, a text\n",
    "int( text_with_numbers.split(',')[3] ) #int -> changes to integer\n",
    "#int( text_with_numbers.split(',')) #error cause didnt specity which one to change"
   ]
  },
  {
   "cell_type": "code",
   "execution_count": 89,
   "metadata": {},
   "outputs": [
    {
     "name": "stdout",
     "output_type": "stream",
     "text": [
      "Hello World I am very happy to learn Python!\n",
      "Hello World I am ,veryaggryshghappydfharytto learn Python!\n",
      "Hello World I Am Very Happy To Learn Python!\n"
     ]
    }
   ],
   "source": [
    "sentence = 'Hello World I am ,veryaggryshghappydfharytto learn Python!'\n",
    "print (sentence.replace(',veryaggryshghappydfharytto', 'very happy to' ) ) # does not rewrites variable\n",
    "print (sentence)\n",
    "sentence = sentence.replace(',veryaggryshghappydfharytto', 'very happy to' )\n",
    "#need to reassign if i want to rewrite\n",
    "sentence = sentence.replace(',veryaggryshghappydfharytto', 'very happy to' ).title()\n",
    "print (sentence)"
   ]
  },
  {
   "cell_type": "code",
   "execution_count": 86,
   "metadata": {},
   "outputs": [
    {
     "name": "stdout",
     "output_type": "stream",
     "text": [
      "Hello World I Am Very Happy To Learn Python!\n",
      "44\n",
      "Python!\n",
      "Python!\n"
     ]
    }
   ],
   "source": [
    "print (sentence )\n",
    "print (len('Hello World I am very happy to learn Python!'))\n",
    "# print (type(sentence) )\n",
    "print (sentence[len(sentence) - 7: ])\n",
    "print (sentence[-7: ])"
   ]
  },
  {
   "cell_type": "markdown",
   "metadata": {},
   "source": [
    "## Integers"
   ]
  },
  {
   "cell_type": "code",
   "execution_count": 90,
   "metadata": {},
   "outputs": [],
   "source": [
    "my_int = 6\n",
    "my_float = 6."
   ]
  },
  {
   "cell_type": "code",
   "execution_count": 92,
   "metadata": {},
   "outputs": [
    {
     "name": "stdout",
     "output_type": "stream",
     "text": [
      "<class 'int'>\n",
      "<class 'float'>\n"
     ]
    }
   ],
   "source": [
    "print(type(my_int))\n",
    "print(type(my_float))"
   ]
  },
  {
   "cell_type": "markdown",
   "metadata": {},
   "source": [
    "### Operators"
   ]
  },
  {
   "cell_type": "code",
   "execution_count": 94,
   "metadata": {},
   "outputs": [
    {
     "name": "stdout",
     "output_type": "stream",
     "text": [
      "-6\n",
      "27\n",
      "0.3333333333333333\n",
      "1.0\n"
     ]
    }
   ],
   "source": [
    "print (3 - 9 )\n",
    "print (3 * 9 )\n",
    "print (3 / 9 )\n",
    "print (3 / 3 )"
   ]
  },
  {
   "cell_type": "code",
   "execution_count": 99,
   "metadata": {},
   "outputs": [
    {
     "name": "stdout",
     "output_type": "stream",
     "text": [
      "power of\n",
      "19683\n",
      "9\n"
     ]
    }
   ],
   "source": [
    "print ('power of')\n",
    "print (3 ** 9 ) #3^9 \n",
    "print (3 ** 2 )"
   ]
  },
  {
   "cell_type": "code",
   "execution_count": 112,
   "metadata": {},
   "outputs": [
    {
     "name": "stdout",
     "output_type": "stream",
     "text": [
      "division\n",
      "4.5\n",
      "4\n",
      "3.6666666666666665\n",
      "3\n"
     ]
    }
   ],
   "source": [
    "print ('division')\n",
    "print (9 / 2 )\n",
    "print (9 // 2 )  #how many full numbers can be. whole numnbers\n",
    "print (11 / 3 )\n",
    "print (11 // 3 )"
   ]
  },
  {
   "cell_type": "code",
   "execution_count": 114,
   "metadata": {},
   "outputs": [
    {
     "name": "stdout",
     "output_type": "stream",
     "text": [
      "Remainder\n",
      "2\n",
      "1\n",
      "4\n",
      "1\n"
     ]
    }
   ],
   "source": [
    "print( 'Remainder')\n",
    "print (11 % 3 ) #how many numbers are less which i can divide by 3\n",
    "print (6 % 5 ) #useful to check if number is even\n",
    "print (4 % 5) #gives back the same\n",
    "print (6 % 5) #i can divide once by 5 and the rest left is 1\n"
   ]
  },
  {
   "cell_type": "code",
   "execution_count": 122,
   "metadata": {},
   "outputs": [
    {
     "name": "stdout",
     "output_type": "stream",
     "text": [
      "even 0\n",
      "uneven 1\n"
     ]
    }
   ],
   "source": [
    "## Even and uneven\n",
    "#if you want to take every 5th or smth from list. useful to use\n",
    "print ('even',1465546 % 2)\n",
    "print ('uneven',1465547 % 2)"
   ]
  },
  {
   "cell_type": "markdown",
   "metadata": {},
   "source": [
    "## Boolean"
   ]
  },
  {
   "cell_type": "code",
   "execution_count": 126,
   "metadata": {},
   "outputs": [
    {
     "name": "stdout",
     "output_type": "stream",
     "text": [
      "False\n",
      "<class 'bool'>\n"
     ]
    }
   ],
   "source": [
    "my_bool = 1 > 2\n",
    "print(my_bool)\n",
    "print(type(my_bool))"
   ]
  },
  {
   "cell_type": "code",
   "execution_count": 128,
   "metadata": {},
   "outputs": [
    {
     "name": "stdout",
     "output_type": "stream",
     "text": [
      "6\n",
      "my_int is even True\n"
     ]
    }
   ],
   "source": [
    "my_bool_2 = True\n",
    "my_bool_3 = False\n",
    "# my_bad_bool = true Need capital T True\n",
    "print(my_int)\n",
    "is_even = my_int % 2 == 0\n",
    "\n",
    "print (f'my_int is even {is_even}')"
   ]
  },
  {
   "cell_type": "code",
   "execution_count": 132,
   "metadata": {},
   "outputs": [
    {
     "name": "stdout",
     "output_type": "stream",
     "text": [
      "equal to operator ==: True \n",
      "equal to operator ==: False \n",
      "not equal to operator !=: False \n",
      "not equal to operator !=: True \n"
     ]
    }
   ],
   "source": [
    "print (f'equal to operator ==: { 1 == 1} ') #equal\n",
    "print (f'equal to operator ==: { 1 == 10} ')\n",
    "print (f'not equal to operator !=: { 1 != 1} ') #not equal\n",
    "print (f'not equal to operator !=: { 1 != 10} ')"
   ]
  },
  {
   "cell_type": "code",
   "execution_count": 133,
   "metadata": {},
   "outputs": [
    {
     "name": "stdout",
     "output_type": "stream",
     "text": [
      "more to operator >: True \n",
      "more to operator >=: True \n",
      "more to operator <: True \n",
      "more to operator <=: True \n"
     ]
    }
   ],
   "source": [
    "print (f'more to operator >: { 15 > 10} ')\n",
    "print (f'more to operator >=: { 10 >= 10} ') #more equal\n",
    "print (f'more to operator <: { 1 < 10} ')\n",
    "print (f'more to operator <=: { 10 <= 10} ')"
   ]
  },
  {
   "cell_type": "code",
   "execution_count": 137,
   "metadata": {},
   "outputs": [
    {
     "data": {
      "text/plain": [
       "True"
      ]
     },
     "execution_count": 137,
     "metadata": {},
     "output_type": "execute_result"
    }
   ],
   "source": [
    "# True and True\n",
    "10 > 2 and 2 < 5"
   ]
  },
  {
   "cell_type": "code",
   "execution_count": 138,
   "metadata": {},
   "outputs": [
    {
     "data": {
      "text/plain": [
       "False"
      ]
     },
     "execution_count": 138,
     "metadata": {},
     "output_type": "execute_result"
    }
   ],
   "source": [
    "# True and False\n",
    "10 > 2 and 10 < 5"
   ]
  },
  {
   "cell_type": "code",
   "execution_count": 139,
   "metadata": {},
   "outputs": [
    {
     "data": {
      "text/plain": [
       "False"
      ]
     },
     "execution_count": 139,
     "metadata": {},
     "output_type": "execute_result"
    }
   ],
   "source": [
    "# False or False\n",
    "10 > 20 or 10 < 5"
   ]
  },
  {
   "cell_type": "code",
   "execution_count": 140,
   "metadata": {},
   "outputs": [
    {
     "data": {
      "text/plain": [
       "True"
      ]
     },
     "execution_count": 140,
     "metadata": {},
     "output_type": "execute_result"
    }
   ],
   "source": [
    "# True or False\n",
    "10 > 2 or 10 < 5"
   ]
  },
  {
   "cell_type": "code",
   "execution_count": 141,
   "metadata": {},
   "outputs": [
    {
     "data": {
      "text/plain": [
       "False"
      ]
     },
     "execution_count": 141,
     "metadata": {},
     "output_type": "execute_result"
    }
   ],
   "source": [
    "# False or False\n",
    "10 > 20 or 10 < 5"
   ]
  },
  {
   "cell_type": "code",
   "execution_count": 142,
   "metadata": {},
   "outputs": [
    {
     "data": {
      "text/plain": [
       "True"
      ]
     },
     "execution_count": 142,
     "metadata": {},
     "output_type": "execute_result"
    }
   ],
   "source": [
    "True and 10 > 5 and 10 % 2 == 0 or False #go from left to right\n",
    "# <-- True ---> and <-- True -> or \n",
    "# <-- True ------------ True -> or "
   ]
  },
  {
   "cell_type": "code",
   "execution_count": 143,
   "metadata": {},
   "outputs": [
    {
     "data": {
      "text/plain": [
       "False"
      ]
     },
     "execution_count": 143,
     "metadata": {},
     "output_type": "execute_result"
    }
   ],
   "source": [
    "True and 10 > 5 and 11 % 2 == 0 or False\n",
    "# <-- True ---> and <- False -> or \n",
    "# <--  --------False-------- -> or False"
   ]
  },
  {
   "cell_type": "code",
   "execution_count": 145,
   "metadata": {},
   "outputs": [
    {
     "name": "stdout",
     "output_type": "stream",
     "text": [
      "True\n",
      "False\n",
      "True\n"
     ]
    }
   ],
   "source": [
    "#change something to boolean\n",
    "print (bool('Some text' ) )  #true because not empty\n",
    "print (bool('') ) \n",
    "print (bool(' ') ) "
   ]
  },
  {
   "cell_type": "code",
   "execution_count": 146,
   "metadata": {},
   "outputs": [
    {
     "name": "stdout",
     "output_type": "stream",
     "text": [
      "True\n",
      "False\n",
      "True\n",
      "True\n",
      "True\n"
     ]
    }
   ],
   "source": [
    "print (bool(5) ) #when im changing 5 to boolean it becomes true, but 0 becomes false\n",
    "print (bool(0) ) \n",
    "print (bool(1) ) \n",
    "print (bool(-1) ) \n",
    "print (bool(-51494898498749) ) \n",
    "# not 0 true, 0=false"
   ]
  },
  {
   "cell_type": "code",
   "execution_count": 148,
   "metadata": {},
   "outputs": [
    {
     "name": "stdout",
     "output_type": "stream",
     "text": [
      "True\n",
      "False\n",
      "True\n",
      "True\n",
      "True\n",
      "True\n",
      "True\n"
     ]
    }
   ],
   "source": [
    "# same with integers as with floats\n",
    "print (bool(5.0) ) \n",
    "print (bool(0.0) ) \n",
    "print (bool(1.0) ) \n",
    "print (bool(-1.) ) \n",
    "print (bool(-51494898498749.) ) \n",
    "print (bool(0.5) ) \n",
    "print (bool(0.00000001) )"
   ]
  },
  {
   "cell_type": "code",
   "execution_count": 151,
   "metadata": {},
   "outputs": [
    {
     "name": "stdout",
     "output_type": "stream",
     "text": [
      "True\n",
      "False\n"
     ]
    }
   ],
   "source": [
    "# flip true or false\n",
    "print (5 > 2)\n",
    "print (not 5 > 2)"
   ]
  },
  {
   "cell_type": "code",
   "execution_count": 153,
   "metadata": {},
   "outputs": [
    {
     "name": "stdout",
     "output_type": "stream",
     "text": [
      "False\n",
      "False\n"
     ]
    }
   ],
   "source": [
    "not_even = not 10 % 2 == 0\n",
    "print (not_even)\n",
    "not_even_2 = 10 % 2 != 0\n",
    "print (not_even_2)\n",
    "# both gives same results"
   ]
  },
  {
   "cell_type": "code",
   "execution_count": 157,
   "metadata": {},
   "outputs": [
    {
     "name": "stdout",
     "output_type": "stream",
     "text": [
      "12\n"
     ]
    }
   ],
   "source": [
    "# sum = 0\n",
    "# sum = sum + 5\n",
    "# sum = sum + 10\n",
    "# sum = sum - 3\n",
    "# print (sum)\n",
    "\n",
    "sum = 0\n",
    "sum += 5\n",
    "sum += 10\n",
    "sum -= 3\n",
    "print (sum)\n",
    "# kinda shortcut. shorter version"
   ]
  },
  {
   "cell_type": "code",
   "execution_count": 154,
   "metadata": {},
   "outputs": [
    {
     "name": "stdout",
     "output_type": "stream",
     "text": [
      "1000\n"
     ]
    }
   ],
   "source": [
    "multiply = 1\n",
    "multiply *= 10\n",
    "multiply *= 10\n",
    "multiply *= 10\n",
    "print (multiply)"
   ]
  },
  {
   "cell_type": "markdown",
   "metadata": {},
   "source": [
    "## membership operator"
   ]
  },
  {
   "cell_type": "code",
   "execution_count": 156,
   "metadata": {},
   "outputs": [
    {
     "name": "stdout",
     "output_type": "stream",
     "text": [
      "True\n",
      "False\n",
      "False\n",
      "True\n"
     ]
    }
   ],
   "source": [
    "# eant to check if something exists in bigger thing. \n",
    "text = 'Hello world'\n",
    "print ('world' in text ) #if world exsits in my text\n",
    "print ('World' in text ) #incorrect\n",
    "print ('World ' in text ) #incorrect\n",
    "print ('Darius' not in text )"
   ]
  },
  {
   "cell_type": "markdown",
   "metadata": {},
   "source": [
    "## LIST"
   ]
  },
  {
   "cell_type": "code",
   "execution_count": 159,
   "metadata": {},
   "outputs": [
    {
     "data": {
      "text/plain": [
       "list"
      ]
     },
     "execution_count": 159,
     "metadata": {},
     "output_type": "execute_result"
    }
   ],
   "source": [
    "my_list = [ 1, 5, 10, 15 ]\n",
    "type (my_list)"
   ]
  },
  {
   "cell_type": "code",
   "execution_count": 161,
   "metadata": {},
   "outputs": [
    {
     "name": "stdout",
     "output_type": "stream",
     "text": [
      "lenght:  4\n",
      "1st variable value:  1\n",
      "slice:  [10, 15]\n"
     ]
    }
   ],
   "source": [
    "print ('lenght: ',len(my_list ) )\n",
    "print ('1st variable value: ', my_list[0] )\n",
    "print ('slice: ', my_list[2:] ) #give me everything from 2 to end. it gives back in list form"
   ]
  },
  {
   "cell_type": "code",
   "execution_count": 162,
   "metadata": {},
   "outputs": [
    {
     "name": "stdout",
     "output_type": "stream",
     "text": [
      "[10, 1, 1, 2, 2, 'Darius', 'Vilnius', True, False]\n"
     ]
    }
   ],
   "source": [
    "my_list_2 = [ 10, 1, 1, 2, 2, 'Darius', 'Vilnius', True , 1 > 10] #can put anything inside list\n",
    "print( my_list_2)"
   ]
  },
  {
   "cell_type": "code",
   "execution_count": 169,
   "metadata": {},
   "outputs": [
    {
     "name": "stdout",
     "output_type": "stream",
     "text": [
      "[1, 5, 1, 14984, 10, 15, 54]\n",
      "[1, 1, 5, 10, 15, 54, 14984]\n"
     ]
    }
   ],
   "source": [
    "my_list_3 = [ 1, 5, 1, 14984, 10, 15, 54 ]\n",
    "print (my_list_3)\n",
    "my_list_3.sort() #methods as in strings. in ascending order all numbers\n",
    "print (my_list_3)"
   ]
  },
  {
   "cell_type": "code",
   "execution_count": 170,
   "metadata": {},
   "outputs": [
    {
     "name": "stdout",
     "output_type": "stream",
     "text": [
      "[14984, 54, 15, 10, 5, 1, 1]\n",
      "[1, 1, 5, 10, 15, 54, 14984]\n"
     ]
    }
   ],
   "source": [
    "my_list_3.sort(reverse=True) #print in reverse order already sorted list\n",
    "print (my_list_3)\n",
    "#can use slicing as well\n",
    "print (my_list_3[::-1])"
   ]
  },
  {
   "cell_type": "code",
   "execution_count": 185,
   "metadata": {},
   "outputs": [
    {
     "name": "stdout",
     "output_type": "stream",
     "text": [
      "[1, 5, 1, ['New list inside', 'Vilnius'], 10, 15, 54]\n",
      "['New list inside', 'Vilnius']\n"
     ]
    }
   ],
   "source": [
    "#can create list in a list\n",
    "my_list_4 = [ 1, 5, 1, ['New list inside', \"Vilnius\"], 10, 15, 54 ]\n",
    "print (my_list_4)\n",
    "print (my_list_4[3]) "
   ]
  },
  {
   "cell_type": "markdown",
   "metadata": {},
   "source": [
    "## lesson 4"
   ]
  },
  {
   "cell_type": "code",
   "execution_count": 186,
   "metadata": {},
   "outputs": [
    {
     "name": "stdout",
     "output_type": "stream",
     "text": [
      "[1, 5, 1, ['New list inside', 'Vilnius'], 10, 15, 54]\n",
      "[1, 100, 1, ['New list inside', 'Vilnius'], 10, 15, 54]\n"
     ]
    }
   ],
   "source": [
    "print (my_list_4 )\n",
    "my_list_4[1] = 100 #change value of a list\n",
    "print (my_list_4)"
   ]
  },
  {
   "cell_type": "code",
   "execution_count": 190,
   "metadata": {},
   "outputs": [
    {
     "name": "stdout",
     "output_type": "stream",
     "text": [
      "[1, 100, 1, ['New list inside', 'Vilnius'], 10, 15, 54]\n",
      "['New list inside', 'Vilnius']\n",
      "New list inside\n",
      "[1, 100, 1, ['HAHA', 'Vilnius'], 10, 15, 54]\n"
     ]
    }
   ],
   "source": [
    "#change a value of a list in another list\n",
    "print (my_list_4)\n",
    "print(my_list_4[3]) #find that list inside another list\n",
    "print (my_list_4[3][0]) #1st value of inside list \"New list inside\"\n",
    "my_list_4[3][0] = 'HAHA' #change to HAHA\n",
    "print(my_list_4)"
   ]
  },
  {
   "cell_type": "code",
   "execution_count": null,
   "metadata": {},
   "outputs": [],
   "source": [
    "# import numpy as np #to use arrays. Question from classmate\n",
    "# np.ones( (5,5) )"
   ]
  },
  {
   "cell_type": "markdown",
   "metadata": {},
   "source": [
    "List are more like vectors which can change overtime\n",
    "arrays are fixed"
   ]
  },
  {
   "cell_type": "code",
   "execution_count": 193,
   "metadata": {},
   "outputs": [
    {
     "data": {
      "text/plain": [
       "[1, 2, 3, 'a', 'b', 'c']"
      ]
     },
     "execution_count": 193,
     "metadata": {},
     "output_type": "execute_result"
    }
   ],
   "source": [
    "#adding lists\n",
    "([1,2,3] + ['a', 'b', 'c'] )\n",
    "#can multiply as well ([1,2,3] + ['a', 'b', 'c'] ) * 10\n",
    "#can't substract and divide"
   ]
  },
  {
   "cell_type": "markdown",
   "metadata": {},
   "source": [
    "Lists methods"
   ]
  },
  {
   "cell_type": "code",
   "execution_count": 203,
   "metadata": {},
   "outputs": [
    {
     "name": "stdout",
     "output_type": "stream",
     "text": [
      "[1, 2, 3]\n",
      "[1, 2, 3, 5]\n",
      "[1, 2, 3, 5, 'abs']\n",
      "[1, 2, 3, 5, 'abs', [10, 100, 1000]]\n"
     ]
    }
   ],
   "source": [
    "my_list = [1,2,3]\n",
    "print (my_list)\n",
    "my_list.append(5) #append- you provide a single value which you want to add. adds to the end\n",
    "print (my_list)\n",
    "my_list.append('abs')\n",
    "print (my_list)\n",
    "my_list.append( [10,100,1000] )\n",
    "print (my_list)\n"
   ]
  },
  {
   "cell_type": "code",
   "execution_count": 204,
   "metadata": {},
   "outputs": [
    {
     "name": "stdout",
     "output_type": "stream",
     "text": [
      "[1, 2, 3, 5, 'abs', [10, 100, 1000]]\n",
      "[1, 2, 3, 5, 'abs', [10, 100, 1000], 'a', 'b', 's', 156]\n",
      "[1, 2, 3, 5, 'abs', [10, 100, 1000], 'a', 'b', 's', 156, 10, 100, 1000]\n"
     ]
    }
   ],
   "source": [
    "print (my_list)\n",
    "my_list.extend('abs') #similar to append. added as seperate items\n",
    "my_list.extend([156])\n",
    "print (my_list)\n",
    "my_list.extend( [10,100,1000] )\n",
    "print (my_list)\n",
    "#better than append cause ads as items and not as a list (no [] brackets)\n"
   ]
  },
  {
   "cell_type": "code",
   "execution_count": 205,
   "metadata": {},
   "outputs": [
    {
     "name": "stdout",
     "output_type": "stream",
     "text": [
      "1000\n",
      "[1, 2, 3, 5, 'abs', [10, 100, 1000], 'a', 'b', 's', 156, 10, 100]\n",
      "100\n",
      "[1, 2, 3, 5, 'abs', [10, 100, 1000], 'a', 'b', 's', 156, 10]\n",
      "1\n",
      "[2, 3, 5, 'abs', [10, 100, 1000], 'a', 'b', 's', 156, 10]\n"
     ]
    }
   ],
   "source": [
    "poped_value = my_list.pop() #deletes single value (from the end) and gives it back to you\n",
    "print (poped_value)\n",
    "print (my_list)\n",
    "poped_value = my_list.pop()\n",
    "print (poped_value)\n",
    "print (my_list)\n",
    "poped_value = my_list.pop(0) #can specify which value you want to be taken\n",
    "print (poped_value)\n",
    "print (my_list)\n",
    "#useful to use in the que"
   ]
  },
  {
   "cell_type": "code",
   "execution_count": 206,
   "metadata": {},
   "outputs": [
    {
     "name": "stdout",
     "output_type": "stream",
     "text": [
      "[2, 3, 5, 'abs', [10, 100, 1000], 'a', 'b', 's', 156, 10]\n",
      "[2, 3, 5, 'new_text', 'abs', [10, 100, 1000], 'a', 'b', 's', 156, 10]\n"
     ]
    }
   ],
   "source": [
    "#works similar to append\n",
    "print (my_list)\n",
    "my_list.insert(3, \"new_text\")\n",
    "print (my_list)"
   ]
  },
  {
   "cell_type": "code",
   "execution_count": 207,
   "metadata": {},
   "outputs": [
    {
     "name": "stdout",
     "output_type": "stream",
     "text": [
      "[2, 3, 5, 'new_text', 'abs', [10, 100, 1000], 'a', 'b', 's', 156, 10]\n",
      "[2, 3, 5, 'new_text', 'abs', [10, 100, 1000], 'b', 's', 156, 10]\n"
     ]
    }
   ],
   "source": [
    "print (my_list)\n",
    "my_list.remove('a') # will give an error if does not exist (for  eg if i will run again)\n",
    "print (my_list)"
   ]
  },
  {
   "cell_type": "code",
   "execution_count": 216,
   "metadata": {},
   "outputs": [
    {
     "name": "stdout",
     "output_type": "stream",
     "text": [
      "[2, 3, 5, 'new_text', 'abs', [10, 100, 1000], 'b', 's', 156, 10]\n",
      "9\n"
     ]
    }
   ],
   "source": [
    "#index gives index or a value. if you dont know if you have a specific value\n",
    "print (my_list)\n",
    "print (my_list.index(10))"
   ]
  },
  {
   "cell_type": "code",
   "execution_count": 224,
   "metadata": {},
   "outputs": [
    {
     "name": "stdout",
     "output_type": "stream",
     "text": [
      "[2, 3, 5, 'new_text', 'abs', [10, 100, 1000], 'b', 's', 156, 10]\n",
      "9\n",
      "10\n"
     ]
    }
   ],
   "source": [
    "print (my_list)\n",
    "my_index = my_list.index(10) \n",
    "print (my_index) #gives value of the last number. doesnt check inside that insider list\n",
    "print (my_list[my_index] ) #gives me position. where exactly number is located\n",
    "#need to be sure that this value is in the list"
   ]
  },
  {
   "cell_type": "code",
   "execution_count": null,
   "metadata": {},
   "outputs": [],
   "source": [
    "#my_list.index(15419)  # Errorm not found\n",
    "index_10 = my_list.index([10, 100, 1000]) \n",
    "print (index_10 )\n",
    "print (my_list[index_10] )"
   ]
  },
  {
   "cell_type": "code",
   "execution_count": null,
   "metadata": {},
   "outputs": [],
   "source": [
    "# my_list.clear() # deletes everything"
   ]
  },
  {
   "cell_type": "code",
   "execution_count": 225,
   "metadata": {},
   "outputs": [
    {
     "name": "stdout",
     "output_type": "stream",
     "text": [
      "[2, 3, 5, 'new_text', 'abs', [10, 100, 1000], 'b', 's', 156, 10, 5, 5, 5, 5, 5]\n"
     ]
    },
    {
     "data": {
      "text/plain": [
       "6"
      ]
     },
     "execution_count": 225,
     "metadata": {},
     "output_type": "execute_result"
    }
   ],
   "source": [
    "# counts how many values there are in the list\n",
    "my_list.extend([5,5,5,5,5])\n",
    "print (my_list)\n",
    "my_list.count(5) #counting how many fives i have. works only for integers"
   ]
  },
  {
   "cell_type": "code",
   "execution_count": 226,
   "metadata": {},
   "outputs": [
    {
     "data": {
      "text/plain": [
       "[5, 5, 5, 5, 5, 10, 156, 's', 'b', [10, 100, 1000], 'abs', 'new_text', 5, 3, 2]"
      ]
     },
     "execution_count": 226,
     "metadata": {},
     "output_type": "execute_result"
    }
   ],
   "source": [
    "#reverses our list\n",
    "my_list.reverse()\n",
    "my_list"
   ]
  },
  {
   "cell_type": "markdown",
   "metadata": {},
   "source": [
    "# Mutable vs immutable"
   ]
  },
  {
   "cell_type": "code",
   "execution_count": 229,
   "metadata": {},
   "outputs": [
    {
     "name": "stdout",
     "output_type": "stream",
     "text": [
      "1\n",
      "2\n",
      "4312709424\n",
      "4312709456\n"
     ]
    }
   ],
   "source": [
    "# immutable - if one changed another wont change\n",
    "a = 1\n",
    "b = a\n",
    "b += 1 \n",
    "print(a)\n",
    "print(b)\n",
    "print( id(a) ) #shows identity of an object. where it is located in memory\n",
    "print( id(b) ) #they are sligtly different"
   ]
  },
  {
   "cell_type": "code",
   "execution_count": 231,
   "metadata": {},
   "outputs": [
    {
     "name": "stdout",
     "output_type": "stream",
     "text": [
      "[1, 2, 3, 100]\n",
      "[1, 2, 3, 100]\n",
      "4375308224\n",
      "4375308224\n"
     ]
    }
   ],
   "source": [
    "# mutable\n",
    "list_1 = [1,2,3]\n",
    "list_2 = list_1\n",
    "list_2.append(100) #we only appended list2 but both get these values\n",
    "print(list_1)\n",
    "print(list_2)\n",
    "print( id(list_1) )\n",
    "print( id(list_2) )\n",
    "#when you are assigning one list to another it doesnt make a copy but references same thing"
   ]
  },
  {
   "cell_type": "code",
   "execution_count": 232,
   "metadata": {},
   "outputs": [
    {
     "name": "stdout",
     "output_type": "stream",
     "text": [
      "[1, 2, 3]\n",
      "[1, 2, 3, 100]\n",
      "4375309760\n",
      "4362951232\n"
     ]
    }
   ],
   "source": [
    "# Fixing mutability (Solution 1). \n",
    "list_1 = [1,2,3]\n",
    "list_2 = list_1.copy() #return a shallow (pavirsutiniska) copy of a list \n",
    "list_2.append(100) #we only appended list2 but both get these values\n",
    "print(list_1)\n",
    "print(list_2)\n",
    "print( id(list_1) )\n",
    "print( id(list_2) )"
   ]
  },
  {
   "cell_type": "code",
   "execution_count": 234,
   "metadata": {},
   "outputs": [
    {
     "name": "stdout",
     "output_type": "stream",
     "text": [
      "[1, 2, [1, 0, 100, 100]]\n",
      "[1, 2, [1, 0, 100, 100]]\n",
      "4375329728\n",
      "4375309760\n"
     ]
    }
   ],
   "source": [
    "# what if i have list1 which have another list inside?\n",
    "list_1 = [1,2,[1,0,100] ]\n",
    "list_2 = list_1.copy() #copies only the TOP layer\n",
    "list_2[2].append(100) #appended NOT top level list, but the one which is indside\n",
    "print(list_1)\n",
    "print(list_2)\n",
    "print( id(list_1) )\n",
    "print( id(list_2) )\n",
    "#we have the same problem again\n",
    "#both lists changes, but ids ar different "
   ]
  },
  {
   "cell_type": "code",
   "execution_count": 235,
   "metadata": {},
   "outputs": [
    {
     "name": "stdout",
     "output_type": "stream",
     "text": [
      "[1, 2, [1, 0, 100, 100]]\n",
      "[1, 2, [1, 0, 100, 100]]\n",
      "4375325888\n",
      "4375400896\n",
      "4375176448\n",
      "4375176448\n"
     ]
    }
   ],
   "source": [
    "# continue\n",
    "# what if i have list1 which have another list inside?\n",
    "list_1 = [1,2,[1,0,100] ]\n",
    "list_2 = list_1.copy()\n",
    "#list_2.append(100)\n",
    "list_2[2].append(100)\n",
    "print(list_1)\n",
    "print(list_2)\n",
    "print( id(list_1) ) #ids of these two are different\n",
    "print( id(list_2) )\n",
    "\n",
    "print( id(list_1[2]) ) #ids of smaller list is the same\n",
    "print( id(list_2[2]) )"
   ]
  },
  {
   "cell_type": "code",
   "execution_count": 237,
   "metadata": {},
   "outputs": [
    {
     "name": "stdout",
     "output_type": "stream",
     "text": [
      "[1, 2, [1, 0, 100]]\n",
      "[1, 2, [1, 0, 100, 50]]\n",
      "4375513664\n",
      "4375400896\n",
      "4375325888\n",
      "4375402240\n"
     ]
    }
   ],
   "source": [
    "# Fixing mutability (Solution 2). BEST SOLUTION\n",
    "import copy #library called copy\n",
    "list_1 = [1,2,[1,0,100] ]\n",
    "list_2 = copy.deepcopy(list_1) #deepcopy-copies EVERY layer inside my list\n",
    "list_2[2].append(50)\n",
    "print(list_1)\n",
    "print(list_2)\n",
    "print( id(list_1) )\n",
    "print( id(list_2) )\n",
    "print( id(list_1[2]) )\n",
    "print( id(list_2[2]) )"
   ]
  },
  {
   "cell_type": "code",
   "execution_count": 239,
   "metadata": {},
   "outputs": [
    {
     "name": "stdout",
     "output_type": "stream",
     "text": [
      "[5, 5, 5, 5, 5, 10, 156, 's', 'b', [10, 100, 1000], 'abs', 'new_text', 5, 3, 2]\n",
      "True\n",
      "False\n"
     ]
    }
   ],
   "source": [
    "print (my_list)\n",
    "print('b' in my_list) # check if values are in the list. keyword IN\n",
    "print(153 in my_list) \n",
    "#useful after remove or index functions"
   ]
  },
  {
   "cell_type": "code",
   "execution_count": 240,
   "metadata": {},
   "outputs": [],
   "source": [
    "# List tasks in another doc"
   ]
  },
  {
   "cell_type": "markdown",
   "metadata": {},
   "source": [
    "## Tuple"
   ]
  },
  {
   "cell_type": "code",
   "execution_count": 243,
   "metadata": {},
   "outputs": [
    {
     "name": "stdout",
     "output_type": "stream",
     "text": [
      "(1, 1, 'a', 'b', 'ab')\n",
      "(1, 1, 'a')\n",
      "ab\n"
     ]
    }
   ],
   "source": [
    "# similar to list, you just use () brackets not []. \n",
    "# you cant't change values in tuple\n",
    "my_tuple = (1, 1, 'a', 'b', 'ab' )\n",
    "print (my_tuple)\n",
    "print (my_tuple[:3] )\n",
    "print (my_tuple[4])\n"
   ]
  },
  {
   "cell_type": "code",
   "execution_count": 244,
   "metadata": {},
   "outputs": [
    {
     "name": "stdout",
     "output_type": "stream",
     "text": [
      "lenght of the tuple: 5\n",
      "count of 1 in tuple: 2\n",
      "count of 'c' in tuple: 1\n",
      "check if 'b' is in tuple: True\n",
      "check 'b' index in tuple: 3\n"
     ]
    }
   ],
   "source": [
    "print (f'lenght of the tuple: {len (my_tuple)}' )\n",
    "print (f'count of 1 in tuple: {my_tuple.count(1)}' ) \n",
    "print (f\"count of 'c' in tuple: {my_tuple.count('a')}\" )\n",
    "print (f\"check if 'b' is in tuple: { 'b' in my_tuple}\" )\n",
    "print (f\"check 'b' index in tuple: { my_tuple.index('b')}\" )\n",
    "\n",
    "# my_tuple[2] = 'c' # Error, can't do that because you cant change sthe va,lues of it"
   ]
  },
  {
   "cell_type": "code",
   "execution_count": 245,
   "metadata": {},
   "outputs": [
    {
     "name": "stdout",
     "output_type": "stream",
     "text": [
      "(1, 2, 3, 4, 5, 3)\n"
     ]
    }
   ],
   "source": [
    "# can create new tuple by adding exsiting tuples\n",
    "tuple_1 = (1,2,3)\n",
    "tuple_2 = (4,5,3)\n",
    "tuple_3 = tuple_1 + tuple_2\n",
    "print(tuple_3)"
   ]
  },
  {
   "cell_type": "code",
   "execution_count": 247,
   "metadata": {},
   "outputs": [
    {
     "name": "stdout",
     "output_type": "stream",
     "text": [
      "[1, 2, 3, 4, 5, 3]\n"
     ]
    }
   ],
   "source": [
    "# changing value of number inside the tuple\n",
    "# tuple_3[3] = 10 won't work\n",
    "tmp_list = list(tuple_3) # can change tuple into list\n",
    "print (tmp_list)"
   ]
  },
  {
   "cell_type": "code",
   "execution_count": 249,
   "metadata": {},
   "outputs": [
    {
     "name": "stdout",
     "output_type": "stream",
     "text": [
      "[1, 2, 3, 10, 5, 3]\n",
      "(1, 2, 3, 111, 5, 3)\n"
     ]
    }
   ],
   "source": [
    "tmp_list = list(tuple_3)\n",
    "print (tmp_list)\n",
    "tmp_list[3] = 111\n",
    "tuple_3 = tuple(tmp_list) #then change back to tuple\n",
    "print (tuple_3)"
   ]
  },
  {
   "cell_type": "code",
   "execution_count": null,
   "metadata": {},
   "outputs": [],
   "source": []
  },
  {
   "cell_type": "code",
   "execution_count": null,
   "metadata": {},
   "outputs": [],
   "source": [
    "tuple1 = (11, [222, 33], 44, 55)\n",
    "print (tuple1)\n",
    "tmp_list = list(tuple1)\n",
    "print (tmp_list[1])\n",
    "tmp_list[1][1] = 22\n",
    "tuple1 = tuple(tuple1)\n",
    "print (tuple1)"
   ]
  },
  {
   "cell_type": "code",
   "execution_count": null,
   "metadata": {},
   "outputs": [],
   "source": [
    "tuple1 = (11, [222, 33], 44, 55)\n",
    "print (tuple1)\n",
    "tuple1[1][1] = 22\n",
    "print (tuple1)"
   ]
  },
  {
   "cell_type": "markdown",
   "metadata": {},
   "source": [
    "## Range"
   ]
  },
  {
   "cell_type": "code",
   "execution_count": 257,
   "metadata": {},
   "outputs": [
    {
     "name": "stdout",
     "output_type": "stream",
     "text": [
      "range(0, 10)\n",
      "[0, 1, 2, 3, 4, 5, 6, 7, 8, 9]\n",
      "[5, 6, 7, 8, 9]\n",
      "[25, 30, 35, 40, 45]\n",
      "[50, 45, 40, 35, 30]\n"
     ]
    }
   ],
   "source": [
    "print(range(10)) # need to add that its list if i want all sequence\n",
    "print (list(range(10) ) )\n",
    "print (list(range(5, 10) ) ) #from 5 to 10. last number not included\n",
    "print (list(range(25, 50, 5) ) ) #STEP - every 5th.\n",
    "print (list(range(50, 25, -5) ) )\n",
    "# when you want to iterate, or do something for a few times"
   ]
  },
  {
   "cell_type": "code",
   "execution_count": 258,
   "metadata": {},
   "outputs": [
    {
     "name": "stdout",
     "output_type": "stream",
     "text": [
      "<class 'range'>\n",
      "<class 'list'>\n",
      "<class 'tuple'>\n",
      "<class 'tuple'>\n"
     ]
    }
   ],
   "source": [
    "# check what type is it\n",
    "print (type( range(10) ) )\n",
    "print (type( [1,5,3] ) )\n",
    "print (type( (1,5,3) ) )\n",
    "print (type( my_tuple ) )"
   ]
  },
  {
   "cell_type": "markdown",
   "metadata": {},
   "source": [
    "## For loop"
   ]
  },
  {
   "cell_type": "code",
   "execution_count": 259,
   "metadata": {},
   "outputs": [
    {
     "name": "stdout",
     "output_type": "stream",
     "text": [
      "City is called Vilnius\n",
      "City is called Kaunas\n",
      "City is called London\n",
      "went through all cities\n"
     ]
    }
   ],
   "source": [
    "cities = ['Vilnius', 'Kaunas', 'London']\n",
    "for city in cities:\n",
    "    print (f'City is called {city}') #4 spaces means this command belongs to this loop above\n",
    "print (\"went through all cities\")"
   ]
  },
  {
   "cell_type": "code",
   "execution_count": 263,
   "metadata": {},
   "outputs": [
    {
     "name": "stdout",
     "output_type": "stream",
     "text": [
      "index is 0\n",
      "index is 1\n",
      "index is 2\n",
      "index is 3\n",
      "index is 4\n",
      "all done\n"
     ]
    }
   ],
   "source": [
    "for i in range(5): #i = index\n",
    "    print (f'index is {i}')\n",
    "print (\"all done\")"
   ]
  },
  {
   "cell_type": "code",
   "execution_count": 264,
   "metadata": {},
   "outputs": [
    {
     "name": "stdout",
     "output_type": "stream",
     "text": [
      "index is 5\n",
      "index is 10\n",
      "index is 15\n",
      "index is 20\n",
      "index is 25\n",
      "index is 30\n",
      "index is 35\n",
      "index is 40\n",
      "index is 45\n",
      "all done\n"
     ]
    }
   ],
   "source": [
    "for i in range(5,50,5):\n",
    "    print (f'index is {i}')\n",
    "print (\"all done\")"
   ]
  },
  {
   "cell_type": "code",
   "execution_count": null,
   "metadata": {},
   "outputs": [],
   "source": [
    "days = ('Monday', 'Tuesday', 'Wednesday', 'Thursday', 'Friday', 'Saturday' , 'Sunday')\n",
    "hours = [10, 11, 12, 13, 14, 15, 16, 17, 18, 19]\n",
    "\n",
    "combinations = []\n",
    "for day in days:\n",
    "    print(day)\n",
    "    for hour in hours:\n",
    "        print (hour)\n",
    "        combination = (day,hour)\n",
    "        combinations.append( combination )\n",
    "    print ('Checking next day')\n",
    "\n",
    "print (combinations)"
   ]
  },
  {
   "cell_type": "code",
   "execution_count": 268,
   "metadata": {},
   "outputs": [
    {
     "name": "stdout",
     "output_type": "stream",
     "text": [
      "65\n"
     ]
    }
   ],
   "source": [
    "#input\n",
    "text = input(\"enter something\")\n",
    "print (text)"
   ]
  },
  {
   "cell_type": "code",
   "execution_count": 266,
   "metadata": {},
   "outputs": [
    {
     "name": "stdout",
     "output_type": "stream",
     "text": [
      "123\n",
      "<class 'str'>\n",
      "<class 'int'>\n"
     ]
    }
   ],
   "source": [
    "number = input(\"enter a number\")\n",
    "print (number) #123, its a string type\n",
    "print (type(number) )\n",
    "print (type( int( number) ) )"
   ]
  },
  {
   "cell_type": "code",
   "execution_count": null,
   "metadata": {},
   "outputs": [],
   "source": []
  },
  {
   "cell_type": "code",
   "execution_count": null,
   "metadata": {},
   "outputs": [],
   "source": []
  }
 ],
 "metadata": {
  "interpreter": {
   "hash": "aee8b7b246df8f9039afb4144a1f6fd8d2ca17a180786b69acc140d282b71a49"
  },
  "kernelspec": {
   "display_name": "Python 3.9.7 64-bit",
   "language": "python",
   "name": "python3"
  },
  "language_info": {
   "codemirror_mode": {
    "name": "ipython",
    "version": 3
   },
   "file_extension": ".py",
   "mimetype": "text/x-python",
   "name": "python",
   "nbconvert_exporter": "python",
   "pygments_lexer": "ipython3",
   "version": "3.9.7"
  },
  "orig_nbformat": 4
 },
 "nbformat": 4,
 "nbformat_minor": 2
}
