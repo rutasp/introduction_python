{
 "cells": [
  {
   "cell_type": "markdown",
   "metadata": {},
   "source": [
    "## Lecture 1"
   ]
  },
  {
   "cell_type": "code",
   "execution_count": 1,
   "metadata": {},
   "outputs": [],
   "source": [
    "## Declaring string"
   ]
  },
  {
   "cell_type": "code",
   "execution_count": 7,
   "metadata": {},
   "outputs": [
    {
     "name": "stdout",
     "output_type": "stream",
     "text": [
      "Ruta\n",
      "Spaicyte\n",
      "29\n",
      "14\n"
     ]
    }
   ],
   "source": [
    "my_name = 'Ruta'\n",
    "my_surname = 'Spaicyte'\n",
    "print(my_name)\n",
    "print(my_surname)\n",
    "my_text = 'very long and pretty sentence'\n",
    "print(len(my_text))\n",
    "print(my_text.find('pretty'))"
   ]
  },
  {
   "cell_type": "markdown",
   "metadata": {},
   "source": [
    "### String functions"
   ]
  },
  {
   "cell_type": "code",
   "execution_count": 20,
   "metadata": {},
   "outputs": [
    {
     "name": "stdout",
     "output_type": "stream",
     "text": [
      "very long and pretty sentence\n",
      "Very long and pretty sentence\n"
     ]
    }
   ],
   "source": [
    "print(my_text)\n",
    "print(my_text.capitalize())\n",
    "\n",
    "                                                        ##  Why this doesn't work? \n",
    "                                                        # my_text.capitalize()\n",
    "                                                        # print(my_text)"
   ]
  },
  {
   "cell_type": "code",
   "execution_count": 18,
   "metadata": {},
   "outputs": [
    {
     "name": "stdout",
     "output_type": "stream",
     "text": [
      "upper case sentence\n"
     ]
    }
   ],
   "source": [
    "my_upper = 'UPPER CASE SENTENCE'\n",
    "print(my_upper.lower())"
   ]
  },
  {
   "cell_type": "code",
   "execution_count": 12,
   "metadata": {},
   "outputs": [
    {
     "name": "stdout",
     "output_type": "stream",
     "text": [
      "very long and pretty sentence\n",
      "VERY LONG AND PRETTY SENTENCE\n"
     ]
    }
   ],
   "source": [
    "my_text = 'very long and pretty sentence'\n",
    "print(my_text)\n",
    "print(my_text.upper())"
   ]
  },
  {
   "cell_type": "code",
   "execution_count": 25,
   "metadata": {},
   "outputs": [
    {
     "name": "stdout",
     "output_type": "stream",
     "text": [
      "Very:long, pretty, good - sentence      \n",
      "Very:long, pretty, good - sentence\n"
     ]
    }
   ],
   "source": [
    "# rstrip Remove any white spaces at the end of the string\n",
    "my_text1='Very:long, pretty, good - sentence      ' #pay attention to spaces in the end\n",
    "print(my_text1)\n",
    "print(my_text1.rstrip())"
   ]
  },
  {
   "cell_type": "code",
   "execution_count": 39,
   "metadata": {},
   "outputs": [
    {
     "name": "stdout",
     "output_type": "stream",
     "text": [
      "{'a': '123', 'b': '456', 'c': '789'}\n",
      "abc\n",
      "{97: '123', 98: '456', 99: '789'}\n"
     ]
    }
   ],
   "source": [
    "# example dictionary\n",
    "                                                        # using unicode a=97, b=98... https://www.learncpp.com/cpp-tutorial/chars/\n",
    "                                                        # https://www.programiz.com/python-programming/methods/string/maketrans\n",
    "dict = {\"a\": \"123\", \"b\": \"456\", \"c\": \"789\"}\n",
    "string2 = \"abc\"\n",
    "print(dict)\n",
    "print(string2)\n",
    "print(string2.maketrans(dict))"
   ]
  },
  {
   "cell_type": "code",
   "execution_count": 41,
   "metadata": {},
   "outputs": [
    {
     "name": "stdout",
     "output_type": "stream",
     "text": [
      "{'r': '1', 'o': '2', 'c': '3'}\n",
      "aoc\n",
      "{114: '1', 111: '2', 99: '3'}\n"
     ]
    }
   ],
   "source": [
    "dict1 = {'r':'1',\n",
    "        'o':'2',\n",
    "        'c':'3'}\n",
    "print(dict1)\n",
    "string1= 'aoc'\n",
    "print(string1)\n",
    "print(string1.maketrans(dict1))"
   ]
  },
  {
   "cell_type": "code",
   "execution_count": 43,
   "metadata": {},
   "outputs": [
    {
     "name": "stdout",
     "output_type": "stream",
     "text": [
      "Original string: abcdef\n",
      "{97: None, 98: None, 99: 105}\n",
      "Translated string: idef\n"
     ]
    }
   ],
   "source": [
    "# first string\n",
    "firstString = \"abc\"\n",
    "secondString = \"ghi\"\n",
    "thirdString = \"ab\"\n",
    "\n",
    "string = \"abcdef\"\n",
    "print(\"Original string:\", string)\n",
    "\n",
    "translation = string.maketrans(firstString, secondString, thirdString)\n",
    "print(translation)\n",
    "# translate string\n",
    "print(\"Translated string:\", string.translate(translation))"
   ]
  },
  {
   "cell_type": "code",
   "execution_count": 51,
   "metadata": {},
   "outputs": [
    {
     "name": "stdout",
     "output_type": "stream",
     "text": [
      "For only 49 dollars!\n"
     ]
    }
   ],
   "source": [
    "txt2 = \"For only {price} dollars!\" #{price:.2f} would return 49.00\n",
    "print(txt2.format(price = 49))"
   ]
  },
  {
   "cell_type": "code",
   "execution_count": 55,
   "metadata": {},
   "outputs": [
    {
     "name": "stdout",
     "output_type": "stream",
     "text": [
      "My name is Ruta\n"
     ]
    }
   ],
   "source": [
    "txt3='My name is {name}'\n",
    "print(txt3.format(name = 'Ruta'))"
   ]
  },
  {
   "cell_type": "code",
   "execution_count": 5,
   "metadata": {},
   "outputs": [
    {
     "name": "stdout",
     "output_type": "stream",
     "text": [
      "True\n"
     ]
    }
   ],
   "source": [
    "txt4 = \"  \"\n",
    "x = txt4.isspace()\n",
    "print(x)"
   ]
  },
  {
   "cell_type": "code",
   "execution_count": 9,
   "metadata": {},
   "outputs": [
    {
     "name": "stdout",
     "output_type": "stream",
     "text": [
      "False\n"
     ]
    }
   ],
   "source": [
    "txt5 = \"Hello, welcome to my world\"\n",
    "x = txt5.endswith(\".\")\n",
    "print(x)"
   ]
  },
  {
   "cell_type": "code",
   "execution_count": null,
   "metadata": {},
   "outputs": [],
   "source": []
  }
 ],
 "metadata": {
  "interpreter": {
   "hash": "aee8b7b246df8f9039afb4144a1f6fd8d2ca17a180786b69acc140d282b71a49"
  },
  "kernelspec": {
   "display_name": "Python 3.9.7 64-bit",
   "language": "python",
   "name": "python3"
  },
  "language_info": {
   "codemirror_mode": {
    "name": "ipython",
    "version": 3
   },
   "file_extension": ".py",
   "mimetype": "text/x-python",
   "name": "python",
   "nbconvert_exporter": "python",
   "pygments_lexer": "ipython3",
   "version": "3.9.7"
  },
  "orig_nbformat": 4
 },
 "nbformat": 4,
 "nbformat_minor": 2
}
