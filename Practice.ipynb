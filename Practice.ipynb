{
 "cells": [
  {
   "cell_type": "markdown",
   "metadata": {},
   "source": [
    "## Lecture 1"
   ]
  },
  {
   "cell_type": "code",
   "execution_count": 9,
   "metadata": {},
   "outputs": [],
   "source": [
    "## Declaring string"
   ]
  },
  {
   "cell_type": "code",
   "execution_count": 10,
   "metadata": {},
   "outputs": [
    {
     "name": "stdout",
     "output_type": "stream",
     "text": [
      "Ruta\n",
      "Spaicyte\n",
      "29\n",
      "14\n"
     ]
    }
   ],
   "source": [
    "my_name = 'Ruta'\n",
    "my_surname = 'Spaicyte'\n",
    "print(my_name)\n",
    "print(my_surname)\n",
    "my_text = 'very long and pretty sentence'\n",
    "print(len(my_text))\n",
    "print(my_text.find('pretty'))"
   ]
  },
  {
   "cell_type": "markdown",
   "metadata": {},
   "source": [
    "### String functions"
   ]
  },
  {
   "cell_type": "code",
   "execution_count": 11,
   "metadata": {},
   "outputs": [
    {
     "name": "stdout",
     "output_type": "stream",
     "text": [
      "very long and pretty sentence\n",
      "Very long and pretty sentence\n"
     ]
    }
   ],
   "source": [
    "print(my_text)\n",
    "print(my_text.capitalize())\n",
    "\n",
    "                                                        ##  Why this doesn't work? \n",
    "                                                        # my_text.capitalize()\n",
    "                                                        # print(my_text)"
   ]
  },
  {
   "cell_type": "code",
   "execution_count": 12,
   "metadata": {},
   "outputs": [
    {
     "name": "stdout",
     "output_type": "stream",
     "text": [
      "upper case sentence\n"
     ]
    }
   ],
   "source": [
    "my_upper = 'UPPER CASE SENTENCE'\n",
    "print(my_upper.lower())"
   ]
  },
  {
   "cell_type": "code",
   "execution_count": 13,
   "metadata": {},
   "outputs": [
    {
     "name": "stdout",
     "output_type": "stream",
     "text": [
      "very long and pretty sentence\n",
      "VERY LONG AND PRETTY SENTENCE\n"
     ]
    }
   ],
   "source": [
    "my_text = 'very long and pretty sentence'\n",
    "print(my_text)\n",
    "print(my_text.upper())"
   ]
  },
  {
   "cell_type": "code",
   "execution_count": 14,
   "metadata": {},
   "outputs": [
    {
     "name": "stdout",
     "output_type": "stream",
     "text": [
      "Very:long, pretty, good - sentence      \n",
      "Very:long, pretty, good - sentence\n"
     ]
    }
   ],
   "source": [
    "# rstrip Remove any white spaces at the end of the string\n",
    "my_text1='Very:long, pretty, good - sentence      ' #pay attention to spaces in the end\n",
    "print(my_text1)\n",
    "print(my_text1.rstrip())"
   ]
  },
  {
   "cell_type": "code",
   "execution_count": 15,
   "metadata": {},
   "outputs": [
    {
     "name": "stdout",
     "output_type": "stream",
     "text": [
      "{'a': '123', 'b': '456', 'c': '789'}\n",
      "abc\n",
      "{97: '123', 98: '456', 99: '789'}\n"
     ]
    }
   ],
   "source": [
    "# example dictionary\n",
    "                                                        # using unicode a=97, b=98... https://www.learncpp.com/cpp-tutorial/chars/\n",
    "                                                        # https://www.programiz.com/python-programming/methods/string/maketrans\n",
    "dict = {\"a\": \"123\", \"b\": \"456\", \"c\": \"789\"}\n",
    "string2 = \"abc\"\n",
    "print(dict)\n",
    "print(string2)\n",
    "print(string2.maketrans(dict))"
   ]
  },
  {
   "cell_type": "code",
   "execution_count": 16,
   "metadata": {},
   "outputs": [
    {
     "name": "stdout",
     "output_type": "stream",
     "text": [
      "{'r': '1', 'o': '2', 'c': '3'}\n",
      "aoc\n",
      "{114: '1', 111: '2', 99: '3'}\n"
     ]
    }
   ],
   "source": [
    "dict1 = {'r':'1',\n",
    "        'o':'2',\n",
    "        'c':'3'}\n",
    "print(dict1)\n",
    "string1= 'aoc'\n",
    "print(string1)\n",
    "print(string1.maketrans(dict1))"
   ]
  },
  {
   "cell_type": "code",
   "execution_count": 17,
   "metadata": {},
   "outputs": [
    {
     "name": "stdout",
     "output_type": "stream",
     "text": [
      "Original string: abcdef\n",
      "{97: None, 98: None, 99: 105}\n",
      "Translated string: idef\n"
     ]
    }
   ],
   "source": [
    "# first string\n",
    "firstString = \"abc\"\n",
    "secondString = \"ghi\"\n",
    "thirdString = \"ab\"\n",
    "\n",
    "string = \"abcdef\"\n",
    "print(\"Original string:\", string)\n",
    "\n",
    "translation = string.maketrans(firstString, secondString, thirdString)\n",
    "print(translation)\n",
    "# translate string\n",
    "print(\"Translated string:\", string.translate(translation))"
   ]
  },
  {
   "cell_type": "code",
   "execution_count": 18,
   "metadata": {},
   "outputs": [
    {
     "name": "stdout",
     "output_type": "stream",
     "text": [
      "For only 49 dollars!\n"
     ]
    }
   ],
   "source": [
    "txt2 = \"For only {price} dollars!\" #{price:.2f} would return 49.00\n",
    "print(txt2.format(price = 49))"
   ]
  },
  {
   "cell_type": "code",
   "execution_count": 19,
   "metadata": {},
   "outputs": [
    {
     "name": "stdout",
     "output_type": "stream",
     "text": [
      "My name is Ruta\n"
     ]
    }
   ],
   "source": [
    "txt3='My name is {name}'\n",
    "print(txt3.format(name = 'Ruta'))"
   ]
  },
  {
   "cell_type": "code",
   "execution_count": 20,
   "metadata": {},
   "outputs": [
    {
     "name": "stdout",
     "output_type": "stream",
     "text": [
      "True\n"
     ]
    }
   ],
   "source": [
    "txt4 = \"  \"\n",
    "x = txt4.isspace()\n",
    "print(x)"
   ]
  },
  {
   "cell_type": "code",
   "execution_count": 21,
   "metadata": {},
   "outputs": [
    {
     "name": "stdout",
     "output_type": "stream",
     "text": [
      "False\n"
     ]
    }
   ],
   "source": [
    "txt5 = \"Hello, welcome to my world\"\n",
    "x = txt5.endswith(\".\")\n",
    "print(x)"
   ]
  },
  {
   "cell_type": "code",
   "execution_count": 27,
   "metadata": {},
   "outputs": [
    {
     "name": "stdout",
     "output_type": "stream",
     "text": [
      "I like apples\n"
     ]
    }
   ],
   "source": [
    "txt6 = \"I like bananas\"\n",
    "x6 = txt6.replace(\"bananas\", \"apples\")\n",
    "print(x6)"
   ]
  },
  {
   "cell_type": "markdown",
   "metadata": {},
   "source": [
    "#### Need to come back"
   ]
  },
  {
   "cell_type": "code",
   "execution_count": 33,
   "metadata": {},
   "outputs": [
    {
     "name": "stdout",
     "output_type": "stream",
     "text": [
      "('a', 'b')\n"
     ]
    }
   ],
   "source": [
    "a = (\"a\", \"b\", \"c\", \"d\", \"e\", \"f\", \"g\", \"h\")\n",
    "x = slice(2)\n",
    "print(a[x])"
   ]
  },
  {
   "cell_type": "code",
   "execution_count": 70,
   "metadata": {},
   "outputs": [
    {
     "name": "stdout",
     "output_type": "stream",
     "text": [
      "R\n",
      "a\n"
     ]
    }
   ],
   "source": [
    "# indexing\n",
    "print(my_name[0])\n",
    "print(my_name[-1])"
   ]
  },
  {
   "cell_type": "code",
   "execution_count": 72,
   "metadata": {},
   "outputs": [
    {
     "name": "stdout",
     "output_type": "stream",
     "text": [
      " Darius and more text' more \" text \n",
      "Darius and more text' more \" text \n",
      "Darius and more text' more \" text \n"
     ]
    }
   ],
   "source": [
    "# my_text = 'Darius and more text' more text ' # Error\n",
    "my_text =  \"Darius and more text' more text \"\n",
    "# my_text =  \"\"Darius and more text' more \" text \"\" # Error\n",
    "print (my_text)\n",
    "my_text =  \"Darius and more text\\' more \\\" text \" # option 2\n",
    "print (my_text)\n",
    "my_text =  \"\"\"Darius and more text' more \" text \"\"\" # option 3\n",
    "print (my_text)"
   ]
  },
  {
   "cell_type": "code",
   "execution_count": 75,
   "metadata": {},
   "outputs": [
    {
     "name": "stdout",
     "output_type": "stream",
     "text": [
      "Some text \n",
      " new line Text\n",
      " \n",
      "Some text \n",
      "new line Text\n",
      "more text\n",
      "hello\n",
      "\n"
     ]
    }
   ],
   "source": [
    "some_text = 'Some text \\n new line Text' # \\n - new line\n",
    "print (some_text) # triple couotes preserves the structure\n",
    "some_text = \"\"\" \n",
    "Some text \n",
    "new line Text\n",
    "more text\n",
    "hello\n",
    "\"\"\" \n",
    "print (some_text)"
   ]
  },
  {
   "cell_type": "code",
   "execution_count": 41,
   "metadata": {},
   "outputs": [],
   "source": [
    "my_variable = \\\n",
    "    14"
   ]
  },
  {
   "cell_type": "code",
   "execution_count": 42,
   "metadata": {},
   "outputs": [
    {
     "name": "stdout",
     "output_type": "stream",
     "text": [
      "14\n"
     ]
    }
   ],
   "source": [
    "print(my_variable)"
   ]
  },
  {
   "cell_type": "code",
   "execution_count": 76,
   "metadata": {},
   "outputs": [
    {
     "name": "stdout",
     "output_type": "stream",
     "text": [
      "The Zen of Python, by Tim Peters\n",
      "\n",
      "Beautiful is better than ugly.\n",
      "Explicit is better than implicit.\n",
      "Simple is better than complex.\n",
      "Complex is better than complicated.\n",
      "Flat is better than nested.\n",
      "Sparse is better than dense.\n",
      "Readability counts.\n",
      "Special cases aren't special enough to break the rules.\n",
      "Although practicality beats purity.\n",
      "Errors should never pass silently.\n",
      "Unless explicitly silenced.\n",
      "In the face of ambiguity, refuse the temptation to guess.\n",
      "There should be one-- and preferably only one --obvious way to do it.\n",
      "Although that way may not be obvious at first unless you're Dutch.\n",
      "Now is better than never.\n",
      "Although never is often better than *right* now.\n",
      "If the implementation is hard to explain, it's a bad idea.\n",
      "If the implementation is easy to explain, it may be a good idea.\n",
      "Namespaces are one honking great idea -- let's do more of those!\n"
     ]
    }
   ],
   "source": [
    "import this"
   ]
  },
  {
   "cell_type": "code",
   "execution_count": 44,
   "metadata": {},
   "outputs": [
    {
     "name": "stdout",
     "output_type": "stream",
     "text": [
      "Ruta\n",
      "Spaicyte\n",
      "My name is Ruta Spaicyte\n",
      "RutaRutaRutaRutaRutaRutaRutaRutaRutaRuta\n"
     ]
    }
   ],
   "source": [
    "print (my_name)\n",
    "print (my_surname)\n",
    "print ( 'My name is ' + my_name + ' ' + my_surname )\n",
    "print (my_name * 10 )\n",
    "# my_name - 'ar' # error\n",
    "# my_name / 'a' # error"
   ]
  },
  {
   "cell_type": "code",
   "execution_count": 78,
   "metadata": {},
   "outputs": [
    {
     "name": "stdout",
     "output_type": "stream",
     "text": [
      "My name is Ruta Spaicyte\n",
      "My name is Ruta Spaicyte\n",
      "My name is Ruta Spaicyte\n",
      "My name is Ruta Spaicyte\n"
     ]
    }
   ],
   "source": [
    "print ( 'My name is ' + my_name + ' ' + my_surname )\n",
    "print ( 'My name is', my_name, my_surname )\n",
    "# f-string- formatted string\n",
    "print ( f'My name is {my_name} {my_surname}' ) # preferred way of formatting\n",
    "print ( 'My name is {} {}'.format(my_name, my_surname) ) #old way "
   ]
  },
  {
   "cell_type": "code",
   "execution_count": 47,
   "metadata": {},
   "outputs": [
    {
     "name": "stdout",
     "output_type": "stream",
     "text": [
      "My name is Ruta Spaicyte and I am 26 years old\n",
      "My name is Ruta Spaicyte and I am 26 years old\n"
     ]
    }
   ],
   "source": [
    "my_age = 26\n",
    "print ( f'My name is {my_name} {my_surname} and I am {my_age} years old' ) # preferred way of formatting\n",
    "print ( 'My name is {} {} and I am {} years old'.format(my_name, my_surname, my_age) )"
   ]
  },
  {
   "cell_type": "code",
   "execution_count": 83,
   "metadata": {},
   "outputs": [
    {
     "name": "stdout",
     "output_type": "stream",
     "text": [
      "Hello World I am ,veryaggryshghappydfharytto learn Python!\n",
      "H\n",
      "learn Python!\n",
      "learn \n",
      "P\n",
      "this\n",
      "dIa vragyhhpyfayt er \n",
      "here\n",
      "Hello\n",
      "Hlo\n",
      "Hello World I am ,veryaggryshghappydfharytto learn Python!\n",
      "!nohtyP nrael ottyrahfdyppahghsyrggayrev, ma I dlroW olleH\n"
     ]
    }
   ],
   "source": [
    "# slicing for cutting\n",
    "sentence = 'Hello World I am ,veryaggryshghappydfharytto learn Python!'\n",
    "print(sentence)\n",
    "print(sentence[0]) #index\n",
    "print (sentence[45:] ) #learn Python!  \n",
    "print (sentence[45:51] )\n",
    "print (sentence[51] )\n",
    "print (f\"this\")\n",
    "print (sentence[10:51:2]) #every 2nd letter\n",
    "# [start:end:step]  \n",
    "print (f\"here\")\n",
    "print (sentence[0:5])\n",
    "print (sentence[0:5:2])\n",
    "print (sentence[::])\n",
    "print (sentence[::-1]) #reverse text "
   ]
  },
  {
   "cell_type": "code",
   "execution_count": 66,
   "metadata": {},
   "outputs": [
    {
     "name": "stdout",
     "output_type": "stream",
     "text": [
      "Hello World I am ,veryaggryshghappydfharytto learn Python!\n",
      "17\n",
      ",\n",
      "Hello World I \n"
     ]
    }
   ],
   "source": [
    "print(sentence)\n",
    "print (sentence.find(',') )\n",
    "print (sentence[sentence.find(',') ] )\n",
    "print (sentence[:sentence.find('am') ] )"
   ]
  },
  {
   "cell_type": "code",
   "execution_count": 84,
   "metadata": {},
   "outputs": [
    {
     "name": "stdout",
     "output_type": "stream",
     "text": [
      "1,15,35,4158,354\n",
      "['1', '15', '35', '4158', '354']\n",
      "4158\n"
     ]
    },
    {
     "data": {
      "text/plain": [
       "4158"
      ]
     },
     "execution_count": 84,
     "metadata": {},
     "output_type": "execute_result"
    }
   ],
   "source": [
    "# you get numbers but its actually text\n",
    "text_with_numbers = '1,15,35,4158,354'\n",
    "print(text_with_numbers)\n",
    "print(text_with_numbers.split(','))\n",
    "print(text_with_numbers.split(',')[3]) #this is still a string, a text\n",
    "int( text_with_numbers.split(',')[3] ) #int -> changes to integer\n",
    "#int( text_with_numbers.split(',')) #error cause didnt specity which one to change"
   ]
  },
  {
   "cell_type": "code",
   "execution_count": 89,
   "metadata": {},
   "outputs": [
    {
     "name": "stdout",
     "output_type": "stream",
     "text": [
      "Hello World I am very happy to learn Python!\n",
      "Hello World I am ,veryaggryshghappydfharytto learn Python!\n",
      "Hello World I Am Very Happy To Learn Python!\n"
     ]
    }
   ],
   "source": [
    "sentence = 'Hello World I am ,veryaggryshghappydfharytto learn Python!'\n",
    "print (sentence.replace(',veryaggryshghappydfharytto', 'very happy to' ) ) # does not rewrites variable\n",
    "print (sentence)\n",
    "sentence = sentence.replace(',veryaggryshghappydfharytto', 'very happy to' )\n",
    "#need to reassign if i want to rewrite\n",
    "sentence = sentence.replace(',veryaggryshghappydfharytto', 'very happy to' ).title()\n",
    "print (sentence)"
   ]
  },
  {
   "cell_type": "code",
   "execution_count": 86,
   "metadata": {},
   "outputs": [
    {
     "name": "stdout",
     "output_type": "stream",
     "text": [
      "Hello World I Am Very Happy To Learn Python!\n",
      "44\n",
      "Python!\n",
      "Python!\n"
     ]
    }
   ],
   "source": [
    "print (sentence )\n",
    "print (len('Hello World I am very happy to learn Python!'))\n",
    "# print (type(sentence) )\n",
    "print (sentence[len(sentence) - 7: ])\n",
    "print (sentence[-7: ])"
   ]
  },
  {
   "cell_type": "markdown",
   "metadata": {},
   "source": [
    "## Integers"
   ]
  },
  {
   "cell_type": "code",
   "execution_count": 90,
   "metadata": {},
   "outputs": [],
   "source": [
    "my_int = 6\n",
    "my_float = 6."
   ]
  },
  {
   "cell_type": "code",
   "execution_count": 92,
   "metadata": {},
   "outputs": [
    {
     "name": "stdout",
     "output_type": "stream",
     "text": [
      "<class 'int'>\n",
      "<class 'float'>\n"
     ]
    }
   ],
   "source": [
    "print(type(my_int))\n",
    "print(type(my_float))"
   ]
  },
  {
   "cell_type": "markdown",
   "metadata": {},
   "source": [
    "### Operators"
   ]
  },
  {
   "cell_type": "code",
   "execution_count": 94,
   "metadata": {},
   "outputs": [
    {
     "name": "stdout",
     "output_type": "stream",
     "text": [
      "-6\n",
      "27\n",
      "0.3333333333333333\n",
      "1.0\n"
     ]
    }
   ],
   "source": [
    "print (3 - 9 )\n",
    "print (3 * 9 )\n",
    "print (3 / 9 )\n",
    "print (3 / 3 )"
   ]
  },
  {
   "cell_type": "code",
   "execution_count": 99,
   "metadata": {},
   "outputs": [
    {
     "name": "stdout",
     "output_type": "stream",
     "text": [
      "power of\n",
      "19683\n",
      "9\n"
     ]
    }
   ],
   "source": [
    "print ('power of')\n",
    "print (3 ** 9 ) #3^9 \n",
    "print (3 ** 2 )"
   ]
  },
  {
   "cell_type": "code",
   "execution_count": 112,
   "metadata": {},
   "outputs": [
    {
     "name": "stdout",
     "output_type": "stream",
     "text": [
      "division\n",
      "4.5\n",
      "4\n",
      "3.6666666666666665\n",
      "3\n"
     ]
    }
   ],
   "source": [
    "print ('division')\n",
    "print (9 / 2 )\n",
    "print (9 // 2 )  #how many full numbers can be. whole numnbers\n",
    "print (11 / 3 )\n",
    "print (11 // 3 )"
   ]
  },
  {
   "cell_type": "code",
   "execution_count": 114,
   "metadata": {},
   "outputs": [
    {
     "name": "stdout",
     "output_type": "stream",
     "text": [
      "Remainder\n",
      "2\n",
      "1\n",
      "4\n",
      "1\n"
     ]
    }
   ],
   "source": [
    "print( 'Remainder')\n",
    "print (11 % 3 ) #how many numbers are less which i can divide by 3\n",
    "print (6 % 5 ) #useful to check if number is even\n",
    "print (4 % 5) #gives back the same\n",
    "print (6 % 5) #i can divide once by 5 and the rest left is 1\n"
   ]
  },
  {
   "cell_type": "code",
   "execution_count": 122,
   "metadata": {},
   "outputs": [
    {
     "name": "stdout",
     "output_type": "stream",
     "text": [
      "even 0\n",
      "uneven 1\n"
     ]
    }
   ],
   "source": [
    "## Even and uneven\n",
    "#if you want to take every 5th or smth from list. useful to use\n",
    "print ('even',1465546 % 2)\n",
    "print ('uneven',1465547 % 2)"
   ]
  },
  {
   "cell_type": "markdown",
   "metadata": {},
   "source": [
    "## Boolean"
   ]
  },
  {
   "cell_type": "code",
   "execution_count": 126,
   "metadata": {},
   "outputs": [
    {
     "name": "stdout",
     "output_type": "stream",
     "text": [
      "False\n",
      "<class 'bool'>\n"
     ]
    }
   ],
   "source": [
    "my_bool = 1 > 2\n",
    "print(my_bool)\n",
    "print(type(my_bool))"
   ]
  },
  {
   "cell_type": "code",
   "execution_count": 128,
   "metadata": {},
   "outputs": [
    {
     "name": "stdout",
     "output_type": "stream",
     "text": [
      "6\n",
      "my_int is even True\n"
     ]
    }
   ],
   "source": [
    "my_bool_2 = True\n",
    "my_bool_3 = False\n",
    "# my_bad_bool = true Need capital T True\n",
    "print(my_int)\n",
    "is_even = my_int % 2 == 0\n",
    "\n",
    "print (f'my_int is even {is_even}')"
   ]
  },
  {
   "cell_type": "code",
   "execution_count": 132,
   "metadata": {},
   "outputs": [
    {
     "name": "stdout",
     "output_type": "stream",
     "text": [
      "equal to operator ==: True \n",
      "equal to operator ==: False \n",
      "not equal to operator !=: False \n",
      "not equal to operator !=: True \n"
     ]
    }
   ],
   "source": [
    "print (f'equal to operator ==: { 1 == 1} ') #equal\n",
    "print (f'equal to operator ==: { 1 == 10} ')\n",
    "print (f'not equal to operator !=: { 1 != 1} ') #not equal\n",
    "print (f'not equal to operator !=: { 1 != 10} ')"
   ]
  },
  {
   "cell_type": "code",
   "execution_count": 133,
   "metadata": {},
   "outputs": [
    {
     "name": "stdout",
     "output_type": "stream",
     "text": [
      "more to operator >: True \n",
      "more to operator >=: True \n",
      "more to operator <: True \n",
      "more to operator <=: True \n"
     ]
    }
   ],
   "source": [
    "print (f'more to operator >: { 15 > 10} ')\n",
    "print (f'more to operator >=: { 10 >= 10} ') #more equal\n",
    "print (f'more to operator <: { 1 < 10} ')\n",
    "print (f'more to operator <=: { 10 <= 10} ')"
   ]
  },
  {
   "cell_type": "code",
   "execution_count": 137,
   "metadata": {},
   "outputs": [
    {
     "data": {
      "text/plain": [
       "True"
      ]
     },
     "execution_count": 137,
     "metadata": {},
     "output_type": "execute_result"
    }
   ],
   "source": [
    "# True and True\n",
    "10 > 2 and 2 < 5"
   ]
  },
  {
   "cell_type": "code",
   "execution_count": 138,
   "metadata": {},
   "outputs": [
    {
     "data": {
      "text/plain": [
       "False"
      ]
     },
     "execution_count": 138,
     "metadata": {},
     "output_type": "execute_result"
    }
   ],
   "source": [
    "# True and False\n",
    "10 > 2 and 10 < 5"
   ]
  },
  {
   "cell_type": "code",
   "execution_count": 139,
   "metadata": {},
   "outputs": [
    {
     "data": {
      "text/plain": [
       "False"
      ]
     },
     "execution_count": 139,
     "metadata": {},
     "output_type": "execute_result"
    }
   ],
   "source": [
    "# False or False\n",
    "10 > 20 or 10 < 5"
   ]
  },
  {
   "cell_type": "code",
   "execution_count": 140,
   "metadata": {},
   "outputs": [
    {
     "data": {
      "text/plain": [
       "True"
      ]
     },
     "execution_count": 140,
     "metadata": {},
     "output_type": "execute_result"
    }
   ],
   "source": [
    "# True or False\n",
    "10 > 2 or 10 < 5"
   ]
  },
  {
   "cell_type": "code",
   "execution_count": 141,
   "metadata": {},
   "outputs": [
    {
     "data": {
      "text/plain": [
       "False"
      ]
     },
     "execution_count": 141,
     "metadata": {},
     "output_type": "execute_result"
    }
   ],
   "source": [
    "# False or False\n",
    "10 > 20 or 10 < 5"
   ]
  },
  {
   "cell_type": "code",
   "execution_count": 142,
   "metadata": {},
   "outputs": [
    {
     "data": {
      "text/plain": [
       "True"
      ]
     },
     "execution_count": 142,
     "metadata": {},
     "output_type": "execute_result"
    }
   ],
   "source": [
    "True and 10 > 5 and 10 % 2 == 0 or False #go from left to right\n",
    "# <-- True ---> and <-- True -> or \n",
    "# <-- True ------------ True -> or "
   ]
  },
  {
   "cell_type": "code",
   "execution_count": 143,
   "metadata": {},
   "outputs": [
    {
     "data": {
      "text/plain": [
       "False"
      ]
     },
     "execution_count": 143,
     "metadata": {},
     "output_type": "execute_result"
    }
   ],
   "source": [
    "True and 10 > 5 and 11 % 2 == 0 or False\n",
    "# <-- True ---> and <- False -> or \n",
    "# <--  --------False-------- -> or False"
   ]
  },
  {
   "cell_type": "code",
   "execution_count": 145,
   "metadata": {},
   "outputs": [
    {
     "name": "stdout",
     "output_type": "stream",
     "text": [
      "True\n",
      "False\n",
      "True\n"
     ]
    }
   ],
   "source": [
    "#change something to boolean\n",
    "print (bool('Some text' ) )  #true because not empty\n",
    "print (bool('') ) \n",
    "print (bool(' ') ) "
   ]
  },
  {
   "cell_type": "code",
   "execution_count": 146,
   "metadata": {},
   "outputs": [
    {
     "name": "stdout",
     "output_type": "stream",
     "text": [
      "True\n",
      "False\n",
      "True\n",
      "True\n",
      "True\n"
     ]
    }
   ],
   "source": [
    "print (bool(5) ) #when im changing 5 to boolean it becomes true, but 0 becomes false\n",
    "print (bool(0) ) \n",
    "print (bool(1) ) \n",
    "print (bool(-1) ) \n",
    "print (bool(-51494898498749) ) \n",
    "# not 0 true, 0=false"
   ]
  },
  {
   "cell_type": "code",
   "execution_count": 148,
   "metadata": {},
   "outputs": [
    {
     "name": "stdout",
     "output_type": "stream",
     "text": [
      "True\n",
      "False\n",
      "True\n",
      "True\n",
      "True\n",
      "True\n",
      "True\n"
     ]
    }
   ],
   "source": [
    "# same with integers as with floats\n",
    "print (bool(5.0) ) \n",
    "print (bool(0.0) ) \n",
    "print (bool(1.0) ) \n",
    "print (bool(-1.) ) \n",
    "print (bool(-51494898498749.) ) \n",
    "print (bool(0.5) ) \n",
    "print (bool(0.00000001) )"
   ]
  },
  {
   "cell_type": "code",
   "execution_count": 151,
   "metadata": {},
   "outputs": [
    {
     "name": "stdout",
     "output_type": "stream",
     "text": [
      "True\n",
      "False\n"
     ]
    }
   ],
   "source": [
    "# flip true or false\n",
    "print (5 > 2)\n",
    "print (not 5 > 2)"
   ]
  },
  {
   "cell_type": "code",
   "execution_count": 153,
   "metadata": {},
   "outputs": [
    {
     "name": "stdout",
     "output_type": "stream",
     "text": [
      "False\n",
      "False\n"
     ]
    }
   ],
   "source": [
    "not_even = not 10 % 2 == 0\n",
    "print (not_even)\n",
    "not_even_2 = 10 % 2 != 0\n",
    "print (not_even_2)\n",
    "# both gives same results"
   ]
  },
  {
   "cell_type": "code",
   "execution_count": 157,
   "metadata": {},
   "outputs": [
    {
     "name": "stdout",
     "output_type": "stream",
     "text": [
      "12\n"
     ]
    }
   ],
   "source": [
    "# sum = 0\n",
    "# sum = sum + 5\n",
    "# sum = sum + 10\n",
    "# sum = sum - 3\n",
    "# print (sum)\n",
    "\n",
    "sum = 0\n",
    "sum += 5\n",
    "sum += 10\n",
    "sum -= 3\n",
    "print (sum)\n",
    "# kinda shortcut. shorter version"
   ]
  },
  {
   "cell_type": "code",
   "execution_count": 154,
   "metadata": {},
   "outputs": [
    {
     "name": "stdout",
     "output_type": "stream",
     "text": [
      "1000\n"
     ]
    }
   ],
   "source": [
    "multiply = 1\n",
    "multiply *= 10\n",
    "multiply *= 10\n",
    "multiply *= 10\n",
    "print (multiply)"
   ]
  },
  {
   "cell_type": "markdown",
   "metadata": {},
   "source": [
    "## membership operator"
   ]
  },
  {
   "cell_type": "code",
   "execution_count": 156,
   "metadata": {},
   "outputs": [
    {
     "name": "stdout",
     "output_type": "stream",
     "text": [
      "True\n",
      "False\n",
      "False\n",
      "True\n"
     ]
    }
   ],
   "source": [
    "# eant to check if something exists in bigger thing. \n",
    "text = 'Hello world'\n",
    "print ('world' in text ) #if world exsits in my text\n",
    "print ('World' in text ) #incorrect\n",
    "print ('World ' in text ) #incorrect\n",
    "print ('Darius' not in text )"
   ]
  },
  {
   "cell_type": "markdown",
   "metadata": {},
   "source": [
    "## LIST"
   ]
  },
  {
   "cell_type": "code",
   "execution_count": 159,
   "metadata": {},
   "outputs": [
    {
     "data": {
      "text/plain": [
       "list"
      ]
     },
     "execution_count": 159,
     "metadata": {},
     "output_type": "execute_result"
    }
   ],
   "source": [
    "my_list = [ 1, 5, 10, 15 ]\n",
    "type (my_list)"
   ]
  },
  {
   "cell_type": "code",
   "execution_count": 161,
   "metadata": {},
   "outputs": [
    {
     "name": "stdout",
     "output_type": "stream",
     "text": [
      "lenght:  4\n",
      "1st variable value:  1\n",
      "slice:  [10, 15]\n"
     ]
    }
   ],
   "source": [
    "print ('lenght: ',len(my_list ) )\n",
    "print ('1st variable value: ', my_list[0] )\n",
    "print ('slice: ', my_list[2:] ) #give me everything from 2 to end. it gives back in list form"
   ]
  },
  {
   "cell_type": "code",
   "execution_count": 162,
   "metadata": {},
   "outputs": [
    {
     "name": "stdout",
     "output_type": "stream",
     "text": [
      "[10, 1, 1, 2, 2, 'Darius', 'Vilnius', True, False]\n"
     ]
    }
   ],
   "source": [
    "my_list_2 = [ 10, 1, 1, 2, 2, 'Darius', 'Vilnius', True , 1 > 10] #can put anything inside list\n",
    "print( my_list_2)"
   ]
  },
  {
   "cell_type": "code",
   "execution_count": 169,
   "metadata": {},
   "outputs": [
    {
     "name": "stdout",
     "output_type": "stream",
     "text": [
      "[1, 5, 1, 14984, 10, 15, 54]\n",
      "[1, 1, 5, 10, 15, 54, 14984]\n"
     ]
    }
   ],
   "source": [
    "my_list_3 = [ 1, 5, 1, 14984, 10, 15, 54 ]\n",
    "print (my_list_3)\n",
    "my_list_3.sort() #methods as in strings. in ascending order all numbers\n",
    "print (my_list_3)"
   ]
  },
  {
   "cell_type": "code",
   "execution_count": 170,
   "metadata": {},
   "outputs": [
    {
     "name": "stdout",
     "output_type": "stream",
     "text": [
      "[14984, 54, 15, 10, 5, 1, 1]\n",
      "[1, 1, 5, 10, 15, 54, 14984]\n"
     ]
    }
   ],
   "source": [
    "my_list_3.sort(reverse=True) #print in reverse order already sorted list\n",
    "print (my_list_3)\n",
    "#can use slicing as well\n",
    "print (my_list_3[::-1])"
   ]
  },
  {
   "cell_type": "code",
   "execution_count": 185,
   "metadata": {},
   "outputs": [
    {
     "name": "stdout",
     "output_type": "stream",
     "text": [
      "[1, 5, 1, ['New list inside', 'Vilnius'], 10, 15, 54]\n",
      "['New list inside', 'Vilnius']\n"
     ]
    }
   ],
   "source": [
    "#can create list in a list\n",
    "my_list_4 = [ 1, 5, 1, ['New list inside', \"Vilnius\"], 10, 15, 54 ]\n",
    "print (my_list_4)\n",
    "print (my_list_4[3]) "
   ]
  },
  {
   "cell_type": "markdown",
   "metadata": {},
   "source": [
    "## lesson 4"
   ]
  },
  {
   "cell_type": "code",
   "execution_count": 186,
   "metadata": {},
   "outputs": [
    {
     "name": "stdout",
     "output_type": "stream",
     "text": [
      "[1, 5, 1, ['New list inside', 'Vilnius'], 10, 15, 54]\n",
      "[1, 100, 1, ['New list inside', 'Vilnius'], 10, 15, 54]\n"
     ]
    }
   ],
   "source": [
    "print (my_list_4 )\n",
    "my_list_4[1] = 100 #change value of a list\n",
    "print (my_list_4)"
   ]
  },
  {
   "cell_type": "code",
   "execution_count": 190,
   "metadata": {},
   "outputs": [
    {
     "name": "stdout",
     "output_type": "stream",
     "text": [
      "[1, 100, 1, ['New list inside', 'Vilnius'], 10, 15, 54]\n",
      "['New list inside', 'Vilnius']\n",
      "New list inside\n",
      "[1, 100, 1, ['HAHA', 'Vilnius'], 10, 15, 54]\n"
     ]
    }
   ],
   "source": [
    "#change a value of a list in another list\n",
    "print (my_list_4)\n",
    "print(my_list_4[3]) #find that list inside another list\n",
    "print (my_list_4[3][0]) #1st value of inside list \"New list inside\"\n",
    "my_list_4[3][0] = 'HAHA' #change to HAHA\n",
    "print(my_list_4)"
   ]
  },
  {
   "cell_type": "code",
   "execution_count": null,
   "metadata": {},
   "outputs": [],
   "source": [
    "# import numpy as np #to use arrays. Question from classmate\n",
    "# np.ones( (5,5) )"
   ]
  },
  {
   "cell_type": "markdown",
   "metadata": {},
   "source": [
    "List are more like vectors which can change overtime\n",
    "arrays are fixed"
   ]
  },
  {
   "cell_type": "code",
   "execution_count": 193,
   "metadata": {},
   "outputs": [
    {
     "data": {
      "text/plain": [
       "[1, 2, 3, 'a', 'b', 'c']"
      ]
     },
     "execution_count": 193,
     "metadata": {},
     "output_type": "execute_result"
    }
   ],
   "source": [
    "#adding lists\n",
    "([1,2,3] + ['a', 'b', 'c'] )\n",
    "#can multiply as well ([1,2,3] + ['a', 'b', 'c'] ) * 10\n",
    "#can't substract and divide"
   ]
  },
  {
   "cell_type": "markdown",
   "metadata": {},
   "source": [
    "Lists methods"
   ]
  },
  {
   "cell_type": "code",
   "execution_count": 203,
   "metadata": {},
   "outputs": [
    {
     "name": "stdout",
     "output_type": "stream",
     "text": [
      "[1, 2, 3]\n",
      "[1, 2, 3, 5]\n",
      "[1, 2, 3, 5, 'abs']\n",
      "[1, 2, 3, 5, 'abs', [10, 100, 1000]]\n"
     ]
    }
   ],
   "source": [
    "my_list = [1,2,3]\n",
    "print (my_list)\n",
    "my_list.append(5) #append- you provide a single value which you want to add. adds to the end\n",
    "print (my_list)\n",
    "my_list.append('abs')\n",
    "print (my_list)\n",
    "my_list.append( [10,100,1000] )\n",
    "print (my_list)\n"
   ]
  },
  {
   "cell_type": "code",
   "execution_count": 204,
   "metadata": {},
   "outputs": [
    {
     "name": "stdout",
     "output_type": "stream",
     "text": [
      "[1, 2, 3, 5, 'abs', [10, 100, 1000]]\n",
      "[1, 2, 3, 5, 'abs', [10, 100, 1000], 'a', 'b', 's', 156]\n",
      "[1, 2, 3, 5, 'abs', [10, 100, 1000], 'a', 'b', 's', 156, 10, 100, 1000]\n"
     ]
    }
   ],
   "source": [
    "print (my_list)\n",
    "my_list.extend('abs') #similar to append. added as seperate items\n",
    "my_list.extend([156])\n",
    "print (my_list)\n",
    "my_list.extend( [10,100,1000] )\n",
    "print (my_list)\n",
    "#better than append cause ads as items and not as a list (no [] brackets)\n"
   ]
  },
  {
   "cell_type": "code",
   "execution_count": 205,
   "metadata": {},
   "outputs": [
    {
     "name": "stdout",
     "output_type": "stream",
     "text": [
      "1000\n",
      "[1, 2, 3, 5, 'abs', [10, 100, 1000], 'a', 'b', 's', 156, 10, 100]\n",
      "100\n",
      "[1, 2, 3, 5, 'abs', [10, 100, 1000], 'a', 'b', 's', 156, 10]\n",
      "1\n",
      "[2, 3, 5, 'abs', [10, 100, 1000], 'a', 'b', 's', 156, 10]\n"
     ]
    }
   ],
   "source": [
    "poped_value = my_list.pop() #deletes single value (from the end) and gives it back to you\n",
    "print (poped_value)\n",
    "print (my_list)\n",
    "poped_value = my_list.pop()\n",
    "print (poped_value)\n",
    "print (my_list)\n",
    "poped_value = my_list.pop(0) #can specify which value you want to be taken\n",
    "print (poped_value)\n",
    "print (my_list)\n",
    "#useful to use in the que"
   ]
  },
  {
   "cell_type": "code",
   "execution_count": 206,
   "metadata": {},
   "outputs": [
    {
     "name": "stdout",
     "output_type": "stream",
     "text": [
      "[2, 3, 5, 'abs', [10, 100, 1000], 'a', 'b', 's', 156, 10]\n",
      "[2, 3, 5, 'new_text', 'abs', [10, 100, 1000], 'a', 'b', 's', 156, 10]\n"
     ]
    }
   ],
   "source": [
    "#works similar to append\n",
    "print (my_list)\n",
    "my_list.insert(3, \"new_text\")\n",
    "print (my_list)"
   ]
  },
  {
   "cell_type": "code",
   "execution_count": 207,
   "metadata": {},
   "outputs": [
    {
     "name": "stdout",
     "output_type": "stream",
     "text": [
      "[2, 3, 5, 'new_text', 'abs', [10, 100, 1000], 'a', 'b', 's', 156, 10]\n",
      "[2, 3, 5, 'new_text', 'abs', [10, 100, 1000], 'b', 's', 156, 10]\n"
     ]
    }
   ],
   "source": [
    "print (my_list)\n",
    "my_list.remove('a') # will give an error if does not exist (for  eg if i will run again)\n",
    "print (my_list)"
   ]
  },
  {
   "cell_type": "code",
   "execution_count": 216,
   "metadata": {},
   "outputs": [
    {
     "name": "stdout",
     "output_type": "stream",
     "text": [
      "[2, 3, 5, 'new_text', 'abs', [10, 100, 1000], 'b', 's', 156, 10]\n",
      "9\n"
     ]
    }
   ],
   "source": [
    "#index gives index or a value. if you dont know if you have a specific value\n",
    "print (my_list)\n",
    "print (my_list.index(10))"
   ]
  },
  {
   "cell_type": "code",
   "execution_count": 224,
   "metadata": {},
   "outputs": [
    {
     "name": "stdout",
     "output_type": "stream",
     "text": [
      "[2, 3, 5, 'new_text', 'abs', [10, 100, 1000], 'b', 's', 156, 10]\n",
      "9\n",
      "10\n"
     ]
    }
   ],
   "source": [
    "print (my_list)\n",
    "my_index = my_list.index(10) \n",
    "print (my_index) #gives value of the last number. doesnt check inside that insider list\n",
    "print (my_list[my_index] ) #gives me position. where exactly number is located\n",
    "#need to be sure that this value is in the list"
   ]
  },
  {
   "cell_type": "code",
   "execution_count": null,
   "metadata": {},
   "outputs": [],
   "source": [
    "#my_list.index(15419)  # Errorm not found\n",
    "index_10 = my_list.index([10, 100, 1000]) \n",
    "print (index_10 )\n",
    "print (my_list[index_10] )"
   ]
  },
  {
   "cell_type": "code",
   "execution_count": null,
   "metadata": {},
   "outputs": [],
   "source": [
    "# my_list.clear() # deletes everything"
   ]
  },
  {
   "cell_type": "code",
   "execution_count": 225,
   "metadata": {},
   "outputs": [
    {
     "name": "stdout",
     "output_type": "stream",
     "text": [
      "[2, 3, 5, 'new_text', 'abs', [10, 100, 1000], 'b', 's', 156, 10, 5, 5, 5, 5, 5]\n"
     ]
    },
    {
     "data": {
      "text/plain": [
       "6"
      ]
     },
     "execution_count": 225,
     "metadata": {},
     "output_type": "execute_result"
    }
   ],
   "source": [
    "# counts how many values there are in the list\n",
    "my_list.extend([5,5,5,5,5])\n",
    "print (my_list)\n",
    "my_list.count(5) #counting how many fives i have. works only for integers"
   ]
  },
  {
   "cell_type": "code",
   "execution_count": 226,
   "metadata": {},
   "outputs": [
    {
     "data": {
      "text/plain": [
       "[5, 5, 5, 5, 5, 10, 156, 's', 'b', [10, 100, 1000], 'abs', 'new_text', 5, 3, 2]"
      ]
     },
     "execution_count": 226,
     "metadata": {},
     "output_type": "execute_result"
    }
   ],
   "source": [
    "#reverses our list\n",
    "my_list.reverse()\n",
    "my_list"
   ]
  },
  {
   "cell_type": "markdown",
   "metadata": {},
   "source": [
    "# Mutable vs immutable"
   ]
  },
  {
   "cell_type": "code",
   "execution_count": 229,
   "metadata": {},
   "outputs": [
    {
     "name": "stdout",
     "output_type": "stream",
     "text": [
      "1\n",
      "2\n",
      "4312709424\n",
      "4312709456\n"
     ]
    }
   ],
   "source": [
    "# immutable - if one changed another wont change\n",
    "a = 1\n",
    "b = a\n",
    "b += 1 \n",
    "print(a)\n",
    "print(b)\n",
    "print( id(a) ) #shows identity of an object. where it is located in memory\n",
    "print( id(b) ) #they are sligtly different"
   ]
  },
  {
   "cell_type": "code",
   "execution_count": 231,
   "metadata": {},
   "outputs": [
    {
     "name": "stdout",
     "output_type": "stream",
     "text": [
      "[1, 2, 3, 100]\n",
      "[1, 2, 3, 100]\n",
      "4375308224\n",
      "4375308224\n"
     ]
    }
   ],
   "source": [
    "# mutable\n",
    "list_1 = [1,2,3]\n",
    "list_2 = list_1\n",
    "list_2.append(100) #we only appended list2 but both get these values\n",
    "print(list_1)\n",
    "print(list_2)\n",
    "print( id(list_1) )\n",
    "print( id(list_2) )\n",
    "#when you are assigning one list to another it doesnt make a copy but references same thing"
   ]
  },
  {
   "cell_type": "code",
   "execution_count": 232,
   "metadata": {},
   "outputs": [
    {
     "name": "stdout",
     "output_type": "stream",
     "text": [
      "[1, 2, 3]\n",
      "[1, 2, 3, 100]\n",
      "4375309760\n",
      "4362951232\n"
     ]
    }
   ],
   "source": [
    "# Fixing mutability (Solution 1). \n",
    "list_1 = [1,2,3]\n",
    "list_2 = list_1.copy() #return a shallow (pavirsutiniska) copy of a list \n",
    "list_2.append(100) #we only appended list2 but both get these values\n",
    "print(list_1)\n",
    "print(list_2)\n",
    "print( id(list_1) )\n",
    "print( id(list_2) )"
   ]
  },
  {
   "cell_type": "code",
   "execution_count": 234,
   "metadata": {},
   "outputs": [
    {
     "name": "stdout",
     "output_type": "stream",
     "text": [
      "[1, 2, [1, 0, 100, 100]]\n",
      "[1, 2, [1, 0, 100, 100]]\n",
      "4375329728\n",
      "4375309760\n"
     ]
    }
   ],
   "source": [
    "# what if i have list1 which have another list inside?\n",
    "list_1 = [1,2,[1,0,100] ]\n",
    "list_2 = list_1.copy() #copies only the TOP layer\n",
    "list_2[2].append(100) #appended NOT top level list, but the one which is indside\n",
    "print(list_1)\n",
    "print(list_2)\n",
    "print( id(list_1) )\n",
    "print( id(list_2) )\n",
    "#we have the same problem again\n",
    "#both lists changes, but ids ar different "
   ]
  },
  {
   "cell_type": "code",
   "execution_count": 235,
   "metadata": {},
   "outputs": [
    {
     "name": "stdout",
     "output_type": "stream",
     "text": [
      "[1, 2, [1, 0, 100, 100]]\n",
      "[1, 2, [1, 0, 100, 100]]\n",
      "4375325888\n",
      "4375400896\n",
      "4375176448\n",
      "4375176448\n"
     ]
    }
   ],
   "source": [
    "# continue\n",
    "# what if i have list1 which have another list inside?\n",
    "list_1 = [1,2,[1,0,100] ]\n",
    "list_2 = list_1.copy()\n",
    "#list_2.append(100)\n",
    "list_2[2].append(100)\n",
    "print(list_1)\n",
    "print(list_2)\n",
    "print( id(list_1) ) #ids of these two are different\n",
    "print( id(list_2) )\n",
    "\n",
    "print( id(list_1[2]) ) #ids of smaller list is the same\n",
    "print( id(list_2[2]) )"
   ]
  },
  {
   "cell_type": "code",
   "execution_count": 237,
   "metadata": {},
   "outputs": [
    {
     "name": "stdout",
     "output_type": "stream",
     "text": [
      "[1, 2, [1, 0, 100]]\n",
      "[1, 2, [1, 0, 100, 50]]\n",
      "4375513664\n",
      "4375400896\n",
      "4375325888\n",
      "4375402240\n"
     ]
    }
   ],
   "source": [
    "# Fixing mutability (Solution 2). BEST SOLUTION\n",
    "import copy #library called copy\n",
    "list_1 = [1,2,[1,0,100] ]\n",
    "list_2 = copy.deepcopy(list_1) #deepcopy-copies EVERY layer inside my list\n",
    "list_2[2].append(50)\n",
    "print(list_1)\n",
    "print(list_2)\n",
    "print( id(list_1) )\n",
    "print( id(list_2) )\n",
    "print( id(list_1[2]) )\n",
    "print( id(list_2[2]) )"
   ]
  },
  {
   "cell_type": "code",
   "execution_count": 239,
   "metadata": {},
   "outputs": [
    {
     "name": "stdout",
     "output_type": "stream",
     "text": [
      "[5, 5, 5, 5, 5, 10, 156, 's', 'b', [10, 100, 1000], 'abs', 'new_text', 5, 3, 2]\n",
      "True\n",
      "False\n"
     ]
    }
   ],
   "source": [
    "print (my_list)\n",
    "print('b' in my_list) # check if values are in the list. keyword IN\n",
    "print(153 in my_list) \n",
    "#useful after remove or index functions"
   ]
  },
  {
   "cell_type": "code",
   "execution_count": 240,
   "metadata": {},
   "outputs": [],
   "source": [
    "# List tasks in another doc"
   ]
  },
  {
   "cell_type": "markdown",
   "metadata": {},
   "source": [
    "## Tuple"
   ]
  },
  {
   "cell_type": "code",
   "execution_count": 243,
   "metadata": {},
   "outputs": [
    {
     "name": "stdout",
     "output_type": "stream",
     "text": [
      "(1, 1, 'a', 'b', 'ab')\n",
      "(1, 1, 'a')\n",
      "ab\n"
     ]
    }
   ],
   "source": [
    "# similar to list, you just use () brackets not []. \n",
    "# you cant't change values in tuple\n",
    "my_tuple = (1, 1, 'a', 'b', 'ab' )\n",
    "print (my_tuple)\n",
    "print (my_tuple[:3] )\n",
    "print (my_tuple[4])\n"
   ]
  },
  {
   "cell_type": "code",
   "execution_count": 244,
   "metadata": {},
   "outputs": [
    {
     "name": "stdout",
     "output_type": "stream",
     "text": [
      "lenght of the tuple: 5\n",
      "count of 1 in tuple: 2\n",
      "count of 'c' in tuple: 1\n",
      "check if 'b' is in tuple: True\n",
      "check 'b' index in tuple: 3\n"
     ]
    }
   ],
   "source": [
    "print (f'lenght of the tuple: {len (my_tuple)}' )\n",
    "print (f'count of 1 in tuple: {my_tuple.count(1)}' ) \n",
    "print (f\"count of 'c' in tuple: {my_tuple.count('a')}\" )\n",
    "print (f\"check if 'b' is in tuple: { 'b' in my_tuple}\" )\n",
    "print (f\"check 'b' index in tuple: { my_tuple.index('b')}\" )\n",
    "\n",
    "# my_tuple[2] = 'c' # Error, can't do that because you cant change sthe va,lues of it"
   ]
  },
  {
   "cell_type": "code",
   "execution_count": 245,
   "metadata": {},
   "outputs": [
    {
     "name": "stdout",
     "output_type": "stream",
     "text": [
      "(1, 2, 3, 4, 5, 3)\n"
     ]
    }
   ],
   "source": [
    "# can create new tuple by adding exsiting tuples\n",
    "tuple_1 = (1,2,3)\n",
    "tuple_2 = (4,5,3)\n",
    "tuple_3 = tuple_1 + tuple_2\n",
    "print(tuple_3)"
   ]
  },
  {
   "cell_type": "code",
   "execution_count": 247,
   "metadata": {},
   "outputs": [
    {
     "name": "stdout",
     "output_type": "stream",
     "text": [
      "[1, 2, 3, 4, 5, 3]\n"
     ]
    }
   ],
   "source": [
    "# changing value of number inside the tuple\n",
    "# tuple_3[3] = 10 won't work\n",
    "tmp_list = list(tuple_3) # can change tuple into list\n",
    "print (tmp_list)"
   ]
  },
  {
   "cell_type": "code",
   "execution_count": 249,
   "metadata": {},
   "outputs": [
    {
     "name": "stdout",
     "output_type": "stream",
     "text": [
      "[1, 2, 3, 10, 5, 3]\n",
      "(1, 2, 3, 111, 5, 3)\n"
     ]
    }
   ],
   "source": [
    "tmp_list = list(tuple_3)\n",
    "print (tmp_list)\n",
    "tmp_list[3] = 111\n",
    "tuple_3 = tuple(tmp_list) #then change back to tuple\n",
    "print (tuple_3)"
   ]
  },
  {
   "cell_type": "code",
   "execution_count": null,
   "metadata": {},
   "outputs": [],
   "source": []
  },
  {
   "cell_type": "code",
   "execution_count": null,
   "metadata": {},
   "outputs": [],
   "source": [
    "tuple1 = (11, [222, 33], 44, 55)\n",
    "print (tuple1)\n",
    "tmp_list = list(tuple1)\n",
    "print (tmp_list[1])\n",
    "tmp_list[1][1] = 22\n",
    "tuple1 = tuple(tuple1)\n",
    "print (tuple1)"
   ]
  },
  {
   "cell_type": "code",
   "execution_count": null,
   "metadata": {},
   "outputs": [],
   "source": [
    "tuple1 = (11, [222, 33], 44, 55)\n",
    "print (tuple1)\n",
    "tuple1[1][1] = 22\n",
    "print (tuple1)"
   ]
  },
  {
   "cell_type": "markdown",
   "metadata": {},
   "source": [
    "## Range"
   ]
  },
  {
   "cell_type": "code",
   "execution_count": 257,
   "metadata": {},
   "outputs": [
    {
     "name": "stdout",
     "output_type": "stream",
     "text": [
      "range(0, 10)\n",
      "[0, 1, 2, 3, 4, 5, 6, 7, 8, 9]\n",
      "[5, 6, 7, 8, 9]\n",
      "[25, 30, 35, 40, 45]\n",
      "[50, 45, 40, 35, 30]\n"
     ]
    }
   ],
   "source": [
    "print(range(10)) # need to add that its list if i want all sequence\n",
    "print (list(range(10) ) )\n",
    "print (list(range(5, 10) ) ) #from 5 to 10. last number not included\n",
    "print (list(range(25, 50, 5) ) ) #STEP - every 5th.\n",
    "print (list(range(50, 25, -5) ) )\n",
    "# when you want to iterate, or do something for a few times"
   ]
  },
  {
   "cell_type": "code",
   "execution_count": 258,
   "metadata": {},
   "outputs": [
    {
     "name": "stdout",
     "output_type": "stream",
     "text": [
      "<class 'range'>\n",
      "<class 'list'>\n",
      "<class 'tuple'>\n",
      "<class 'tuple'>\n"
     ]
    }
   ],
   "source": [
    "# check what type is it\n",
    "print (type( range(10) ) )\n",
    "print (type( [1,5,3] ) )\n",
    "print (type( (1,5,3) ) )\n",
    "print (type( my_tuple ) )"
   ]
  },
  {
   "cell_type": "markdown",
   "metadata": {},
   "source": [
    "## For loop"
   ]
  },
  {
   "cell_type": "code",
   "execution_count": 259,
   "metadata": {},
   "outputs": [
    {
     "name": "stdout",
     "output_type": "stream",
     "text": [
      "City is called Vilnius\n",
      "City is called Kaunas\n",
      "City is called London\n",
      "went through all cities\n"
     ]
    }
   ],
   "source": [
    "cities = ['Vilnius', 'Kaunas', 'London']\n",
    "for city in cities:\n",
    "    print (f'City is called {city}') #4 spaces means this command belongs to this loop above\n",
    "print (\"went through all cities\")"
   ]
  },
  {
   "cell_type": "code",
   "execution_count": 263,
   "metadata": {},
   "outputs": [
    {
     "name": "stdout",
     "output_type": "stream",
     "text": [
      "index is 0\n",
      "index is 1\n",
      "index is 2\n",
      "index is 3\n",
      "index is 4\n",
      "all done\n"
     ]
    }
   ],
   "source": [
    "for i in range(5): #i = index\n",
    "    print (f'index is {i}')\n",
    "print (\"all done\")"
   ]
  },
  {
   "cell_type": "code",
   "execution_count": 264,
   "metadata": {},
   "outputs": [
    {
     "name": "stdout",
     "output_type": "stream",
     "text": [
      "index is 5\n",
      "index is 10\n",
      "index is 15\n",
      "index is 20\n",
      "index is 25\n",
      "index is 30\n",
      "index is 35\n",
      "index is 40\n",
      "index is 45\n",
      "all done\n"
     ]
    }
   ],
   "source": [
    "for i in range(5,50,5):\n",
    "    print (f'index is {i}')\n",
    "print (\"all done\")"
   ]
  },
  {
   "cell_type": "code",
   "execution_count": null,
   "metadata": {},
   "outputs": [],
   "source": [
    "days = ('Monday', 'Tuesday', 'Wednesday', 'Thursday', 'Friday', 'Saturday' , 'Sunday')\n",
    "hours = [10, 11, 12, 13, 14, 15, 16, 17, 18, 19]\n",
    "\n",
    "combinations = []\n",
    "for day in days:\n",
    "    print(day)\n",
    "    for hour in hours:\n",
    "        print (hour)\n",
    "        combination = (day,hour)\n",
    "        combinations.append( combination )\n",
    "    print ('Checking next day')\n",
    "\n",
    "print (combinations)"
   ]
  },
  {
   "cell_type": "code",
   "execution_count": 268,
   "metadata": {},
   "outputs": [
    {
     "name": "stdout",
     "output_type": "stream",
     "text": [
      "65\n"
     ]
    }
   ],
   "source": [
    "#input\n",
    "text = input(\"enter something\")\n",
    "print (text)"
   ]
  },
  {
   "cell_type": "code",
   "execution_count": 266,
   "metadata": {},
   "outputs": [
    {
     "name": "stdout",
     "output_type": "stream",
     "text": [
      "123\n",
      "<class 'str'>\n",
      "<class 'int'>\n"
     ]
    }
   ],
   "source": [
    "number = input(\"enter a number\")\n",
    "print (number) #123, its a string type\n",
    "print (type(number) )\n",
    "print (type( int( number) ) )"
   ]
  },
  {
   "cell_type": "markdown",
   "metadata": {},
   "source": [
    "## If declaration"
   ]
  },
  {
   "cell_type": "code",
   "execution_count": 3,
   "metadata": {},
   "outputs": [
    {
     "name": "stdout",
     "output_type": "stream",
     "text": [
      "That is true\n",
      "end of script\n"
     ]
    }
   ],
   "source": [
    "if 5 > 1:\n",
    "    print ('That is true')\n",
    "# if 0 > 1:\n",
    "#     print ('That is true') it will print just end\n",
    "print ('end of script')"
   ]
  },
  {
   "cell_type": "code",
   "execution_count": 6,
   "metadata": {},
   "outputs": [
    {
     "name": "stdout",
     "output_type": "stream",
     "text": [
      "number is more than ten\n",
      "end of script\n"
     ]
    }
   ],
   "source": [
    "number = 19\n",
    "if number > 10:\n",
    "    print ('number is more than ten')\n",
    "else: #2nd level of if\n",
    "    print ('number is less or equal 10') \n",
    "\n",
    "print ('end of script')"
   ]
  },
  {
   "cell_type": "code",
   "execution_count": 11,
   "metadata": {},
   "outputs": [
    {
     "name": "stdout",
     "output_type": "stream",
     "text": [
      "Hi Darius\n",
      "end of script\n"
     ]
    }
   ],
   "source": [
    "#3rd level of if\n",
    "name = 'Darius'\n",
    "year = 2005\n",
    "\n",
    "if name == 'Linas':\n",
    "    print ('Hi Linas')\n",
    "elif name == 'Darius' and year > 2000: #executes this\n",
    "    print ('Hi Darius')\n",
    "else: #skip this\n",
    "    print ('Hi unknown person')\n",
    "print ('end of script')"
   ]
  },
  {
   "cell_type": "code",
   "execution_count": 15,
   "metadata": {},
   "outputs": [
    {
     "name": "stdout",
     "output_type": "stream",
     "text": [
      "year is greater than 2000\n",
      "end of script\n"
     ]
    }
   ],
   "source": [
    "name = 'Darius'\n",
    "year = 2005\n",
    "\n",
    "if name == 'Linas':\n",
    "    print ('Hi Linas')\n",
    "elif year > 2000:\n",
    "    print ('year is greater than 2000')\n",
    "elif name == 'Darius' and year > 2000: # will never execute this because of year\n",
    "    print ('Hi Darius') \n",
    "else:\n",
    "    print ('Hi unknown person') \n",
    "print ('end of script')\n",
    "# it only checks for 1st statemnet which is true and skips everything else even if its true\n",
    "#ORDER IS IMPORTANT WITH ELIF"
   ]
  },
  {
   "cell_type": "code",
   "execution_count": 18,
   "metadata": {},
   "outputs": [
    {
     "name": "stdout",
     "output_type": "stream",
     "text": [
      "year is greater than 2000\n",
      "Hi Darius\n",
      "end of script\n"
     ]
    }
   ],
   "source": [
    "# correction of above ^\n",
    "name = 'Darius'\n",
    "year = 2005\n",
    "if name == 'Linas':\n",
    "    print ('Hi Linas')\n",
    "elif year > 2000:\n",
    "    print ('year is greater than 2000')\n",
    "    if name == 'Darius':\n",
    "        print ('Hi Darius') # will be executed if name is Darius \n",
    "else:\n",
    "    print ('Hi unknown person')\n",
    "print ('end of script')"
   ]
  },
  {
   "cell_type": "code",
   "execution_count": 20,
   "metadata": {},
   "outputs": [
    {
     "name": "stdout",
     "output_type": "stream",
     "text": [
      "end of script\n"
     ]
    }
   ],
   "source": [
    "#if will check all statemnst and return all what is true\n",
    "name = 'Darius'\n",
    "year = 2000\n",
    "\n",
    "if name == 'Linas':\n",
    "    print ('Hi Linas')\n",
    "if year > 2000:\n",
    "    print ('year is greater than 2000')\n",
    "if name == 'Darius' and year > 2000:\n",
    "    print ('Hi Darius') # will never execute this\n",
    "# else:\n",
    "#     print ('Hi unknown person')\n",
    "print ('end of script')\n",
    "# all commands will be executed if these statements are true"
   ]
  },
  {
   "cell_type": "code",
   "execution_count": 22,
   "metadata": {},
   "outputs": [
    {
     "name": "stdout",
     "output_type": "stream",
     "text": [
      "0\n",
      "3\n",
      "6\n",
      "9\n",
      "12\n",
      "15\n",
      "18\n",
      "21\n",
      "24\n",
      "27\n",
      "30\n"
     ]
    }
   ],
   "source": [
    "for number in range(0,31):\n",
    "    if number % 3 == 0: #its divided by 3 with no left values\n",
    "        print (number)"
   ]
  },
  {
   "cell_type": "code",
   "execution_count": 89,
   "metadata": {},
   "outputs": [
    {
     "name": "stdout",
     "output_type": "stream",
     "text": [
      "[110, 114, 118, 122, 126, 130, 134, 138, 142, 146, 150, 154, 158, 162, 166, 170, 174, 178, 182, 186, 190, 194, 198, 202, 206, 210]\n",
      "0\n",
      "7\n",
      "14\n",
      "21\n"
     ]
    }
   ],
   "source": [
    "my_list = list(range(110,213,4))\n",
    "print (my_list)\n",
    "\n",
    "for number in range(0,len(my_list)):\n",
    "    if number % 7 == 0:\n",
    "        print (number)    \n",
    "#what if i want every 7th number from this list?"
   ]
  },
  {
   "cell_type": "code",
   "execution_count": 25,
   "metadata": {},
   "outputs": [
    {
     "name": "stdout",
     "output_type": "stream",
     "text": [
      "[110, 114, 118, 122, 126, 130, 134, 138, 142, 146, 150, 154, 158, 162, 166, 170, 174, 178, 182, 186, 190, 194, 198, 202, 206, 210]\n",
      "110\n",
      "138\n",
      "166\n",
      "194\n"
     ]
    }
   ],
   "source": [
    "# what if i want every 7th number from this list?\n",
    "my_list = list(range(110,213,4))\n",
    "print (my_list)\n",
    "\n",
    "for idx in range(0,len(my_list)):\n",
    "    if idx % 7 == 0:\n",
    "        print (my_list[idx])"
   ]
  },
  {
   "cell_type": "markdown",
   "metadata": {},
   "source": [
    "showing tasks as well"
   ]
  },
  {
   "cell_type": "markdown",
   "metadata": {},
   "source": [
    "Get the amount of\n",
    "the first 50 digits\n",
    "inclusive only if the\n",
    "new current amount\n",
    "is even"
   ]
  },
  {
   "cell_type": "code",
   "execution_count": 26,
   "metadata": {},
   "outputs": [
    {
     "name": "stdout",
     "output_type": "stream",
     "text": [
      "2\n",
      "6\n",
      "12\n",
      "20\n",
      "30\n",
      "42\n",
      "56\n",
      "72\n",
      "90\n",
      "110\n",
      "132\n",
      "156\n",
      "182\n",
      "210\n",
      "240\n",
      "272\n",
      "306\n",
      "342\n",
      "380\n",
      "420\n",
      "462\n",
      "506\n",
      "552\n",
      "600\n",
      "650\n"
     ]
    }
   ],
   "source": [
    "my_sum = 0\n",
    "\n",
    "for number in range(1,51):\n",
    "    if (my_sum + number) % 2 == 0:\n",
    "        my_sum += number\n",
    "        print (my_sum)"
   ]
  },
  {
   "cell_type": "markdown",
   "metadata": {},
   "source": [
    "Get all possible combinations from these\n",
    "lists only if the day is either Monday or\n",
    "Wednesday and the hours are from 12 to\n",
    "17, enter them in the list\n",
    "\n",
    "days = (‘Monday’, ‘Tuesday’, ‘Wednesday’, ‘Thursday’, ‘Friday’, ‘Saturday’ , ‘Sunday’)\n",
    "hours = [10, 11, 12, 13, 14, 15, 16, 17, 18, 19]"
   ]
  },
  {
   "cell_type": "code",
   "execution_count": 27,
   "metadata": {},
   "outputs": [
    {
     "name": "stdout",
     "output_type": "stream",
     "text": [
      "Monday\n",
      "12\n",
      "13\n",
      "14\n",
      "15\n",
      "16\n",
      "17\n",
      "Checking next day\n",
      "Wednesday\n",
      "12\n",
      "13\n",
      "14\n",
      "15\n",
      "16\n",
      "17\n",
      "Checking next day\n",
      "[('Monday', 12), ('Monday', 13), ('Monday', 14), ('Monday', 15), ('Monday', 16), ('Monday', 17), ('Wednesday', 12), ('Wednesday', 13), ('Wednesday', 14), ('Wednesday', 15), ('Wednesday', 16), ('Wednesday', 17)]\n"
     ]
    }
   ],
   "source": [
    "days = ('Monday', 'Tuesday', 'Wednesday', 'Thursday', 'Friday', 'Saturday' , 'Sunday')\n",
    "hours = [10, 11, 12, 13, 14, 15, 16, 17, 18, 19]\n",
    "\n",
    "available_days = [ 'Monday', 'Wednesday']\n",
    "available_hours = [12, 13, 14, 15, 16, 17]\n",
    "\n",
    "combinations = []\n",
    "for day in days:\n",
    "    if day in available_days:\n",
    "        print(day)\n",
    "        for hour in hours:\n",
    "            if hour in available_hours:\n",
    "                print (hour)\n",
    "                combination = (day,hour)\n",
    "                combinations.append(combination)\n",
    "        print ('Checking next day')\n",
    "\n",
    "print (combinations)"
   ]
  },
  {
   "cell_type": "code",
   "execution_count": 28,
   "metadata": {},
   "outputs": [
    {
     "name": "stdout",
     "output_type": "stream",
     "text": [
      "['some text', 'new text']\n"
     ]
    }
   ],
   "source": [
    "my_list = []\n",
    "my_list.append( \"some text\" )\n",
    "my_list.append( \"new text\" )\n",
    "print (my_list)"
   ]
  },
  {
   "cell_type": "markdown",
   "metadata": {},
   "source": [
    "## List comprehension "
   ]
  },
  {
   "cell_type": "code",
   "execution_count": 30,
   "metadata": {},
   "outputs": [
    {
     "name": "stdout",
     "output_type": "stream",
     "text": [
      "[10, 8, 148, 16]\n"
     ]
    }
   ],
   "source": [
    "#if we want to multiply all values by 2\n",
    "my_list = [5,4,74,8]\n",
    "mult_2 = [number*2  for number in my_list ]\n",
    "print(mult_2)"
   ]
  },
  {
   "cell_type": "code",
   "execution_count": 33,
   "metadata": {},
   "outputs": [
    {
     "name": "stdout",
     "output_type": "stream",
     "text": [
      "[8, 148]\n"
     ]
    }
   ],
   "source": [
    "my_list = [5,4,74,7]\n",
    "#RESULT for STH in iterable (kartojamas)]\n",
    "mult_2 = [number*2 for number in my_list \\\n",
    "if number % 2 == 0 ] #only even numbers will be multiplied\n",
    "print(mult_2)"
   ]
  },
  {
   "cell_type": "code",
   "execution_count": 40,
   "metadata": {},
   "outputs": [
    {
     "name": "stdout",
     "output_type": "stream",
     "text": [
      "[3, 4, 9, 8, 15, 12]\n"
     ]
    }
   ],
   "source": [
    "my_list4 = [1,2,3,4,5,6]\n",
    "mult= [number*2 if number % 2 == 0 else number * 3 for number in my_list4 ]\n",
    "# if nr is dividible 2 will be multiplied by 2, if not multiplied by 3\n",
    "print(mult)"
   ]
  },
  {
   "cell_type": "code",
   "execution_count": 44,
   "metadata": {},
   "outputs": [
    {
     "name": "stdout",
     "output_type": "stream",
     "text": [
      "[(4, 8), (74, 148)]\n"
     ]
    }
   ],
   "source": [
    "#random\n",
    "my_list = [5,4,74,7]\n",
    "#mult_2 = [number for number in my_list if number % 2 == 0 ] #only even numbers should be multiplied\n",
    "mult_2 = [(number, number * 2) for number in my_list if number % 2 == 0 ]\n",
    "print(mult_2)"
   ]
  },
  {
   "cell_type": "code",
   "execution_count": 42,
   "metadata": {},
   "outputs": [
    {
     "name": "stdout",
     "output_type": "stream",
     "text": [
      "[4, 74]\n"
     ]
    }
   ],
   "source": [
    "my_list = [5,4,74,7]\n",
    "mult_2 = [number for number in my_list if number % 2 == 0 ]\n",
    "print(mult_2)"
   ]
  },
  {
   "cell_type": "code",
   "execution_count": 45,
   "metadata": {},
   "outputs": [
    {
     "name": "stdout",
     "output_type": "stream",
     "text": [
      "[4, 74]\n"
     ]
    }
   ],
   "source": [
    "#same as ^\n",
    "my_list = [5,4,74,7]\n",
    "even = []\n",
    "for number in my_list:\n",
    "    if number % 2 == 0:\n",
    "        even.append(number)\n",
    "        # even.append((number, number * 2)) #from random\n",
    "print (even)"
   ]
  },
  {
   "cell_type": "code",
   "execution_count": 46,
   "metadata": {},
   "outputs": [
    {
     "name": "stdout",
     "output_type": "stream",
     "text": [
      "[15, 8, 148, 21]\n"
     ]
    }
   ],
   "source": [
    "my_list = [5,4,74,7]\n",
    "# [RESULT for STH in ITERABLE]\n",
    "mult = [number*2 if number % 2 == 0 else number*3 for number in my_list ]\n",
    "print(mult)"
   ]
  },
  {
   "cell_type": "code",
   "execution_count": 49,
   "metadata": {},
   "outputs": [
    {
     "name": "stdout",
     "output_type": "stream",
     "text": [
      "[1, 1, 1, 1, 1, 1]\n",
      "6\n"
     ]
    }
   ],
   "source": [
    "my_list = [5,4,74,7, 4598, 4163 ,4984 ,784 ,345 ,46968, 36999]\n",
    "even =  [1 for number in my_list if number % 2 == 0 ]\n",
    "print(even)\n",
    "count_even = sum(even)\n",
    "print(count_even)"
   ]
  },
  {
   "cell_type": "code",
   "execution_count": 37,
   "metadata": {},
   "outputs": [
    {
     "name": "stdout",
     "output_type": "stream",
     "text": [
      "[('Monday', 10), ('Monday', 11), ('Monday', 12), ('Monday', 13), ('Monday', 14), ('Monday', 15), ('Monday', 16), ('Monday', 17), ('Monday', 18), ('Monday', 19), ('Tuesday', 10), ('Tuesday', 11), ('Tuesday', 12), ('Tuesday', 13), ('Tuesday', 14), ('Tuesday', 15), ('Tuesday', 16), ('Tuesday', 17), ('Tuesday', 18), ('Tuesday', 19), ('Wednesday', 10), ('Wednesday', 11), ('Wednesday', 12), ('Wednesday', 13), ('Wednesday', 14), ('Wednesday', 15), ('Wednesday', 16), ('Wednesday', 17), ('Wednesday', 18), ('Wednesday', 19), ('Thursday', 10), ('Thursday', 11), ('Thursday', 12), ('Thursday', 13), ('Thursday', 14), ('Thursday', 15), ('Thursday', 16), ('Thursday', 17), ('Thursday', 18), ('Thursday', 19), ('Friday', 10), ('Friday', 11), ('Friday', 12), ('Friday', 13), ('Friday', 14), ('Friday', 15), ('Friday', 16), ('Friday', 17), ('Friday', 18), ('Friday', 19), ('Saturday', 10), ('Saturday', 11), ('Saturday', 12), ('Saturday', 13), ('Saturday', 14), ('Saturday', 15), ('Saturday', 16), ('Saturday', 17), ('Saturday', 18), ('Saturday', 19), ('Sunday', 10), ('Sunday', 11), ('Sunday', 12), ('Sunday', 13), ('Sunday', 14), ('Sunday', 15), ('Sunday', 16), ('Sunday', 17), ('Sunday', 18), ('Sunday', 19)]\n"
     ]
    }
   ],
   "source": [
    "days = ('Monday', 'Tuesday', 'Wednesday', 'Thursday', 'Friday', 'Saturday' , 'Sunday')\n",
    "hours = [10, 11, 12, 13, 14, 15, 16, 17, 18, 19]\n",
    "\n",
    "valid_days = [ 'Monday', 'Wednesday']\n",
    "valid_hours = [12, 13, 14, 15, 16, 17]\n",
    "\n",
    "combinations = [ (day, hour) for day in days for hour in hours]\n",
    "print(combinations)"
   ]
  },
  {
   "cell_type": "code",
   "execution_count": 36,
   "metadata": {},
   "outputs": [
    {
     "name": "stdout",
     "output_type": "stream",
     "text": [
      "[('Monday', 12), ('Monday', 13), ('Monday', 14), ('Monday', 15), ('Monday', 16), ('Monday', 17), ('Wednesday', 12), ('Wednesday', 13), ('Wednesday', 14), ('Wednesday', 15), ('Wednesday', 16), ('Wednesday', 17)]\n"
     ]
    }
   ],
   "source": [
    "days = ('Monday', 'Tuesday', 'Wednesday', 'Thursday', 'Friday', 'Saturday' , 'Sunday')\n",
    "hours = [10, 11, 12, 13, 14, 15, 16, 17, 18, 19]\n",
    "\n",
    "valid_days = [ 'Monday', 'Wednesday']\n",
    "valid_hours = [12, 13, 14, 15, 16, 17]\n",
    "\n",
    "combinations = [ (day, hour) for day in days for hour in hours \\\n",
    "if day in valid_days and hour in valid_hours ]\n",
    "print(combinations)"
   ]
  },
  {
   "cell_type": "markdown",
   "metadata": {},
   "source": [
    "## Dictionary"
   ]
  },
  {
   "cell_type": "code",
   "execution_count": 50,
   "metadata": {},
   "outputs": [],
   "source": [
    "my_dictionary = {\n",
    "    'name': 'Darius', #eeds to be separeted by column\n",
    "    'year': 2008,\n",
    "    False: 'false',\n",
    "    5: 'five',\n",
    "    'hobbies': ['tennis', 'football'] #list \n",
    "}\n",
    "#can be anything. n"
   ]
  },
  {
   "cell_type": "code",
   "execution_count": 51,
   "metadata": {},
   "outputs": [
    {
     "data": {
      "text/plain": [
       "['tennis', 'football']"
      ]
     },
     "execution_count": 51,
     "metadata": {},
     "output_type": "execute_result"
    }
   ],
   "source": [
    "my_dictionary['hobbies']"
   ]
  },
  {
   "cell_type": "code",
   "execution_count": 58,
   "metadata": {},
   "outputs": [
    {
     "name": "stdout",
     "output_type": "stream",
     "text": [
      "2008\n"
     ]
    }
   ],
   "source": [
    "print (my_dictionary['year'] )"
   ]
  },
  {
   "cell_type": "code",
   "execution_count": 53,
   "metadata": {},
   "outputs": [
    {
     "name": "stdout",
     "output_type": "stream",
     "text": [
      "{'name': 'Darius', 'year': 2008, False: 'false', 5: 'five', 'hobbies': ['tennis', 'football'], 'city': 'Vilnius'}\n",
      "{'name': 'Darius', 'year': 2008, False: 'false', 5: 'five', 'hobbies': ['tennis', 'football'], 'city': 'Kaunas'}\n"
     ]
    }
   ],
   "source": [
    "#how to overwrite or add new value\n",
    "my_dictionary['city'] = 'Vilnius'\n",
    "print (my_dictionary)\n",
    "my_dictionary['city'] = 'Kaunas' #single-unique key in dict, cant be multiple keys\n",
    "print (my_dictionary)"
   ]
  },
  {
   "cell_type": "code",
   "execution_count": 54,
   "metadata": {},
   "outputs": [
    {
     "name": "stdout",
     "output_type": "stream",
     "text": [
      "6\n"
     ]
    }
   ],
   "source": [
    "#how many pairs there are\n",
    "print (len(my_dictionary))"
   ]
  },
  {
   "cell_type": "markdown",
   "metadata": {},
   "source": [
    "dictionary functions"
   ]
  },
  {
   "cell_type": "code",
   "execution_count": 78,
   "metadata": {},
   "outputs": [
    {
     "name": "stdout",
     "output_type": "stream",
     "text": [
      "{'name': 'Darius', 'year': 2008, 5: 'five', 'hobbies': ['tennis', 'football'], 'city': 'Palanga', 'City': 'Palanga'}\n",
      "<class 'dict'>\n"
     ]
    }
   ],
   "source": [
    "# my_dictionary.clear() # deletes all pairs\n",
    "print (my_dictionary)\n",
    "print (type( my_dictionary) )"
   ]
  },
  {
   "cell_type": "code",
   "execution_count": 79,
   "metadata": {},
   "outputs": [
    {
     "name": "stdout",
     "output_type": "stream",
     "text": [
      "{'name': 'Darius', 'year': 2008, 5: 'five', 'hobbies': ['tennis', 'football'], 'city': 'Palanga', 'City': 'Palanga'}\n"
     ]
    }
   ],
   "source": [
    "my_dictionary.copy() # mutable. they can change other dictiuonary which they are assign to\n",
    "print (my_dictionary)\n"
   ]
  },
  {
   "cell_type": "code",
   "execution_count": 80,
   "metadata": {},
   "outputs": [
    {
     "name": "stdout",
     "output_type": "stream",
     "text": [
      "{'sum': 0, 'mult_sum': 0, 'div_sum': 0}\n"
     ]
    }
   ],
   "source": [
    "# my_dictionary.fromkeys\n",
    "#Create a new dictionary with keys from iterable and values set to value.\n",
    "tmp_dict = dict.fromkeys(['sum','mult_sum', 'div_sum'], 0) #dict with all values 0\n",
    "print (tmp_dict)"
   ]
  },
  {
   "cell_type": "code",
   "execution_count": 81,
   "metadata": {},
   "outputs": [
    {
     "name": "stdout",
     "output_type": "stream",
     "text": [
      "Palanga\n",
      "Palanga\n",
      "None\n"
     ]
    }
   ],
   "source": [
    "print (my_dictionary.get('city') ) \n",
    "print (my_dictionary['city'] ) \n",
    "\n",
    "# difference when we ask for value which doesnt exsisits\n",
    "print (my_dictionary.get('address') ) \n",
    "#print (my_dictionary['address'] ) #gives error"
   ]
  },
  {
   "cell_type": "code",
   "execution_count": 82,
   "metadata": {},
   "outputs": [
    {
     "name": "stdout",
     "output_type": "stream",
     "text": [
      "False\n",
      "Dictionary does not contain 'address' info\n"
     ]
    }
   ],
   "source": [
    "print (my_dictionary.get('address', False) )\n",
    "if my_dictionary.get('address', False) == False:\n",
    "    print (\"Dictionary does not contain 'address' info\")"
   ]
  },
  {
   "cell_type": "code",
   "execution_count": 83,
   "metadata": {},
   "outputs": [
    {
     "ename": "KeyError",
     "evalue": "False",
     "output_type": "error",
     "traceback": [
      "\u001b[0;31m---------------------------------------------------------------------------\u001b[0m",
      "\u001b[0;31mKeyError\u001b[0m                                  Traceback (most recent call last)",
      "\u001b[0;32m/var/folders/dl/4w6c195d6pq63chtkgldxpl00000gn/T/ipykernel_13174/1809076774.py\u001b[0m in \u001b[0;36m<module>\u001b[0;34m\u001b[0m\n\u001b[1;32m      1\u001b[0m \u001b[0;31m#deletes single value and gives it back to you\u001b[0m\u001b[0;34m\u001b[0m\u001b[0;34m\u001b[0m\u001b[0m\n\u001b[0;32m----> 2\u001b[0;31m \u001b[0mprint\u001b[0m \u001b[0;34m(\u001b[0m\u001b[0mmy_dictionary\u001b[0m\u001b[0;34m.\u001b[0m\u001b[0mpop\u001b[0m\u001b[0;34m(\u001b[0m\u001b[0;32mFalse\u001b[0m\u001b[0;34m)\u001b[0m \u001b[0;34m)\u001b[0m \u001b[0;31m# gives an error on 2nd run\u001b[0m\u001b[0;34m\u001b[0m\u001b[0;34m\u001b[0m\u001b[0m\n\u001b[0m",
      "\u001b[0;31mKeyError\u001b[0m: False"
     ]
    }
   ],
   "source": [
    "#deletes single value and gives it back to you\n",
    "print (my_dictionary.pop(False) ) # gives an error on 2nd run"
   ]
  },
  {
   "cell_type": "code",
   "execution_count": 84,
   "metadata": {},
   "outputs": [
    {
     "data": {
      "text/plain": [
       "('City', 'Palanga')"
      ]
     },
     "execution_count": 84,
     "metadata": {},
     "output_type": "execute_result"
    }
   ],
   "source": [
    "my_dictionary.popitem() # gives back a pair (one key and one value)"
   ]
  },
  {
   "cell_type": "code",
   "execution_count": 86,
   "metadata": {},
   "outputs": [
    {
     "name": "stdout",
     "output_type": "stream",
     "text": [
      "Palanga\n",
      "Palanga\n",
      "{'name': 'Darius', 'year': 2008, 5: 'five', 'hobbies': ['tennis', 'football'], 'city': 'Palanga', 'City': 'Palanga'}\n"
     ]
    }
   ],
   "source": [
    "#creates a new key. SOMETHING IS WRONG> different from teacher\n",
    "my_dictionary.setdefault('city', 'Palanga')\n",
    "print (my_dictionary.setdefault('city', 'Palanga') )\n",
    "print (my_dictionary.setdefault('City', 'Palanga'))\n",
    "print (my_dictionary)"
   ]
  },
  {
   "cell_type": "code",
   "execution_count": 87,
   "metadata": {},
   "outputs": [
    {
     "name": "stdout",
     "output_type": "stream",
     "text": [
      "{'name': 'Darius', 'year': 2008, 5: 'five', 'hobbies': ['tennis', 'football'], 'city': 'Vilnius', 'City': 'Palanga', 'key': 'value of key', 'sum': 10}\n"
     ]
    }
   ],
   "source": [
    "new_dict = {\n",
    "    'key': 'value of key', #new so will be added\n",
    "    'sum': 10, \n",
    "    'city': 'Vilnius' #will be overwritten\n",
    "}\n",
    "\n",
    "#allows to update with another dictionary\n",
    "my_dictionary.update(new_dict)\n",
    "print (my_dictionary)"
   ]
  },
  {
   "cell_type": "code",
   "execution_count": 88,
   "metadata": {},
   "outputs": [
    {
     "name": "stdout",
     "output_type": "stream",
     "text": [
      "key name has a value of Darius\n",
      "key year has a value of 2008\n",
      "key 5 has a value of five\n",
      "key hobbies has a value of ['tennis', 'football']\n",
      "key city has a value of Vilnius\n",
      "key City has a value of Palanga\n",
      "key key has a value of value of key\n",
      "key sum has a value of 10\n"
     ]
    }
   ],
   "source": [
    "#we can iterate through dictionaries\n",
    "\n",
    "for key, value in my_dictionary.items(): # will give keys and values (k,v)\n",
    "    print (f'key {key} has a value of {value}')"
   ]
  },
  {
   "cell_type": "markdown",
   "metadata": {},
   "source": [
    "## Lesson 6"
   ]
  },
  {
   "cell_type": "markdown",
   "metadata": {},
   "source": [
    "## None declaration"
   ]
  },
  {
   "cell_type": "code",
   "execution_count": 92,
   "metadata": {},
   "outputs": [],
   "source": [
    "user_input =''\n",
    "\n",
    "user_input = input(\"Enter your name\") #im not sure if anything was written\n",
    "if len(user_input) > 0:\n",
    "    print (user_input)"
   ]
  },
  {
   "cell_type": "code",
   "execution_count": 94,
   "metadata": {},
   "outputs": [
    {
     "name": "stdout",
     "output_type": "stream",
     "text": [
      "user_input has no value, enter it.\n",
      "User name is : \n",
      "User name is : \n",
      "User name is : \n",
      "User name is : \n"
     ]
    }
   ],
   "source": [
    "user_input = None\n",
    "\n",
    "for i in range(5):\n",
    "    if user_input is None:\n",
    "        print ('user_input has no value, enter it.')\n",
    "        user_input = input(\"Enter your name\")\n",
    "    else:\n",
    "        print (f'User name is : {user_input}')"
   ]
  },
  {
   "cell_type": "code",
   "execution_count": 95,
   "metadata": {},
   "outputs": [
    {
     "name": "stdout",
     "output_type": "stream",
     "text": [
      "User name is : \n",
      "User name is : \n",
      "User name is : \n",
      "User name is : \n",
      "User name is : \n"
     ]
    }
   ],
   "source": [
    "user_input = ''\n",
    "\n",
    "for i in range(5):\n",
    "    if user_input is None:\n",
    "        print ('user_input has no value, enter it.')\n",
    "        user_input = input(\"Enter your name\")\n",
    "    else:\n",
    "        print (f'User name is : {user_input}')"
   ]
  },
  {
   "cell_type": "code",
   "execution_count": 96,
   "metadata": {},
   "outputs": [
    {
     "name": "stdout",
     "output_type": "stream",
     "text": [
      "you haven't entered anything\n",
      "you haven't entered anything\n",
      "you haven't entered anything\n",
      "you haven't entered anything\n",
      "you haven't entered anything\n"
     ]
    }
   ],
   "source": [
    "user_input = '' #empty when transformed to bolean becomes false\n",
    "\n",
    "for i in range(5):\n",
    "    if user_input is None:\n",
    "        print ('user_input has no value, enter it.')\n",
    "        user_input = input(\"Enter your name\")\n",
    "    else:\n",
    "        if user_input: \n",
    "            print (f'User name is : {user_input}')\n",
    "        else:\n",
    "            print (f\"you haven't entered anything\") #thats why it was excecuted\n"
   ]
  },
  {
   "cell_type": "code",
   "execution_count": 100,
   "metadata": {},
   "outputs": [
    {
     "name": "stdout",
     "output_type": "stream",
     "text": [
      "user_input has no value, enter it.\n",
      "You haven't enterned anything\n",
      "user_input has no value, enter it.\n",
      "User name is : ruta\n",
      "User name is : ruta\n",
      "User name is : ruta\n"
     ]
    }
   ],
   "source": [
    "user_input = None #ensure that user input information\n",
    "\n",
    "for i in range(5):\n",
    "    if user_input is None:\n",
    "        print ('user_input has no value, enter it.')\n",
    "        user_input = input(\"Enter your name\")\n",
    "        if not user_input: #if he didnt put anything \n",
    "            print (\"You haven't enterned anything\")\n",
    "            user_input = None\n",
    "    else:\n",
    "        print (f'User name is : {user_input}')"
   ]
  },
  {
   "cell_type": "code",
   "execution_count": 101,
   "metadata": {},
   "outputs": [
    {
     "data": {
      "text/plain": [
       "NoneType"
      ]
     },
     "execution_count": 101,
     "metadata": {},
     "output_type": "execute_result"
    }
   ],
   "source": [
    "type(None)"
   ]
  },
  {
   "cell_type": "markdown",
   "metadata": {},
   "source": [
    "## Dictionary continue"
   ]
  },
  {
   "cell_type": "code",
   "execution_count": 102,
   "metadata": {},
   "outputs": [],
   "source": [
    "my_dictionary = {\n",
    "    'name': 'Darius',\n",
    "    'year': 2008,\n",
    "    False: 'This is false',\n",
    "    5: 'five',\n",
    "    'hobbies': ['tennis', 'football']\n",
    "}"
   ]
  },
  {
   "cell_type": "code",
   "execution_count": 104,
   "metadata": {},
   "outputs": [
    {
     "data": {
      "text/plain": [
       "'football'"
      ]
     },
     "execution_count": 104,
     "metadata": {},
     "output_type": "execute_result"
    }
   ],
   "source": [
    "my_dictionary['hobbies'][1]"
   ]
  },
  {
   "cell_type": "code",
   "execution_count": 105,
   "metadata": {},
   "outputs": [
    {
     "name": "stdout",
     "output_type": "stream",
     "text": [
      "Darius hobby is tennis\n",
      "Darius hobby is football\n"
     ]
    }
   ],
   "source": [
    "for hobby in my_dictionary['hobbies']:\n",
    "    print (f'Darius hobby is {hobby}')"
   ]
  },
  {
   "cell_type": "code",
   "execution_count": 107,
   "metadata": {},
   "outputs": [],
   "source": [
    "# twitter API (JSON not dictionary)\n",
    "twitter_sample = {\n",
    "  \"created_at\": \"Tue Feb 27 21:11:40 +0000 2018\",\n",
    "  \"id\": 968594506663669800,\n",
    "  \"id_str\": \"968594506663669760\",\n",
    "  \"text\": \"RT @honeydrop_506: 180222 ICN #백현 #BAEKHYUNnn나의 겨울과 너nn#iHeartAwards #BestFanArmy #EXOL @weareoneEXO https://t.co/hg7I3xAlBg\",\n",
    "  \"source\": \"<a href='http://twitter.com' rel='nofollow'>Twitter Web Client</a>\",\n",
    "  \"truncated\": False,\n",
    "  \"in_reply_to_status_id\": None,\n",
    "  \"in_reply_to_status_id_str\": None,\n",
    "  \"in_reply_to_user_id\": None,\n",
    "  \"in_reply_to_user_id_str\": None,\n",
    "  \"in_reply_to_screen_name\": None,\n",
    "  \"user\": {\n",
    "    \"id\": 4448809940,\n",
    "    \"id_str\": \"4448809940\",\n",
    "    \"name\": \"ayah\",\n",
    "    \"screen_name\": \"lovbyun\",\n",
    "    \"location\": \"bbh iu jjh pcy kjd dks\",\n",
    "    \"url\": \"https://curiouscat.me/baekhyun-l\",\n",
    "    \"description\": \"hi hello I love exo\",\n",
    "    \"translator_type\": \"none\",\n",
    "    \"protected\": False,\n",
    "    \"verified\": False,\n",
    "    \"followers_count\": 1142,\n",
    "    \"friends_count\": 125,\n",
    "    \"listed_count\": 20,\n",
    "    \"favourites_count\": 5712,\n",
    "    \"statuses_count\": 4011,\n",
    "    \"created_at\": \"Fri Dec 04 03:44:59 +0000 2015\",\n",
    "    \"utc_offset\": -28800,\n",
    "    \"time_zone\": \"Pacific Time (US & Canada)\",\n",
    "    \"geo_enabled\": False,\n",
    "    \"lang\": \"en\",\n",
    "    \"contributors_enabled\": False,\n",
    "    \"is_translator\": False,\n",
    "    \"profile_background_color\": \"000000\",\n",
    "    \"profile_background_image_url\": \"http://abs.twimg.com/images/themes/theme1/bg.png\",\n",
    "    \"profile_background_image_url_https\": \"https://abs.twimg.com/images/themes/theme1/bg.png\",\n",
    "    \"profile_background_tile\": False,\n",
    "    \"profile_link_color\": \"F58EA8\",\n",
    "    \"profile_sidebar_border_color\": \"000000\",\n",
    "    \"profile_sidebar_fill_color\": \"000000\",\n",
    "    \"profile_text_color\": \"000000\",\n",
    "    \"profile_use_background_image\": False,\n",
    "    \"profile_image_url\": \"http://pbs.twimg.com/profile_images/967130320259526656/0xZ-wxXJ_normal.jpg\",\n",
    "    \"profile_image_url_https\": \"https://pbs.twimg.com/profile_images/967130320259526656/0xZ-wxXJ_normal.jpg\",\n",
    "    \"profile_banner_url\": \"https://pbs.twimg.com/profile_banners/4448809940/1519340670\",\n",
    "    \"default_profile\": False,\n",
    "    \"default_profile_image\": False,\n",
    "    \"following\": None,\n",
    "    \"follow_request_sent\": None,\n",
    "    \"notifications\": None\n",
    "  }\n",
    "}"
   ]
  },
  {
   "cell_type": "code",
   "execution_count": 111,
   "metadata": {},
   "outputs": [
    {
     "name": "stdout",
     "output_type": "stream",
     "text": [
      "125\n"
     ]
    }
   ],
   "source": [
    "#how many frieds user has\n",
    "twitter_sample['user']\n",
    "print(twitter_sample['user']['friends_count'])"
   ]
  },
  {
   "cell_type": "markdown",
   "metadata": {},
   "source": [
    "## Set"
   ]
  },
  {
   "cell_type": "code",
   "execution_count": 116,
   "metadata": {},
   "outputs": [
    {
     "name": "stdout",
     "output_type": "stream",
     "text": [
      "{1, 2, 3, 'apple', 'bananas'}\n"
     ]
    }
   ],
   "source": [
    "fruits = {'apple', 'bananas', 'apple', 1,2,3,3,3,3,3,3,3 }\n",
    "print (fruits)\n",
    "#when want to know unique values only"
   ]
  },
  {
   "cell_type": "code",
   "execution_count": 117,
   "metadata": {},
   "outputs": [
    {
     "name": "stdout",
     "output_type": "stream",
     "text": [
      "{'Darius', 'Jonas', 'Benas'}\n",
      "3\n"
     ]
    }
   ],
   "source": [
    "#How many unique names there are?\n",
    "names = ['Darius', 'Benas', 'Jonas', 'Jonas', 'Jonas', 'Jonas']\n",
    "print (set(names) )\n",
    "print (len(set(names) ) )"
   ]
  },
  {
   "cell_type": "code",
   "execution_count": 118,
   "metadata": {},
   "outputs": [
    {
     "name": "stdout",
     "output_type": "stream",
     "text": [
      "{'orange', 'pineapple', 'apple', 'bananas'}\n"
     ]
    }
   ],
   "source": [
    "#add value to set\n",
    "fruits = {'apple', 'bananas', 'orange'}\n",
    "fruits.add('pineapple')\n",
    "print (fruits)"
   ]
  },
  {
   "cell_type": "code",
   "execution_count": 119,
   "metadata": {},
   "outputs": [
    {
     "name": "stdout",
     "output_type": "stream",
     "text": [
      "{'apple', 'orange', 'pineapple', 'mandarine', 'bananas', 'pear'}\n"
     ]
    }
   ],
   "source": [
    "#OTHER WAY add value to set\n",
    "fruits.update( ['bananas', 'pear', 'mandarine'] ) #in list\n",
    "print (fruits)"
   ]
  },
  {
   "cell_type": "code",
   "execution_count": null,
   "metadata": {},
   "outputs": [],
   "source": [
    "#fruits[0] # error"
   ]
  },
  {
   "cell_type": "code",
   "execution_count": null,
   "metadata": {},
   "outputs": [],
   "source": [
    "#works same as in other data types\n",
    "# fruits.clear()\n",
    "# fruits.copy()\n",
    "# fruits.pop()"
   ]
  },
  {
   "cell_type": "code",
   "execution_count": 122,
   "metadata": {},
   "outputs": [
    {
     "name": "stdout",
     "output_type": "stream",
     "text": [
      "{'orange', 'apple'}\n"
     ]
    }
   ],
   "source": [
    "fruits = {'apple', 'bananas', 'orange'}\n",
    "fruits.remove('bananas')\n",
    "#fruits.remove('bananas') #error, cause bananas were deleted already\n",
    "print (fruits)\n",
    "#you want to be sure that that value was here and you removed it"
   ]
  },
  {
   "cell_type": "code",
   "execution_count": 123,
   "metadata": {},
   "outputs": [
    {
     "name": "stdout",
     "output_type": "stream",
     "text": [
      "{'orange', 'apple'}\n"
     ]
    }
   ],
   "source": [
    "fruits = {'apple', 'bananas', 'orange'}\n",
    "fruits.discard('bananas')\n",
    "fruits.discard('bananas') #doesnt give errors if you try to delete multiple times. \n",
    "fruits.discard('bananas')\n",
    "fruits.discard('bananas')\n",
    "fruits.discard('bananas')\n",
    "fruits.discard('bananas')\n",
    "print(fruits)\n",
    "#if you dont care if the value is here, you just dont want to have it"
   ]
  },
  {
   "cell_type": "code",
   "execution_count": 125,
   "metadata": {},
   "outputs": [
    {
     "name": "stdout",
     "output_type": "stream",
     "text": [
      "{1, 2, 3, 5, 7, 9}\n",
      "{3, 250, 9, 10, 11, 15}\n",
      "{1, 2, 5, 7}\n",
      "{9, 3}\n",
      "{1, 2, 3, 5, 7, 9, 10, 11, 15, 250}\n"
     ]
    }
   ],
   "source": [
    "set_1 = { 1, 2, 5, 3 ,7 ,9 }\n",
    "set_2 = { 10,11,15, 3 , 250 ,9 }\n",
    "print(set_1)\n",
    "print(set_2)"
   ]
  },
  {
   "cell_type": "code",
   "execution_count": 128,
   "metadata": {},
   "outputs": [
    {
     "name": "stdout",
     "output_type": "stream",
     "text": [
      "different {1, 2, 5, 7}\n",
      "same in both sets {9, 3}\n",
      "combine sets {1, 2, 3, 5, 7, 9, 10, 11, 15, 250}\n"
     ]
    }
   ],
   "source": [
    "#how different are two things? \n",
    "print (f'different {set_1.difference(set_2)}' )\n",
    "\n",
    "print (f'same in both sets {set_1.intersection(set_2)}' )\n",
    "#joins them together\n",
    "print (f'combine sets {set_1.union(set_2)}' )"
   ]
  },
  {
   "cell_type": "code",
   "execution_count": 129,
   "metadata": {},
   "outputs": [
    {
     "name": "stdout",
     "output_type": "stream",
     "text": [
      "True\n",
      "True\n"
     ]
    }
   ],
   "source": [
    "set_1 = { 2, 3, 4 }\n",
    "set_2 = { 1,2,3,4,5 }\n",
    "print (set_1.issubset(set_2) ) #belogs to something bigger\n",
    "print (set_2.issuperset(set_1) ) #something bigger to"
   ]
  },
  {
   "cell_type": "code",
   "execution_count": 131,
   "metadata": {},
   "outputs": [
    {
     "name": "stdout",
     "output_type": "stream",
     "text": [
      "{'orange', 'apple'}\n",
      "False\n",
      "True\n"
     ]
    }
   ],
   "source": [
    "print (fruits)\n",
    "#can check if the value is in the set\n",
    "print ('bananas' in fruits)\n",
    "print ('apple' in fruits)"
   ]
  },
  {
   "cell_type": "markdown",
   "metadata": {},
   "source": [
    "## For loops more tasks"
   ]
  },
  {
   "cell_type": "code",
   "execution_count": 132,
   "metadata": {},
   "outputs": [],
   "source": [
    "song_1 = \"\"\"\n",
    "Is this the real life?\n",
    "Is this just fantasy?\n",
    "Caught in a landside,\n",
    "No escape from reality\n",
    "Open your eyes,\n",
    "Look up to the skies and see,\n",
    "I'm just a poor boy, I need no sympathy,\n",
    "Because I'm easy come, easy go,\n",
    "Little high, little low,\n",
    "Any way the wind blows doesn't really matter to\n",
    "Me, to me\n",
    "Mamaaa,\n",
    "Just killed a man,\n",
    "Put a gun against his head, pulled my trigger,\n",
    "Now he's dead\n",
    "Mamaaa, life had just begun,\n",
    "But now I've gone and thrown it all away\n",
    "Mama, oooh,\n",
    "Didn't mean to make you cry,\n",
    "If I'm not back again this time tomorrow,\n",
    "Carry on, carry on as if nothing really matters\n",
    "Too late, my time has come,\n",
    "Sends shivers down my spine, body's aching all\n",
    "The time\n",
    "Goodbye, everybody, I've got to go,\n",
    "Gotta leave you all behind and face the truth\n",
    "Mama, oooh\n",
    "I don't want to die,\n",
    "I sometimes wish I'd never been born at all.\n",
    "I see a little silhouetto of a man,\n",
    "Scaramouch, Scaramouch, will you do the Fandango!\n",
    "Thunderbolts and lightning, very, very frightening me\n",
    "Galileo, Galileo\n",
    "Galileo, Galileo\n",
    "Galileo, Figaro - magnificoo\n",
    "I'm just a poor boy nobody loves me\n",
    "He's just a poor boy from a poor family,\n",
    "Spare him his life from this monstrosity\n",
    "Easy come, easy go, will you let me go\n",
    "Bismillah! No, we will not let you go\n",
    "(Let him go!) Bismillah! We will not let you go\n",
    "(Let him go!) Bismillah! We will not let you go\n",
    "(Let me go) Will not let you go\n",
    "(Let me go)(Never) Never let you go\n",
    "(Let me go) (Never) let you go (Let me go) Ah\n",
    "No, no, no, no, no, no, no\n",
    "Oh mama mia, mama mia, mama mia, let me go\n",
    "Beelzebub has a devil put aside for me, for me,\n",
    "For meee\n",
    "So you think you can stop me and spit in my eye\n",
    "So you think you can love me and leave me to die\n",
    "Oh, baby, can't do this to me, baby,\n",
    "Just gotta get out, just gotta get right outta here\n",
    "Nothing really matters, Anyone can see,\n",
    "Nothing really matters,\n",
    "Nothing really matters to me\n",
    "Any way the wind blows...\n",
    "\"\"\""
   ]
  },
  {
   "cell_type": "code",
   "execution_count": 133,
   "metadata": {},
   "outputs": [
    {
     "name": "stdout",
     "output_type": "stream",
     "text": [
      "\n",
      "Is this the real life?\n",
      "Is this just fantasy?\n",
      "Caught in a landside,\n",
      "No escape from reality\n",
      "Open your eyes,\n",
      "Look up to the skies and see,\n",
      "I'm just a poor boy, I need no sympathy,\n",
      "Because I'm easy come, easy go,\n",
      "Little high, little low,\n",
      "Any way the wind blows doesn't really matter to\n",
      "Me, to me\n",
      "Mamaaa,\n",
      "Just killed a man,\n",
      "Put a gun against his head, pulled my trigger,\n",
      "Now he's dead\n",
      "Mamaaa, life had just begun,\n",
      "But now I've gone and thrown it all away\n",
      "Mama, oooh,\n",
      "Didn't mean to make you cry,\n",
      "If I'm not back again this time tomorrow,\n",
      "Carry on, carry on as if nothing really matters\n",
      "Too late, my time has come,\n",
      "Sends shivers down my spine, body's aching all\n",
      "The time\n",
      "Goodbye, everybody, I've got to go,\n",
      "Gotta leave you all behind and face the truth\n",
      "Mama, oooh\n",
      "I don't want to die,\n",
      "I sometimes wish I'd never been born at all.\n",
      "I see a little silhouetto of a man,\n",
      "Scaramouch, Scaramouch, will you do the Fandango!\n",
      "Thunderbolts and lightning, very, very frightening me\n",
      "Galileo, Galileo\n",
      "Galileo, Galileo\n",
      "Galileo, Figaro - magnificoo\n",
      "I'm just a poor boy nobody loves me\n",
      "He's just a poor boy from a poor family,\n",
      "Spare him his life from this monstrosity\n",
      "Easy come, easy go, will you let me go\n",
      "Bismillah! No, we will not let you go\n",
      "(Let him go!) Bismillah! We will not let you go\n",
      "(Let him go!) Bismillah! We will not let you go\n",
      "(Let me go) Will not let you go\n",
      "(Let me go)(Never) Never let you go\n",
      "(Let me go) (Never) let you go (Let me go) Ah\n",
      "No, no, no, no, no, no, no\n",
      "Oh mama mia, mama mia, mama mia, let me go\n",
      "Beelzebub has a devil put aside for me, for me,\n",
      "For meee\n",
      "So you think you can stop me and spit in my eye\n",
      "So you think you can love me and leave me to die\n",
      "Oh, baby, can't do this to me, baby,\n",
      "Just gotta get out, just gotta get right outta here\n",
      "Nothing really matters, Anyone can see,\n",
      "Nothing really matters,\n",
      "Nothing really matters to me\n",
      "Any way the wind blows...\n",
      "\n"
     ]
    }
   ],
   "source": [
    "print (song_1 )"
   ]
  },
  {
   "cell_type": "code",
   "execution_count": 138,
   "metadata": {},
   "outputs": [],
   "source": [
    "#cleaning\n",
    "#print (song_1.lower())\n",
    "# print (song_1.lower().replace('the', '').replace('?', ' ')\\\n",
    "#     .replace(',', ' ').replace(\"\"\"!\"\"\", ' ').replace('\\'', ' ' )\\\n",
    "#     .replace('-', ' ' ).replace('(', ' ' ).replace(')', ' ' ) )\n"
   ]
  },
  {
   "cell_type": "code",
   "execution_count": 137,
   "metadata": {},
   "outputs": [
    {
     "name": "stdout",
     "output_type": "stream",
     "text": [
      "['is', 'this', 'real', 'life', 'is', 'this', 'just', 'fantasy', 'caught', 'in', 'a', 'landside', 'no', 'escape', 'from', 'reality', 'open', 'your', 'eyes', 'look', 'up', 'to', 'skies', 'and', 'see', 'i', 'm', 'just', 'a', 'poor', 'boy', 'i', 'need', 'no', 'sympathy', 'because', 'i', 'm', 'easy', 'come', 'easy', 'go', 'little', 'high', 'little', 'low', 'any', 'way', 'wind', 'blows', 'doesn', 't', 'really', 'matter', 'to', 'me', 'to', 'me', 'mamaaa', 'just', 'killed', 'a', 'man', 'put', 'a', 'gun', 'against', 'his', 'head', 'pulled', 'my', 'trigger', 'now', 'he', 's', 'dead', 'mamaaa', 'life', 'had', 'just', 'begun', 'but', 'now', 'i', 've', 'gone', 'and', 'thrown', 'it', 'all', 'away', 'mama', 'oooh', 'didn', 't', 'mean', 'to', 'make', 'you', 'cry', 'if', 'i', 'm', 'not', 'back', 'again', 'this', 'time', 'tomorrow', 'carry', 'on', 'carry', 'on', 'as', 'if', 'nothing', 'really', 'matters', 'too', 'late', 'my', 'time', 'has', 'come', 'sends', 'shivers', 'down', 'my', 'spine', 'body', 's', 'aching', 'all', 'time', 'goodbye', 'everybody', 'i', 've', 'got', 'to', 'go', 'gotta', 'leave', 'you', 'all', 'behind', 'and', 'face', 'truth', 'mama', 'oooh', 'i', 'don', 't', 'want', 'to', 'die', 'i', 'sometimes', 'wish', 'i', 'd', 'never', 'been', 'born', 'at', 'all', 'i', 'see', 'a', 'little', 'silhouetto', 'of', 'a', 'man', 'scaramouch', 'scaramouch', 'will', 'you', 'do', 'fandango', 'thunderbolts', 'and', 'lightning', 'very', 'very', 'frightening', 'me', 'galileo', 'galileo', 'galileo', 'galileo', 'galileo', 'figaro', 'magnificoo', 'i', 'm', 'just', 'a', 'poor', 'boy', 'nobody', 'loves', 'me', 'he', 's', 'just', 'a', 'poor', 'boy', 'from', 'a', 'poor', 'family', 'spare', 'him', 'his', 'life', 'from', 'this', 'monstrosity', 'easy', 'come', 'easy', 'go', 'will', 'you', 'let', 'me', 'go', 'bismillah', 'no', 'we', 'will', 'not', 'let', 'you', 'go', 'let', 'him', 'go', 'bismillah', 'we', 'will', 'not', 'let', 'you', 'go', 'let', 'him', 'go', 'bismillah', 'we', 'will', 'not', 'let', 'you', 'go', 'let', 'me', 'go', 'will', 'not', 'let', 'you', 'go', 'let', 'me', 'go', 'never', 'never', 'let', 'you', 'go', 'let', 'me', 'go', 'never', 'let', 'you', 'go', 'let', 'me', 'go', 'ah', 'no', 'no', 'no', 'no', 'no', 'no', 'no', 'oh', 'mama', 'mia', 'mama', 'mia', 'mama', 'mia', 'let', 'me', 'go', 'beelzebub', 'has', 'a', 'devil', 'put', 'aside', 'for', 'me', 'for', 'me', 'for', 'meee', 'so', 'you', 'think', 'you', 'can', 'stop', 'me', 'and', 'spit', 'in', 'my', 'eye', 'so', 'you', 'think', 'you', 'can', 'love', 'me', 'and', 'leave', 'me', 'to', 'die', 'oh', 'baby', 'can', 't', 'do', 'this', 'to', 'me', 'baby', 'just', 'gotta', 'get', 'out', 'just', 'gotta', 'get', 'right', 'outta', 'here', 'nothing', 'really', 'matters', 'anyone', 'can', 'see', 'nothing', 'really', 'matters', 'nothing', 'really', 'matters', 'to', 'me', 'any', 'way', 'wind', 'blows']\n"
     ]
    }
   ],
   "source": [
    "filtered_song_1 = song_1.lower().replace('the', '').replace('?', ' ')\\\n",
    ".replace('.', ' ').replace(',', ' ').replace(\"\"\"!\"\"\", ' ').replace('\\'', ' ' )\\\n",
    ".replace('-', ' ' ).replace('(', ' ' ).replace(')', ' ' ).split() #split function\n",
    "print (filtered_song_1)"
   ]
  },
  {
   "cell_type": "code",
   "execution_count": 139,
   "metadata": {},
   "outputs": [
    {
     "name": "stdout",
     "output_type": "stream",
     "text": [
      "375\n"
     ]
    }
   ],
   "source": [
    "#how many words i have\n",
    "print (len(filtered_song_1) )"
   ]
  },
  {
   "cell_type": "code",
   "execution_count": 143,
   "metadata": {},
   "outputs": [
    {
     "name": "stdout",
     "output_type": "stream",
     "text": [
      "158\n"
     ]
    }
   ],
   "source": [
    "unique_words = set(filtered_song_1) #create a set \n",
    "print (len(unique_words))"
   ]
  },
  {
   "cell_type": "code",
   "execution_count": 145,
   "metadata": {},
   "outputs": [
    {
     "name": "stdout",
     "output_type": "stream",
     "text": [
      "42.13333333333333 % is unique words in the song\n"
     ]
    }
   ],
   "source": [
    "#how much of a song is unique?\n",
    "len(unique_words) / len(filtered_song_1) * 100\n",
    "print (f'{len(unique_words) / len(filtered_song_1) * 100} % is unique words in the song')"
   ]
  },
  {
   "cell_type": "code",
   "execution_count": 146,
   "metadata": {},
   "outputs": [
    {
     "name": "stdout",
     "output_type": "stream",
     "text": [
      "{'is': 2, 'this': 5, 'real': 1, 'life': 3, 'just': 8, 'fantasy': 1, 'caught': 1, 'in': 2, 'a': 10, 'landside': 1, 'no': 10, 'escape': 1, 'from': 3, 'reality': 1, 'open': 1, 'your': 1, 'eyes': 1, 'look': 1, 'up': 1, 'to': 9, 'skies': 1, 'and': 6, 'see': 3, 'i': 11, 'm': 4, 'poor': 4, 'boy': 3, 'need': 1, 'sympathy': 1, 'because': 1, 'easy': 4, 'come': 3, 'go': 17, 'little': 3, 'high': 1, 'low': 1, 'any': 2, 'way': 2, 'wind': 2, 'blows': 2, 'doesn': 1, 't': 4, 'really': 5, 'matter': 1, 'me': 17, 'mamaaa': 2, 'killed': 1, 'man': 2, 'put': 2, 'gun': 1, 'against': 1, 'his': 2, 'head': 1, 'pulled': 1, 'my': 4, 'trigger': 1, 'now': 2, 'he': 2, 's': 3, 'dead': 1, 'had': 1, 'begun': 1, 'but': 1, 've': 2, 'gone': 1, 'thrown': 1, 'it': 1, 'all': 4, 'away': 1, 'mama': 5, 'oooh': 2, 'didn': 1, 'mean': 1, 'make': 1, 'you': 14, 'cry': 1, 'if': 2, 'not': 5, 'back': 1, 'again': 1, 'time': 3, 'tomorrow': 1, 'carry': 2, 'on': 2, 'as': 1, 'nothing': 4, 'matters': 4, 'too': 1, 'late': 1, 'has': 2, 'sends': 1, 'shivers': 1, 'down': 1, 'spine': 1, 'body': 1, 'aching': 1, 'goodbye': 1, 'everybody': 1, 'got': 1, 'gotta': 3, 'leave': 2, 'behind': 1, 'face': 1, 'truth': 1, 'don': 1, 'want': 1, 'die': 2, 'sometimes': 1, 'wish': 1, 'd': 1, 'never': 4, 'been': 1, 'born': 1, 'at': 1, 'silhouetto': 1, 'of': 1, 'scaramouch': 2, 'will': 6, 'do': 2, 'fandango': 1, 'thunderbolts': 1, 'lightning': 1, 'very': 2, 'frightening': 1, 'galileo': 5, 'figaro': 1, 'magnificoo': 1, 'nobody': 1, 'loves': 1, 'family': 1, 'spare': 1, 'him': 3, 'monstrosity': 1, 'let': 14, 'bismillah': 3, 'we': 3, 'ah': 1, 'oh': 2, 'mia': 3, 'beelzebub': 1, 'devil': 1, 'aside': 1, 'for': 3, 'meee': 1, 'so': 2, 'think': 2, 'can': 4, 'stop': 1, 'spit': 1, 'eye': 1, 'love': 1, 'baby': 2, 'get': 2, 'out': 1, 'right': 1, 'outta': 1, 'here': 1, 'anyone': 1}\n"
     ]
    }
   ],
   "source": [
    "#how many times each word repeats in the sond\n",
    "word_dict = {}\n",
    "#1st solution\n",
    "for word in filtered_song_1:\n",
    "    if word in word_dict:\n",
    "        word_dict[word]+=1\n",
    "    else:\n",
    "        word_dict[word]=1\n",
    "print(word_dict)"
   ]
  },
  {
   "cell_type": "code",
   "execution_count": 149,
   "metadata": {},
   "outputs": [
    {
     "name": "stdout",
     "output_type": "stream",
     "text": [
      "{'out': 1, 'bismillah': 3, 'spine': 1, 'beelzebub': 1, 'boy': 3, 'and': 6, 'low': 1, 'tomorrow': 1, 'of': 1, 'thrown': 1, 'mia': 3, 'outta': 1, 'mean': 1, 'open': 1, 'make': 1, 'figaro': 1, 'ah': 1, 's': 3, 'this': 5, 'fantasy': 1, 'here': 1, 'had': 1, 'not': 5, 'galileo': 5, 'come': 3, 'behind': 1, 'anyone': 1, 'has': 2, 'killed': 1, 'from': 3, 'if': 2, 'loves': 1, 'm': 4, 'he': 2, 'sends': 1, 'meee': 1, 'on': 2, 'wind': 2, 'now': 2, 'trigger': 1, 'gun': 1, 'magnificoo': 1, 'truth': 1, 'get': 2, 'your': 1, 'let': 14, 'been': 1, 'will': 6, 'easy': 4, 'baby': 2, 'gone': 1, 'as': 1, 'eyes': 1, 'need': 1, 'die': 2, 'put': 2, 'look': 1, 'again': 1, 'any': 2, 'aside': 1, 'never': 4, 'late': 1, 'time': 3, 'see': 3, 'nobody': 1, 'stop': 1, 'so': 2, 'lightning': 1, 'no': 10, 'oooh': 2, 'scaramouch': 2, 'frightening': 1, 'his': 2, 'got': 1, 'family': 1, 'leave': 2, 'monstrosity': 1, 'at': 1, 'think': 2, 'spare': 1, 'wish': 1, 'head': 1, 'right': 1, 't': 4, 'because': 1, 'for': 3, 'back': 1, 'nothing': 4, 'mama': 5, 'against': 1, 'a': 10, 'down': 1, 'body': 1, 'man': 2, 'can': 4, 'matters': 4, 'mamaaa': 2, 'cry': 1, 'all': 4, 'i': 11, 'to': 9, 'it': 1, 'goodbye': 1, 'landside': 1, 'matter': 1, 'don': 1, 'skies': 1, 'devil': 1, 'shivers': 1, 'go': 17, 'you': 14, 'love': 1, 'life': 3, 'oh': 2, 'sympathy': 1, 'gotta': 3, 'just': 8, 'poor': 4, 'begun': 1, 'high': 1, 'is': 2, 'didn': 1, 'thunderbolts': 1, 'little': 3, 'spit': 1, 'eye': 1, 'silhouetto': 1, 'too': 1, 'aching': 1, 'real': 1, 'sometimes': 1, 'reality': 1, 'dead': 1, 'escape': 1, 'pulled': 1, 'we': 3, 'up': 1, 'very': 2, 'away': 1, 've': 2, 'd': 1, 'do': 2, 'born': 1, 'him': 3, 'carry': 2, 'my': 4, 'me': 17, 'doesn': 1, 'really': 5, 'face': 1, 'want': 1, 'fandango': 1, 'way': 2, 'in': 2, 'blows': 2, 'everybody': 1, 'caught': 1, 'but': 1}\n"
     ]
    }
   ],
   "source": [
    "#solution 2\n",
    "#we need to go through every UNIQUE word\n",
    "word_dict = {}\n",
    "\n",
    "for unique_word in unique_words:\n",
    "    word_dict[unique_word] = filtered_song_1.count(unique_word) \n",
    "    #counting how many times this is repeated\n",
    "\n",
    "print (word_dict)"
   ]
  },
  {
   "cell_type": "code",
   "execution_count": 150,
   "metadata": {},
   "outputs": [
    {
     "name": "stdout",
     "output_type": "stream",
     "text": [
      "{'out': 1, 'bismillah': 3, 'spine': 1, 'beelzebub': 1, 'boy': 3, 'and': 6, 'low': 1, 'tomorrow': 1, 'of': 1, 'thrown': 1, 'mia': 3, 'outta': 1, 'mean': 1, 'open': 1, 'make': 1, 'figaro': 1, 'ah': 1, 's': 3, 'this': 5, 'fantasy': 1, 'here': 1, 'had': 1, 'not': 5, 'galileo': 5, 'come': 3, 'behind': 1, 'anyone': 1, 'has': 2, 'killed': 1, 'from': 3, 'if': 2, 'loves': 1, 'm': 4, 'he': 2, 'sends': 1, 'meee': 1, 'on': 2, 'wind': 2, 'now': 2, 'trigger': 1, 'gun': 1, 'magnificoo': 1, 'truth': 1, 'get': 2, 'your': 1, 'let': 14, 'been': 1, 'will': 6, 'easy': 4, 'baby': 2, 'gone': 1, 'as': 1, 'eyes': 1, 'need': 1, 'die': 2, 'put': 2, 'look': 1, 'again': 1, 'any': 2, 'aside': 1, 'never': 4, 'late': 1, 'time': 3, 'see': 3, 'nobody': 1, 'stop': 1, 'so': 2, 'lightning': 1, 'no': 10, 'oooh': 2, 'scaramouch': 2, 'frightening': 1, 'his': 2, 'got': 1, 'family': 1, 'leave': 2, 'monstrosity': 1, 'at': 1, 'think': 2, 'spare': 1, 'wish': 1, 'head': 1, 'right': 1, 't': 4, 'because': 1, 'for': 3, 'back': 1, 'nothing': 4, 'mama': 5, 'against': 1, 'a': 10, 'down': 1, 'body': 1, 'man': 2, 'can': 4, 'matters': 4, 'mamaaa': 2, 'cry': 1, 'all': 4, 'i': 11, 'to': 9, 'it': 1, 'goodbye': 1, 'landside': 1, 'matter': 1, 'don': 1, 'skies': 1, 'devil': 1, 'shivers': 1, 'go': 17, 'you': 14, 'love': 1, 'life': 3, 'oh': 2, 'sympathy': 1, 'gotta': 3, 'just': 8, 'poor': 4, 'begun': 1, 'high': 1, 'is': 2, 'didn': 1, 'thunderbolts': 1, 'little': 3, 'spit': 1, 'eye': 1, 'silhouetto': 1, 'too': 1, 'aching': 1, 'real': 1, 'sometimes': 1, 'reality': 1, 'dead': 1, 'escape': 1, 'pulled': 1, 'we': 3, 'up': 1, 'very': 2, 'away': 1, 've': 2, 'd': 1, 'do': 2, 'born': 1, 'him': 3, 'carry': 2, 'my': 4, 'me': 17, 'doesn': 1, 'really': 5, 'face': 1, 'want': 1, 'fandango': 1, 'way': 2, 'in': 2, 'blows': 2, 'everybody': 1, 'caught': 1, 'but': 1}\n"
     ]
    }
   ],
   "source": [
    "#solution 2\n",
    "#we need to go through every UNIQUE word\n",
    "# word_dict = {}\n",
    "\n",
    "word_dict = {\n",
    "    unique_word: filtered_song_1.count(unique_word)\n",
    "    for unique_word in unique_words\n",
    "}\n",
    "\n",
    "print (word_dict)"
   ]
  },
  {
   "cell_type": "markdown",
   "metadata": {},
   "source": [
    "## Functions"
   ]
  },
  {
   "cell_type": "code",
   "execution_count": 155,
   "metadata": {},
   "outputs": [],
   "source": [
    "def hello(): #arguments is empty in this case\n",
    "    print ('this function says hello') #what this functions does\n",
    "    print (\"Hello World!\")"
   ]
  },
  {
   "cell_type": "code",
   "execution_count": 158,
   "metadata": {},
   "outputs": [
    {
     "name": "stdout",
     "output_type": "stream",
     "text": [
      "this function says hello\n",
      "Hello World!\n",
      "this function says hello\n",
      "Hello World!\n"
     ]
    }
   ],
   "source": [
    "#to execute function we need to call it\n",
    "hello()\n",
    "hello()"
   ]
  },
  {
   "cell_type": "code",
   "execution_count": 159,
   "metadata": {},
   "outputs": [],
   "source": [
    "def hello_2(name): #with argument\n",
    "    print(f'Hello {name}')"
   ]
  },
  {
   "cell_type": "code",
   "execution_count": 160,
   "metadata": {},
   "outputs": [
    {
     "name": "stdout",
     "output_type": "stream",
     "text": [
      "Hello Darius\n",
      "Hello Tomas\n",
      "Hello Gabriele\n"
     ]
    }
   ],
   "source": [
    "hello_2('Darius') \n",
    "hello_2('Tomas')\n",
    "hello_2('Gabriele')"
   ]
  },
  {
   "cell_type": "code",
   "execution_count": 162,
   "metadata": {},
   "outputs": [],
   "source": [
    "# hello_2() error because didnt provide argument"
   ]
  },
  {
   "cell_type": "code",
   "execution_count": 163,
   "metadata": {},
   "outputs": [],
   "source": [
    "#in some cases you dont want to get an error if its not provided?\n",
    "def hello_3(name, city='Vilnius'):\n",
    "    print(f'Hello {name} from {city}')"
   ]
  },
  {
   "cell_type": "code",
   "execution_count": 167,
   "metadata": {},
   "outputs": [
    {
     "name": "stdout",
     "output_type": "stream",
     "text": [
      "Hello Darius from Vilnius\n",
      "Hello Tomas from Kaunas\n",
      "Hello Darius from Vilnius\n",
      "Hello Tomas from Kaunas\n",
      "Hello Tomas from Kaunas\n",
      "Hello Tomas from Kaunas\n"
     ]
    }
   ],
   "source": [
    "hello_3('Darius')\n",
    "hello_3('Tomas', 'Kaunas') #on defaulyt goes on variable position. name, then city\n",
    "hello_3('Darius')\n",
    "hello_3('Tomas', 'Kaunas')\n",
    "#hello_3('Kaunas', 'Tomas') # not correct\n",
    "hello_3(name='Tomas', city='Kaunas')\n",
    "hello_3(city='Kaunas', name='Tomas')"
   ]
  },
  {
   "cell_type": "code",
   "execution_count": 169,
   "metadata": {},
   "outputs": [],
   "source": [
    "#1st write all necessary arguments, then optional(which can have default value in it)\n",
    "# def hello_3( city='Vilnius', name):  #error\n",
    "#     print(f'Hello {name} from {city}')"
   ]
  },
  {
   "cell_type": "code",
   "execution_count": 170,
   "metadata": {},
   "outputs": [],
   "source": [
    "def hello_4(name, name_2, location=\"Vilnius\", location_2=\"Palanga\"):\n",
    "    print (f'Hello {name} from {location}, I am {name_2} from {location_2}')"
   ]
  },
  {
   "cell_type": "code",
   "execution_count": 171,
   "metadata": {},
   "outputs": [
    {
     "name": "stdout",
     "output_type": "stream",
     "text": [
      "Hello Tomas from Vilnius, I am Darius from Palanga\n",
      "Hello Tomas from Vilnius, I am Darius from Kaunas\n"
     ]
    }
   ],
   "source": [
    "hello_4('Tomas', 'Darius')\n",
    "hello_4('Tomas', 'Darius', location_2='Kaunas')"
   ]
  },
  {
   "cell_type": "code",
   "execution_count": 176,
   "metadata": {},
   "outputs": [],
   "source": [
    "# hello_4('Tomas') # error, need to provide 2 names"
   ]
  },
  {
   "cell_type": "code",
   "execution_count": 177,
   "metadata": {},
   "outputs": [],
   "source": [
    "def add_2(x, y): # does not give back result\n",
    "    x + y\n",
    "# function doestn give anything so get none"
   ]
  },
  {
   "cell_type": "code",
   "execution_count": 178,
   "metadata": {},
   "outputs": [
    {
     "name": "stdout",
     "output_type": "stream",
     "text": [
      "None\n"
     ]
    }
   ],
   "source": [
    "result = add_2(5,4)\n",
    "print (result) #get none"
   ]
  },
  {
   "cell_type": "code",
   "execution_count": 179,
   "metadata": {},
   "outputs": [],
   "source": [
    "def add_2(x, y): # does not give back result\n",
    "    x + y\n",
    "    print (x + y) # need to add this and return"
   ]
  },
  {
   "cell_type": "code",
   "execution_count": 180,
   "metadata": {},
   "outputs": [
    {
     "name": "stdout",
     "output_type": "stream",
     "text": [
      "9\n",
      "None\n"
     ]
    }
   ],
   "source": [
    "result = add_2(5,4)\n",
    "print (result) #get none"
   ]
  },
  {
   "cell_type": "code",
   "execution_count": 182,
   "metadata": {},
   "outputs": [],
   "source": [
    "def add_2(x, y): # does give back result\n",
    "    x + y\n",
    "    print (x + y)\n",
    "    return x + y #need to specity\n",
    "    print ('This will not be printed') #visual studio code shows which wont get executed"
   ]
  },
  {
   "cell_type": "code",
   "execution_count": 183,
   "metadata": {},
   "outputs": [
    {
     "name": "stdout",
     "output_type": "stream",
     "text": [
      "9\n",
      "9\n"
     ]
    }
   ],
   "source": [
    "result = add_2(5,4)\n",
    "print (result)"
   ]
  },
  {
   "cell_type": "markdown",
   "metadata": {},
   "source": [
    "### lesson 8"
   ]
  },
  {
   "cell_type": "code",
   "execution_count": 184,
   "metadata": {},
   "outputs": [],
   "source": [
    "def my_function(*args): #* concatinates all args in a list\n",
    "    for arg in args:\n",
    "        print (f'Argument is {arg}')"
   ]
  },
  {
   "cell_type": "code",
   "execution_count": 185,
   "metadata": {},
   "outputs": [
    {
     "name": "stdout",
     "output_type": "stream",
     "text": [
      "Argument is 11\n",
      "Argument is 41894\n",
      "Argument is hello\n",
      "Argument is [1, 0.5]\n"
     ]
    }
   ],
   "source": [
    "my_function(11, 41894, \"hello\", [1,.5])"
   ]
  },
  {
   "cell_type": "code",
   "execution_count": 188,
   "metadata": {},
   "outputs": [],
   "source": [
    "def my_function(add_number, *args):\n",
    "    for arg in args:\n",
    "        print (f'Argument + {add_number} is {add_number + arg}')"
   ]
  },
  {
   "cell_type": "code",
   "execution_count": 189,
   "metadata": {},
   "outputs": [
    {
     "name": "stdout",
     "output_type": "stream",
     "text": [
      "Argument + 14 is 114\n",
      "Argument + 14 is 64\n",
      "Argument + 14 is 80\n"
     ]
    }
   ],
   "source": [
    "my_function(14, 100, 50, 66)"
   ]
  },
  {
   "cell_type": "code",
   "execution_count": 190,
   "metadata": {},
   "outputs": [],
   "source": [
    "def my_function_2(add_number, list_of_numbers):\n",
    "    for arg in list_of_numbers:\n",
    "        print (f'Argument + {add_number} is {add_number + arg}')"
   ]
  },
  {
   "cell_type": "code",
   "execution_count": 191,
   "metadata": {},
   "outputs": [
    {
     "name": "stdout",
     "output_type": "stream",
     "text": [
      "Argument + 14 is 114\n",
      "Argument + 14 is 64\n",
      "Argument + 14 is 80\n"
     ]
    }
   ],
   "source": [
    "my_function_2(14, [100, 50, 66])"
   ]
  },
  {
   "cell_type": "code",
   "execution_count": 192,
   "metadata": {},
   "outputs": [],
   "source": [
    "def my_function(add_number, *args, text=\"hello\"):\n",
    "    print(text)\n",
    "    for arg in args:\n",
    "        print (f'Argument + {add_number} is {add_number + arg}')"
   ]
  },
  {
   "cell_type": "code",
   "execution_count": 195,
   "metadata": {},
   "outputs": [
    {
     "name": "stdout",
     "output_type": "stream",
     "text": [
      "Moody\n",
      "Argument + 14 is 114\n",
      "Argument + 14 is 64\n",
      "Argument + 14 is 80\n",
      "hello\n"
     ]
    }
   ],
   "source": [
    "my_function(14, 100, 50, 66, text='Moody')\n",
    "my_function(14) #optional., if its not here it will still work. same with kwargs"
   ]
  },
  {
   "cell_type": "code",
   "execution_count": 196,
   "metadata": {},
   "outputs": [],
   "source": [
    "#kwargs- key word arguments\n",
    "def my_kwargs(text, **kwargs): #it will make pairs?. ** will collect all pairs and put into kwargs\n",
    "    print (text)                # and make a dictionary\n",
    "    for k,v in kwargs.items():\n",
    "        print (f' key is {k} with a value of {v}')\n",
    "#used when you are plotting a graph"
   ]
  },
  {
   "cell_type": "code",
   "execution_count": 197,
   "metadata": {},
   "outputs": [
    {
     "name": "stdout",
     "output_type": "stream",
     "text": [
      "hello\n",
      " key is radius with a value of 10\n",
      " key is names with a value of ['Tomas', 'Darius']\n"
     ]
    }
   ],
   "source": [
    "my_kwargs(text='hello', radius=10, names=['Tomas', 'Darius'])"
   ]
  },
  {
   "cell_type": "markdown",
   "metadata": {},
   "source": [
    "## while loop"
   ]
  },
  {
   "cell_type": "code",
   "execution_count": 198,
   "metadata": {},
   "outputs": [
    {
     "name": "stdout",
     "output_type": "stream",
     "text": [
      "0 while loop\n",
      "1 while loop\n",
      "2 while loop\n",
      "3 while loop\n",
      "4 while loop\n",
      "end of while loop\n"
     ]
    }
   ],
   "source": [
    "x = 0\n",
    "while x < 5: #condition which has to be true or false. at some point it NEEDS to become FALSE\n",
    "    print (f'{x} while loop') \n",
    "    x += 1 #not to have infinite abd because <..> at some point it NEEDS to become FALSE\n",
    "    #x -= 1 #BE CAREFUL WITH - it will create INFINITIVE LOOP\n",
    "print ('end of while loop')"
   ]
  },
  {
   "cell_type": "code",
   "execution_count": 199,
   "metadata": {},
   "outputs": [
    {
     "name": "stdout",
     "output_type": "stream",
     "text": [
      "hi\n",
      "input is not a number, try again\n",
      "you entered a number 5\n"
     ]
    }
   ],
   "source": [
    "print ('hi')\n",
    "while True: #infinite loop\n",
    "    user_input = input('enter a number: ')\n",
    "    if user_input.isdecimal(): #returns true if its a number\n",
    "        print (f'you entered a number {user_input}')\n",
    "        break # instead of having conditioon which becomes false at some point (x<5)\n",
    "    print ('input is not a number, try again')"
   ]
  },
  {
   "cell_type": "markdown",
   "metadata": {},
   "source": [
    "Write a function that will accept a variable of type\n",
    "string, return as how many letters, numbers and\n",
    "punctuation characters there are in the string, the\n",
    "space must not be a punctuation\n",
    "symbol_searcher ('one 2 ??')\n",
    "There are 6 letters, 1 number, 2 characters\n",
    "1. accept string (has its own methods)\n",
    "2. for loop for each character in the string\n",
    "3. whether the symbol is a number / letter /\n",
    "space / neither that nor that + = 1\n",
    "4. we will return f-string - \"the letter contains:\n",
    "{letter_sum}…\"\n",
    "\n",
    "added spaces somewhere"
   ]
  },
  {
   "cell_type": "code",
   "execution_count": null,
   "metadata": {},
   "outputs": [],
   "source": [
    "def string_analyzer(string_1: str): #i specify taht this SHOULD be string.\n",
    "    \n",
    "    string_1.is"
   ]
  },
  {
   "cell_type": "code",
   "execution_count": 213,
   "metadata": {},
   "outputs": [],
   "source": [
    "def string_analyzer(string_1: str):\n",
    "    letters = 0\n",
    "    numbers = 0\n",
    "    specials = 0\n",
    "    spaces = 0\n",
    "\n",
    "    for character in string_1:\n",
    "        if character.isalpha(): #if its letter\n",
    "            letters += 1\n",
    "        elif character.isdigit(): #is its a digit. elif. just one will be excecuted\n",
    "            numbers += 1\n",
    "        elif character.isspace(): #true if its space\n",
    "            spaces += 1\n",
    "        else:\n",
    "            specials += 1 #no similar function for specials\n",
    "    return f'There are {len(string_1)} symbols,{numbers} numbers,{letters} letters, {spaces} spaces, {specials} specials'"
   ]
  },
  {
   "cell_type": "code",
   "execution_count": 215,
   "metadata": {},
   "outputs": [
    {
     "name": "stdout",
     "output_type": "stream",
     "text": [
      "There are 8 symbols,1 numbers,3 letters, 2 spaces, 2 specials\n",
      "There are 14 symbols,4 numbers,3 letters, 3 spaces, 4 specials\n"
     ]
    }
   ],
   "source": [
    "print (string_analyzer('one 2 ??') )\n",
    "print (string_analyzer('one, 2 ?? 3.14')) #not correct with number count. because of decimal"
   ]
  },
  {
   "cell_type": "code",
   "execution_count": null,
   "metadata": {},
   "outputs": [],
   "source": [
    "#global variable\n",
    "#local variable - can be accesed just in function\n",
    "#all variables has scopes- how they can be accpted"
   ]
  },
  {
   "cell_type": "code",
   "execution_count": 218,
   "metadata": {},
   "outputs": [
    {
     "name": "stdout",
     "output_type": "stream",
     "text": [
      "10\n"
     ]
    },
    {
     "ename": "NameError",
     "evalue": "name 'local_variable' is not defined",
     "output_type": "error",
     "traceback": [
      "\u001b[0;31m---------------------------------------------------------------------------\u001b[0m",
      "\u001b[0;31mNameError\u001b[0m                                 Traceback (most recent call last)",
      "\u001b[0;32m/var/folders/dl/4w6c195d6pq63chtkgldxpl00000gn/T/ipykernel_13174/2316857720.py\u001b[0m in \u001b[0;36m<module>\u001b[0;34m\u001b[0m\n\u001b[1;32m      4\u001b[0m \u001b[0;34m\u001b[0m\u001b[0m\n\u001b[1;32m      5\u001b[0m \u001b[0msimple_function\u001b[0m\u001b[0;34m(\u001b[0m\u001b[0;34m)\u001b[0m\u001b[0;34m\u001b[0m\u001b[0;34m\u001b[0m\u001b[0m\n\u001b[0;32m----> 6\u001b[0;31m \u001b[0mprint\u001b[0m\u001b[0;34m(\u001b[0m \u001b[0mlocal_variable\u001b[0m\u001b[0;34m)\u001b[0m \u001b[0;31m# it can be accessed just from inside the function\u001b[0m\u001b[0;34m\u001b[0m\u001b[0;34m\u001b[0m\u001b[0m\n\u001b[0m",
      "\u001b[0;31mNameError\u001b[0m: name 'local_variable' is not defined"
     ]
    }
   ],
   "source": [
    "def simple_function():\n",
    "    local_variable = 10\n",
    "    print( local_variable)\n",
    "    \n",
    "simple_function()\n",
    "print( local_variable) # it can be accessed just from inside the function"
   ]
  },
  {
   "cell_type": "code",
   "execution_count": 221,
   "metadata": {},
   "outputs": [
    {
     "name": "stdout",
     "output_type": "stream",
     "text": [
      "10\n",
      "global\n"
     ]
    }
   ],
   "source": [
    "global_variable = 'global'\n",
    "\n",
    "def simple_function():\n",
    "    local_variable = 10\n",
    "    print(local_variable)\n",
    "    print(global_variable) \n",
    "\n",
    "simple_function()\n",
    "# print (local_variable) # error, can't access local function variable"
   ]
  },
  {
   "cell_type": "code",
   "execution_count": 225,
   "metadata": {},
   "outputs": [
    {
     "name": "stdout",
     "output_type": "stream",
     "text": [
      "10\n",
      "4391785584\n",
      "world\n",
      "4331055920\n",
      "after function global_variable is global\n"
     ]
    }
   ],
   "source": [
    "global_variable = 'global'\n",
    "\n",
    "def simple_function():\n",
    "    local_variable = 10\n",
    "    print(local_variable)\n",
    "    global_variable = \"world\" # creates local variable instead of overwritting global\n",
    "    print (id(global_variable)) \n",
    "    print(global_variable)\n",
    "\n",
    "simple_function()\n",
    "print (id(global_variable)) #to check where is this global\n",
    "print (f'after function global_variable is {global_variable}')\n",
    "# ids shows that that global things just shares the same name, but are different"
   ]
  },
  {
   "cell_type": "code",
   "execution_count": 226,
   "metadata": {},
   "outputs": [
    {
     "name": "stdout",
     "output_type": "stream",
     "text": [
      "10\n",
      "world\n",
      "after function global_variable is world\n"
     ]
    }
   ],
   "source": [
    "#you can overwrite, but SHOULDN DO THIS. BAD PRACTICE\n",
    "global_variable = 'global'\n",
    "\n",
    "def simple_function():\n",
    "    local_variable = 10\n",
    "    print(local_variable)\n",
    "    global global_variable # takes global variable \n",
    "    global_variable = \"world\" # creates local variable instead of overwritting global\n",
    "    print(global_variable)\n",
    "\n",
    "simple_function()\n",
    "print (f'after function global_variable is {global_variable}')"
   ]
  },
  {
   "cell_type": "code",
   "execution_count": 227,
   "metadata": {},
   "outputs": [
    {
     "name": "stdout",
     "output_type": "stream",
     "text": [
      "10\n",
      "4391785584\n",
      "world\n",
      "after function global_variable is global\n"
     ]
    }
   ],
   "source": [
    "#BETTER PRACTICE\n",
    "global_variable = 'global'\n",
    "\n",
    "def simple_function(value):\n",
    "    local_variable = 10\n",
    "    print( local_variable)\n",
    "    value = \"world\"\n",
    "    print (id(value))\n",
    "    print(value)\n",
    "\n",
    "simple_function(global_variable)\n",
    "print (f'after function global_variable is {global_variable}')"
   ]
  },
  {
   "cell_type": "markdown",
   "metadata": {},
   "source": [
    "Write a function that accepts a single list, the\n",
    "function returns the difference between the\n",
    "largest number and the smallest number"
   ]
  },
  {
   "cell_type": "code",
   "execution_count": 245,
   "metadata": {},
   "outputs": [],
   "source": [
    "def list_1(my_list):\n",
    "    min_value = my_list[0] #1st value\n",
    "    max_value = my_list[0] #this will be overwritten later\n",
    "    print(f' min: {min_value}, max: {max_value} ')\n",
    "    for number in my_list[1:]:#1: starting from 2nd value cause i have already said \n",
    "    # that my min and max value is 0. No need to check again\n",
    "        if number < min_value:\n",
    "            min_value = number\n",
    "        elif number > max_value:\n",
    "            max_value = number\n",
    "        print(f' min: {min_value}, max: {max_value} ')\n",
    "    \n",
    "    return max_value - min_value"
   ]
  },
  {
   "cell_type": "code",
   "execution_count": 246,
   "metadata": {},
   "outputs": [
    {
     "name": "stdout",
     "output_type": "stream",
     "text": [
      " min: 1, max: 1 \n",
      " min: 1, max: 5 \n",
      " min: 1, max: 6 \n",
      " min: 1, max: 10 \n",
      " min: 1, max: 10 \n",
      " min: -5, max: 10 \n"
     ]
    },
    {
     "data": {
      "text/plain": [
       "15"
      ]
     },
     "execution_count": 246,
     "metadata": {},
     "output_type": "execute_result"
    }
   ],
   "source": [
    "list_1([1, 5, 6, 10, 4, -5])"
   ]
  },
  {
   "cell_type": "code",
   "execution_count": 243,
   "metadata": {},
   "outputs": [],
   "source": [
    "#another way\n",
    "def list_1(my_list):\n",
    "    min_value = min(my_list)\n",
    "    max_value = max(my_list)\n",
    "    return max_value - min_value"
   ]
  },
  {
   "cell_type": "code",
   "execution_count": 244,
   "metadata": {},
   "outputs": [
    {
     "data": {
      "text/plain": [
       "15"
      ]
     },
     "execution_count": 244,
     "metadata": {},
     "output_type": "execute_result"
    }
   ],
   "source": [
    "list_1([1, 5, 6, 10, 4, -5])"
   ]
  },
  {
   "cell_type": "markdown",
   "metadata": {},
   "source": [
    "Write a function that will accept two lists and return\n",
    "how many items in the first list exist in the second list\n",
    "\n",
    "list_checker( [1,2], [1,1,2,3,3,3,3,1] )\n",
    "result: 4\n",
    "2. list_checker( [1,1,1,2,2], [1,1,2,3,3,3,3,1] )\n",
    "result: 4"
   ]
  },
  {
   "cell_type": "code",
   "execution_count": 247,
   "metadata": {},
   "outputs": [],
   "source": [
    "def list_checker( list_1, list_2: list):\n",
    "    counter = 0\n",
    "    #intersection doesnt work\n",
    "    for number in set(list_1):\n",
    "        counter += list_2.count(number) #how many occurencies we have of this number\n",
    "    return counter"
   ]
  },
  {
   "cell_type": "code",
   "execution_count": 248,
   "metadata": {},
   "outputs": [
    {
     "name": "stdout",
     "output_type": "stream",
     "text": [
      "4\n"
     ]
    }
   ],
   "source": [
    "print (list_checker([1,1,1,2,2], [1,1,2,3,3,3,3,1]) )"
   ]
  },
  {
   "cell_type": "code",
   "execution_count": 249,
   "metadata": {},
   "outputs": [],
   "source": [
    "#simplier way\n",
    "def list_checker2( list_1, list_2: list):\n",
    "    return sum(list_2.count(number) for number in set(list_1) )"
   ]
  },
  {
   "cell_type": "code",
   "execution_count": 250,
   "metadata": {},
   "outputs": [
    {
     "name": "stdout",
     "output_type": "stream",
     "text": [
      "4\n"
     ]
    }
   ],
   "source": [
    "print (list_checker2([1,1,1,2,2], [1,1,2,3,3,3,3,1]) )"
   ]
  },
  {
   "cell_type": "code",
   "execution_count": 251,
   "metadata": {},
   "outputs": [
    {
     "name": "stdout",
     "output_type": "stream",
     "text": [
      "0\n",
      "0\n",
      "4\n",
      "10\n"
     ]
    }
   ],
   "source": [
    "print (list_checker([], [1,1,2,3,3,3,3,1]) )\n",
    "print (list_checker([1,1,1,2,2], []) )\n",
    "print (list_checker([1,1,1,2,2], [1,1,2,3,3,3,3,1]) )\n",
    "print (list_checker([1,1,1,2,2,3, 5, 10], [1,1,2,3,3,3,3,1 ,10, 10]) )"
   ]
  },
  {
   "cell_type": "code",
   "execution_count": null,
   "metadata": {},
   "outputs": [
    {
     "data": {
      "text/plain": [
       "NoneType"
      ]
     },
     "metadata": {},
     "output_type": "display_data"
    }
   ],
   "source": []
  },
  {
   "cell_type": "markdown",
   "metadata": {},
   "source": []
  },
  {
   "cell_type": "code",
   "execution_count": null,
   "metadata": {},
   "outputs": [],
   "source": []
  },
  {
   "cell_type": "code",
   "execution_count": null,
   "metadata": {},
   "outputs": [
    {
     "data": {
      "text/plain": [
       "'football'"
      ]
     },
     "metadata": {},
     "output_type": "display_data"
    }
   ],
   "source": []
  },
  {
   "cell_type": "code",
   "execution_count": null,
   "metadata": {},
   "outputs": [
    {
     "name": "stdout",
     "output_type": "stream",
     "text": [
      "Darius hobby is tennis\n",
      "Darius hobby is football\n"
     ]
    }
   ],
   "source": []
  },
  {
   "cell_type": "code",
   "execution_count": null,
   "metadata": {},
   "outputs": [],
   "source": []
  },
  {
   "cell_type": "code",
   "execution_count": null,
   "metadata": {},
   "outputs": [
    {
     "data": {
      "text/plain": [
       "125"
      ]
     },
     "metadata": {},
     "output_type": "display_data"
    }
   ],
   "source": []
  },
  {
   "cell_type": "code",
   "execution_count": null,
   "metadata": {},
   "outputs": [
    {
     "name": "stdout",
     "output_type": "stream",
     "text": [
      "3\n",
      "Ford\n",
      "{'brand': 'Ford', 'model': 'Mustang', 'year': 2020}\n"
     ]
    }
   ],
   "source": []
  },
  {
   "cell_type": "code",
   "execution_count": null,
   "metadata": {},
   "outputs": [
    {
     "name": "stdout",
     "output_type": "stream",
     "text": [
      "{'brand': 'Ford', 'model': 'Mustang', 'year': 2020, 'color': 'red', 'used': True}\n"
     ]
    }
   ],
   "source": []
  },
  {
   "cell_type": "code",
   "execution_count": null,
   "metadata": {},
   "outputs": [],
   "source": []
  },
  {
   "cell_type": "code",
   "execution_count": null,
   "metadata": {},
   "outputs": [
    {
     "name": "stdout",
     "output_type": "stream",
     "text": [
      "Ford\n",
      "{'year': 1992, 'color': 'red', 'used': True}\n",
      "{'year': None, 'color': 'red', 'used': True}\n"
     ]
    }
   ],
   "source": []
  },
  {
   "cell_type": "code",
   "execution_count": null,
   "metadata": {},
   "outputs": [],
   "source": []
  },
  {
   "cell_type": "code",
   "execution_count": null,
   "metadata": {},
   "outputs": [
    {
     "name": "stdout",
     "output_type": "stream",
     "text": [
      "key year has a value of None\n",
      "key color has a value of red\n",
      "key used has a value of True\n"
     ]
    }
   ],
   "source": []
  },
  {
   "cell_type": "code",
   "execution_count": null,
   "metadata": {},
   "outputs": [
    {
     "name": "stdout",
     "output_type": "stream",
     "text": [
      "value is None\n",
      "value is red\n",
      "value is True\n"
     ]
    }
   ],
   "source": []
  },
  {
   "cell_type": "code",
   "execution_count": null,
   "metadata": {},
   "outputs": [
    {
     "name": "stdout",
     "output_type": "stream",
     "text": [
      "key is year\n",
      "key is color\n",
      "key is used\n"
     ]
    }
   ],
   "source": []
  },
  {
   "cell_type": "markdown",
   "metadata": {},
   "source": []
  },
  {
   "cell_type": "code",
   "execution_count": null,
   "metadata": {},
   "outputs": [],
   "source": []
  },
  {
   "cell_type": "code",
   "execution_count": null,
   "metadata": {},
   "outputs": [
    {
     "name": "stdout",
     "output_type": "stream",
     "text": [
      "{1, 'apple', 3, 2, 'bananas'}\n"
     ]
    }
   ],
   "source": []
  },
  {
   "cell_type": "code",
   "execution_count": null,
   "metadata": {},
   "outputs": [
    {
     "name": "stdout",
     "output_type": "stream",
     "text": [
      "{'Darius', 'Jonas', 'Benas'}\n",
      "3\n"
     ]
    }
   ],
   "source": []
  },
  {
   "cell_type": "code",
   "execution_count": null,
   "metadata": {},
   "outputs": [
    {
     "name": "stdout",
     "output_type": "stream",
     "text": [
      "{'orange', 'apple', 'pineapple', 'bananas'}\n",
      "{'apple', 'bananas', 'orange', 'pear', 'pineapple', 'mandarine'}\n"
     ]
    }
   ],
   "source": []
  },
  {
   "cell_type": "code",
   "execution_count": null,
   "metadata": {},
   "outputs": [
    {
     "ename": "TypeError",
     "evalue": "'set' object is not subscriptable",
     "output_type": "error",
     "traceback": [
      "\u001b[1;31m---------------------------------------------------------------------------\u001b[0m\n",
      "\u001b[1;31mTypeError\u001b[0m                                 Traceback (most recent call last)\n",
      "\u001b[1;32m~\\AppData\\Local\\Temp/ipykernel_23228/2478051916.py\u001b[0m in \u001b[0;36m<module>\u001b[1;34m\u001b[0m\n",
      "\u001b[1;32m----> 1\u001b[1;33m \u001b[0mfruits\u001b[0m\u001b[1;33m[\u001b[0m\u001b[1;36m0\u001b[0m\u001b[1;33m]\u001b[0m\u001b[1;33m\u001b[0m\u001b[1;33m\u001b[0m\u001b[0m\n",
      "\u001b[0m\n",
      "\u001b[1;31mTypeError\u001b[0m: 'set' object is not subscriptable"
     ]
    }
   ],
   "source": []
  },
  {
   "cell_type": "code",
   "execution_count": null,
   "metadata": {},
   "outputs": [],
   "source": []
  },
  {
   "cell_type": "code",
   "execution_count": null,
   "metadata": {},
   "outputs": [
    {
     "ename": "KeyError",
     "evalue": "'bananas'",
     "output_type": "error",
     "traceback": [
      "\u001b[1;31m---------------------------------------------------------------------------\u001b[0m\n",
      "\u001b[1;31mKeyError\u001b[0m                                  Traceback (most recent call last)\n",
      "\u001b[1;32m~\\AppData\\Local\\Temp/ipykernel_23228/3204864119.py\u001b[0m in \u001b[0;36m<module>\u001b[1;34m\u001b[0m\n",
      "\u001b[0;32m      1\u001b[0m \u001b[0mfruits\u001b[0m\u001b[1;33m.\u001b[0m\u001b[0mremove\u001b[0m\u001b[1;33m(\u001b[0m\u001b[1;34m'bananas'\u001b[0m\u001b[1;33m)\u001b[0m\u001b[1;33m\u001b[0m\u001b[1;33m\u001b[0m\u001b[0m\n",
      "\u001b[1;32m----> 2\u001b[1;33m \u001b[0mfruits\u001b[0m\u001b[1;33m.\u001b[0m\u001b[0mremove\u001b[0m\u001b[1;33m(\u001b[0m\u001b[1;34m'bananas'\u001b[0m\u001b[1;33m)\u001b[0m\u001b[1;33m\u001b[0m\u001b[1;33m\u001b[0m\u001b[0m\n",
      "\u001b[0m\n",
      "\u001b[1;31mKeyError\u001b[0m: 'bananas'"
     ]
    }
   ],
   "source": []
  },
  {
   "cell_type": "code",
   "execution_count": null,
   "metadata": {},
   "outputs": [
    {
     "name": "stdout",
     "output_type": "stream",
     "text": [
      "{'orange', 'apple'}\n"
     ]
    }
   ],
   "source": []
  },
  {
   "cell_type": "code",
   "execution_count": null,
   "metadata": {},
   "outputs": [
    {
     "name": "stdout",
     "output_type": "stream",
     "text": [
      "{1, 2, 5, 7}\n",
      "{9, 3}\n",
      "{1, 2, 3, 5, 7, 9, 10, 11, 15, 250}\n"
     ]
    }
   ],
   "source": []
  },
  {
   "cell_type": "code",
   "execution_count": null,
   "metadata": {},
   "outputs": [
    {
     "name": "stdout",
     "output_type": "stream",
     "text": [
      "True\n",
      "True\n"
     ]
    }
   ],
   "source": []
  },
  {
   "cell_type": "code",
   "execution_count": null,
   "metadata": {},
   "outputs": [
    {
     "name": "stdout",
     "output_type": "stream",
     "text": [
      "{'orange', 'apple'}\n",
      "False\n",
      "True\n"
     ]
    }
   ],
   "source": []
  },
  {
   "cell_type": "code",
   "execution_count": null,
   "metadata": {},
   "outputs": [
    {
     "name": "stdout",
     "output_type": "stream",
     "text": [
      "{'bmw', 'ford', ('bmw', 2015), 'opel', ' mercedes'}\n"
     ]
    }
   ],
   "source": []
  },
  {
   "cell_type": "code",
   "execution_count": null,
   "metadata": {},
   "outputs": [
    {
     "name": "stdout",
     "output_type": "stream",
     "text": [
      "['bmw', 'ford', ('bmw', 2015), 'opel', ' mercedes']\n",
      "['Audi', 'ford', ('bmw', 2015), 'opel', ' mercedes']\n",
      "{'ford', ('bmw', 2015), 'opel', ' mercedes', 'Audi'}\n"
     ]
    }
   ],
   "source": []
  },
  {
   "cell_type": "code",
   "execution_count": null,
   "metadata": {},
   "outputs": [
    {
     "name": "stdout",
     "output_type": "stream",
     "text": [
      "{'opel', ' mercedes', 'bmw', 'ford'}\n",
      "{'opel', ' mercedes', 'ford'}\n",
      "{'ford', 'opel', ' mercedes', 'Audi'}\n"
     ]
    }
   ],
   "source": []
  },
  {
   "cell_type": "code",
   "execution_count": null,
   "metadata": {},
   "outputs": [
    {
     "name": "stdout",
     "output_type": "stream",
     "text": [
      "{'apple', 'banana', 'watermelon', 'cherry'}\n",
      "{'apple', 'watermelon', 'cherry', 'orange', 'banana', 'pear', 'tomato', 'pineapple'}\n",
      "{'watermelon', 'cherry', 'orange', 'banana', 'pear', 'tomato', 'pineapple'}\n",
      "7\n",
      "7\n"
     ]
    }
   ],
   "source": []
  },
  {
   "cell_type": "code",
   "execution_count": null,
   "metadata": {},
   "outputs": [],
   "source": []
  },
  {
   "cell_type": "code",
   "execution_count": null,
   "metadata": {},
   "outputs": [],
   "source": []
  },
  {
   "cell_type": "code",
   "execution_count": null,
   "metadata": {},
   "outputs": [
    {
     "name": "stdout",
     "output_type": "stream",
     "text": [
      "375\n"
     ]
    }
   ],
   "source": []
  },
  {
   "cell_type": "code",
   "execution_count": null,
   "metadata": {},
   "outputs": [
    {
     "name": "stdout",
     "output_type": "stream",
     "text": [
      "158\n"
     ]
    }
   ],
   "source": []
  },
  {
   "cell_type": "code",
   "execution_count": null,
   "metadata": {},
   "outputs": [
    {
     "data": {
      "text/plain": [
       "42.13333333333333"
      ]
     },
     "metadata": {},
     "output_type": "display_data"
    }
   ],
   "source": []
  },
  {
   "cell_type": "code",
   "execution_count": null,
   "metadata": {},
   "outputs": [
    {
     "name": "stdout",
     "output_type": "stream",
     "text": [
      "{'is': 2, 'this': 5, 'real': 1, 'life': 3, 'just': 8, 'fantasy': 1, 'caught': 1, 'in': 2, 'a': 10, 'landside': 1, 'no': 10, 'escape': 1, 'from': 3, 'reality': 1, 'open': 1, 'your': 1, 'eyes': 1, 'look': 1, 'up': 1, 'to': 9, 'skies': 1, 'and': 6, 'see': 3, 'i': 11, 'm': 4, 'poor': 4, 'boy': 3, 'need': 1, 'sympathy': 1, 'because': 1, 'easy': 4, 'come': 3, 'go': 17, 'little': 3, 'high': 1, 'low': 1, 'any': 2, 'way': 2, 'wind': 2, 'blows': 2, 'doesn': 1, 't': 4, 'really': 5, 'matter': 1, 'me': 17, 'mamaaa': 2, 'killed': 1, 'man': 2, 'put': 2, 'gun': 1, 'against': 1, 'his': 2, 'head': 1, 'pulled': 1, 'my': 4, 'trigger': 1, 'now': 2, 'he': 2, 's': 3, 'dead': 1, 'had': 1, 'begun': 1, 'but': 1, 've': 2, 'gone': 1, 'thrown': 1, 'it': 1, 'all': 4, 'away': 1, 'mama': 5, 'oooh': 2, 'didn': 1, 'mean': 1, 'make': 1, 'you': 14, 'cry': 1, 'if': 2, 'not': 5, 'back': 1, 'again': 1, 'time': 3, 'tomorrow': 1, 'carry': 2, 'on': 2, 'as': 1, 'nothing': 4, 'matters': 4, 'too': 1, 'late': 1, 'has': 2, 'sends': 1, 'shivers': 1, 'down': 1, 'spine': 1, 'body': 1, 'aching': 1, 'goodbye': 1, 'everybody': 1, 'got': 1, 'gotta': 3, 'leave': 2, 'behind': 1, 'face': 1, 'truth': 1, 'don': 1, 'want': 1, 'die': 2, 'sometimes': 1, 'wish': 1, 'd': 1, 'never': 4, 'been': 1, 'born': 1, 'at': 1, 'silhouetto': 1, 'of': 1, 'scaramouch': 2, 'will': 6, 'do': 2, 'fandango': 1, 'thunderbolts': 1, 'lightning': 1, 'very': 2, 'frightening': 1, 'galileo': 5, 'figaro': 1, 'magnificoo': 1, 'nobody': 1, 'loves': 1, 'family': 1, 'spare': 1, 'him': 3, 'monstrosity': 1, 'let': 14, 'bismillah': 3, 'we': 3, 'ah': 1, 'oh': 2, 'mia': 3, 'beelzebub': 1, 'devil': 1, 'aside': 1, 'for': 3, 'meee': 1, 'so': 2, 'think': 2, 'can': 4, 'stop': 1, 'spit': 1, 'eye': 1, 'love': 1, 'baby': 2, 'get': 2, 'out': 1, 'right': 1, 'outta': 1, 'here': 1, 'anyone': 1}\n"
     ]
    }
   ],
   "source": []
  },
  {
   "cell_type": "code",
   "execution_count": null,
   "metadata": {},
   "outputs": [
    {
     "name": "stdout",
     "output_type": "stream",
     "text": [
      "{'go': 17, 'of': 1, 'think': 2, 'wind': 2, 'thunderbolts': 1, 'silhouetto': 1, 'scaramouch': 2, 'come': 3, 'so': 2, 'shivers': 1, 'easy': 4, 'low': 1, 'bismillah': 3, 'if': 2, 'real': 1, 'it': 1, 'me': 17, 'dead': 1, 've': 2, 'truth': 1, 'down': 1, 'body': 1, 'trigger': 1, 'in': 2, 'eyes': 1, 'is': 2, 'carry': 2, 'gotta': 3, 'magnificoo': 1, 'right': 1, 'out': 1, 'up': 1, 'killed': 1, 'all': 4, 'too': 1, 'get': 2, 'has': 2, 'you': 14, 'no': 10, 'open': 1, 'look': 1, 'caught': 1, 'back': 1, 'again': 1, 'as': 1, 'sympathy': 1, 'here': 1, 'wish': 1, 'landside': 1, 'mia': 3, 'not': 5, 'thrown': 1, 'time': 3, 'gun': 1, 'now': 2, 'been': 1, 'fandango': 1, 'begun': 1, 'way': 2, 'for': 3, 'head': 1, 'on': 2, 'don': 1, 'ah': 1, 'stop': 1, 'need': 1, 'baby': 2, 'face': 1, 'just': 8, 'see': 3, 'oh': 2, 'do': 2, 'meee': 1, 'spare': 1, 'i': 11, 'galileo': 5, 'everybody': 1, 'figaro': 1, 'die': 2, 'aching': 1, 'very': 2, 'spine': 1, 'leave': 2, 'nobody': 1, 'mama': 5, 'doesn': 1, 'little': 3, 'against': 1, 'can': 4, 'a': 10, 'he': 2, 'man': 2, 'nothing': 4, 'frightening': 1, 'from': 3, 'outta': 1, 'and': 6, 'blows': 2, 'mamaaa': 2, 'will': 6, 'd': 1, 'his': 2, 'let': 14, 'behind': 1, 'devil': 1, 'family': 1, 'goodbye': 1, 'monstrosity': 1, 'love': 1, 'tomorrow': 1, 'poor': 4, 'got': 1, 'your': 1, 'aside': 1, 'didn': 1, 'to': 9, 'high': 1, 'oooh': 2, 'mean': 1, 'late': 1, 'skies': 1, 'spit': 1, 'put': 2, 'want': 1, 'gone': 1, 'but': 1, 'escape': 1, 'cry': 1, 'matter': 1, 'away': 1, 'sends': 1, 'him': 3, 'beelzebub': 1, 'really': 5, 'life': 3, 'make': 1, 'reality': 1, 'sometimes': 1, 'any': 2, 'matters': 4, 'pulled': 1, 'anyone': 1, 'we': 3, 'born': 1, 'm': 4, 'boy': 3, 't': 4, 'my': 4, 'at': 1, 'this': 5, 's': 3, 'had': 1, 'loves': 1, 'lightning': 1, 'eye': 1, 'never': 4, 'fantasy': 1, 'because': 1}\n"
     ]
    }
   ],
   "source": []
  },
  {
   "cell_type": "code",
   "execution_count": null,
   "metadata": {},
   "outputs": [],
   "source": [
    "list_1([1, 5, 6, 10, 4, -5])"
   ]
  },
  {
   "cell_type": "code",
   "execution_count": null,
   "metadata": {},
   "outputs": [],
   "source": [
    "def list_checker( list_1, list_2: list):\n",
    "    # # option 1\n",
    "    # counter = 0\n",
    "    # for number in set(list_1):\n",
    "    #     counter += list_2.count(number)\n",
    "    # return counter\n",
    "    # option 2\n",
    "    return sum(list_2.count(number) for number in set(list_1) )"
   ]
  },
  {
   "cell_type": "code",
   "execution_count": null,
   "metadata": {},
   "outputs": [],
   "source": [
    "print (list_checker([], [1,1,2,3,3,3,3,1]) )\n",
    "print (list_checker([1,1,1,2,2], []) )\n",
    "print (list_checker([1,1,1,2,2], [1,1,2,3,3,3,3,1]) )\n",
    "print (list_checker([1,1,1,2,2,3, 5, 10], [1,1,2,3,3,3,3,1 ,10, 10]) )"
   ]
  },
  {
   "cell_type": "code",
   "execution_count": null,
   "metadata": {},
   "outputs": [],
   "source": []
  },
  {
   "cell_type": "code",
   "execution_count": null,
   "metadata": {},
   "outputs": [],
   "source": []
  }
 ],
 "metadata": {
  "interpreter": {
   "hash": "aee8b7b246df8f9039afb4144a1f6fd8d2ca17a180786b69acc140d282b71a49"
  },
  "kernelspec": {
   "display_name": "Python 3.9.7 64-bit",
   "language": "python",
   "name": "python3"
  },
  "language_info": {
   "codemirror_mode": {
    "name": "ipython",
    "version": 3
   },
   "file_extension": ".py",
   "mimetype": "text/x-python",
   "name": "python",
   "nbconvert_exporter": "python",
   "pygments_lexer": "ipython3",
   "version": "3.9.7"
  },
  "orig_nbformat": 4
 },
 "nbformat": 4,
 "nbformat_minor": 2
}
