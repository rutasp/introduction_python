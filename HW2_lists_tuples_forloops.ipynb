{
 "cells": [
  {
   "cell_type": "markdown",
   "metadata": {},
   "source": [
    "all 'List tasks'\n",
    "\n",
    "task 3 from 'Tuple tasks'\n",
    "\n",
    "tasks 1 and 2 from 'For loop tasks"
   ]
  },
  {
   "cell_type": "markdown",
   "metadata": {},
   "source": [
    "## List"
   ]
  },
  {
   "cell_type": "markdown",
   "metadata": {},
   "source": [
    " Declare list type\n",
    "variable, get its length,\n",
    "add a new element\n",
    "\n",
    "The element is added using the\n",
    "variable.append () method"
   ]
  },
  {
   "cell_type": "code",
   "execution_count": 1,
   "metadata": {},
   "outputs": [
    {
     "name": "stdout",
     "output_type": "stream",
     "text": [
      "[9, 8, 7, 65]\n",
      "4\n",
      "[9, 8, 7, 65, 7, 23]\n"
     ]
    }
   ],
   "source": [
    "my_list = [9,8,7,65]\n",
    "print(my_list)\n",
    "print(len(my_list))\n",
    "my_list.append(7) #need to add in separate lines?\n",
    "my_list.append(23)\n",
    "print(my_list)"
   ]
  },
  {
   "cell_type": "markdown",
   "metadata": {},
   "source": [
    "Check if the item is on\n",
    "your list\n",
    "\n",
    "The verification method is in:\n",
    "desired_value in your_list"
   ]
  },
  {
   "cell_type": "code",
   "execution_count": 2,
   "metadata": {},
   "outputs": [
    {
     "name": "stdout",
     "output_type": "stream",
     "text": [
      "[9, 8, 7, 65, 7, 23]\n",
      "True\n"
     ]
    }
   ],
   "source": [
    "print(my_list)\n",
    "print(65 in my_list)"
   ]
  },
  {
   "cell_type": "markdown",
   "metadata": {},
   "source": [
    "Add two lists, remove the last member from\n",
    "your list, sort the list, count how many entries\n",
    "there are in the list\n",
    "\n",
    "Useful methods to transform a list:\n",
    "1. list_name.remove (desired_value)\n",
    "2. list_name.pop (0) - delete the first value from the list\n",
    "3. list_name.append (desired_value) - adds a new value to the\n",
    "end of existing list\n",
    "4. list_name.sort () - aligns the list\n",
    "5. list_name.count (return_value) - returns the number of\n",
    "desired_value in the list"
   ]
  },
  {
   "cell_type": "code",
   "execution_count": 4,
   "metadata": {},
   "outputs": [
    {
     "name": "stdout",
     "output_type": "stream",
     "text": [
      "[1, 2, 3]\n",
      "[9, 8, 7, 65, 7, 23]\n"
     ]
    }
   ],
   "source": [
    "my_list_2 = [1,2,3]\n",
    "print(my_list_2)\n",
    "print(my_list)"
   ]
  },
  {
   "cell_type": "code",
   "execution_count": 5,
   "metadata": {},
   "outputs": [
    {
     "name": "stdout",
     "output_type": "stream",
     "text": [
      "[9, 8, 7, 65, 7, 23, 1, 2, 3]\n"
     ]
    }
   ],
   "source": [
    "both_lists = my_list + my_list_2 #add\n",
    "print(both_lists)"
   ]
  },
  {
   "cell_type": "code",
   "execution_count": 6,
   "metadata": {},
   "outputs": [
    {
     "name": "stdout",
     "output_type": "stream",
     "text": [
      "[9, 8, 7, 65, 7, 23, 1, 2, 3]\n",
      "[9, 8, 7, 65, 7, 23, 1, 2]\n"
     ]
    }
   ],
   "source": [
    "print(both_lists)\n",
    "both_lists.remove(3) #remove the last member from your list\n",
    "print(both_lists)"
   ]
  },
  {
   "cell_type": "code",
   "execution_count": 7,
   "metadata": {},
   "outputs": [
    {
     "name": "stdout",
     "output_type": "stream",
     "text": [
      "[9, 8, 7, 65, 7, 23, 1, 2]\n",
      "[1, 2, 7, 7, 8, 9, 23, 65]\n"
     ]
    }
   ],
   "source": [
    "print(both_lists)\n",
    "both_lists.sort() # is there a function to sort if you have strings & integers in the list????\n",
    "print(both_lists)\n"
   ]
  },
  {
   "cell_type": "code",
   "execution_count": 8,
   "metadata": {},
   "outputs": [
    {
     "name": "stdout",
     "output_type": "stream",
     "text": [
      "2\n",
      "8\n"
     ]
    }
   ],
   "source": [
    "print(both_lists.count(7)) #how many number 7 i have in list\n",
    "print(len(both_lists)) #count how many entries there are in the list"
   ]
  },
  {
   "cell_type": "markdown",
   "metadata": {},
   "source": [
    "## Tuples"
   ]
  },
  {
   "cell_type": "markdown",
   "metadata": {},
   "source": [
    "Add two tuples, remove the last member\n",
    "from the first tuple, line up the tuple, count\n",
    "how many instances of each value exists in\n",
    "the tuple, find the largest value"
   ]
  },
  {
   "cell_type": "code",
   "execution_count": 9,
   "metadata": {},
   "outputs": [
    {
     "name": "stdout",
     "output_type": "stream",
     "text": [
      "(11, 44, 55, 101, 102, 103, 99)\n"
     ]
    }
   ],
   "source": [
    "# Add two tuples\n",
    "tuple1 = (11, 44, 55)\n",
    "tuple2 = (101, 102, 103, 99)\n",
    "tuple3 = tuple1 + tuple2\n",
    "print (tuple3)"
   ]
  },
  {
   "cell_type": "code",
   "execution_count": 10,
   "metadata": {},
   "outputs": [],
   "source": [
    "# #line up the tuple. what it means?? \n",
    "# print(tuple3)\n",
    "# tmp_list3 = list(tuple3)\n",
    "# print(tmp_list3)\n",
    "# tmp_list3.sort #doesnt work\n",
    "# print(tmp_list3)"
   ]
  },
  {
   "cell_type": "code",
   "execution_count": 11,
   "metadata": {},
   "outputs": [
    {
     "name": "stdout",
     "output_type": "stream",
     "text": [
      "(11, 44, 55)\n",
      "[11, 44, 55]\n",
      "(11, 44)\n"
     ]
    }
   ],
   "source": [
    "# remove the last member from the first tuple\n",
    "# tuple1 = (11, [222, 33], 44, 55)\n",
    "print(tuple1)\n",
    "tmp_list2 = list(tuple1)\n",
    "print(tmp_list2)\n",
    "tmp_list2.pop(-1)\n",
    "#tmp_list2 = tmp_list2.pop(-1)\n",
    "# print(tmp_list2)\n",
    "tuple1 = tuple(tmp_list2)\n",
    "print(tuple1)"
   ]
  },
  {
   "cell_type": "code",
   "execution_count": 12,
   "metadata": {},
   "outputs": [
    {
     "name": "stdout",
     "output_type": "stream",
     "text": [
      "(11, 44, 55, 101, 102, 103, 99)\n",
      "number 11 repeats 1 time\n",
      "number 44 repeats 1 time\n",
      "number 55 repeats 1 time\n",
      "number 101 repeats 1 time\n",
      "number 102 repeats 1 time\n",
      "number 103 repeats 1 time\n",
      "number 99 repeats 1 time\n"
     ]
    }
   ],
   "source": [
    "#count how many instances of each value exists in the tuple\n",
    "print(tuple3)\n",
    "# print(tuple3.count(11))\n",
    "# print(tuple3[1].count(222))\n",
    "# print(tuple3[1].count(33))\n",
    "# print(tuple3.count(44))\n",
    "# print(tuple3.count(55))\n",
    "# print(tuple3.count(101))\n",
    "# print(tuple3.count(102))\n",
    "# print(tuple3.count(103))\n",
    "# print(tuple3.count(99))\n",
    "for number in tuple3:\n",
    "    print(f'number {number} repeats {tuple3.count(number)} time')"
   ]
  },
  {
   "cell_type": "markdown",
   "metadata": {},
   "source": [
    "## For Loop"
   ]
  },
  {
   "cell_type": "markdown",
   "metadata": {},
   "source": [
    "for loop\n",
    "1. Print the first 10\n",
    "inclusive numbers\n",
    "using for loop\n",
    "2. Get the sum of the\n",
    "first 50 numbers\n",
    "inclusive"
   ]
  },
  {
   "cell_type": "code",
   "execution_count": 13,
   "metadata": {},
   "outputs": [
    {
     "name": "stdout",
     "output_type": "stream",
     "text": [
      "the number is 1\n",
      "the number is 2\n",
      "the number is 3\n",
      "the number is 4\n",
      "the number is 5\n",
      "the number is 6\n",
      "the number is 7\n",
      "the number is 8\n",
      "the number is 9\n",
      "the number is 10\n",
      "the end\n"
     ]
    }
   ],
   "source": [
    "for i in range (1,11):\n",
    "    print (f'the number is {i}')\n",
    "print ('the end')"
   ]
  },
  {
   "cell_type": "code",
   "execution_count": 14,
   "metadata": {},
   "outputs": [
    {
     "name": "stdout",
     "output_type": "stream",
     "text": [
      "the sum is 1275\n"
     ]
    }
   ],
   "source": [
    "my_sum = 0\n",
    "for i in range(1,51):\n",
    "    my_sum += i\n",
    "    #print(my_sum)\n",
    "print (f'the sum is {my_sum}')"
   ]
  },
  {
   "cell_type": "markdown",
   "metadata": {},
   "source": [
    "input\n",
    "1. Use Input() to select a\n",
    "number, print its product\n",
    "from 1 to 10 inclusive"
   ]
  },
  {
   "cell_type": "code",
   "execution_count": 15,
   "metadata": {},
   "outputs": [
    {
     "name": "stdout",
     "output_type": "stream",
     "text": [
      "number 78 multiplied by 1 is equal to 78\n",
      "number 78 multiplied by 2 is equal to 156\n",
      "number 78 multiplied by 3 is equal to 234\n",
      "number 78 multiplied by 4 is equal to 312\n",
      "number 78 multiplied by 5 is equal to 390\n",
      "number 78 multiplied by 6 is equal to 468\n",
      "number 78 multiplied by 7 is equal to 546\n",
      "number 78 multiplied by 8 is equal to 624\n",
      "number 78 multiplied by 9 is equal to 702\n",
      "number 78 multiplied by 10 is equal to 780\n"
     ]
    }
   ],
   "source": [
    "#showed in class\n",
    "user_input = input('Enter a number:')\n",
    "user_number = int(user_input)\n",
    "for i in range(1,11):\n",
    "    print (f'number {user_number} multiplied by {i} is equal to {user_number * i}')"
   ]
  }
 ],
 "metadata": {
  "interpreter": {
   "hash": "aee8b7b246df8f9039afb4144a1f6fd8d2ca17a180786b69acc140d282b71a49"
  },
  "kernelspec": {
   "display_name": "Python 3.9.7 64-bit",
   "language": "python",
   "name": "python3"
  },
  "language_info": {
   "codemirror_mode": {
    "name": "ipython",
    "version": 3
   },
   "file_extension": ".py",
   "mimetype": "text/x-python",
   "name": "python",
   "nbconvert_exporter": "python",
   "pygments_lexer": "ipython3",
   "version": "3.9.7"
  },
  "orig_nbformat": 4
 },
 "nbformat": 4,
 "nbformat_minor": 2
}
