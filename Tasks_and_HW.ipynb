{
 "cells": [
  {
   "cell_type": "markdown",
   "metadata": {},
   "source": [
    "## String tasks"
   ]
  },
  {
   "cell_type": "code",
   "execution_count": 1,
   "metadata": {},
   "outputs": [
    {
     "name": "stdout",
     "output_type": "stream",
     "text": [
      "Ruta Spaicyte\n"
     ]
    }
   ],
   "source": [
    "# 1. Print name and surname\n",
    "my_name = 'Ruta'\n",
    "my_surname = \"Spaicyte\"\n",
    "print(my_name, my_surname)"
   ]
  },
  {
   "cell_type": "code",
   "execution_count": 2,
   "metadata": {},
   "outputs": [
    {
     "name": "stdout",
     "output_type": "stream",
     "text": [
      "Python makes me really really happy!\n",
      "PYTHON MAKES ME REALLY REALLY HAPPY!\n",
      "Python makes me really really happy!\n"
     ]
    }
   ],
   "source": [
    "#2.1 From the string ‘Python makes me really really happy!’ Display the string in uppercase only\n",
    "My_string = 'Python makes me really really happy!'\n",
    "print(My_string)\n",
    "print(My_string.upper())\n",
    "print(My_string)"
   ]
  },
  {
   "cell_type": "code",
   "execution_count": 8,
   "metadata": {},
   "outputs": [
    {
     "name": "stdout",
     "output_type": "stream",
     "text": [
      "PyThOn makes me really really happy!\n",
      "PyThOn makes me really really happy!\n"
     ]
    }
   ],
   "source": [
    "#2.2 Replace Python with PyThOn using replace()\n",
    "print(My_string.replace('t','T').replace('o','O')) #replaces all t and o\n",
    "print(My_string.replace('Python', 'PyThOn') )"
   ]
  },
  {
   "cell_type": "code",
   "execution_count": 26,
   "metadata": {},
   "outputs": [
    {
     "name": "stdout",
     "output_type": "stream",
     "text": [
      "Hello World, I am happy to learn Python!\n",
      "18\n",
      "happy\n"
     ]
    }
   ],
   "source": [
    "#From the string ‘Hello World, I am happy to learn Python!’\n",
    "#3.1 1. Print ‘happy’ using slice syntax str [0:10].index (‘happy’) len (‘happy’)\n",
    "my_string2 = \"Hello World, I am happy to learn Python!\"\n",
    "print(my_string2)\n",
    "#print(my_string2[18:23])\n",
    "word_to_find = 'happy'\n",
    "print(my_string2.index(word_to_find))\n",
    "# print(my_string2[my_string2.index(word_to_find):])\n",
    "print(my_string2[my_string2.index(word_to_find):my_string2.\n",
    "                            index(word_to_find)+len(word_to_find)])\n"
   ]
  },
  {
   "cell_type": "markdown",
   "metadata": {},
   "source": [
    "            ## Don't get this ^^"
   ]
  },
  {
   "cell_type": "code",
   "execution_count": 24,
   "metadata": {},
   "outputs": [
    {
     "name": "stdout",
     "output_type": "stream",
     "text": [
      "24\n",
      "to\n",
      "40\n"
     ]
    }
   ],
   "source": [
    "#3.2 Print ‘to’ using slice syntax\n",
    "print (my_string2.find('to'))\n",
    "print(my_string2[24:26])\n",
    "#3.3 What is the length of this string?\n",
    "print(len(my_string2))"
   ]
  },
  {
   "cell_type": "markdown",
   "metadata": {},
   "source": [
    "## From lesson 3"
   ]
  },
  {
   "cell_type": "markdown",
   "metadata": {},
   "source": [
    "## Int, float tasks"
   ]
  },
  {
   "cell_type": "markdown",
   "metadata": {},
   "source": [
    "Declare two int variables\n",
    "of type\n",
    "1. Calculate the sum of\n",
    "two int, the\n",
    "difference, the\n",
    "product, the\n",
    "remainder, divide\n",
    "one number by\n",
    "another"
   ]
  },
  {
   "cell_type": "code",
   "execution_count": 34,
   "metadata": {},
   "outputs": [
    {
     "name": "stdout",
     "output_type": "stream",
     "text": [
      "sum: 19\n",
      "substract: 5\n",
      "multiply: 84\n",
      "divide: 1.7142857142857142\n",
      "power of: 35831808\n",
      "modulus: 5\n"
     ]
    }
   ],
   "source": [
    "my_int1 = 12\n",
    "my_int2 = 7\n",
    "print(f'sum: {my_int1 + my_int2}')\n",
    "print(f'substract: {my_int1 - my_int2}')\n",
    "print(f'multiply: {my_int1 * my_int2}')\n",
    "print(f'divide: {my_int1 / my_int2}')\n",
    "print(f'power of: {my_int1 ** my_int2}')\n",
    "print(f'modulus: {my_int1 % my_int2}')\n"
   ]
  },
  {
   "cell_type": "markdown",
   "metadata": {},
   "source": [
    "Declare two float-type\n",
    "variables\n",
    "1. Calculate the sum,\n",
    "difference, product,\n",
    "remainder of two\n",
    "floats, divide by one\n",
    "number from\n",
    "another"
   ]
  },
  {
   "cell_type": "code",
   "execution_count": 35,
   "metadata": {},
   "outputs": [
    {
     "name": "stdout",
     "output_type": "stream",
     "text": [
      "sum: 19.5064\n",
      "substract: 4.7404\n",
      "multiply: 89.50706220000001\n",
      "divide: 1.6420696193959095\n",
      "power of: 100091961.48700161\n",
      "modulus: 4.7404\n"
     ]
    }
   ],
   "source": [
    "my_float1 = 12.1234\n",
    "my_float2 = 7.383\n",
    "print(f'sum: {my_float1 + my_float2}')\n",
    "print(f'substract: {my_float1 - my_float2}')\n",
    "print(f'multiply: {my_float1 * my_float2}')\n",
    "print(f'divide: {my_float1 / my_float2}')\n",
    "print(f'power of: {my_float1 ** my_float2}')\n",
    "print(f'modulus: {my_float1 % my_float2}')"
   ]
  },
  {
   "cell_type": "markdown",
   "metadata": {},
   "source": [
    "Calculate\n",
    "1. The distance to the Moon is about\n",
    "384,000 km, and to the Sun\n",
    "150,000,000, how many times the\n",
    "distance to the Sun is greater than\n",
    "to the Moon?"
   ]
  },
  {
   "cell_type": "code",
   "execution_count": 36,
   "metadata": {},
   "outputs": [
    {
     "name": "stdout",
     "output_type": "stream",
     "text": [
      "390.625\n"
     ]
    }
   ],
   "source": [
    "dist_moon = 384000\n",
    "dist_sun = 150000000\n",
    "print(dist_sun/dist_moon)\n"
   ]
  },
  {
   "cell_type": "markdown",
   "metadata": {},
   "source": [
    "2. If we want to drive to the moon in a\n",
    "car with a speed of 150km / h, how\n",
    "many hours, years, months, days,\n",
    "seconds would it take?"
   ]
  },
  {
   "cell_type": "code",
   "execution_count": 37,
   "metadata": {},
   "outputs": [
    {
     "name": "stdout",
     "output_type": "stream",
     "text": [
      "seconds to the moon 9216000.0\n",
      "hours to the moon 2560.0\n",
      "days to the moon 106.66666666666667\n",
      "months to the moon 3.555555555555556\n",
      "years to the moon 0.29629629629629634\n"
     ]
    }
   ],
   "source": [
    "speed = 150\n",
    "print (f'seconds to the moon {dist_moon/speed*3600}')\n",
    "print (f'hours to the moon {dist_moon/speed}')\n",
    "print (f'days to the moon {dist_moon/speed/24}')\n",
    "print (f'months to the moon {dist_moon/speed/24/30}')\n",
    "print (f'years to the moon {dist_moon/speed/24/30/12}')"
   ]
  },
  {
   "cell_type": "markdown",
   "metadata": {},
   "source": [
    "3. How many days have passed since\n",
    "your birthday?"
   ]
  },
  {
   "cell_type": "code",
   "execution_count": 41,
   "metadata": {},
   "outputs": [
    {
     "name": "stdout",
     "output_type": "stream",
     "text": [
      "2021-12-03 22:19:41.587849\n"
     ]
    },
    {
     "data": {
      "text/plain": [
       "datetime.timedelta(days=9657)"
      ]
     },
     "execution_count": 41,
     "metadata": {},
     "output_type": "execute_result"
    }
   ],
   "source": [
    "import datetime\n",
    "\n",
    "print(datetime.datetime.now()) #how librarys work\n",
    "my_birthday = datetime.date(1995,6,26)\n",
    "datetime.datetime.now().date()-my_birthday #timedelta - time difference\n"
   ]
  },
  {
   "cell_type": "code",
   "execution_count": null,
   "metadata": {},
   "outputs": [],
   "source": []
  },
  {
   "cell_type": "code",
   "execution_count": 62,
   "metadata": {},
   "outputs": [
    {
     "name": "stdout",
     "output_type": "stream",
     "text": [
      "2021-12-04 22:31:30.985002\n",
      "We would reach the moon on     2022-03-21 14:31:30.994975\n"
     ]
    }
   ],
   "source": [
    "# import datetime - for current date\n",
    "import datetime\n",
    "\n",
    "print (datetime.datetime.now() )\n",
    "my_birthday = datetime.date(1995,6,26)\n",
    "datetime.datetime.now().date() - my_birthday\n",
    "\n",
    "#how long it would take to reach the moon\n",
    "delta = datetime.timedelta(seconds=dist_moon/speed*3600)\n",
    "print (f'We would reach the moon on \\\n",
    "    {datetime.datetime.now() + delta}')\n"
   ]
  },
  {
   "cell_type": "code",
   "execution_count": 49,
   "metadata": {},
   "outputs": [
    {
     "name": "stdout",
     "output_type": "stream",
     "text": [
      "2021-12-04 22:04:23.534840\n",
      "We would reach the moon on 2022-03-21 14:04:23.538971\n"
     ]
    }
   ],
   "source": [
    "# import datetime - for current date\n",
    "from datetime import datetime\n",
    "from datetime import timedelta\n",
    "from datetime import date # if i work just with date \n",
    "\n",
    "# datetime.date\n",
    "\n",
    "print (datetime.now() )\n",
    "my_birthday = date(1995,6,26)\n",
    "datetime.now().date() - my_birthday\n",
    "\n",
    "#how long it would take to reach the moon\n",
    "delta = timedelta(seconds=dist_moon/speed*3600)\n",
    "print (f'We would reach the moon on {datetime.now() + delta}')"
   ]
  },
  {
   "cell_type": "markdown",
   "metadata": {},
   "source": [
    "## Boolean tasks"
   ]
  },
  {
   "cell_type": "markdown",
   "metadata": {},
   "source": [
    "Declare True\n",
    "1. Declare a True value\n",
    "in 5 different ways"
   ]
  },
  {
   "cell_type": "code",
   "execution_count": 58,
   "metadata": {},
   "outputs": [
    {
     "name": "stdout",
     "output_type": "stream",
     "text": [
      "True\n",
      "True\n",
      "True\n",
      "True\n",
      "True\n"
     ]
    }
   ],
   "source": [
    "print(2<4)\n",
    "\n",
    "print (not 1 > 2)\n",
    "\n",
    "print(23 != 34)\n",
    "\n",
    "text = 'Hello world'\n",
    "print ('world' in text)\n",
    "\n",
    "print (bool('Some text' ) )  #true because not empty"
   ]
  },
  {
   "cell_type": "markdown",
   "metadata": {},
   "source": [
    "Declare False\n",
    "1. Declare a False\n",
    "value in 5 different\n",
    "ways"
   ]
  },
  {
   "cell_type": "code",
   "execution_count": 60,
   "metadata": {},
   "outputs": [
    {
     "name": "stdout",
     "output_type": "stream",
     "text": [
      "False\n",
      "False\n",
      "False\n",
      "False\n",
      "False\n"
     ]
    }
   ],
   "source": [
    "print(19<4)\n",
    "\n",
    "print (not 3 > 2)\n",
    "\n",
    "print(23 != 23)\n",
    "\n",
    "text = 'Hello world'\n",
    "print ('World' in text)\n",
    "\n",
    "print (bool(\"\") )"
   ]
  },
  {
   "cell_type": "markdown",
   "metadata": {},
   "source": [
    "Declare False\n",
    "1. Using only int type data\n",
    "2. Only string type data"
   ]
  },
  {
   "cell_type": "code",
   "execution_count": 63,
   "metadata": {},
   "outputs": [
    {
     "name": "stdout",
     "output_type": "stream",
     "text": [
      "False\n"
     ]
    }
   ],
   "source": [
    "#1. \n",
    "print(23 != 23)"
   ]
  },
  {
   "cell_type": "code",
   "execution_count": 65,
   "metadata": {},
   "outputs": [
    {
     "name": "stdout",
     "output_type": "stream",
     "text": [
      "False\n"
     ]
    }
   ],
   "source": [
    "#2. \n",
    "text = 'Hello world'\n",
    "print ('world ' in text)"
   ]
  },
  {
   "cell_type": "markdown",
   "metadata": {},
   "source": [
    "## List tasks"
   ]
  },
  {
   "cell_type": "markdown",
   "metadata": {},
   "source": [
    " Declare list type\n",
    "variable, get its length,\n",
    "add a new element\n",
    "\n",
    "The element is added using the\n",
    "variable.append () method"
   ]
  },
  {
   "cell_type": "code",
   "execution_count": 99,
   "metadata": {},
   "outputs": [
    {
     "name": "stdout",
     "output_type": "stream",
     "text": [
      "[9, 8, 7, 65]\n",
      "4\n",
      "[9, 8, 7, 65, 7, 23]\n"
     ]
    }
   ],
   "source": [
    "my_list = [9,8,7,65]\n",
    "print(my_list)\n",
    "print(len(my_list))\n",
    "my_list.append(7) #need to add in separate lines?\n",
    "my_list.append(23)\n",
    "print(my_list)"
   ]
  },
  {
   "cell_type": "markdown",
   "metadata": {},
   "source": [
    "Check if the item is on\n",
    "your list\n",
    "\n",
    "The verification method is in:\n",
    "desired_value in your_list"
   ]
  },
  {
   "cell_type": "code",
   "execution_count": 100,
   "metadata": {},
   "outputs": [
    {
     "name": "stdout",
     "output_type": "stream",
     "text": [
      "[9, 8, 7, 65, 7, 23]\n",
      "True\n"
     ]
    }
   ],
   "source": [
    "print(my_list)\n",
    "print(65 in my_list)"
   ]
  },
  {
   "cell_type": "markdown",
   "metadata": {},
   "source": [
    "Add two lists, remove the last member from\n",
    "your list, sort the list, count how many entries\n",
    "there are in the list\n",
    "\n",
    "Useful methods to transform a list:\n",
    "1. list_name.remove (desired_value)\n",
    "2. list_name.pop (0) - delete the first value from the list\n",
    "3. list_name.append (desired_value) - adds a new value to the\n",
    "end of existing list\n",
    "4. list_name.sort () - aligns the list\n",
    "5. list_name.count (return_value) - returns the number of\n",
    "desired_value in the list"
   ]
  },
  {
   "cell_type": "code",
   "execution_count": 101,
   "metadata": {},
   "outputs": [
    {
     "name": "stdout",
     "output_type": "stream",
     "text": [
      "[1, 2, 3]\n",
      "[9, 8, 7, 65, 7, 23]\n"
     ]
    }
   ],
   "source": [
    "my_list_2 = [1,2,3]\n",
    "print(my_list_2)\n",
    "print(my_list)"
   ]
  },
  {
   "cell_type": "code",
   "execution_count": 102,
   "metadata": {},
   "outputs": [
    {
     "name": "stdout",
     "output_type": "stream",
     "text": [
      "[9, 8, 7, 65, 7, 23, 1, 2, 3]\n"
     ]
    }
   ],
   "source": [
    "both_lists = my_list + my_list_2 #add\n",
    "print(both_lists)"
   ]
  },
  {
   "cell_type": "code",
   "execution_count": 103,
   "metadata": {},
   "outputs": [
    {
     "name": "stdout",
     "output_type": "stream",
     "text": [
      "[9, 8, 7, 65, 7, 23, 1, 2, 3]\n",
      "[9, 8, 7, 65, 7, 23, 1, 2]\n"
     ]
    }
   ],
   "source": [
    "print(both_lists)\n",
    "both_lists.remove(3) #remove the last member from your list\n",
    "print(both_lists)"
   ]
  },
  {
   "cell_type": "code",
   "execution_count": 104,
   "metadata": {},
   "outputs": [
    {
     "name": "stdout",
     "output_type": "stream",
     "text": [
      "[9, 8, 7, 65, 7, 23, 1, 2]\n",
      "[1, 2, 7, 7, 8, 9, 23, 65]\n"
     ]
    }
   ],
   "source": [
    "print(both_lists)\n",
    "both_lists.sort() # is there a function to sort if you have strings & integers in the list????\n",
    "print(both_lists)"
   ]
  },
  {
   "cell_type": "code",
   "execution_count": 111,
   "metadata": {},
   "outputs": [
    {
     "name": "stdout",
     "output_type": "stream",
     "text": [
      "2\n",
      "8\n"
     ]
    }
   ],
   "source": [
    "print(both_lists.count(7)) #how many number 7 i have in list\n",
    "print(len(both_lists)) #count how many entries there are in the list"
   ]
  },
  {
   "cell_type": "markdown",
   "metadata": {},
   "source": [
    "## Tuple tasks"
   ]
  },
  {
   "cell_type": "markdown",
   "metadata": {},
   "source": [
    "Get value\n",
    "my_tuple = (1, 2, ['3', 4, 5], [6, [7, (8)]])\n",
    "Display ‘8’ on the screen"
   ]
  },
  {
   "cell_type": "code",
   "execution_count": 127,
   "metadata": {},
   "outputs": [
    {
     "name": "stdout",
     "output_type": "stream",
     "text": [
      "(1, 2, ['3', 4, 5], [6, [7, 8]])\n",
      "8\n",
      "8\n"
     ]
    }
   ],
   "source": [
    "my_tuple_tasks = (1, 2, ['3', 4, 5], [6, [7, (8)]])\n",
    "print(my_tuple_tasks)\n",
    "print (my_tuple_tasks[3][1][1])\n",
    "print (my_tuple_tasks[-1][-1][-1]) #same as ^"
   ]
  },
  {
   "cell_type": "markdown",
   "metadata": {},
   "source": [
    "Change the value\n",
    "tuple1 = (11, [222, 33], 44, 55)\n",
    "tuple1 = (11, [222, 22], 44, 55)"
   ]
  },
  {
   "cell_type": "code",
   "execution_count": 128,
   "metadata": {},
   "outputs": [
    {
     "name": "stdout",
     "output_type": "stream",
     "text": [
      "(11, [222, 33], 44, 55)\n",
      "(11, [222, 33], 44, 55)\n",
      "33\n",
      "[11, [222, 22], 44, 55]\n",
      "(11, [222, 22], 44, 55)\n"
     ]
    }
   ],
   "source": [
    "\n",
    "tuple1 = (11, [222, 33], 44, 55)\n",
    "print(tuple1)\n",
    "tmp_list = list(tuple1)\n",
    "print(tuple1)\n",
    "print(tuple1[1][1])\n",
    "tmp_list[1][1] = 22\n",
    "print(tmp_list)\n",
    "tmp_list = tuple(tuple1)\n",
    "print(tmp_list)"
   ]
  },
  {
   "cell_type": "code",
   "execution_count": 129,
   "metadata": {},
   "outputs": [
    {
     "name": "stdout",
     "output_type": "stream",
     "text": [
      "(11, [222, 33], 44, 55)\n",
      "(11, [222, 22], 44, 55)\n"
     ]
    }
   ],
   "source": [
    "# shorter way\n",
    "# all functionality works in top level. if there is a list inside - you can do whatever\n",
    "tuple1 = (11, [222, 33], 44, 55)\n",
    "print (tuple1)\n",
    "tuple1[1][1] = 22\n",
    "print (tuple1)"
   ]
  },
  {
   "cell_type": "markdown",
   "metadata": {},
   "source": [
    "Add two tuples, remove the last member\n",
    "from the first tuple, line up the tuple, count\n",
    "how many instances of each value exists in\n",
    "the tuple, find the largest value\n",
    "\n",
    "Tuple has only two methods for him:\n",
    "tuple_variable.count (return_value) - returns the number of times\n",
    "a value was found\n",
    "tuple_variable.index (return_value) - returns the index of the first\n",
    "desired_value found\n",
    "However, all methods for sequence data types are valid and\n",
    "tuple"
   ]
  },
  {
   "cell_type": "code",
   "execution_count": 26,
   "metadata": {},
   "outputs": [
    {
     "name": "stdout",
     "output_type": "stream",
     "text": [
      "(11, 44, 55, 101, 102, 103, 99)\n"
     ]
    }
   ],
   "source": [
    "# Add two tuples\n",
    "tuple1 = (11, 44, 55)\n",
    "tuple2 = (101, 102, 103, 99)\n",
    "tuple3 = tuple1 + tuple2\n",
    "print (tuple3)"
   ]
  },
  {
   "cell_type": "code",
   "execution_count": 27,
   "metadata": {},
   "outputs": [
    {
     "name": "stdout",
     "output_type": "stream",
     "text": [
      "(11, 44, 55)\n",
      "[11, 44, 55]\n",
      "(11, 44)\n"
     ]
    }
   ],
   "source": [
    "# remove the last member from the first tuple\n",
    "# tuple1 = (11, [222, 33], 44, 55)\n",
    "print(tuple1)\n",
    "tmp_list2 = list(tuple1)\n",
    "print(tmp_list2)\n",
    "tmp_list2.pop(-1)\n",
    "#tmp_list2 = tmp_list2.pop(-1)\n",
    "# print(tmp_list2)\n",
    "tuple1 = tuple(tmp_list2)\n",
    "print(tuple1)"
   ]
  },
  {
   "cell_type": "markdown",
   "metadata": {},
   "source": [
    "                    ## dont know how"
   ]
  },
  {
   "cell_type": "code",
   "execution_count": 30,
   "metadata": {},
   "outputs": [],
   "source": [
    "# #line up the tuple\n",
    "# print(tuple3)\n",
    "# tmp_list3 = list(tuple3)\n",
    "# print(tmp_list3)\n",
    "# tmp_list3.sort #doesnt work\n",
    "# print(tmp_list3)"
   ]
  },
  {
   "cell_type": "code",
   "execution_count": 32,
   "metadata": {},
   "outputs": [
    {
     "name": "stdout",
     "output_type": "stream",
     "text": [
      "(11, 44, 55, 101, 102, 103, 99)\n",
      "number 11 repeats 1 time\n",
      "number 44 repeats 1 time\n",
      "number 55 repeats 1 time\n",
      "number 101 repeats 1 time\n",
      "number 102 repeats 1 time\n",
      "number 103 repeats 1 time\n",
      "number 99 repeats 1 time\n"
     ]
    }
   ],
   "source": [
    "#count how many instances of each value exists in the tuple\n",
    "print(tuple3)\n",
    "# print(tuple3.count(11))\n",
    "# print(tuple3[1].count(222))\n",
    "# print(tuple3[1].count(33))\n",
    "# print(tuple3.count(44))\n",
    "# print(tuple3.count(55))\n",
    "# print(tuple3.count(101))\n",
    "# print(tuple3.count(102))\n",
    "# print(tuple3.count(103))\n",
    "# print(tuple3.count(99))\n",
    "for number in tuple3:\n",
    "    print(f'number {number} repeats {tuple3.count(number)} time')\n",
    "\n"
   ]
  },
  {
   "cell_type": "code",
   "execution_count": 38,
   "metadata": {},
   "outputs": [
    {
     "name": "stdout",
     "output_type": "stream",
     "text": [
      "(11, 44)\n",
      "(101, 102, 103, 99)\n",
      "(11, 44, 55, 101, 102, 103, 99)\n",
      "max value in the tuple 103\n"
     ]
    }
   ],
   "source": [
    "#find the largest value\n",
    "print(tuple1)\n",
    "print(tuple2)\n",
    "print(tuple3)\n",
    "# print(max(tuple1[1]))\n",
    "# print(max(tuple2))\n",
    "max(tuple3)\n",
    "print (f'max value in the tuple {max(tuple3) }')"
   ]
  },
  {
   "cell_type": "code",
   "execution_count": 39,
   "metadata": {},
   "outputs": [
    {
     "name": "stdout",
     "output_type": "stream",
     "text": [
      "[103, 102, 101, 99, 55, 44, 11]\n",
      "max value in tuple 103\n"
     ]
    }
   ],
   "source": [
    "# 2nd way\n",
    "tmp_list = list (tuple3)\n",
    "tmp_list.sort(reverse=True)\n",
    "print (tmp_list)\n",
    "print (f'max value in tuple {tmp_list[0] }')"
   ]
  },
  {
   "cell_type": "markdown",
   "metadata": {},
   "source": [
    "## For loop tasks"
   ]
  },
  {
   "cell_type": "markdown",
   "metadata": {},
   "source": [
    "for loop\n",
    "1. Print the first 10\n",
    "inclusive numbers\n",
    "using for loop\n",
    "2. Get the sum of the\n",
    "first 50 numbers\n",
    "inclusive"
   ]
  },
  {
   "cell_type": "code",
   "execution_count": 242,
   "metadata": {},
   "outputs": [
    {
     "name": "stdout",
     "output_type": "stream",
     "text": [
      "the number is 1\n",
      "the number is 2\n",
      "the number is 3\n",
      "the number is 4\n",
      "the number is 5\n",
      "the number is 6\n",
      "the number is 7\n",
      "the number is 8\n",
      "the number is 9\n",
      "the number is 10\n",
      "the end\n"
     ]
    }
   ],
   "source": [
    "for i in range (1,11):\n",
    "    print (f'the number is {i}')\n",
    "print ('the end')"
   ]
  },
  {
   "cell_type": "code",
   "execution_count": 46,
   "metadata": {},
   "outputs": [
    {
     "name": "stdout",
     "output_type": "stream",
     "text": [
      "the sum is 1275\n"
     ]
    }
   ],
   "source": [
    "my_sum = 0\n",
    "for i in range(1,51):\n",
    "    my_sum += i\n",
    "    #print(my_sum)\n",
    "print (f'the sum is {my_sum}')\n"
   ]
  },
  {
   "cell_type": "markdown",
   "metadata": {},
   "source": [
    "input\n",
    "1. Use Input() to select a\n",
    "number, print its product\n",
    "from 1 to 10 inclusive"
   ]
  },
  {
   "cell_type": "code",
   "execution_count": null,
   "metadata": {},
   "outputs": [],
   "source": [
    "user_input = input('Enter a number:')\n",
    "user_number = int(user_input)\n",
    "for i in range(1,11):\n",
    "    print (f'number {user_number} multiplied by {i} is equal to {user_number * i}')"
   ]
  },
  {
   "cell_type": "code",
   "execution_count": null,
   "metadata": {},
   "outputs": [],
   "source": [
    "# print (\"Enter a number\")\n",
    "# number = input(int)\n",
    "# interval = range(0,11)\n",
    "# print (number)"
   ]
  },
  {
   "cell_type": "code",
   "execution_count": 49,
   "metadata": {},
   "outputs": [],
   "source": [
    "# print (\"Enter a number\")\n",
    "# txt = input\n",
    "# nr = range(0,10)\n",
    "# for nr in txt:\n",
    "#     if nr <=10:\n",
    "#         print (f'Number is {txt}')\n",
    "# print ('end')"
   ]
  },
  {
   "cell_type": "markdown",
   "metadata": {},
   "source": [
    "Get all possible\n",
    "combinations from these\n",
    "lists, add them to a\n",
    "single list\n",
    "1. days = (‘Monday’, ‘Tuesday’, ‘Wednesday’, ‘Thursday’, ‘Friday’, ‘Saturday’ , ‘Sunday’)\n",
    "hours = [10, 11, 12, 13, 14, 15, 16, 17, 18, 19]"
   ]
  },
  {
   "cell_type": "code",
   "execution_count": 355,
   "metadata": {},
   "outputs": [
    {
     "name": "stdout",
     "output_type": "stream",
     "text": [
      "Monday\n",
      "Tuesday\n",
      "Wednesday\n",
      "Thursday\n",
      "Friday\n",
      "Saturday\n",
      "Sunday\n"
     ]
    }
   ],
   "source": [
    "days = ('Monday', 'Tuesday', 'Wednesday', 'Thursday', 'Friday', 'Saturday' , 'Sunday') #tuple\n",
    "hours = [10, 11, 12, 13, 14, 15, 16, 17, 18, 19] #list\n",
    "\n",
    "#1st step\n",
    "for day in days: \n",
    "    print(day)"
   ]
  },
  {
   "cell_type": "code",
   "execution_count": 234,
   "metadata": {},
   "outputs": [
    {
     "name": "stdout",
     "output_type": "stream",
     "text": [
      "Monday\n",
      "10\n",
      "11\n",
      "12\n",
      "13\n",
      "14\n",
      "15\n",
      "16\n",
      "17\n",
      "18\n",
      "19\n",
      "Checking next day\n",
      "Tuesday\n",
      "10\n",
      "11\n",
      "12\n",
      "13\n",
      "14\n",
      "15\n",
      "16\n",
      "17\n",
      "18\n",
      "19\n",
      "Checking next day\n",
      "Wednesday\n",
      "10\n",
      "11\n",
      "12\n",
      "13\n",
      "14\n",
      "15\n",
      "16\n",
      "17\n",
      "18\n",
      "19\n",
      "Checking next day\n",
      "Thursday\n",
      "10\n",
      "11\n",
      "12\n",
      "13\n",
      "14\n",
      "15\n",
      "16\n",
      "17\n",
      "18\n",
      "19\n",
      "Checking next day\n",
      "Friday\n",
      "10\n",
      "11\n",
      "12\n",
      "13\n",
      "14\n",
      "15\n",
      "16\n",
      "17\n",
      "18\n",
      "19\n",
      "Checking next day\n",
      "Saturday\n",
      "10\n",
      "11\n",
      "12\n",
      "13\n",
      "14\n",
      "15\n",
      "16\n",
      "17\n",
      "18\n",
      "19\n",
      "Checking next day\n",
      "Sunday\n",
      "10\n",
      "11\n",
      "12\n",
      "13\n",
      "14\n",
      "15\n",
      "16\n",
      "17\n",
      "18\n",
      "19\n",
      "Checking next day\n"
     ]
    }
   ],
   "source": [
    "#2nd step\n",
    "for day in days: \n",
    "    print(day)\n",
    "    for hour in hours:\n",
    "        print (hour)\n",
    "    print ('Checking next day')"
   ]
  },
  {
   "cell_type": "code",
   "execution_count": 235,
   "metadata": {},
   "outputs": [
    {
     "name": "stdout",
     "output_type": "stream",
     "text": [
      "[('Monday', 10), ('Monday', 11), ('Monday', 12), ('Monday', 13), ('Monday', 14), ('Monday', 15), ('Monday', 16), ('Monday', 17), ('Monday', 18), ('Monday', 19), ('Tuesday', 10), ('Tuesday', 11), ('Tuesday', 12), ('Tuesday', 13), ('Tuesday', 14), ('Tuesday', 15), ('Tuesday', 16), ('Tuesday', 17), ('Tuesday', 18), ('Tuesday', 19), ('Wednesday', 10), ('Wednesday', 11), ('Wednesday', 12), ('Wednesday', 13), ('Wednesday', 14), ('Wednesday', 15), ('Wednesday', 16), ('Wednesday', 17), ('Wednesday', 18), ('Wednesday', 19), ('Thursday', 10), ('Thursday', 11), ('Thursday', 12), ('Thursday', 13), ('Thursday', 14), ('Thursday', 15), ('Thursday', 16), ('Thursday', 17), ('Thursday', 18), ('Thursday', 19), ('Friday', 10), ('Friday', 11), ('Friday', 12), ('Friday', 13), ('Friday', 14), ('Friday', 15), ('Friday', 16), ('Friday', 17), ('Friday', 18), ('Friday', 19), ('Saturday', 10), ('Saturday', 11), ('Saturday', 12), ('Saturday', 13), ('Saturday', 14), ('Saturday', 15), ('Saturday', 16), ('Saturday', 17), ('Saturday', 18), ('Saturday', 19), ('Sunday', 10), ('Sunday', 11), ('Sunday', 12), ('Sunday', 13), ('Sunday', 14), ('Sunday', 15), ('Sunday', 16), ('Sunday', 17), ('Sunday', 18), ('Sunday', 19)]\n"
     ]
    }
   ],
   "source": [
    "# Final\n",
    "combinations = [] #list to have all in one place. its empty\n",
    "for day in days: \n",
    "    #print(day)\n",
    "    for hour in hours:\n",
    "        #print (hour)\n",
    "        combinations.append( (day,hour) ) \n",
    "    #print ('Checking next day')\n",
    "\n",
    "print (combinations)"
   ]
  },
  {
   "cell_type": "code",
   "execution_count": 236,
   "metadata": {},
   "outputs": [
    {
     "name": "stdout",
     "output_type": "stream",
     "text": [
      "[('Monday', 10), ('Monday', 11), ('Monday', 12), ('Monday', 13), ('Monday', 14), ('Monday', 15), ('Monday', 16), ('Monday', 17), ('Monday', 18), ('Monday', 19), ('Tuesday', 10), ('Tuesday', 11), ('Tuesday', 12), ('Tuesday', 13), ('Tuesday', 14), ('Tuesday', 15), ('Tuesday', 16), ('Tuesday', 17), ('Tuesday', 18), ('Tuesday', 19), ('Wednesday', 10), ('Wednesday', 11), ('Wednesday', 12), ('Wednesday', 13), ('Wednesday', 14), ('Wednesday', 15), ('Wednesday', 16), ('Wednesday', 17), ('Wednesday', 18), ('Wednesday', 19), ('Thursday', 10), ('Thursday', 11), ('Thursday', 12), ('Thursday', 13), ('Thursday', 14), ('Thursday', 15), ('Thursday', 16), ('Thursday', 17), ('Thursday', 18), ('Thursday', 19), ('Friday', 10), ('Friday', 11), ('Friday', 12), ('Friday', 13), ('Friday', 14), ('Friday', 15), ('Friday', 16), ('Friday', 17), ('Friday', 18), ('Friday', 19), ('Saturday', 10), ('Saturday', 11), ('Saturday', 12), ('Saturday', 13), ('Saturday', 14), ('Saturday', 15), ('Saturday', 16), ('Saturday', 17), ('Saturday', 18), ('Saturday', 19), ('Sunday', 10), ('Sunday', 11), ('Sunday', 12), ('Sunday', 13), ('Sunday', 14), ('Sunday', 15), ('Sunday', 16), ('Sunday', 17), ('Sunday', 18), ('Sunday', 19)]\n"
     ]
    }
   ],
   "source": [
    "# changed just a little bit to explain append\n",
    "combinations = [] \n",
    "for day in days: \n",
    "    #print(day)\n",
    "    for hour in hours:\n",
    "        #print (hour)\n",
    "        combination = (day,hour) \n",
    "        combinations.append( combination ) #need this. but cant get 2 values in append so create this ^\n",
    "\n",
    "print (combinations)"
   ]
  },
  {
   "cell_type": "markdown",
   "metadata": {},
   "source": []
  },
  {
   "cell_type": "code",
   "execution_count": 238,
   "metadata": {},
   "outputs": [
    {
     "name": "stdout",
     "output_type": "stream",
     "text": [
      "anything\n"
     ]
    }
   ],
   "source": []
  },
  {
   "cell_type": "code",
   "execution_count": 239,
   "metadata": {},
   "outputs": [
    {
     "name": "stdout",
     "output_type": "stream",
     "text": [
      "123\n",
      "<class 'str'>\n",
      "<class 'int'>\n"
     ]
    }
   ],
   "source": []
  }
 ],
 "metadata": {
  "interpreter": {
   "hash": "aee8b7b246df8f9039afb4144a1f6fd8d2ca17a180786b69acc140d282b71a49"
  },
  "kernelspec": {
   "display_name": "Python 3.9.7 64-bit",
   "language": "python",
   "name": "python3"
  },
  "language_info": {
   "codemirror_mode": {
    "name": "ipython",
    "version": 3
   },
   "file_extension": ".py",
   "mimetype": "text/x-python",
   "name": "python",
   "nbconvert_exporter": "python",
   "pygments_lexer": "ipython3",
   "version": "3.9.7"
  },
  "orig_nbformat": 4
 },
 "nbformat": 4,
 "nbformat_minor": 2
}
