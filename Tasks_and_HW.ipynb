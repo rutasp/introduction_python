{
 "cells": [
  {
   "cell_type": "markdown",
   "metadata": {},
   "source": [
    "## String tasks"
   ]
  },
  {
   "cell_type": "code",
   "execution_count": 1,
   "metadata": {},
   "outputs": [
    {
     "name": "stdout",
     "output_type": "stream",
     "text": [
      "Ruta Spaicyte\n"
     ]
    }
   ],
   "source": [
    "# 1. Print name and surname\n",
    "my_name = 'Ruta'\n",
    "my_surname = \"Spaicyte\"\n",
    "print(my_name, my_surname)"
   ]
  },
  {
   "cell_type": "code",
   "execution_count": 2,
   "metadata": {},
   "outputs": [
    {
     "name": "stdout",
     "output_type": "stream",
     "text": [
      "Python makes me really really happy!\n",
      "PYTHON MAKES ME REALLY REALLY HAPPY!\n",
      "Python makes me really really happy!\n"
     ]
    }
   ],
   "source": [
    "#2.1 From the string ‘Python makes me really really happy!’ Display the string in uppercase only\n",
    "My_string = 'Python makes me really really happy!'\n",
    "print(My_string)\n",
    "print(My_string.upper())\n",
    "print(My_string)"
   ]
  },
  {
   "cell_type": "code",
   "execution_count": 8,
   "metadata": {},
   "outputs": [
    {
     "name": "stdout",
     "output_type": "stream",
     "text": [
      "PyThOn makes me really really happy!\n",
      "PyThOn makes me really really happy!\n"
     ]
    }
   ],
   "source": [
    "#2.2 Replace Python with PyThOn using replace()\n",
    "print(My_string.replace('t','T').replace('o','O')) #replaces all t and o\n",
    "print(My_string.replace('Python', 'PyThOn') )"
   ]
  },
  {
   "cell_type": "code",
   "execution_count": 26,
   "metadata": {},
   "outputs": [
    {
     "name": "stdout",
     "output_type": "stream",
     "text": [
      "Hello World, I am happy to learn Python!\n",
      "18\n",
      "happy\n"
     ]
    }
   ],
   "source": [
    "#From the string ‘Hello World, I am happy to learn Python!’\n",
    "#3.1 1. Print ‘happy’ using slice syntax str [0:10].index (‘happy’) len (‘happy’)\n",
    "my_string2 = \"Hello World, I am happy to learn Python!\"\n",
    "print(my_string2)\n",
    "#print(my_string2[18:23])\n",
    "word_to_find = 'happy'\n",
    "print(my_string2.index(word_to_find))\n",
    "# print(my_string2[my_string2.index(word_to_find):])\n",
    "print(my_string2[my_string2.index(word_to_find):my_string2.\n",
    "                            index(word_to_find)+len(word_to_find)])\n"
   ]
  },
  {
   "cell_type": "markdown",
   "metadata": {},
   "source": [
    "            ## Don't get this ^^"
   ]
  },
  {
   "cell_type": "code",
   "execution_count": 24,
   "metadata": {},
   "outputs": [
    {
     "name": "stdout",
     "output_type": "stream",
     "text": [
      "24\n",
      "to\n",
      "40\n"
     ]
    }
   ],
   "source": [
    "#3.2 Print ‘to’ using slice syntax\n",
    "print (my_string2.find('to'))\n",
    "print(my_string2[24:26])\n",
    "#3.3 What is the length of this string?\n",
    "print(len(my_string2))"
   ]
  },
  {
   "cell_type": "markdown",
   "metadata": {},
   "source": [
    "## From lesson 3"
   ]
  },
  {
   "cell_type": "markdown",
   "metadata": {},
   "source": [
    "## Int, float tasks"
   ]
  },
  {
   "cell_type": "markdown",
   "metadata": {},
   "source": [
    "Declare two int variables\n",
    "of type\n",
    "1. Calculate the sum of\n",
    "two int, the\n",
    "difference, the\n",
    "product, the\n",
    "remainder, divide\n",
    "one number by\n",
    "another"
   ]
  },
  {
   "cell_type": "code",
   "execution_count": 34,
   "metadata": {},
   "outputs": [
    {
     "name": "stdout",
     "output_type": "stream",
     "text": [
      "sum: 19\n",
      "substract: 5\n",
      "multiply: 84\n",
      "divide: 1.7142857142857142\n",
      "power of: 35831808\n",
      "modulus: 5\n"
     ]
    }
   ],
   "source": [
    "my_int1 = 12\n",
    "my_int2 = 7\n",
    "print(f'sum: {my_int1 + my_int2}')\n",
    "print(f'substract: {my_int1 - my_int2}')\n",
    "print(f'multiply: {my_int1 * my_int2}')\n",
    "print(f'divide: {my_int1 / my_int2}')\n",
    "print(f'power of: {my_int1 ** my_int2}')\n",
    "print(f'modulus: {my_int1 % my_int2}')\n"
   ]
  },
  {
   "cell_type": "markdown",
   "metadata": {},
   "source": [
    "Declare two float-type\n",
    "variables\n",
    "1. Calculate the sum,\n",
    "difference, product,\n",
    "remainder of two\n",
    "floats, divide by one\n",
    "number from\n",
    "another"
   ]
  },
  {
   "cell_type": "code",
   "execution_count": 35,
   "metadata": {},
   "outputs": [
    {
     "name": "stdout",
     "output_type": "stream",
     "text": [
      "sum: 19.5064\n",
      "substract: 4.7404\n",
      "multiply: 89.50706220000001\n",
      "divide: 1.6420696193959095\n",
      "power of: 100091961.48700161\n",
      "modulus: 4.7404\n"
     ]
    }
   ],
   "source": [
    "my_float1 = 12.1234\n",
    "my_float2 = 7.383\n",
    "print(f'sum: {my_float1 + my_float2}')\n",
    "print(f'substract: {my_float1 - my_float2}')\n",
    "print(f'multiply: {my_float1 * my_float2}')\n",
    "print(f'divide: {my_float1 / my_float2}')\n",
    "print(f'power of: {my_float1 ** my_float2}')\n",
    "print(f'modulus: {my_float1 % my_float2}')"
   ]
  },
  {
   "cell_type": "markdown",
   "metadata": {},
   "source": [
    "Calculate\n",
    "1. The distance to the Moon is about\n",
    "384,000 km, and to the Sun\n",
    "150,000,000, how many times the\n",
    "distance to the Sun is greater than\n",
    "to the Moon?"
   ]
  },
  {
   "cell_type": "code",
   "execution_count": 36,
   "metadata": {},
   "outputs": [
    {
     "name": "stdout",
     "output_type": "stream",
     "text": [
      "390.625\n"
     ]
    }
   ],
   "source": [
    "dist_moon = 384000\n",
    "dist_sun = 150000000\n",
    "print(dist_sun/dist_moon)\n"
   ]
  },
  {
   "cell_type": "markdown",
   "metadata": {},
   "source": [
    "2. If we want to drive to the moon in a\n",
    "car with a speed of 150km / h, how\n",
    "many hours, years, months, days,\n",
    "seconds would it take?"
   ]
  },
  {
   "cell_type": "code",
   "execution_count": 37,
   "metadata": {},
   "outputs": [
    {
     "name": "stdout",
     "output_type": "stream",
     "text": [
      "seconds to the moon 9216000.0\n",
      "hours to the moon 2560.0\n",
      "days to the moon 106.66666666666667\n",
      "months to the moon 3.555555555555556\n",
      "years to the moon 0.29629629629629634\n"
     ]
    }
   ],
   "source": [
    "speed = 150\n",
    "print (f'seconds to the moon {dist_moon/speed*3600}')\n",
    "print (f'hours to the moon {dist_moon/speed}')\n",
    "print (f'days to the moon {dist_moon/speed/24}')\n",
    "print (f'months to the moon {dist_moon/speed/24/30}')\n",
    "print (f'years to the moon {dist_moon/speed/24/30/12}')"
   ]
  },
  {
   "cell_type": "markdown",
   "metadata": {},
   "source": [
    "3. How many days have passed since\n",
    "your birthday?"
   ]
  },
  {
   "cell_type": "code",
   "execution_count": 41,
   "metadata": {},
   "outputs": [
    {
     "name": "stdout",
     "output_type": "stream",
     "text": [
      "2021-12-03 22:19:41.587849\n"
     ]
    },
    {
     "data": {
      "text/plain": [
       "datetime.timedelta(days=9657)"
      ]
     },
     "execution_count": 41,
     "metadata": {},
     "output_type": "execute_result"
    }
   ],
   "source": [
    "import datetime\n",
    "\n",
    "print(datetime.datetime.now()) #how librarys work\n",
    "my_birthday = datetime.date(1995,6,26)\n",
    "datetime.datetime.now().date()-my_birthday #timedelta - time difference\n"
   ]
  },
  {
   "cell_type": "code",
   "execution_count": null,
   "metadata": {},
   "outputs": [],
   "source": []
  },
  {
   "cell_type": "code",
   "execution_count": 43,
   "metadata": {},
   "outputs": [
    {
     "name": "stdout",
     "output_type": "stream",
     "text": [
      "2021-12-03 22:22:47.902038\n",
      "We would reach the moon on 2022-03-20 14:22:47.919215\n"
     ]
    }
   ],
   "source": [
    "# import datetime - for current date\n",
    "import datetime\n",
    "\n",
    "print (datetime.datetime.now() )\n",
    "my_birthday = datetime.date(1995,6,26)\n",
    "datetime.datetime.now().date() - my_birthday\n",
    "\n",
    "#how long it would take to reach the moon\n",
    "delta = datetime.timedelta(seconds=dist_moon/speed*3600)\n",
    "print (f'We would reach the moon on {datetime.datetime.now() + delta}')"
   ]
  },
  {
   "cell_type": "code",
   "execution_count": 47,
   "metadata": {},
   "outputs": [
    {
     "name": "stdout",
     "output_type": "stream",
     "text": [
      "2021-12-03 22:25:59.186380\n",
      "We would reach the moon on 2022-03-20 14:25:59.188146\n"
     ]
    }
   ],
   "source": [
    "# import datetime - for current date\n",
    "from datetime import datetime\n",
    "from datetime import timedelta\n",
    "from datetime import date # if i work just with date \n",
    "\n",
    "# datetime.date\n",
    "\n",
    "print (datetime.now() )\n",
    "my_birthday = date(1995,6,26)\n",
    "datetime.now().date() - my_birthday\n",
    "\n",
    "#how long it would take to reach the moon\n",
    "delta = timedelta(seconds=dist_moon/speed*3600)\n",
    "print (f'We would reach the moon on {datetime.now() + delta}')"
   ]
  },
  {
   "cell_type": "code",
   "execution_count": null,
   "metadata": {},
   "outputs": [],
   "source": []
  },
  {
   "cell_type": "code",
   "execution_count": null,
   "metadata": {},
   "outputs": [],
   "source": []
  }
 ],
 "metadata": {
  "interpreter": {
   "hash": "aee8b7b246df8f9039afb4144a1f6fd8d2ca17a180786b69acc140d282b71a49"
  },
  "kernelspec": {
   "display_name": "Python 3.9.7 64-bit",
   "language": "python",
   "name": "python3"
  },
  "language_info": {
   "codemirror_mode": {
    "name": "ipython",
    "version": 3
   },
   "file_extension": ".py",
   "mimetype": "text/x-python",
   "name": "python",
   "nbconvert_exporter": "python",
   "pygments_lexer": "ipython3",
   "version": "3.9.7"
  },
  "orig_nbformat": 4
 },
 "nbformat": 4,
 "nbformat_minor": 2
}
