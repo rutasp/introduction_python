{
 "cells": [
  {
   "cell_type": "markdown",
   "metadata": {},
   "source": [
    "1. Let's enter 10 words, the program will answer such questions:\n",
    "How many words are longer than 10 characters\n",
    "Which word is the longest and shortest\n",
    "Is even one-word palindrome, if so, what or what are those words\n",
    "Palindrome - Reading a word in reverse results in the same word.\n",
    "bob -> bob"
   ]
  },
  {
   "cell_type": "code",
   "execution_count": 1,
   "metadata": {},
   "outputs": [],
   "source": [
    "input_string = input(\"Enter a list of random 10 words separated by space\")\n",
    "Words  = input_string.split()"
   ]
  },
  {
   "cell_type": "code",
   "execution_count": 7,
   "metadata": {},
   "outputs": [
    {
     "name": "stdout",
     "output_type": "stream",
     "text": [
      "long words: ['simplification', 'extravagant']\n",
      "polidromes: ['bob']\n",
      "shortest word: Sky, longest word is: simplification\n",
      "shortest word: Sky, longest word is: simplification\n"
     ]
    }
   ],
   "source": [
    "words = ['Hello','Sky','weather','school','lithuania','december','christmas','simplification','extravagant','bob']\n",
    "long_words = []\n",
    "polidromes = []\n",
    "#when checking polidromes important to check that words are in lower case\n",
    "\n",
    "for word in words:\n",
    "    if len(word) > 10:\n",
    "        long_words.append(word)\n",
    "    if word.lower() == word.lower()[::-1]: #flip string aroud (polidromes)\n",
    "        polidromes.append(word)\n",
    "\n",
    "print (f'long words: {long_words}')\n",
    "print (f'polidromes: {polidromes}')\n",
    "\n",
    "\n",
    "print (f'shortest word: {min(words, key=len)}, longest word is: {max(words, key=len)}')\n",
    "#max usually ussed for numbers, but can use for strings. but you need to specify HOW\n",
    "#same as ^\n",
    "sorted_words = sorted(words, key=len)\n",
    "# print (sorted_words)\n",
    "print (f'shortest word: {sorted_words[0]}, longest word is: {sorted_words[-1]}')"
   ]
  },
  {
   "cell_type": "code",
   "execution_count": 8,
   "metadata": {},
   "outputs": [
    {
     "name": "stdout",
     "output_type": "stream",
     "text": [
      "long words: ['simplification', 'extravagant']\n",
      "polidromes: ['bob']\n",
      "shortest words: ['Sky', 'bob']\n"
     ]
    }
   ],
   "source": [
    "#better way \n",
    "words = ['Hello','Sky','weather','school','lithuania','december','christmas','simplification','extravagant','bob']\n",
    "long_words = []\n",
    "polidromes = []\n",
    "\n",
    "shortest_word = len (min(words, key=len) )\n",
    "shortest_words = []\n",
    "for word in words:\n",
    "    if len(word) > 10:\n",
    "        long_words.append(word)\n",
    "    if word.lower() == word.lower()[::-1]: #flip string aroud (polidromes)\n",
    "        polidromes.append(word)\n",
    "    if len(word) == shortest_word:\n",
    "        shortest_words.append(word)\n",
    "\n",
    "print (f'long words: {long_words}')\n",
    "print (f'polidromes: {polidromes}')\n",
    "print (f'shortest words: {shortest_words}')"
   ]
  },
  {
   "cell_type": "markdown",
   "metadata": {},
   "source": [
    "2. With a list, get the largest product of nearby numbers.\n",
    "Example:\n",
    "my_list = [3, 6, -2, -5, 7, 3]result = 21 # because the product of 7 and 3 is the largest"
   ]
  },
  {
   "cell_type": "code",
   "execution_count": 12,
   "metadata": {},
   "outputs": [
    {
     "name": "stdout",
     "output_type": "stream",
     "text": [
      "0\n",
      "1\n",
      "2\n",
      "3\n",
      "4\n",
      "5\n"
     ]
    },
    {
     "ename": "IndexError",
     "evalue": "list index out of range",
     "output_type": "error",
     "traceback": [
      "\u001b[0;31m---------------------------------------------------------------------------\u001b[0m",
      "\u001b[0;31mIndexError\u001b[0m                                Traceback (most recent call last)",
      "\u001b[0;32m/var/folders/dl/4w6c195d6pq63chtkgldxpl00000gn/T/ipykernel_16760/728254477.py\u001b[0m in \u001b[0;36m<module>\u001b[0;34m\u001b[0m\n\u001b[1;32m      5\u001b[0m \u001b[0;32mfor\u001b[0m \u001b[0midx\u001b[0m \u001b[0;32min\u001b[0m \u001b[0mrange\u001b[0m\u001b[0;34m(\u001b[0m\u001b[0mlen\u001b[0m\u001b[0;34m(\u001b[0m\u001b[0mmy_list\u001b[0m\u001b[0;34m)\u001b[0m\u001b[0;34m)\u001b[0m\u001b[0;34m:\u001b[0m\u001b[0;34m\u001b[0m\u001b[0;34m\u001b[0m\u001b[0m\n\u001b[1;32m      6\u001b[0m     \u001b[0mprint\u001b[0m\u001b[0;34m(\u001b[0m\u001b[0midx\u001b[0m\u001b[0;34m)\u001b[0m\u001b[0;34m\u001b[0m\u001b[0;34m\u001b[0m\u001b[0m\n\u001b[0;32m----> 7\u001b[0;31m     \u001b[0mmy_list\u001b[0m\u001b[0;34m[\u001b[0m\u001b[0midx\u001b[0m\u001b[0;34m]\u001b[0m \u001b[0;34m=\u001b[0m \u001b[0mmy_list\u001b[0m\u001b[0;34m[\u001b[0m \u001b[0midx\u001b[0m \u001b[0;34m+\u001b[0m \u001b[0;36m1\u001b[0m \u001b[0;34m]\u001b[0m\u001b[0;34m\u001b[0m\u001b[0;34m\u001b[0m\u001b[0m\n\u001b[0m\u001b[1;32m      8\u001b[0m \u001b[0;34m\u001b[0m\u001b[0m\n\u001b[1;32m      9\u001b[0m     \u001b[0;32mif\u001b[0m \u001b[0mmax_prod\u001b[0m \u001b[0;32mis\u001b[0m \u001b[0;32mNone\u001b[0m \u001b[0;32mor\u001b[0m \u001b[0mmy_list\u001b[0m\u001b[0;34m[\u001b[0m\u001b[0midx\u001b[0m\u001b[0;34m]\u001b[0m \u001b[0;34m*\u001b[0m \u001b[0mmy_list\u001b[0m\u001b[0;34m[\u001b[0m \u001b[0midx\u001b[0m \u001b[0;34m+\u001b[0m \u001b[0;36m1\u001b[0m \u001b[0;34m]\u001b[0m \u001b[0;34m>\u001b[0m \u001b[0mmax_prod\u001b[0m\u001b[0;34m:\u001b[0m\u001b[0;34m\u001b[0m\u001b[0;34m\u001b[0m\u001b[0m\n",
      "\u001b[0;31mIndexError\u001b[0m: list index out of range"
     ]
    }
   ],
   "source": [
    "my_list = [3, 6, -2, -5, 7, 3] #5 indexes\n",
    "\n",
    "max_prod = None #if you dont know what values you have in your lust\n",
    "\n",
    "for idx in range(len(my_list)):\n",
    "    print(idx)\n",
    "    my_list[idx] = my_list[ idx + 1 ]\n",
    "\n",
    "    if max_prod is None or my_list[idx] * my_list[ idx + 1 ] > max_prod:\n",
    "        max_prod = my_list[idx] * my_list[ idx + 1 ]\n",
    "print (max_prod)\n",
    "\n",
    "#gives error list index out of range. [idx +1] im trying to get index 6 but i have just 5 of them"
   ]
  },
  {
   "cell_type": "code",
   "execution_count": 15,
   "metadata": {},
   "outputs": [
    {
     "name": "stdout",
     "output_type": "stream",
     "text": [
      "0\n",
      "1\n",
      "2\n",
      "3\n",
      "4\n",
      "largest product is 21\n"
     ]
    }
   ],
   "source": [
    "#how to fix it?\n",
    "my_list = [3, 6, -2, -5, 7, 3]\n",
    "\n",
    "max_prod = None \n",
    "\n",
    "for idx in range(len(my_list)-1): #fixing\n",
    "    print(idx)\n",
    "    #my_list[idx] = my_list[ idx + 1 ]\n",
    "\n",
    "    if max_prod is None or my_list[idx] * my_list[ idx + 1 ] > max_prod:\n",
    "        max_prod = my_list[idx] * my_list[ idx + 1 ]\n",
    "print (f'largest product is {max_prod}')"
   ]
  },
  {
   "cell_type": "code",
   "execution_count": 17,
   "metadata": {},
   "outputs": [
    {
     "name": "stdout",
     "output_type": "stream",
     "text": [
      "1\n",
      "2\n",
      "3\n",
      "4\n",
      "largest product is 21\n"
     ]
    }
   ],
   "source": [
    "# another step??\n",
    "my_list = [3, 6, -2, -5, 7, 3]\n",
    "\n",
    "max_prod = my_list[0] * my_list[1]\n",
    "for idx in range(1,len(my_list) - 1):\n",
    "    print(idx)\n",
    "    if max_prod is None or my_list[idx] * my_list[ idx + 1 ] > max_prod:\n",
    "        max_prod = my_list[idx] * my_list[ idx + 1 ]\n",
    "\n",
    "print (f'largest product is {max_prod}')"
   ]
  },
  {
   "cell_type": "code",
   "execution_count": 21,
   "metadata": {},
   "outputs": [
    {
     "name": "stdout",
     "output_type": "stream",
     "text": [
      "left: 3, right: 6\n",
      "left: 6, right: -2\n",
      "left: -2, right: -5\n",
      "left: -5, right: 7\n",
      "left: 7, right: 3\n",
      "largest product is 21\n"
     ]
    }
   ],
   "source": [
    "#another way \n",
    "max_prod = None #when you dont know what you have in your list\n",
    "\n",
    "my_list = [3, 6, -2, -5, 7, 3]\n",
    "for number_l, number_r in zip( my_list[:-1], my_list[1:] ): #slicing. remove one value from beggining or end\n",
    "    print (f'left: {number_l}, right: {number_r}')\n",
    "    if max_prod is None or number_l * number_r > max_prod:\n",
    "        max_prod = number_l * number_r\n",
    "\n",
    "print (f'largest product is {max_prod}')"
   ]
  },
  {
   "cell_type": "code",
   "execution_count": 19,
   "metadata": {},
   "outputs": [
    {
     "name": "stdout",
     "output_type": "stream",
     "text": [
      "left: 1, right: 10\n",
      "left: 2, right: 11\n",
      "left: 3, right: 12\n"
     ]
    }
   ],
   "source": [
    "#ZIP\n",
    "#zip takes 2 tkings and brings it together\n",
    "for number_l, number_r in zip( [1,2,3], [10,11,12] ): #needs to be same lenght\n",
    "    print (f'left: {number_l}, right: {number_r}')\n",
    "    #in every iteration it takes 1 value from each list"
   ]
  },
  {
   "cell_type": "markdown",
   "metadata": {},
   "source": [
    "3. Find duplicate items between two lists.\n",
    "a = [1,2,3,4,5,6,7,8,9,15]\n",
    "b = [3,8,9,11,15]\n",
    "Get the result c = [3,8,9,15] because these numbers are repeated in both lists"
   ]
  },
  {
   "cell_type": "code",
   "execution_count": 22,
   "metadata": {},
   "outputs": [
    {
     "name": "stdout",
     "output_type": "stream",
     "text": [
      "duplicate values are: {8, 9, 3, 15}\n"
     ]
    }
   ],
   "source": [
    "a = [1,2,3,4,5,6,7,8,9,15]\n",
    "b = [3,8,9,11,15]\n",
    "\n",
    "set_a = set(a)\n",
    "set_b = set(b)\n",
    "print (f'duplicate values are: {set_a.intersection(set_b)}')\n",
    "\n",
    "#useful when you have names, email or smth. \n",
    "# database with email you need to check which are new which already exists"
   ]
  },
  {
   "cell_type": "markdown",
   "metadata": {},
   "source": [
    "4. Filter out unique positive numbers from the list.\n",
    "x = [1, 5, 1, 2, 8, -9, 10, 1, -8, -900, 14, 5, -8, 2, 1, -20, 900, 800, -6, -8, 12, 1]  "
   ]
  },
  {
   "cell_type": "code",
   "execution_count": 24,
   "metadata": {},
   "outputs": [
    {
     "name": "stdout",
     "output_type": "stream",
     "text": [
      "positive numbers: [800, 1, 2, 900, 5, 8, 10, 12, 14]\n"
     ]
    }
   ],
   "source": [
    "x = [1, 5, 1, 2, 8, -9, 10, 1, -8, -900, 14, 5, -8, 2, 1, -20, 900, 800, -6, -8, 12, 1]  \n",
    "set_x = set(x)\n",
    "positive_numbers = []\n",
    "for number in set_x:\n",
    "    if number > 0:\n",
    "        positive_numbers.append(number)\n",
    "print(f\"positive numbers: {positive_numbers}\")"
   ]
  },
  {
   "cell_type": "code",
   "execution_count": 25,
   "metadata": {},
   "outputs": [
    {
     "name": "stdout",
     "output_type": "stream",
     "text": [
      "[800, 1, 2, 900, 5, 8, 10, 12, 14]\n"
     ]
    }
   ],
   "source": [
    "#another way\n",
    "print ( list( filter( lambda y: y>0 ,set_x) ) )"
   ]
  },
  {
   "cell_type": "markdown",
   "metadata": {},
   "source": [
    "5. Calculate the profit on the sale of all goods. Price and quantity information is provided as a dictionary, the answer rounded to 2 decimal places (use round() function)\n",
    "\n",
    "x = { \"cost_price\": 32.67, \n",
    "         \"sell_price\": 45.00,      \n",
    "          “inventory\": 1200  }"
   ]
  },
  {
   "cell_type": "code",
   "execution_count": 26,
   "metadata": {},
   "outputs": [
    {
     "name": "stdout",
     "output_type": "stream",
     "text": [
      "14832.0\n"
     ]
    }
   ],
   "source": [
    "x = { \"cost_price\": 32.67, \n",
    "        \"sell_price\": 45.03,      \n",
    "        \"inventory\": 1200  }\n",
    "        \n",
    "revenue = x[\"sell_price\"] * x[\"inventory\"]\n",
    "cost = x[\"cost_price\"] * x[\"inventory\"]\n",
    "profit = round(revenue - cost,2)\n",
    "print (profit)"
   ]
  }
 ],
 "metadata": {
  "interpreter": {
   "hash": "aee8b7b246df8f9039afb4144a1f6fd8d2ca17a180786b69acc140d282b71a49"
  },
  "kernelspec": {
   "display_name": "Python 3.9.7 64-bit",
   "language": "python",
   "name": "python3"
  },
  "language_info": {
   "codemirror_mode": {
    "name": "ipython",
    "version": 3
   },
   "file_extension": ".py",
   "mimetype": "text/x-python",
   "name": "python",
   "nbconvert_exporter": "python",
   "pygments_lexer": "ipython3",
   "version": "3.9.7"
  },
  "orig_nbformat": 4
 },
 "nbformat": 4,
 "nbformat_minor": 2
}
