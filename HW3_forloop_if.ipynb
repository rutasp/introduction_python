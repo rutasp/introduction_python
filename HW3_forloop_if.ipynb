{
 "cells": [
  {
   "cell_type": "markdown",
   "metadata": {},
   "source": [
    "1. From the first 100 numbers, if the number is divisible by 2 without a residue, print ‘Fizz’, if the number is divisible by 3 without a residue, print ‘Buzz’, if the number is divisible by 2 and 3 without a residue, print ‘FizzBuzz’"
   ]
  },
  {
   "cell_type": "code",
   "execution_count": 41,
   "metadata": {},
   "outputs": [
    {
     "name": "stdout",
     "output_type": "stream",
     "text": [
      "Number 2 is 'Fizz'\n",
      "Number 3 is 'Buzz'\n",
      "Number 4 is 'Fizz'\n",
      "Number 6 is 'FizzBuzz'\n",
      "Number 8 is 'Fizz'\n",
      "Number 9 is 'Buzz'\n",
      "Number 10 is 'Fizz'\n",
      "Number 12 is 'FizzBuzz'\n",
      "Number 14 is 'Fizz'\n",
      "Number 15 is 'Buzz'\n",
      "Number 16 is 'Fizz'\n",
      "Number 18 is 'FizzBuzz'\n",
      "Number 20 is 'Fizz'\n",
      "Number 21 is 'Buzz'\n",
      "Number 22 is 'Fizz'\n",
      "Number 24 is 'FizzBuzz'\n",
      "Number 26 is 'Fizz'\n",
      "Number 27 is 'Buzz'\n",
      "Number 28 is 'Fizz'\n",
      "Number 30 is 'FizzBuzz'\n",
      "Number 32 is 'Fizz'\n",
      "Number 33 is 'Buzz'\n",
      "Number 34 is 'Fizz'\n",
      "Number 36 is 'FizzBuzz'\n",
      "Number 38 is 'Fizz'\n",
      "Number 39 is 'Buzz'\n",
      "Number 40 is 'Fizz'\n",
      "Number 42 is 'FizzBuzz'\n",
      "Number 44 is 'Fizz'\n",
      "Number 45 is 'Buzz'\n",
      "Number 46 is 'Fizz'\n",
      "Number 48 is 'FizzBuzz'\n",
      "Number 50 is 'Fizz'\n",
      "Number 51 is 'Buzz'\n",
      "Number 52 is 'Fizz'\n",
      "Number 54 is 'FizzBuzz'\n",
      "Number 56 is 'Fizz'\n",
      "Number 57 is 'Buzz'\n",
      "Number 58 is 'Fizz'\n",
      "Number 60 is 'FizzBuzz'\n",
      "Number 62 is 'Fizz'\n",
      "Number 63 is 'Buzz'\n",
      "Number 64 is 'Fizz'\n",
      "Number 66 is 'FizzBuzz'\n",
      "Number 68 is 'Fizz'\n",
      "Number 69 is 'Buzz'\n",
      "Number 70 is 'Fizz'\n",
      "Number 72 is 'FizzBuzz'\n",
      "Number 74 is 'Fizz'\n",
      "Number 75 is 'Buzz'\n",
      "Number 76 is 'Fizz'\n",
      "Number 78 is 'FizzBuzz'\n",
      "Number 80 is 'Fizz'\n",
      "Number 81 is 'Buzz'\n",
      "Number 82 is 'Fizz'\n",
      "Number 84 is 'FizzBuzz'\n",
      "Number 86 is 'Fizz'\n",
      "Number 87 is 'Buzz'\n",
      "Number 88 is 'Fizz'\n",
      "Number 90 is 'FizzBuzz'\n",
      "Number 92 is 'Fizz'\n",
      "Number 93 is 'Buzz'\n",
      "Number 94 is 'Fizz'\n",
      "Number 96 is 'FizzBuzz'\n",
      "Number 98 is 'Fizz'\n",
      "Number 99 is 'Buzz'\n",
      "Number 100 is 'Fizz'\n"
     ]
    }
   ],
   "source": [
    "my_list = list(range(1,101))\n",
    "\n",
    "for number in my_list:\n",
    "    if number % 2 ==0 and number % 3 == 0:\n",
    "        print (f\"Number {number} is 'FizzBuzz'\")\n",
    "    elif number % 2 == 0:\n",
    "        print (f\"Number {number} is 'Fizz'\")\n",
    "    elif number % 3 == 0:\n",
    "        print (f\"Number {number} is 'Buzz'\")\n",
    "    #else:\n",
    "        #print (number)"
   ]
  },
  {
   "cell_type": "code",
   "execution_count": 42,
   "metadata": {},
   "outputs": [
    {
     "name": "stdout",
     "output_type": "stream",
     "text": [
      "Number 1 is: \n",
      "Number 2 is: Fizz\n",
      "Number 3 is: Buzz\n",
      "Number 4 is: Fizz\n",
      "Number 5 is: \n",
      "Number 6 is: FizzBuzz\n",
      "Number 7 is: \n",
      "Number 8 is: Fizz\n",
      "Number 9 is: Buzz\n",
      "Number 10 is: Fizz\n",
      "Number 11 is: \n",
      "Number 12 is: FizzBuzz\n",
      "Number 13 is: \n",
      "Number 14 is: Fizz\n",
      "Number 15 is: Buzz\n",
      "Number 16 is: Fizz\n",
      "Number 17 is: \n",
      "Number 18 is: FizzBuzz\n",
      "Number 19 is: \n",
      "Number 20 is: Fizz\n",
      "Number 21 is: Buzz\n",
      "Number 22 is: Fizz\n",
      "Number 23 is: \n",
      "Number 24 is: FizzBuzz\n",
      "Number 25 is: \n",
      "Number 26 is: Fizz\n",
      "Number 27 is: Buzz\n",
      "Number 28 is: Fizz\n",
      "Number 29 is: \n",
      "Number 30 is: FizzBuzz\n",
      "Number 31 is: \n",
      "Number 32 is: Fizz\n",
      "Number 33 is: Buzz\n",
      "Number 34 is: Fizz\n",
      "Number 35 is: \n",
      "Number 36 is: FizzBuzz\n",
      "Number 37 is: \n",
      "Number 38 is: Fizz\n",
      "Number 39 is: Buzz\n",
      "Number 40 is: Fizz\n",
      "Number 41 is: \n",
      "Number 42 is: FizzBuzz\n",
      "Number 43 is: \n",
      "Number 44 is: Fizz\n",
      "Number 45 is: Buzz\n",
      "Number 46 is: Fizz\n",
      "Number 47 is: \n",
      "Number 48 is: FizzBuzz\n",
      "Number 49 is: \n",
      "Number 50 is: Fizz\n",
      "Number 51 is: Buzz\n",
      "Number 52 is: Fizz\n",
      "Number 53 is: \n",
      "Number 54 is: FizzBuzz\n",
      "Number 55 is: \n",
      "Number 56 is: Fizz\n",
      "Number 57 is: Buzz\n",
      "Number 58 is: Fizz\n",
      "Number 59 is: \n",
      "Number 60 is: FizzBuzz\n",
      "Number 61 is: \n",
      "Number 62 is: Fizz\n",
      "Number 63 is: Buzz\n",
      "Number 64 is: Fizz\n",
      "Number 65 is: \n",
      "Number 66 is: FizzBuzz\n",
      "Number 67 is: \n",
      "Number 68 is: Fizz\n",
      "Number 69 is: Buzz\n",
      "Number 70 is: Fizz\n",
      "Number 71 is: \n",
      "Number 72 is: FizzBuzz\n",
      "Number 73 is: \n",
      "Number 74 is: Fizz\n",
      "Number 75 is: Buzz\n",
      "Number 76 is: Fizz\n",
      "Number 77 is: \n",
      "Number 78 is: FizzBuzz\n",
      "Number 79 is: \n",
      "Number 80 is: Fizz\n",
      "Number 81 is: Buzz\n",
      "Number 82 is: Fizz\n",
      "Number 83 is: \n",
      "Number 84 is: FizzBuzz\n",
      "Number 85 is: \n",
      "Number 86 is: Fizz\n",
      "Number 87 is: Buzz\n",
      "Number 88 is: Fizz\n",
      "Number 89 is: \n",
      "Number 90 is: FizzBuzz\n",
      "Number 91 is: \n",
      "Number 92 is: Fizz\n",
      "Number 93 is: Buzz\n",
      "Number 94 is: Fizz\n",
      "Number 95 is: \n",
      "Number 96 is: FizzBuzz\n",
      "Number 97 is: \n",
      "Number 98 is: Fizz\n",
      "Number 99 is: Buzz\n",
      "Number 100 is: Fizz\n"
     ]
    }
   ],
   "source": [
    "#additional solution showed in class\n",
    "for number in range(1,101):\n",
    "    print_string = ''\n",
    "    if number % 2 == 0:\n",
    "        print_string += 'Fizz'\n",
    "    if number % 3 == 0:\n",
    "        print_string += 'Buzz'\n",
    "    print (f\"Number {number} is: {print_string}\")"
   ]
  },
  {
   "cell_type": "markdown",
   "metadata": {},
   "source": [
    "2. Let's choose a number (input()), if the number entered is greater than or equal to 10, print all numbers (from 1 to that number) that divide by 5 with the a remainder. Otherwise do nothing"
   ]
  },
  {
   "cell_type": "code",
   "execution_count": 44,
   "metadata": {},
   "outputs": [
    {
     "name": "stdout",
     "output_type": "stream",
     "text": [
      "This number has a remainder when divided by 5 : 1\n",
      "This number has a remainder when divided by 5 : 2\n",
      "This number has a remainder when divided by 5 : 3\n",
      "This number has a remainder when divided by 5 : 4\n",
      "This number has a remainder when divided by 5 : 6\n",
      "This number has a remainder when divided by 5 : 7\n",
      "This number has a remainder when divided by 5 : 8\n",
      "This number has a remainder when divided by 5 : 9\n",
      "This number has a remainder when divided by 5 : 11\n",
      "This number has a remainder when divided by 5 : 12\n",
      "This number has a remainder when divided by 5 : 13\n"
     ]
    }
   ],
   "source": [
    "enter_input = input('Enter a number:')\n",
    "user_number = int(enter_input)\n",
    "final_list = list(range(1,(user_number)+1))\n",
    "\n",
    "if user_number >= 10:\n",
    "    for number in final_list:\n",
    "        if number % 5 !=0:\n",
    "            print(f'This number has a remainder when divided by 5 : {number}')\n",
    "else:\n",
    "    print ('number is less than 10')"
   ]
  },
  {
   "cell_type": "code",
   "execution_count": null,
   "metadata": {},
   "outputs": [],
   "source": [
    "#showed in class\n",
    "user_number = int( input(\"Please enter a digit\") )\n",
    "if user_number >= 10:\n",
    "    for number in range(1, user_number + 1 ):\n",
    "        if number % 5 != 0:\n",
    "                print(f'This number has a remainder when divided by 5 : {number}')\n",
    "else:\n",
    "    print ('number is lower than 10')"
   ]
  },
  {
   "cell_type": "code",
   "execution_count": null,
   "metadata": {},
   "outputs": [],
   "source": [
    "# #partially works\n",
    "# enter_input = input('Enter a number:')\n",
    "# user_number = int(enter_input)\n",
    "# final_list = list(range(1,(user_number)+1))\n",
    "\n",
    "# if user_number >= 10:\n",
    "#     print (final_list)\n",
    "#     # print (final_list)\n",
    "#     # print ((final_list) % 5 == 0)\n",
    "# # else:\n",
    "# #     print ('number is less than 10')"
   ]
  },
  {
   "cell_type": "markdown",
   "metadata": {},
   "source": [
    "3. What is the length of a list made up of combinations of lists provided if we want to find all possible values? Sort the list from highest to lowest.\n",
    "a = ['1','2','3','4','5']\n",
    "b = ['hi', 'evening', 'what a beautiful day', 'weather', '10 degrees outside']\n",
    "c = ['100', '200', 40, 10]"
   ]
  },
  {
   "cell_type": "code",
   "execution_count": 38,
   "metadata": {},
   "outputs": [],
   "source": [
    "a = ['1','2','3','4','5']\n",
    "b = ['hi', 'evening', 'what a beautiful day', 'weather', '10 degrees outside']\n",
    "c = ['100', '200', 40, 10]"
   ]
  },
  {
   "cell_type": "code",
   "execution_count": 55,
   "metadata": {},
   "outputs": [
    {
     "name": "stdout",
     "output_type": "stream",
     "text": [
      "[('1', 'hi', 100), ('1', 'hi', 200), ('1', 'hi', 40), ('1', 'hi', 10), ('1', 'evening', 100), ('1', 'evening', 200), ('1', 'evening', 40), ('1', 'evening', 10), ('1', 'what a beautiful day', 100), ('1', 'what a beautiful day', 200), ('1', 'what a beautiful day', 40), ('1', 'what a beautiful day', 10), ('1', 'weather', 100), ('1', 'weather', 200), ('1', 'weather', 40), ('1', 'weather', 10), ('1', '10 degrees outside', 100), ('1', '10 degrees outside', 200), ('1', '10 degrees outside', 40), ('1', '10 degrees outside', 10), ('2', 'hi', 100), ('2', 'hi', 200), ('2', 'hi', 40), ('2', 'hi', 10), ('2', 'evening', 100), ('2', 'evening', 200), ('2', 'evening', 40), ('2', 'evening', 10), ('2', 'what a beautiful day', 100), ('2', 'what a beautiful day', 200), ('2', 'what a beautiful day', 40), ('2', 'what a beautiful day', 10), ('2', 'weather', 100), ('2', 'weather', 200), ('2', 'weather', 40), ('2', 'weather', 10), ('2', '10 degrees outside', 100), ('2', '10 degrees outside', 200), ('2', '10 degrees outside', 40), ('2', '10 degrees outside', 10), ('3', 'hi', 100), ('3', 'hi', 200), ('3', 'hi', 40), ('3', 'hi', 10), ('3', 'evening', 100), ('3', 'evening', 200), ('3', 'evening', 40), ('3', 'evening', 10), ('3', 'what a beautiful day', 100), ('3', 'what a beautiful day', 200), ('3', 'what a beautiful day', 40), ('3', 'what a beautiful day', 10), ('3', 'weather', 100), ('3', 'weather', 200), ('3', 'weather', 40), ('3', 'weather', 10), ('3', '10 degrees outside', 100), ('3', '10 degrees outside', 200), ('3', '10 degrees outside', 40), ('3', '10 degrees outside', 10), ('4', 'hi', 100), ('4', 'hi', 200), ('4', 'hi', 40), ('4', 'hi', 10), ('4', 'evening', 100), ('4', 'evening', 200), ('4', 'evening', 40), ('4', 'evening', 10), ('4', 'what a beautiful day', 100), ('4', 'what a beautiful day', 200), ('4', 'what a beautiful day', 40), ('4', 'what a beautiful day', 10), ('4', 'weather', 100), ('4', 'weather', 200), ('4', 'weather', 40), ('4', 'weather', 10), ('4', '10 degrees outside', 100), ('4', '10 degrees outside', 200), ('4', '10 degrees outside', 40), ('4', '10 degrees outside', 10), ('5', 'hi', 100), ('5', 'hi', 200), ('5', 'hi', 40), ('5', 'hi', 10), ('5', 'evening', 100), ('5', 'evening', 200), ('5', 'evening', 40), ('5', 'evening', 10), ('5', 'what a beautiful day', 100), ('5', 'what a beautiful day', 200), ('5', 'what a beautiful day', 40), ('5', 'what a beautiful day', 10), ('5', 'weather', 100), ('5', 'weather', 200), ('5', 'weather', 40), ('5', 'weather', 10), ('5', '10 degrees outside', 100), ('5', '10 degrees outside', 200), ('5', '10 degrees outside', 40), ('5', '10 degrees outside', 10)]\n",
      "100\n"
     ]
    }
   ],
   "source": [
    "combinations = []\n",
    "for value_1 in a:\n",
    "    for value_2 in b:\n",
    "        for value_3 in c:\n",
    "            combinations.append( (value_1, value_2, int(value_3) ) ) #int - to change to int\n",
    "        # print(value_2 )\n",
    "#     # print(value_1 )\n",
    "print(combinations)\n",
    "print(len(combinations))\n",
    "# print(combinations)"
   ]
  },
  {
   "cell_type": "code",
   "execution_count": 56,
   "metadata": {},
   "outputs": [
    {
     "name": "stdout",
     "output_type": "stream",
     "text": [
      "[('1', 'hi', 100), ('1', 'hi', 200), ('1', 'hi', 40), ('1', 'hi', 10), ('1', 'evening', 100), ('1', 'evening', 200), ('1', 'evening', 40), ('1', 'evening', 10), ('1', 'what a beautiful day', 100), ('1', 'what a beautiful day', 200), ('1', 'what a beautiful day', 40), ('1', 'what a beautiful day', 10), ('1', 'weather', 100), ('1', 'weather', 200), ('1', 'weather', 40), ('1', 'weather', 10), ('1', '10 degrees outside', 100), ('1', '10 degrees outside', 200), ('1', '10 degrees outside', 40), ('1', '10 degrees outside', 10), ('2', 'hi', 100), ('2', 'hi', 200), ('2', 'hi', 40), ('2', 'hi', 10), ('2', 'evening', 100), ('2', 'evening', 200), ('2', 'evening', 40), ('2', 'evening', 10), ('2', 'what a beautiful day', 100), ('2', 'what a beautiful day', 200), ('2', 'what a beautiful day', 40), ('2', 'what a beautiful day', 10), ('2', 'weather', 100), ('2', 'weather', 200), ('2', 'weather', 40), ('2', 'weather', 10), ('2', '10 degrees outside', 100), ('2', '10 degrees outside', 200), ('2', '10 degrees outside', 40), ('2', '10 degrees outside', 10), ('3', 'hi', 100), ('3', 'hi', 200), ('3', 'hi', 40), ('3', 'hi', 10), ('3', 'evening', 100), ('3', 'evening', 200), ('3', 'evening', 40), ('3', 'evening', 10), ('3', 'what a beautiful day', 100), ('3', 'what a beautiful day', 200), ('3', 'what a beautiful day', 40), ('3', 'what a beautiful day', 10), ('3', 'weather', 100), ('3', 'weather', 200), ('3', 'weather', 40), ('3', 'weather', 10), ('3', '10 degrees outside', 100), ('3', '10 degrees outside', 200), ('3', '10 degrees outside', 40), ('3', '10 degrees outside', 10), ('4', 'hi', 100), ('4', 'hi', 200), ('4', 'hi', 40), ('4', 'hi', 10), ('4', 'evening', 100), ('4', 'evening', 200), ('4', 'evening', 40), ('4', 'evening', 10), ('4', 'what a beautiful day', 100), ('4', 'what a beautiful day', 200), ('4', 'what a beautiful day', 40), ('4', 'what a beautiful day', 10), ('4', 'weather', 100), ('4', 'weather', 200), ('4', 'weather', 40), ('4', 'weather', 10), ('4', '10 degrees outside', 100), ('4', '10 degrees outside', 200), ('4', '10 degrees outside', 40), ('4', '10 degrees outside', 10), ('5', 'hi', 100), ('5', 'hi', 200), ('5', 'hi', 40), ('5', 'hi', 10), ('5', 'evening', 100), ('5', 'evening', 200), ('5', 'evening', 40), ('5', 'evening', 10), ('5', 'what a beautiful day', 100), ('5', 'what a beautiful day', 200), ('5', 'what a beautiful day', 40), ('5', 'what a beautiful day', 10), ('5', 'weather', 100), ('5', 'weather', 200), ('5', 'weather', 40), ('5', 'weather', 10), ('5', '10 degrees outside', 100), ('5', '10 degrees outside', 200), ('5', '10 degrees outside', 40), ('5', '10 degrees outside', 10)]\n",
      "[('1', 'what a beautiful day', 100), ('1', 'what a beautiful day', 200), ('1', 'what a beautiful day', 40), ('1', 'what a beautiful day', 10), ('2', 'what a beautiful day', 100), ('2', 'what a beautiful day', 200), ('2', 'what a beautiful day', 40), ('2', 'what a beautiful day', 10), ('3', 'what a beautiful day', 100), ('3', 'what a beautiful day', 200), ('3', 'what a beautiful day', 40), ('3', 'what a beautiful day', 10), ('4', 'what a beautiful day', 100), ('4', 'what a beautiful day', 200), ('4', 'what a beautiful day', 40), ('4', 'what a beautiful day', 10), ('5', 'what a beautiful day', 100), ('5', 'what a beautiful day', 200), ('5', 'what a beautiful day', 40), ('5', 'what a beautiful day', 10), ('1', '10 degrees outside', 100), ('1', '10 degrees outside', 200), ('1', '10 degrees outside', 40), ('1', '10 degrees outside', 10), ('2', '10 degrees outside', 100), ('2', '10 degrees outside', 200), ('2', '10 degrees outside', 40), ('2', '10 degrees outside', 10), ('3', '10 degrees outside', 100), ('3', '10 degrees outside', 200), ('3', '10 degrees outside', 40), ('3', '10 degrees outside', 10), ('4', '10 degrees outside', 100), ('4', '10 degrees outside', 200), ('4', '10 degrees outside', 40), ('4', '10 degrees outside', 10), ('5', '10 degrees outside', 100), ('5', '10 degrees outside', 200), ('5', '10 degrees outside', 40), ('5', '10 degrees outside', 10), ('1', 'evening', 100), ('1', 'evening', 200), ('1', 'evening', 40), ('1', 'evening', 10), ('1', 'weather', 100), ('1', 'weather', 200), ('1', 'weather', 40), ('1', 'weather', 10), ('2', 'evening', 100), ('2', 'evening', 200), ('2', 'evening', 40), ('2', 'evening', 10), ('2', 'weather', 100), ('2', 'weather', 200), ('2', 'weather', 40), ('2', 'weather', 10), ('3', 'evening', 100), ('3', 'evening', 200), ('3', 'evening', 40), ('3', 'evening', 10), ('3', 'weather', 100), ('3', 'weather', 200), ('3', 'weather', 40), ('3', 'weather', 10), ('4', 'evening', 100), ('4', 'evening', 200), ('4', 'evening', 40), ('4', 'evening', 10), ('4', 'weather', 100), ('4', 'weather', 200), ('4', 'weather', 40), ('4', 'weather', 10), ('5', 'evening', 100), ('5', 'evening', 200), ('5', 'evening', 40), ('5', 'evening', 10), ('5', 'weather', 100), ('5', 'weather', 200), ('5', 'weather', 40), ('5', 'weather', 10), ('1', 'hi', 100), ('1', 'hi', 200), ('1', 'hi', 40), ('1', 'hi', 10), ('2', 'hi', 100), ('2', 'hi', 200), ('2', 'hi', 40), ('2', 'hi', 10), ('3', 'hi', 100), ('3', 'hi', 200), ('3', 'hi', 40), ('3', 'hi', 10), ('4', 'hi', 100), ('4', 'hi', 200), ('4', 'hi', 40), ('4', 'hi', 10), ('5', 'hi', 100), ('5', 'hi', 200), ('5', 'hi', 40), ('5', 'hi', 10)]\n",
      "100\n"
     ]
    }
   ],
   "source": [
    "combinations = []\n",
    "for value_1 in a:\n",
    "    for value_2 in b:\n",
    "        for value_3 in c:\n",
    "            combinations.append( (value_1, value_2, int(value_3) ) )\n",
    "        # print(value_2 )\n",
    "    # print(value_1 )\n",
    "\n",
    "print( combinations)\n",
    "# combinations.sort( key=lambda x: x[2] ) #takes 1 object and decides which object is higher or lower\n",
    "combinations.sort( key=lambda x: len(x[1]), reverse=True ) #sort by middle phrase\n",
    "\n",
    "# combinations.sort( key=len)\n",
    "\n",
    "print( combinations)\n",
    "print (len(combinations))"
   ]
  },
  {
   "cell_type": "code",
   "execution_count": 52,
   "metadata": {},
   "outputs": [
    {
     "name": "stdout",
     "output_type": "stream",
     "text": [
      "[(1, 100, '10 degrees outside'), (1, 200, '10 degrees outside'), (1, 40, '10 degrees outside'), (1, 10, '10 degrees outside'), (2, 100, '10 degrees outside'), (2, 200, '10 degrees outside'), (2, 40, '10 degrees outside'), (2, 10, '10 degrees outside'), (3, 100, '10 degrees outside'), (3, 200, '10 degrees outside'), (3, 40, '10 degrees outside'), (3, 10, '10 degrees outside'), (4, 100, '10 degrees outside'), (4, 200, '10 degrees outside'), (4, 40, '10 degrees outside'), (4, 10, '10 degrees outside'), (5, 100, '10 degrees outside'), (5, 200, '10 degrees outside'), (5, 40, '10 degrees outside'), (5, 10, '10 degrees outside'), (1, 100, 'evening'), (1, 200, 'evening'), (1, 40, 'evening'), (1, 10, 'evening'), (2, 100, 'evening'), (2, 200, 'evening'), (2, 40, 'evening'), (2, 10, 'evening'), (3, 100, 'evening'), (3, 200, 'evening'), (3, 40, 'evening'), (3, 10, 'evening'), (4, 100, 'evening'), (4, 200, 'evening'), (4, 40, 'evening'), (4, 10, 'evening'), (5, 100, 'evening'), (5, 200, 'evening'), (5, 40, 'evening'), (5, 10, 'evening'), (1, 100, 'hi'), (1, 200, 'hi'), (1, 40, 'hi'), (1, 10, 'hi'), (2, 100, 'hi'), (2, 200, 'hi'), (2, 40, 'hi'), (2, 10, 'hi'), (3, 100, 'hi'), (3, 200, 'hi'), (3, 40, 'hi'), (3, 10, 'hi'), (4, 100, 'hi'), (4, 200, 'hi'), (4, 40, 'hi'), (4, 10, 'hi'), (5, 100, 'hi'), (5, 200, 'hi'), (5, 40, 'hi'), (5, 10, 'hi'), (1, 100, 'weather'), (1, 200, 'weather'), (1, 40, 'weather'), (1, 10, 'weather'), (2, 100, 'weather'), (2, 200, 'weather'), (2, 40, 'weather'), (2, 10, 'weather'), (3, 100, 'weather'), (3, 200, 'weather'), (3, 40, 'weather'), (3, 10, 'weather'), (4, 100, 'weather'), (4, 200, 'weather'), (4, 40, 'weather'), (4, 10, 'weather'), (5, 100, 'weather'), (5, 200, 'weather'), (5, 40, 'weather'), (5, 10, 'weather'), (1, 100, 'what a beautiful day'), (1, 200, 'what a beautiful day'), (1, 40, 'what a beautiful day'), (1, 10, 'what a beautiful day'), (2, 100, 'what a beautiful day'), (2, 200, 'what a beautiful day'), (2, 40, 'what a beautiful day'), (2, 10, 'what a beautiful day'), (3, 100, 'what a beautiful day'), (3, 200, 'what a beautiful day'), (3, 40, 'what a beautiful day'), (3, 10, 'what a beautiful day'), (4, 100, 'what a beautiful day'), (4, 200, 'what a beautiful day'), (4, 40, 'what a beautiful day'), (4, 10, 'what a beautiful day'), (5, 100, 'what a beautiful day'), (5, 200, 'what a beautiful day'), (5, 40, 'what a beautiful day'), (5, 10, 'what a beautiful day')]\n"
     ]
    }
   ],
   "source": [
    "#another way?\n",
    "combinations2=[(int(ls1),int(ls2), ls3) for ls1 in a for ls2 in c for ls3 in b]\n",
    "#print(combinations2)\n",
    "\n",
    "combinations2.sort(key=lambda x:x[2])\n",
    "print (combinations2)"
   ]
  }
 ],
 "metadata": {
  "interpreter": {
   "hash": "aee8b7b246df8f9039afb4144a1f6fd8d2ca17a180786b69acc140d282b71a49"
  },
  "kernelspec": {
   "display_name": "Python 3.9.7 64-bit",
   "language": "python",
   "name": "python3"
  },
  "language_info": {
   "codemirror_mode": {
    "name": "ipython",
    "version": 3
   },
   "file_extension": ".py",
   "mimetype": "text/x-python",
   "name": "python",
   "nbconvert_exporter": "python",
   "pygments_lexer": "ipython3",
   "version": "3.9.7"
  },
  "orig_nbformat": 4
 },
 "nbformat": 4,
 "nbformat_minor": 2
}
